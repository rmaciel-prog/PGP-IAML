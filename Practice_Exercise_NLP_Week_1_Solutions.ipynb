{
  "nbformat": 4,
  "nbformat_minor": 0,
  "metadata": {
    "colab": {
      "name": "Practice Exercise: NLP Week-1-Solutions.ipynb",
      "provenance": [],
      "collapsed_sections": []
    },
    "kernelspec": {
      "name": "python3",
      "display_name": "Python 3"
    }
  },
  "cells": [
    {
      "cell_type": "markdown",
      "metadata": {
        "id": "5skCvmbYujon",
        "colab_type": "text"
      },
      "source": [
        "Our goal is to go from what we will describe as a chunk of text (not to be confused with text chunking), a lengthy, unprocessed single string, and end up with a list (or several lists) of cleaned tokens that would be useful for further text mining and/or natural language processing tasks."
      ]
    },
    {
      "cell_type": "markdown",
      "metadata": {
        "id": "_qPqxsUmuvJv",
        "colab_type": "text"
      },
      "source": [
        "- NLTK - The Natural Language ToolKit is one of the best-known and most-used NLP libraries in the Python ecosystem, useful for all sorts of tasks from tokenization, to stemming, and beyond\n",
        "\n",
        "- BeautifulSoup - BeautifulSoup is a useful library for extracting data from HTML documents"
      ]
    },
    {
      "cell_type": "code",
      "metadata": {
        "id": "Qseduth-xXTY",
        "colab_type": "code",
        "colab": {
          "base_uri": "https://localhost:8080/",
          "height": 85
        },
        "outputId": "59d473fd-5ffd-4eca-d309-366fadba5fd5"
      },
      "source": [
        "# Import necessary libraries.\n",
        "import re, string, unicodedata\n",
        "import nltk                                   # Natural language processing tool-kit\n",
        "\n",
        "!pip install contractions\n",
        "import contractions\n",
        "\n",
        "\n",
        "from bs4 import BeautifulSoup                 # Beautiful soup is a parsing library that can use different parsers.\n",
        "from nltk import word_tokenize, sent_tokenize\n",
        "from nltk.corpus import stopwords, wordnet    # Stopwords, and wordnet corpus\n",
        "from nltk.stem import LancasterStemmer, WordNetLemmatizer"
      ],
      "execution_count": 1,
      "outputs": [
        {
          "output_type": "stream",
          "text": [
            "Requirement already satisfied: contractions in /usr/local/lib/python3.6/dist-packages (0.0.24)\n",
            "Requirement already satisfied: textsearch in /usr/local/lib/python3.6/dist-packages (from contractions) (0.0.17)\n",
            "Requirement already satisfied: pyahocorasick in /usr/local/lib/python3.6/dist-packages (from textsearch->contractions) (1.4.0)\n",
            "Requirement already satisfied: Unidecode in /usr/local/lib/python3.6/dist-packages (from textsearch->contractions) (1.1.1)\n"
          ],
          "name": "stdout"
        }
      ]
    },
    {
      "cell_type": "markdown",
      "metadata": {
        "id": "z56oRBGgu2ZW",
        "colab_type": "text"
      },
      "source": [
        "We need some sample text. We'll start with something very small and artificial in order to easily see the results of what we are doing step by step."
      ]
    },
    {
      "cell_type": "code",
      "metadata": {
        "id": "WBoMiEguukgC",
        "colab_type": "code",
        "colab": {}
      },
      "source": [
        "text = \"\"\"<h1>This is the title</h1>\n",
        "            <b>This is bold text</b>\n",
        "            <i>This is italicized Text</i>\n",
        "            <img src=\"another html tag\"/>\n",
        "            <a href=\"Apart from the others\"> This is also here!</a>\n",
        "            “Love all, trust a few, do wrong to none.” \n",
        "            ― William Shakespeare, All's Well That Ends Well\n",
        "\n",
        "            “All the world's a stage,\n",
        "            And all the men and women merely players;\n",
        "            They have their exits and their entrances;\n",
        "            And one man in his time plays many parts,\n",
        "            His acts being seven ages.” \n",
        "            ― William Shakespeare, As You Like It\n",
        "\n",
        "            \"How old are you,\" asked Jem, \"four-and-a-half?\"\n",
        "\n",
        "            \"Goin' on seven.\"\n",
        "\n",
        "            \"Shoot no wonder, then,\" said Jem, jerking his thumb at me. \"Scout yonder's been readin' ever since she was born, \n",
        "            and she ain't even started to school yet. You look right puny for goin' on seven.\"\n",
        "\n",
        "            \"I'm little but I'm old,\" he said.\n",
        "            - To Kill a Mockingbird\n",
        "\n",
        "            Le dîner, Clémence, Anaïs, Raphaël, Voilà !\n",
        "\n",
        "            something... is! not right() with.,; this :: line.\n",
        "            \n",
        "            &nbsp;&nbsp;\n",
        "            \n",
        "            11    42   1024   2048\n",
        "            {{There are double curly braces.}}\n",
        "            {Here are single curly braces.}\n",
        "            </body>\n",
        "            </html>\"\"\""
      ],
      "execution_count": 0,
      "outputs": []
    },
    {
      "cell_type": "markdown",
      "metadata": {
        "id": "mj6-7g_WwbbI",
        "colab_type": "text"
      },
      "source": [
        "# Noise Removal\n",
        "\n",
        "Let's define noise removal as text-specific normalization tasks which often take place prior to tokenization. \n",
        "- While the other 2 major steps of the preprocessing framework (tokenization and normalization) are basically task-independent, noise removal is much more task-specific.\n",
        "\n",
        "Noise removal tasks could include:\n",
        "\n",
        "- Removing text file headers, footers\n",
        "- Removing HTML, XML, etc. markup and metadata\n",
        "- Extracting valuable data from other formats, such as csv."
      ]
    },
    {
      "cell_type": "code",
      "metadata": {
        "id": "OybtmpuJxAbF",
        "colab_type": "code",
        "colab": {
          "base_uri": "https://localhost:8080/",
          "height": 629
        },
        "outputId": "1627727a-ba3b-44fc-8bde-aa93e5050451"
      },
      "source": [
        "def strip_html(text):\n",
        "    soup = BeautifulSoup(text, \"html.parser\")    # Removing HTML tags\n",
        "    return soup.get_text()\n",
        "\n",
        "def denoise_text(text):\n",
        "    text = strip_html(text)\n",
        "    # Any other step can also be added here according to need e.g we can add code to remove string inside the curly braces.\n",
        "    return text\n",
        "\n",
        "text = denoise_text(text)\n",
        "print(text)"
      ],
      "execution_count": 3,
      "outputs": [
        {
          "output_type": "stream",
          "text": [
            "This is the title\n",
            "This is bold text\n",
            "This is italicized Text\n",
            "\n",
            " This is also here!\n",
            "            “Love all, trust a few, do wrong to none.” \n",
            "            ― William Shakespeare, All's Well That Ends Well\n",
            "\n",
            "            “All the world's a stage,\n",
            "            And all the men and women merely players;\n",
            "            They have their exits and their entrances;\n",
            "            And one man in his time plays many parts,\n",
            "            His acts being seven ages.” \n",
            "            ― William Shakespeare, As You Like It\n",
            "\n",
            "            \"How old are you,\" asked Jem, \"four-and-a-half?\"\n",
            "\n",
            "            \"Goin' on seven.\"\n",
            "\n",
            "            \"Shoot no wonder, then,\" said Jem, jerking his thumb at me. \"Scout yonder's been readin' ever since she was born, \n",
            "            and she ain't even started to school yet. You look right puny for goin' on seven.\"\n",
            "\n",
            "            \"I'm little but I'm old,\" he said.\n",
            "            - To Kill a Mockingbird\n",
            "\n",
            "            Le dîner, Clémence, Anaïs, Raphaël, Voilà !\n",
            "\n",
            "            something... is! not right() with.,; this :: line.\n",
            "            \n",
            "              \n",
            "            \n",
            "            11    42   1024   2048\n",
            "            {{There are double curly braces.}}\n",
            "            {Here are single curly braces.}\n",
            "            \n",
            "\n"
          ],
          "name": "stdout"
        }
      ]
    },
    {
      "cell_type": "markdown",
      "metadata": {
        "id": "eE9JDVmMGR_t",
        "colab_type": "text"
      },
      "source": [
        "While not mandatory to do at this stage prior to tokenization but:\n",
        "- Replacing contractions with their expansions can be beneficial at this point, since our word tokenizer will split words like \"didn't\" into \"did\" and \"n't.\"\n",
        "- It's not impossible to remedy this tokenization at a later stage, but doing so prior makes it easier and more straightforward."
      ]
    },
    {
      "cell_type": "code",
      "metadata": {
        "id": "TIZoPnS-GmGS",
        "colab_type": "code",
        "colab": {
          "base_uri": "https://localhost:8080/",
          "height": 629
        },
        "outputId": "cd7ca307-34be-49c3-9836-fabe8e076d62"
      },
      "source": [
        "def replace_contractions(text):\n",
        "    \"\"\"Replace contractions in string of text\"\"\"\n",
        "    return contractions.fix(text)\n",
        "\n",
        "text = replace_contractions(text)\n",
        "print(text)"
      ],
      "execution_count": 4,
      "outputs": [
        {
          "output_type": "stream",
          "text": [
            "This is the title\n",
            "This is bold text\n",
            "This is italicized Text\n",
            "\n",
            " This is also here!\n",
            "            “Love all, trust a few, do wrong to none.” \n",
            "            ― William Shakespeare, All's Well That Ends Well\n",
            "\n",
            "            “All the world's a stage,\n",
            "            And all the men and women merely players;\n",
            "            They have their exits and their entrances;\n",
            "            And one man in his time plays many parts,\n",
            "            His acts being seven ages.” \n",
            "            ― William Shakespeare, As You Like It\n",
            "\n",
            "            \"How old are you,\" asked Jem, \"four-and-a-half?\"\n",
            "\n",
            "            \"going on seven.\"\n",
            "\n",
            "            \"Shoot no wonder, then,\" said Jem, jerking his thumb at me. \"Scout yonder's been readin' ever since she was born, \n",
            "            and she are not even started to school yet. You look right puny for going on seven.\"\n",
            "\n",
            "            \"I am little but I am old,\" he said.\n",
            "            - To Kill a Mockingbird\n",
            "\n",
            "            Le dîner, Clémence, Anaïs, Raphaël, Voilà !\n",
            "\n",
            "            something... is! not right() with.,; this :: line.\n",
            "            \n",
            "              \n",
            "            \n",
            "            11    42   1024   2048\n",
            "            {{There are double curly braces.}}\n",
            "            {Here are single curly braces.}\n",
            "            \n",
            "\n"
          ],
          "name": "stdout"
        }
      ]
    },
    {
      "cell_type": "markdown",
      "metadata": {
        "id": "Xk7FdvKSHM-u",
        "colab_type": "text"
      },
      "source": [
        "# Tokenization\n",
        " \n",
        "- Tokenization is a step which splits longer strings of text into smaller pieces, or tokens. \n",
        "- Larger chunks of text can be tokenized into sentences, sentences can be tokenized into words, etc. \n",
        "- Further processing is generally performed after a piece of text has been appropriately tokenized. \n",
        "- Tokenization is also referred to as text segmentation or lexical analysis.\n",
        "- Sometimes segmentation is used to refer to the breakdown of a large chunk of text into pieces larger than words (e.g. paragraphs or sentences), while tokenization is reserved for the breakdown process which results exclusively in words.\n",
        "\n",
        "### For our task, we will tokenize our sample text into a list of words. This is done using NTLK's word_tokenize() function."
      ]
    },
    {
      "cell_type": "code",
      "metadata": {
        "id": "6isuJOhmxHmx",
        "colab_type": "code",
        "colab": {
          "base_uri": "https://localhost:8080/",
          "height": 71
        },
        "outputId": "9ae39792-c81a-4d74-e217-83e75b6e9971"
      },
      "source": [
        "words = nltk.word_tokenize(text)     # list of words.\n",
        "print(words)\n",
        "print('Number of words is: ', len(words))"
      ],
      "execution_count": 5,
      "outputs": [
        {
          "output_type": "stream",
          "text": [
            "['This', 'is', 'the', 'title', 'This', 'is', 'bold', 'text', 'This', 'is', 'italicized', 'Text', 'This', 'is', 'also', 'here', '!', '“', 'Love', 'all', ',', 'trust', 'a', 'few', ',', 'do', 'wrong', 'to', 'none.', '”', '―', 'William', 'Shakespeare', ',', 'All', \"'s\", 'Well', 'That', 'Ends', 'Well', '“', 'All', 'the', 'world', \"'s\", 'a', 'stage', ',', 'And', 'all', 'the', 'men', 'and', 'women', 'merely', 'players', ';', 'They', 'have', 'their', 'exits', 'and', 'their', 'entrances', ';', 'And', 'one', 'man', 'in', 'his', 'time', 'plays', 'many', 'parts', ',', 'His', 'acts', 'being', 'seven', 'ages.', '”', '―', 'William', 'Shakespeare', ',', 'As', 'You', 'Like', 'It', '``', 'How', 'old', 'are', 'you', ',', \"''\", 'asked', 'Jem', ',', '``', 'four-and-a-half', '?', \"''\", '``', 'going', 'on', 'seven', '.', \"''\", '``', 'Shoot', 'no', 'wonder', ',', 'then', ',', \"''\", 'said', 'Jem', ',', 'jerking', 'his', 'thumb', 'at', 'me', '.', '``', 'Scout', 'yonder', \"'s\", 'been', 'readin', \"'\", 'ever', 'since', 'she', 'was', 'born', ',', 'and', 'she', 'are', 'not', 'even', 'started', 'to', 'school', 'yet', '.', 'You', 'look', 'right', 'puny', 'for', 'going', 'on', 'seven', '.', \"''\", '``', 'I', 'am', 'little', 'but', 'I', 'am', 'old', ',', \"''\", 'he', 'said', '.', '-', 'To', 'Kill', 'a', 'Mockingbird', 'Le', 'dîner', ',', 'Clémence', ',', 'Anaïs', ',', 'Raphaël', ',', 'Voilà', '!', 'something', '...', 'is', '!', 'not', 'right', '(', ')', 'with.', ',', ';', 'this', ':', ':', 'line', '.', '11', '42', '1024', '2048', '{', '{', 'There', 'are', 'double', 'curly', 'braces', '.', '}', '}', '{', 'Here', 'are', 'single', 'curly', 'braces', '.', '}']\n",
            "Number of words is:  226\n"
          ],
          "name": "stdout"
        }
      ]
    },
    {
      "cell_type": "markdown",
      "metadata": {
        "id": "6txvsPaw6FAT",
        "colab_type": "text"
      },
      "source": [
        "# Normalization\n",
        "\n",
        "- converting all text to the same case (upper or lower), removing punctuation,  and so on.\n",
        "\n",
        "- Steps:\n",
        "  - Removal of non-ASCII characters.\n",
        "  - Conversion of all characters to lowercase.\n",
        "  - Removal of Punctuation.\n",
        "  - Stop word removal.\n",
        "  - Stemming / Lemmatization\n",
        "\n",
        "- After tokenization, we are no longer working at a text level, but now at a word level. Our normalization functions, shown below, reflect this. Function names and comments should provide the necessary insight into what each does."
      ]
    },
    {
      "cell_type": "markdown",
      "metadata": {
        "id": "SgLuyWs2IchN",
        "colab_type": "text"
      },
      "source": [
        "Converting all words to lowercase and removing punctuations.\n",
        "\n",
        "**Stemming:** Converting the words into their base word or stem word ( Ex - tastefully, tasty, these words are converted to stem word called 'tasti'). This reduces the vector dimension because we dont consider all similar words\n",
        "\n",
        "**Stopwords:** Stopwords are the unnecessary words that even if they are removed the sentiment of the sentence dosent change.\n",
        "\n",
        "Ex - **This pasta is so tasty** ==> **pasta tasty** ( This , is, so are stopwords so they are removed)\n",
        "\n",
        "Hint:\n",
        "\n",
        "- Use regular expressions to remove punctuations.\n",
        "\n",
        "To see all the steps, run the below cell."
      ]
    },
    {
      "cell_type": "code",
      "metadata": {
        "id": "Tbp1Y-OVyAi3",
        "colab_type": "code",
        "colab": {
          "base_uri": "https://localhost:8080/",
          "height": 71
        },
        "outputId": "2d3dc8cb-adf9-4e34-d008-7f417e564587"
      },
      "source": [
        "def remove_non_ascii(words):\n",
        "    \"\"\"Remove non-ASCII characters from list of tokenized words\"\"\"\n",
        "    new_words = []                        # Create empty list to store pre-processed words.\n",
        "    for word in words:\n",
        "        new_word = unicodedata.normalize('NFKD', word).encode('ascii', 'ignore').decode('utf-8', 'ignore')\n",
        "        new_words.append(new_word)        # Append processed words to new list.\n",
        "    return new_words\n",
        "\n",
        "def to_lowercase(words):\n",
        "    \"\"\"Convert all characters to lowercase from list of tokenized words\"\"\"\n",
        "    new_words = []                        # Create empty list to store pre-processed words.\n",
        "    for word in words:\n",
        "        new_word = word.lower()           # Converting to lowercase\n",
        "        new_words.append(new_word)        # Append processed words to new list.\n",
        "    return new_words\n",
        "\n",
        "def remove_punctuation(words):\n",
        "    \"\"\"Remove punctuation from list of tokenized words\"\"\"\n",
        "    new_words = []                        # Create empty list to store pre-processed words.\n",
        "    for word in words:\n",
        "        new_word = re.sub(r'[^\\w\\s]', '', word)\n",
        "        if new_word != '':\n",
        "            new_words.append(new_word)    # Append processed words to new list.\n",
        "    return new_words\n",
        "\n",
        "def remove_stopwords(words):\n",
        "    \"\"\"Remove stop words from list of tokenized words\"\"\"\n",
        "    new_words = []                        # Create empty list to store pre-processed words.\n",
        "    for word in words:\n",
        "        if word not in stopwords.words('english'):\n",
        "            new_words.append(word)        # Append processed words to new list.\n",
        "    return new_words\n",
        "\n",
        "def stem_words(words):\n",
        "    \"\"\"Stem words in list of tokenized words\"\"\"\n",
        "    stemmer = LancasterStemmer()\n",
        "    stems = []                            # Create empty list to store pre-processed words.\n",
        "    for word in words:\n",
        "        stem = stemmer.stem(word)\n",
        "        stems.append(stem)                # Append processed words to new list.\n",
        "    return stems\n",
        "\n",
        "def lemmatize_verbs(words):\n",
        "    \"\"\"Lemmatize verbs in list of tokenized words\"\"\"\n",
        "    lemmatizer = WordNetLemmatizer()\n",
        "    lemmas = []                           # Create empty list to store pre-processed words.\n",
        "    for word in words:\n",
        "        lemma = lemmatizer.lemmatize(word, pos='v')\n",
        "        lemmas.append(lemma)              # Append processed words to new list.\n",
        "    return lemmas\n",
        "\n",
        "def normalize(words):\n",
        "    words = remove_non_ascii(words)\n",
        "    words = to_lowercase(words)\n",
        "    words = remove_punctuation(words)\n",
        "    words = remove_stopwords(words)\n",
        "    return words\n",
        "\n",
        "words = normalize(words)\n",
        "print(words)\n",
        "print('Number of words is: ', len(words))"
      ],
      "execution_count": 6,
      "outputs": [
        {
          "output_type": "stream",
          "text": [
            "['title', 'bold', 'text', 'italicized', 'text', 'also', 'love', 'trust', 'wrong', 'none', 'william', 'shakespeare', 'well', 'ends', 'well', 'world', 'stage', 'men', 'women', 'merely', 'players', 'exits', 'entrances', 'one', 'man', 'time', 'plays', 'many', 'parts', 'acts', 'seven', 'ages', 'william', 'shakespeare', 'like', 'old', 'asked', 'jem', 'fourandahalf', 'going', 'seven', 'shoot', 'wonder', 'said', 'jem', 'jerking', 'thumb', 'scout', 'yonder', 'readin', 'ever', 'since', 'born', 'even', 'started', 'school', 'yet', 'look', 'right', 'puny', 'going', 'seven', 'little', 'old', 'said', 'kill', 'mockingbird', 'le', 'diner', 'clemence', 'anais', 'raphael', 'voila', 'something', 'right', 'line', '11', '42', '1024', '2048', 'double', 'curly', 'braces', 'single', 'curly', 'braces']\n",
            "Number of words is:  86\n"
          ],
          "name": "stdout"
        }
      ]
    },
    {
      "cell_type": "code",
      "metadata": {
        "id": "PJHxKitq6xAP",
        "colab_type": "code",
        "colab": {
          "base_uri": "https://localhost:8080/",
          "height": 122
        },
        "outputId": "5d8ad2d7-101a-4e84-db14-9e336c9d22b6"
      },
      "source": [
        "def stem_and_lemmatize(words):\n",
        "    stems = stem_words(words)\n",
        "    lemmas = lemmatize_verbs(words)\n",
        "    return stems, lemmas\n",
        "\n",
        "stems, lemmas = stem_and_lemmatize(words)\n",
        "print('Stemmed:\\n', stems)\n",
        "print('\\nLemmatized:\\n', lemmas)"
      ],
      "execution_count": 7,
      "outputs": [
        {
          "output_type": "stream",
          "text": [
            "Stemmed:\n",
            " ['titl', 'bold', 'text', 'it', 'text', 'also', 'lov', 'trust', 'wrong', 'non', 'william', 'shakespear', 'wel', 'end', 'wel', 'world', 'stag', 'men', 'wom', 'mer', 'play', 'exit', 'ent', 'on', 'man', 'tim', 'play', 'many', 'part', 'act', 'sev', 'ag', 'william', 'shakespear', 'lik', 'old', 'ask', 'jem', 'fourandahalf', 'going', 'sev', 'shoot', 'wond', 'said', 'jem', 'jerk', 'thumb', 'scout', 'yond', 'readin', 'ev', 'sint', 'born', 'ev', 'start', 'school', 'yet', 'look', 'right', 'puny', 'going', 'sev', 'littl', 'old', 'said', 'kil', 'mockingbird', 'le', 'din', 'cle', 'ana', 'raphael', 'voil', 'someth', 'right', 'lin', '11', '42', '1024', '2048', 'doubl', 'cur', 'brac', 'singl', 'cur', 'brac']\n",
            "\n",
            "Lemmatized:\n",
            " ['title', 'bold', 'text', 'italicize', 'text', 'also', 'love', 'trust', 'wrong', 'none', 'william', 'shakespeare', 'well', 'end', 'well', 'world', 'stage', 'men', 'women', 'merely', 'players', 'exit', 'entrance', 'one', 'man', 'time', 'play', 'many', 'part', 'act', 'seven', 'age', 'william', 'shakespeare', 'like', 'old', 'ask', 'jem', 'fourandahalf', 'go', 'seven', 'shoot', 'wonder', 'say', 'jem', 'jerk', 'thumb', 'scout', 'yonder', 'readin', 'ever', 'since', 'bear', 'even', 'start', 'school', 'yet', 'look', 'right', 'puny', 'go', 'seven', 'little', 'old', 'say', 'kill', 'mockingbird', 'le', 'diner', 'clemence', 'anais', 'raphael', 'voila', 'something', 'right', 'line', '11', '42', '1024', '2048', 'double', 'curly', 'brace', 'single', 'curly', 'brace']\n"
          ],
          "name": "stdout"
        }
      ]
    },
    {
      "cell_type": "markdown",
      "metadata": {
        "id": "5ZQYekE-7VmZ",
        "colab_type": "text"
      },
      "source": [
        "This results in a return of 2 new lists: one of stemmed tokens, and another of lemmatized tokens with respect to verbs. Depending on your upcoming NLP task or preference, one of these may be more appropriate than the other."
      ]
    },
    {
      "cell_type": "code",
      "metadata": {
        "id": "0vTaG2mA7FOf",
        "colab_type": "code",
        "colab": {}
      },
      "source": [
        ""
      ],
      "execution_count": 0,
      "outputs": []
    }
  ]
}