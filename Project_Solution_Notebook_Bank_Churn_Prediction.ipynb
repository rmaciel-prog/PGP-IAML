{
  "nbformat": 4,
  "nbformat_minor": 0,
  "metadata": {
    "kernelspec": {
      "display_name": "Python 3",
      "language": "python",
      "name": "python3"
    },
    "language_info": {
      "codemirror_mode": {
        "name": "ipython",
        "version": 3
      },
      "file_extension": ".py",
      "mimetype": "text/x-python",
      "name": "python",
      "nbconvert_exporter": "python",
      "pygments_lexer": "ipython3",
      "version": "3.6.6"
    },
    "colab": {
      "name": "Project_Solution_Notebook_Bank_Churn_Prediction.ipynb",
      "provenance": [],
      "collapsed_sections": []
    },
    "accelerator": "GPU"
  },
  "cells": [
    {
      "cell_type": "markdown",
      "metadata": {
        "id": "DRX9f5_6HUNP",
        "colab_type": "text"
      },
      "source": [
        "## Project - Bank Churn prediction\n",
        "\n",
        "### 1st case study - Project 1:\n",
        " \n",
        "\n",
        "#### In this project, we aim to predict the churn for a bank, i.e, given a Bank customer, can we build a classifier which can determine whether they will leave or not using Neural networks?\n",
        " \n",
        "Case file: bank.csv \n",
        " \n",
        "The points distribution for this case is as follows:\n",
        "\n",
        "1. Read the dataset\n",
        "2. Drop the columns which are unique for all users like IDs\n",
        "3. Distinguish the feature and target set\n",
        "4. Divide the data set into Train and test sets\n",
        "5. Normalize the train and test data (2.5 points)\n",
        "6. Initialize & build the model (10 points)\n",
        "7. Optimize the model (5 points)\n",
        "9. Predict the results using 0.5 as a threshold (5 points)\n",
        "10. Print the Accuracy score and confusion matrix (2.5 points)\n"
      ]
    },
    {
      "cell_type": "code",
      "metadata": {
        "id": "szwhm3mUqvJE",
        "colab_type": "code",
        "outputId": "5feb7ab5-d9e4-4168-e7eb-40245391bd3f",
        "colab": {
          "base_uri": "https://localhost:8080/",
          "height": 1000
        }
      },
      "source": [
        "!pip install tensorflow==2.0"
      ],
      "execution_count": 0,
      "outputs": [
        {
          "output_type": "stream",
          "text": [
            "Collecting tensorflow==2.0\n",
            "\u001b[?25l  Downloading https://files.pythonhosted.org/packages/46/0f/7bd55361168bb32796b360ad15a25de6966c9c1beb58a8e30c01c8279862/tensorflow-2.0.0-cp36-cp36m-manylinux2010_x86_64.whl (86.3MB)\n",
            "\u001b[K     |████████████████████████████████| 86.3MB 52kB/s \n",
            "\u001b[?25hRequirement already satisfied: numpy<2.0,>=1.16.0 in /usr/local/lib/python3.6/dist-packages (from tensorflow==2.0) (1.18.3)\n",
            "Collecting tensorflow-estimator<2.1.0,>=2.0.0\n",
            "\u001b[?25l  Downloading https://files.pythonhosted.org/packages/fc/08/8b927337b7019c374719145d1dceba21a8bb909b93b1ad6f8fb7d22c1ca1/tensorflow_estimator-2.0.1-py2.py3-none-any.whl (449kB)\n",
            "\u001b[K     |████████████████████████████████| 450kB 27.5MB/s \n",
            "\u001b[?25hRequirement already satisfied: opt-einsum>=2.3.2 in /usr/local/lib/python3.6/dist-packages (from tensorflow==2.0) (3.2.1)\n",
            "Requirement already satisfied: protobuf>=3.6.1 in /usr/local/lib/python3.6/dist-packages (from tensorflow==2.0) (3.10.0)\n",
            "Requirement already satisfied: termcolor>=1.1.0 in /usr/local/lib/python3.6/dist-packages (from tensorflow==2.0) (1.1.0)\n",
            "Requirement already satisfied: absl-py>=0.7.0 in /usr/local/lib/python3.6/dist-packages (from tensorflow==2.0) (0.9.0)\n",
            "Collecting tensorboard<2.1.0,>=2.0.0\n",
            "\u001b[?25l  Downloading https://files.pythonhosted.org/packages/76/54/99b9d5d52d5cb732f099baaaf7740403e83fe6b0cedde940fabd2b13d75a/tensorboard-2.0.2-py3-none-any.whl (3.8MB)\n",
            "\u001b[K     |████████████████████████████████| 3.8MB 28.0MB/s \n",
            "\u001b[?25hRequirement already satisfied: wrapt>=1.11.1 in /usr/local/lib/python3.6/dist-packages (from tensorflow==2.0) (1.12.1)\n",
            "Requirement already satisfied: grpcio>=1.8.6 in /usr/local/lib/python3.6/dist-packages (from tensorflow==2.0) (1.28.1)\n",
            "Requirement already satisfied: keras-preprocessing>=1.0.5 in /usr/local/lib/python3.6/dist-packages (from tensorflow==2.0) (1.1.0)\n",
            "Requirement already satisfied: astor>=0.6.0 in /usr/local/lib/python3.6/dist-packages (from tensorflow==2.0) (0.8.1)\n",
            "Requirement already satisfied: six>=1.10.0 in /usr/local/lib/python3.6/dist-packages (from tensorflow==2.0) (1.12.0)\n",
            "Requirement already satisfied: wheel>=0.26 in /usr/local/lib/python3.6/dist-packages (from tensorflow==2.0) (0.34.2)\n",
            "Requirement already satisfied: keras-applications>=1.0.8 in /usr/local/lib/python3.6/dist-packages (from tensorflow==2.0) (1.0.8)\n",
            "Collecting gast==0.2.2\n",
            "  Downloading https://files.pythonhosted.org/packages/4e/35/11749bf99b2d4e3cceb4d55ca22590b0d7c2c62b9de38ac4a4a7f4687421/gast-0.2.2.tar.gz\n",
            "Requirement already satisfied: google-pasta>=0.1.6 in /usr/local/lib/python3.6/dist-packages (from tensorflow==2.0) (0.2.0)\n",
            "Requirement already satisfied: setuptools in /usr/local/lib/python3.6/dist-packages (from protobuf>=3.6.1->tensorflow==2.0) (46.1.3)\n",
            "Requirement already satisfied: google-auth<2,>=1.6.3 in /usr/local/lib/python3.6/dist-packages (from tensorboard<2.1.0,>=2.0.0->tensorflow==2.0) (1.7.2)\n",
            "Requirement already satisfied: markdown>=2.6.8 in /usr/local/lib/python3.6/dist-packages (from tensorboard<2.1.0,>=2.0.0->tensorflow==2.0) (3.2.1)\n",
            "Requirement already satisfied: werkzeug>=0.11.15 in /usr/local/lib/python3.6/dist-packages (from tensorboard<2.1.0,>=2.0.0->tensorflow==2.0) (1.0.1)\n",
            "Requirement already satisfied: google-auth-oauthlib<0.5,>=0.4.1 in /usr/local/lib/python3.6/dist-packages (from tensorboard<2.1.0,>=2.0.0->tensorflow==2.0) (0.4.1)\n",
            "Requirement already satisfied: requests<3,>=2.21.0 in /usr/local/lib/python3.6/dist-packages (from tensorboard<2.1.0,>=2.0.0->tensorflow==2.0) (2.23.0)\n",
            "Requirement already satisfied: h5py in /usr/local/lib/python3.6/dist-packages (from keras-applications>=1.0.8->tensorflow==2.0) (2.10.0)\n",
            "Requirement already satisfied: cachetools<3.2,>=2.0.0 in /usr/local/lib/python3.6/dist-packages (from google-auth<2,>=1.6.3->tensorboard<2.1.0,>=2.0.0->tensorflow==2.0) (3.1.1)\n",
            "Requirement already satisfied: rsa<4.1,>=3.1.4 in /usr/local/lib/python3.6/dist-packages (from google-auth<2,>=1.6.3->tensorboard<2.1.0,>=2.0.0->tensorflow==2.0) (4.0)\n",
            "Requirement already satisfied: pyasn1-modules>=0.2.1 in /usr/local/lib/python3.6/dist-packages (from google-auth<2,>=1.6.3->tensorboard<2.1.0,>=2.0.0->tensorflow==2.0) (0.2.8)\n",
            "Requirement already satisfied: requests-oauthlib>=0.7.0 in /usr/local/lib/python3.6/dist-packages (from google-auth-oauthlib<0.5,>=0.4.1->tensorboard<2.1.0,>=2.0.0->tensorflow==2.0) (1.3.0)\n",
            "Requirement already satisfied: idna<3,>=2.5 in /usr/local/lib/python3.6/dist-packages (from requests<3,>=2.21.0->tensorboard<2.1.0,>=2.0.0->tensorflow==2.0) (2.9)\n",
            "Requirement already satisfied: chardet<4,>=3.0.2 in /usr/local/lib/python3.6/dist-packages (from requests<3,>=2.21.0->tensorboard<2.1.0,>=2.0.0->tensorflow==2.0) (3.0.4)\n",
            "Requirement already satisfied: certifi>=2017.4.17 in /usr/local/lib/python3.6/dist-packages (from requests<3,>=2.21.0->tensorboard<2.1.0,>=2.0.0->tensorflow==2.0) (2020.4.5.1)\n",
            "Requirement already satisfied: urllib3!=1.25.0,!=1.25.1,<1.26,>=1.21.1 in /usr/local/lib/python3.6/dist-packages (from requests<3,>=2.21.0->tensorboard<2.1.0,>=2.0.0->tensorflow==2.0) (1.24.3)\n",
            "Requirement already satisfied: pyasn1>=0.1.3 in /usr/local/lib/python3.6/dist-packages (from rsa<4.1,>=3.1.4->google-auth<2,>=1.6.3->tensorboard<2.1.0,>=2.0.0->tensorflow==2.0) (0.4.8)\n",
            "Requirement already satisfied: oauthlib>=3.0.0 in /usr/local/lib/python3.6/dist-packages (from requests-oauthlib>=0.7.0->google-auth-oauthlib<0.5,>=0.4.1->tensorboard<2.1.0,>=2.0.0->tensorflow==2.0) (3.1.0)\n",
            "Building wheels for collected packages: gast\n",
            "  Building wheel for gast (setup.py) ... \u001b[?25l\u001b[?25hdone\n",
            "  Created wheel for gast: filename=gast-0.2.2-cp36-none-any.whl size=7540 sha256=20f7348815b81ed52fa581a2fad9b510af0e0202e104df6581f8cc8b250ab888\n",
            "  Stored in directory: /root/.cache/pip/wheels/5c/2e/7e/a1d4d4fcebe6c381f378ce7743a3ced3699feb89bcfbdadadd\n",
            "Successfully built gast\n",
            "\u001b[31mERROR: tensorflow-probability 0.10.0rc0 has requirement gast>=0.3.2, but you'll have gast 0.2.2 which is incompatible.\u001b[0m\n",
            "Installing collected packages: tensorflow-estimator, tensorboard, gast, tensorflow\n",
            "  Found existing installation: tensorflow-estimator 2.2.0\n",
            "    Uninstalling tensorflow-estimator-2.2.0:\n",
            "      Successfully uninstalled tensorflow-estimator-2.2.0\n",
            "  Found existing installation: tensorboard 2.2.1\n",
            "    Uninstalling tensorboard-2.2.1:\n",
            "      Successfully uninstalled tensorboard-2.2.1\n",
            "  Found existing installation: gast 0.3.3\n",
            "    Uninstalling gast-0.3.3:\n",
            "      Successfully uninstalled gast-0.3.3\n",
            "  Found existing installation: tensorflow 2.2.0rc3\n",
            "    Uninstalling tensorflow-2.2.0rc3:\n",
            "      Successfully uninstalled tensorflow-2.2.0rc3\n",
            "Successfully installed gast-0.2.2 tensorboard-2.0.2 tensorflow-2.0.0 tensorflow-estimator-2.0.1\n"
          ],
          "name": "stdout"
        }
      ]
    },
    {
      "cell_type": "code",
      "metadata": {
        "id": "j0mRT6iJrkgJ",
        "colab_type": "code",
        "outputId": "a40bfa87-44ba-452f-b069-ecacd7d753f3",
        "colab": {
          "base_uri": "https://localhost:8080/",
          "height": 34
        }
      },
      "source": [
        "import tensorflow as tf\n",
        "print(tf.__version__)"
      ],
      "execution_count": 1,
      "outputs": [
        {
          "output_type": "stream",
          "text": [
            "2.2.0\n"
          ],
          "name": "stdout"
        }
      ]
    },
    {
      "cell_type": "code",
      "metadata": {
        "id": "N0_uNV2Dpz9M",
        "colab_type": "code",
        "outputId": "c5b6e9c1-b3fd-43eb-fa5c-72d06704be73",
        "colab": {
          "base_uri": "https://localhost:8080/",
          "height": 204
        }
      },
      "source": [
        "!pip install scikit-learn==0.21.2"
      ],
      "execution_count": 2,
      "outputs": [
        {
          "output_type": "stream",
          "text": [
            "Collecting scikit-learn==0.21.2\n",
            "\u001b[?25l  Downloading https://files.pythonhosted.org/packages/85/04/49633f490f726da6e454fddc8e938bbb5bfed2001681118d3814c219b723/scikit_learn-0.21.2-cp36-cp36m-manylinux1_x86_64.whl (6.7MB)\n",
            "\u001b[K     |████████████████████████████████| 6.7MB 2.4MB/s \n",
            "\u001b[?25hRequirement already satisfied: scipy>=0.17.0 in /usr/local/lib/python3.6/dist-packages (from scikit-learn==0.21.2) (1.4.1)\n",
            "Requirement already satisfied: numpy>=1.11.0 in /usr/local/lib/python3.6/dist-packages (from scikit-learn==0.21.2) (1.18.5)\n",
            "Requirement already satisfied: joblib>=0.11 in /usr/local/lib/python3.6/dist-packages (from scikit-learn==0.21.2) (0.15.1)\n",
            "Installing collected packages: scikit-learn\n",
            "  Found existing installation: scikit-learn 0.22.2.post1\n",
            "    Uninstalling scikit-learn-0.22.2.post1:\n",
            "      Successfully uninstalled scikit-learn-0.22.2.post1\n",
            "Successfully installed scikit-learn-0.21.2\n"
          ],
          "name": "stdout"
        }
      ]
    },
    {
      "cell_type": "code",
      "metadata": {
        "id": "IfeZclzIHUNs",
        "colab_type": "code",
        "colab": {}
      },
      "source": [
        "import pandas as pd\n",
        "from tensorflow.keras.models import Sequential\n",
        "from tensorflow.keras.layers import Dense\n",
        "from sklearn import model_selection\n",
        "from sklearn.model_selection import train_test_split\n",
        "from sklearn.preprocessing import LabelEncoder, OneHotEncoder\n",
        "from sklearn.compose import ColumnTransformer\n",
        "from sklearn.metrics import confusion_matrix"
      ],
      "execution_count": 0,
      "outputs": []
    },
    {
      "cell_type": "code",
      "metadata": {
        "id": "yA5IEcbYXeVT",
        "colab_type": "code",
        "colab": {}
      },
      "source": [
        "seed = 66"
      ],
      "execution_count": 0,
      "outputs": []
    },
    {
      "cell_type": "code",
      "metadata": {
        "id": "MBVYdw85sEmE",
        "colab_type": "code",
        "outputId": "e45e1470-c20e-44ef-9a42-a0c106e585e8",
        "colab": {
          "base_uri": "https://localhost:8080/",
          "height": 122
        }
      },
      "source": [
        "from google.colab import drive\n",
        "drive.mount('/content/drive')"
      ],
      "execution_count": 5,
      "outputs": [
        {
          "output_type": "stream",
          "text": [
            "Go to this URL in a browser: https://accounts.google.com/o/oauth2/auth?client_id=947318989803-6bn6qk8qdgf4n4g3pfee6491hc0brc4i.apps.googleusercontent.com&redirect_uri=urn%3aietf%3awg%3aoauth%3a2.0%3aoob&response_type=code&scope=email%20https%3a%2f%2fwww.googleapis.com%2fauth%2fdocs.test%20https%3a%2f%2fwww.googleapis.com%2fauth%2fdrive%20https%3a%2f%2fwww.googleapis.com%2fauth%2fdrive.photos.readonly%20https%3a%2f%2fwww.googleapis.com%2fauth%2fpeopleapi.readonly\n",
            "\n",
            "Enter your authorization code:\n",
            "··········\n",
            "Mounted at /content/drive\n"
          ],
          "name": "stdout"
        }
      ]
    },
    {
      "cell_type": "markdown",
      "metadata": {
        "id": "z7ubXtC8HUOA",
        "colab_type": "text"
      },
      "source": [
        "#### Read the dataset"
      ]
    },
    {
      "cell_type": "code",
      "metadata": {
        "id": "1QJLp3P3HUOC",
        "colab_type": "code",
        "colab": {}
      },
      "source": [
        "ds = pd.read_csv(\"/content/drive/My Drive/Colab Notebooks/data/bank.csv\")"
      ],
      "execution_count": 0,
      "outputs": []
    },
    {
      "cell_type": "code",
      "metadata": {
        "id": "nCfASHJ8HUOS",
        "colab_type": "code",
        "outputId": "d48e1f8b-0d17-464c-e728-667ea131d90b",
        "colab": {
          "base_uri": "https://localhost:8080/",
          "height": 359
        }
      },
      "source": [
        "ds.head(10)"
      ],
      "execution_count": 7,
      "outputs": [
        {
          "output_type": "execute_result",
          "data": {
            "text/html": [
              "<div>\n",
              "<style scoped>\n",
              "    .dataframe tbody tr th:only-of-type {\n",
              "        vertical-align: middle;\n",
              "    }\n",
              "\n",
              "    .dataframe tbody tr th {\n",
              "        vertical-align: top;\n",
              "    }\n",
              "\n",
              "    .dataframe thead th {\n",
              "        text-align: right;\n",
              "    }\n",
              "</style>\n",
              "<table border=\"1\" class=\"dataframe\">\n",
              "  <thead>\n",
              "    <tr style=\"text-align: right;\">\n",
              "      <th></th>\n",
              "      <th>RowNumber</th>\n",
              "      <th>CustomerId</th>\n",
              "      <th>Surname</th>\n",
              "      <th>CreditScore</th>\n",
              "      <th>Geography</th>\n",
              "      <th>Gender</th>\n",
              "      <th>Age</th>\n",
              "      <th>Tenure</th>\n",
              "      <th>Balance</th>\n",
              "      <th>NumOfProducts</th>\n",
              "      <th>HasCrCard</th>\n",
              "      <th>IsActiveMember</th>\n",
              "      <th>EstimatedSalary</th>\n",
              "      <th>Exited</th>\n",
              "    </tr>\n",
              "  </thead>\n",
              "  <tbody>\n",
              "    <tr>\n",
              "      <th>0</th>\n",
              "      <td>1</td>\n",
              "      <td>15634602</td>\n",
              "      <td>Hargrave</td>\n",
              "      <td>619</td>\n",
              "      <td>France</td>\n",
              "      <td>Female</td>\n",
              "      <td>42</td>\n",
              "      <td>2</td>\n",
              "      <td>0.00</td>\n",
              "      <td>1</td>\n",
              "      <td>1</td>\n",
              "      <td>1</td>\n",
              "      <td>101348.88</td>\n",
              "      <td>1</td>\n",
              "    </tr>\n",
              "    <tr>\n",
              "      <th>1</th>\n",
              "      <td>2</td>\n",
              "      <td>15647311</td>\n",
              "      <td>Hill</td>\n",
              "      <td>608</td>\n",
              "      <td>Spain</td>\n",
              "      <td>Female</td>\n",
              "      <td>41</td>\n",
              "      <td>1</td>\n",
              "      <td>83807.86</td>\n",
              "      <td>1</td>\n",
              "      <td>0</td>\n",
              "      <td>1</td>\n",
              "      <td>112542.58</td>\n",
              "      <td>0</td>\n",
              "    </tr>\n",
              "    <tr>\n",
              "      <th>2</th>\n",
              "      <td>3</td>\n",
              "      <td>15619304</td>\n",
              "      <td>Onio</td>\n",
              "      <td>502</td>\n",
              "      <td>France</td>\n",
              "      <td>Female</td>\n",
              "      <td>42</td>\n",
              "      <td>8</td>\n",
              "      <td>159660.80</td>\n",
              "      <td>3</td>\n",
              "      <td>1</td>\n",
              "      <td>0</td>\n",
              "      <td>113931.57</td>\n",
              "      <td>1</td>\n",
              "    </tr>\n",
              "    <tr>\n",
              "      <th>3</th>\n",
              "      <td>4</td>\n",
              "      <td>15701354</td>\n",
              "      <td>Boni</td>\n",
              "      <td>699</td>\n",
              "      <td>France</td>\n",
              "      <td>Female</td>\n",
              "      <td>39</td>\n",
              "      <td>1</td>\n",
              "      <td>0.00</td>\n",
              "      <td>2</td>\n",
              "      <td>0</td>\n",
              "      <td>0</td>\n",
              "      <td>93826.63</td>\n",
              "      <td>0</td>\n",
              "    </tr>\n",
              "    <tr>\n",
              "      <th>4</th>\n",
              "      <td>5</td>\n",
              "      <td>15737888</td>\n",
              "      <td>Mitchell</td>\n",
              "      <td>850</td>\n",
              "      <td>Spain</td>\n",
              "      <td>Female</td>\n",
              "      <td>43</td>\n",
              "      <td>2</td>\n",
              "      <td>125510.82</td>\n",
              "      <td>1</td>\n",
              "      <td>1</td>\n",
              "      <td>1</td>\n",
              "      <td>79084.10</td>\n",
              "      <td>0</td>\n",
              "    </tr>\n",
              "    <tr>\n",
              "      <th>5</th>\n",
              "      <td>6</td>\n",
              "      <td>15574012</td>\n",
              "      <td>Chu</td>\n",
              "      <td>645</td>\n",
              "      <td>Spain</td>\n",
              "      <td>Male</td>\n",
              "      <td>44</td>\n",
              "      <td>8</td>\n",
              "      <td>113755.78</td>\n",
              "      <td>2</td>\n",
              "      <td>1</td>\n",
              "      <td>0</td>\n",
              "      <td>149756.71</td>\n",
              "      <td>1</td>\n",
              "    </tr>\n",
              "    <tr>\n",
              "      <th>6</th>\n",
              "      <td>7</td>\n",
              "      <td>15592531</td>\n",
              "      <td>Bartlett</td>\n",
              "      <td>822</td>\n",
              "      <td>France</td>\n",
              "      <td>Male</td>\n",
              "      <td>50</td>\n",
              "      <td>7</td>\n",
              "      <td>0.00</td>\n",
              "      <td>2</td>\n",
              "      <td>1</td>\n",
              "      <td>1</td>\n",
              "      <td>10062.80</td>\n",
              "      <td>0</td>\n",
              "    </tr>\n",
              "    <tr>\n",
              "      <th>7</th>\n",
              "      <td>8</td>\n",
              "      <td>15656148</td>\n",
              "      <td>Obinna</td>\n",
              "      <td>376</td>\n",
              "      <td>Germany</td>\n",
              "      <td>Female</td>\n",
              "      <td>29</td>\n",
              "      <td>4</td>\n",
              "      <td>115046.74</td>\n",
              "      <td>4</td>\n",
              "      <td>1</td>\n",
              "      <td>0</td>\n",
              "      <td>119346.88</td>\n",
              "      <td>1</td>\n",
              "    </tr>\n",
              "    <tr>\n",
              "      <th>8</th>\n",
              "      <td>9</td>\n",
              "      <td>15792365</td>\n",
              "      <td>He</td>\n",
              "      <td>501</td>\n",
              "      <td>France</td>\n",
              "      <td>Male</td>\n",
              "      <td>44</td>\n",
              "      <td>4</td>\n",
              "      <td>142051.07</td>\n",
              "      <td>2</td>\n",
              "      <td>0</td>\n",
              "      <td>1</td>\n",
              "      <td>74940.50</td>\n",
              "      <td>0</td>\n",
              "    </tr>\n",
              "    <tr>\n",
              "      <th>9</th>\n",
              "      <td>10</td>\n",
              "      <td>15592389</td>\n",
              "      <td>H?</td>\n",
              "      <td>684</td>\n",
              "      <td>France</td>\n",
              "      <td>Male</td>\n",
              "      <td>27</td>\n",
              "      <td>2</td>\n",
              "      <td>134603.88</td>\n",
              "      <td>1</td>\n",
              "      <td>1</td>\n",
              "      <td>1</td>\n",
              "      <td>71725.73</td>\n",
              "      <td>0</td>\n",
              "    </tr>\n",
              "  </tbody>\n",
              "</table>\n",
              "</div>"
            ],
            "text/plain": [
              "   RowNumber  CustomerId   Surname  ...  IsActiveMember EstimatedSalary Exited\n",
              "0          1    15634602  Hargrave  ...               1       101348.88      1\n",
              "1          2    15647311      Hill  ...               1       112542.58      0\n",
              "2          3    15619304      Onio  ...               0       113931.57      1\n",
              "3          4    15701354      Boni  ...               0        93826.63      0\n",
              "4          5    15737888  Mitchell  ...               1        79084.10      0\n",
              "5          6    15574012       Chu  ...               0       149756.71      1\n",
              "6          7    15592531  Bartlett  ...               1        10062.80      0\n",
              "7          8    15656148    Obinna  ...               0       119346.88      1\n",
              "8          9    15792365        He  ...               1        74940.50      0\n",
              "9         10    15592389        H?  ...               1        71725.73      0\n",
              "\n",
              "[10 rows x 14 columns]"
            ]
          },
          "metadata": {
            "tags": []
          },
          "execution_count": 7
        }
      ]
    },
    {
      "cell_type": "markdown",
      "metadata": {
        "id": "BsBwLHcmHUOg",
        "colab_type": "text"
      },
      "source": [
        "#### Drop the columns which are unique for all users like IDs"
      ]
    },
    {
      "cell_type": "code",
      "metadata": {
        "id": "2phjlpsmHUOh",
        "colab_type": "code",
        "outputId": "994af0c1-bc9b-49cc-f811-f682efe67365",
        "colab": {
          "base_uri": "https://localhost:8080/",
          "height": 85
        }
      },
      "source": [
        "ds['Geography'].value_counts()"
      ],
      "execution_count": 8,
      "outputs": [
        {
          "output_type": "execute_result",
          "data": {
            "text/plain": [
              "France     5014\n",
              "Germany    2509\n",
              "Spain      2477\n",
              "Name: Geography, dtype: int64"
            ]
          },
          "metadata": {
            "tags": []
          },
          "execution_count": 8
        }
      ]
    },
    {
      "cell_type": "code",
      "metadata": {
        "id": "ivF2RMo6HUOr",
        "colab_type": "code",
        "colab": {}
      },
      "source": [
        "#RowNumber #CustomerId and #Surname are unique hence dropping it\n",
        "ds = ds.drop(['RowNumber', 'CustomerId', 'Surname'], axis=1)"
      ],
      "execution_count": 0,
      "outputs": []
    },
    {
      "cell_type": "code",
      "metadata": {
        "id": "owLb0T9WHUO0",
        "colab_type": "code",
        "outputId": "581a16ce-617b-477d-ed61-9e9be4c5a7b2",
        "colab": {
          "base_uri": "https://localhost:8080/",
          "height": 323
        }
      },
      "source": [
        "ds.info()"
      ],
      "execution_count": 10,
      "outputs": [
        {
          "output_type": "stream",
          "text": [
            "<class 'pandas.core.frame.DataFrame'>\n",
            "RangeIndex: 10000 entries, 0 to 9999\n",
            "Data columns (total 11 columns):\n",
            " #   Column           Non-Null Count  Dtype  \n",
            "---  ------           --------------  -----  \n",
            " 0   CreditScore      10000 non-null  int64  \n",
            " 1   Geography        10000 non-null  object \n",
            " 2   Gender           10000 non-null  object \n",
            " 3   Age              10000 non-null  int64  \n",
            " 4   Tenure           10000 non-null  int64  \n",
            " 5   Balance          10000 non-null  float64\n",
            " 6   NumOfProducts    10000 non-null  int64  \n",
            " 7   HasCrCard        10000 non-null  int64  \n",
            " 8   IsActiveMember   10000 non-null  int64  \n",
            " 9   EstimatedSalary  10000 non-null  float64\n",
            " 10  Exited           10000 non-null  int64  \n",
            "dtypes: float64(2), int64(7), object(2)\n",
            "memory usage: 859.5+ KB\n"
          ],
          "name": "stdout"
        }
      ]
    },
    {
      "cell_type": "markdown",
      "metadata": {
        "id": "CUXPaUwZHUO8",
        "colab_type": "text"
      },
      "source": [
        "#### Distinguish the feature and target set"
      ]
    },
    {
      "cell_type": "code",
      "metadata": {
        "id": "VTb3JwlaHUO-",
        "colab_type": "code",
        "colab": {}
      },
      "source": [
        "X = ds.iloc[:,0:10].values # Credit Score through Estimated Salary\n",
        "y = ds.iloc[:,10].values # Exited"
      ],
      "execution_count": 0,
      "outputs": []
    },
    {
      "cell_type": "markdown",
      "metadata": {
        "id": "DYKNSbdEWbmV",
        "colab_type": "text"
      },
      "source": [
        "## George's Challenge\n",
        "How to do this with `df.loc`?"
      ]
    },
    {
      "cell_type": "code",
      "metadata": {
        "id": "UQ5O-gX3-Ir0",
        "colab_type": "code",
        "colab": {}
      },
      "source": [
        "cols_to_use = [col for col in ds.columns if col != 'Exited']\n",
        "X = ds.loc[:, cols_to_use]\n",
        "y = ds.loc[:, 'Exited']"
      ],
      "execution_count": 0,
      "outputs": []
    },
    {
      "cell_type": "code",
      "metadata": {
        "id": "ikg-QAywHUPE",
        "colab_type": "code",
        "outputId": "9ead7e8d-2798-474c-994d-05d6cdf83d8c",
        "colab": {
          "base_uri": "https://localhost:8080/",
          "height": 51
        }
      },
      "source": [
        "# Encoding categorical (string based) data. Country: there are 3 options: France, Spain and Germany\n",
        "# This will convert those strings into scalar values for analysis\n",
        "print(X[:8,1], '... will now become: ')\n",
        "\n",
        "label_X_country_encoder = LabelEncoder()\n",
        "X[:,1] = label_X_country_encoder.fit_transform(X[:,1])\n",
        "print(X[:8,1])"
      ],
      "execution_count": 13,
      "outputs": [
        {
          "output_type": "stream",
          "text": [
            "['France' 'Spain' 'France' 'France' 'Spain' 'Spain' 'France' 'Germany'] ... will now become: \n",
            "[0 2 0 0 2 2 0 1]\n"
          ],
          "name": "stdout"
        }
      ]
    },
    {
      "cell_type": "code",
      "metadata": {
        "id": "wWrBLaE_HUPJ",
        "colab_type": "code",
        "outputId": "cf76b38e-422d-4cc6-f6ce-ab598e8db8e6",
        "colab": {
          "base_uri": "https://localhost:8080/",
          "height": 51
        }
      },
      "source": [
        "# We will do the same thing for gender. this will be binary in this dataset\n",
        "print(X[:6,2], '... will now become: ')\n",
        "\n",
        "label_X_gender_encoder = LabelEncoder()\n",
        "X[:,2] = label_X_gender_encoder.fit_transform(X[:,2])\n",
        "print(X[:6,2])"
      ],
      "execution_count": 14,
      "outputs": [
        {
          "output_type": "stream",
          "text": [
            "['Female' 'Female' 'Female' 'Female' 'Female' 'Male'] ... will now become: \n",
            "[0 0 0 0 0 1]\n"
          ],
          "name": "stdout"
        }
      ]
    },
    {
      "cell_type": "code",
      "metadata": {
        "id": "9vo-BBy5HUPP",
        "colab_type": "code",
        "outputId": "0e9f6bdb-1b29-415d-bd39-f2bd3b362b2b",
        "colab": {
          "base_uri": "https://localhost:8080/",
          "height": 105
        }
      },
      "source": [
        "# The Problem here is that we are treating the countries as one variable with ordinal values (0 < 1 < 2). \n",
        "# Therefore, one way to get rid of that problem is to split the countries into respective dimensions.\n",
        "# Gender does not need this as it is binary\n",
        "\n",
        "# Converting the string features into their own dimensions. Gender doesn't matter here because its binary\n",
        "#countryhotencoder = OneHotEncoder(categories = [1]) # 1 is the country column\n",
        "countryhotencoder = ColumnTransformer([(\"countries\", OneHotEncoder(), [1])], remainder=\"passthrough\")\n",
        "X = countryhotencoder.fit_transform(X)\n",
        "#X = countryhotencoder.fit_transform(X).toarray()"
      ],
      "execution_count": 15,
      "outputs": [
        {
          "output_type": "stream",
          "text": [
            "/usr/local/lib/python3.6/dist-packages/sklearn/preprocessing/_encoders.py:415: FutureWarning: The handling of integer data will change in version 0.22. Currently, the categories are determined based on the range [0, max(values)], while in the future they will be determined based on the unique values.\n",
            "If you want the future behaviour and silence this warning, you can specify \"categories='auto'\".\n",
            "In case you used a LabelEncoder before this OneHotEncoder to convert the categories to integers, then you can now use the OneHotEncoder directly.\n",
            "  warnings.warn(msg, FutureWarning)\n"
          ],
          "name": "stderr"
        }
      ]
    },
    {
      "cell_type": "markdown",
      "metadata": {
        "id": "lzXpCx42YEuD",
        "colab_type": "text"
      },
      "source": [
        "## George's Challenge\n",
        "What's the problem of using LabelEncoder to create ordinal values?"
      ]
    },
    {
      "cell_type": "markdown",
      "metadata": {
        "id": "ykZM8U5xdnQb",
        "colab_type": "text"
      },
      "source": [
        "## George's Bonus\n",
        "- What is ColumnTransformer? What does it do?\n",
        "- https://machinelearningmastery.com/columntransformer-for-numerical-and-categorical-data/\n",
        "- https://jorisvandenbossche.github.io/blog/2018/05/28/scikit-learn-columntransformer/"
      ]
    },
    {
      "cell_type": "code",
      "metadata": {
        "id": "RwYnvT59HUPT",
        "colab_type": "code",
        "outputId": "e080ada7-aaef-4a82-98eb-3c4dfca8ce9b",
        "colab": {
          "base_uri": "https://localhost:8080/",
          "height": 34
        }
      },
      "source": [
        "X.shape"
      ],
      "execution_count": 16,
      "outputs": [
        {
          "output_type": "execute_result",
          "data": {
            "text/plain": [
              "(10000, 12)"
            ]
          },
          "metadata": {
            "tags": []
          },
          "execution_count": 16
        }
      ]
    },
    {
      "cell_type": "code",
      "metadata": {
        "id": "KDvpBBbDHUPX",
        "colab_type": "code",
        "outputId": "cd91ca81-da6e-4297-d0ad-d9c3cc9daaa9",
        "colab": {
          "base_uri": "https://localhost:8080/",
          "height": 136
        }
      },
      "source": [
        "X"
      ],
      "execution_count": 17,
      "outputs": [
        {
          "output_type": "execute_result",
          "data": {
            "text/plain": [
              "array([[1.0, 0.0, 0.0, ..., 1, 1, 101348.88],\n",
              "       [0.0, 0.0, 1.0, ..., 0, 1, 112542.58],\n",
              "       [1.0, 0.0, 0.0, ..., 1, 0, 113931.57],\n",
              "       ...,\n",
              "       [1.0, 0.0, 0.0, ..., 0, 1, 42085.58],\n",
              "       [0.0, 1.0, 0.0, ..., 1, 0, 92888.52],\n",
              "       [1.0, 0.0, 0.0, ..., 1, 0, 38190.78]], dtype=object)"
            ]
          },
          "metadata": {
            "tags": []
          },
          "execution_count": 17
        }
      ]
    },
    {
      "cell_type": "code",
      "metadata": {
        "id": "td8t2NpPHUPe",
        "colab_type": "code",
        "colab": {}
      },
      "source": [
        "# A 0 on two countries means that the country has to be the one variable which wasn't included \n",
        "# This will save us from the problem of using too many dimensions\n",
        "X = X[:,1:] # Got rid of Spain as a dimension."
      ],
      "execution_count": 0,
      "outputs": []
    },
    {
      "cell_type": "markdown",
      "metadata": {
        "id": "sPQbHSwukqz7",
        "colab_type": "text"
      },
      "source": [
        "## George's Tip\n",
        "Use `drop='first'`"
      ]
    },
    {
      "cell_type": "code",
      "metadata": {
        "id": "FDaeh7fbiAt8",
        "colab_type": "code",
        "outputId": "f46018a2-170c-42ac-ddfe-533da8e0b5fa",
        "colab": {
          "base_uri": "https://localhost:8080/",
          "height": 85
        }
      },
      "source": [
        "from sklearn.preprocessing import OneHotEncoder\n",
        "enc = OneHotEncoder()\n",
        "enc.fit_transform([['a'], ['b'], ['c'], ['a']]).toarray()"
      ],
      "execution_count": 19,
      "outputs": [
        {
          "output_type": "execute_result",
          "data": {
            "text/plain": [
              "array([[1., 0., 0.],\n",
              "       [0., 1., 0.],\n",
              "       [0., 0., 1.],\n",
              "       [1., 0., 0.]])"
            ]
          },
          "metadata": {
            "tags": []
          },
          "execution_count": 19
        }
      ]
    },
    {
      "cell_type": "code",
      "metadata": {
        "id": "oRmD5Lmcgi3K",
        "colab_type": "code",
        "outputId": "0bebe7ee-b2c8-426a-dc03-709f26ec416b",
        "colab": {
          "base_uri": "https://localhost:8080/",
          "height": 85
        }
      },
      "source": [
        "enc = OneHotEncoder(drop='first')\n",
        "enc.fit_transform([['a'], ['b'], ['c'], ['a']]).toarray()"
      ],
      "execution_count": 20,
      "outputs": [
        {
          "output_type": "execute_result",
          "data": {
            "text/plain": [
              "array([[0., 0.],\n",
              "       [1., 0.],\n",
              "       [0., 1.],\n",
              "       [0., 0.]])"
            ]
          },
          "metadata": {
            "tags": []
          },
          "execution_count": 20
        }
      ]
    },
    {
      "cell_type": "markdown",
      "metadata": {
        "id": "wyFlF8iBHUPk",
        "colab_type": "text"
      },
      "source": [
        "#### Divide the data set into Train and test sets"
      ]
    },
    {
      "cell_type": "code",
      "metadata": {
        "id": "0YvyE1kXHUPl",
        "colab_type": "code",
        "colab": {}
      },
      "source": [
        "# Splitting the dataset into the Training and Testing set.\n",
        "\n",
        "X_train, X_test, y_train, y_test = train_test_split(X,y, test_size = 0.2, random_state = 0)"
      ],
      "execution_count": 0,
      "outputs": []
    },
    {
      "cell_type": "code",
      "metadata": {
        "id": "Asvef0KoFQvy",
        "colab_type": "code",
        "colab": {
          "base_uri": "https://localhost:8080/",
          "height": 68
        },
        "outputId": "0a463109-c775-4dfa-9c6f-0daf3ab6a64d"
      },
      "source": [
        "ds.Exited.value_counts(normalize=True)"
      ],
      "execution_count": 23,
      "outputs": [
        {
          "output_type": "execute_result",
          "data": {
            "text/plain": [
              "0    0.7963\n",
              "1    0.2037\n",
              "Name: Exited, dtype: float64"
            ]
          },
          "metadata": {
            "tags": []
          },
          "execution_count": 23
        }
      ]
    },
    {
      "cell_type": "markdown",
      "metadata": {
        "id": "oHqjbI9qTmcd",
        "colab_type": "text"
      },
      "source": [
        "## George's Tip\n",
        "If data is imbalanced, remember to use the `stratify` parameter to preserve the pattern."
      ]
    },
    {
      "cell_type": "markdown",
      "metadata": {
        "id": "qlSyq5fNHUPp",
        "colab_type": "text"
      },
      "source": [
        "#### Normalize the train and test data"
      ]
    },
    {
      "cell_type": "code",
      "metadata": {
        "id": "SEcfWvfrHUPr",
        "colab_type": "code",
        "colab": {}
      },
      "source": [
        "# Feature Scaling\n",
        "from sklearn.preprocessing import StandardScaler\n",
        "sc=StandardScaler()\n",
        "X_train = sc.fit_transform(X_train)\n",
        "X_test = sc.transform(X_test)"
      ],
      "execution_count": 0,
      "outputs": []
    },
    {
      "cell_type": "markdown",
      "metadata": {
        "id": "L46QuzUfkujr",
        "colab_type": "text"
      },
      "source": [
        "## George's Tip\n",
        "Don't confuse yourself!\n",
        "- standardize\n",
        "- normalize"
      ]
    },
    {
      "cell_type": "markdown",
      "metadata": {
        "id": "m-_JBupNHUPw",
        "colab_type": "text"
      },
      "source": [
        "#### Initialize & build the model"
      ]
    },
    {
      "cell_type": "code",
      "metadata": {
        "id": "aexcSjTuHUPx",
        "colab_type": "code",
        "colab": {}
      },
      "source": [
        "# Initializing the ANN\n",
        "classifier = Sequential()"
      ],
      "execution_count": 0,
      "outputs": []
    },
    {
      "cell_type": "code",
      "metadata": {
        "id": "bsCe9B-QHUP9",
        "colab_type": "code",
        "colab": {}
      },
      "source": [
        "# The amount of nodes (dimensions) in hidden layer should be the average of input and output layers, in this case 6.\n",
        "# This adds the input layer (by specifying input dimension) AND the first hidden layer (units)\n",
        "classifier.add(Dense(activation = 'relu', input_dim = 11, units=6, kernel_initializer='uniform'))"
      ],
      "execution_count": 0,
      "outputs": []
    },
    {
      "cell_type": "markdown",
      "metadata": {
        "id": "GcCDB5lVl3hh",
        "colab_type": "text"
      },
      "source": [
        "## George's Challenge\n",
        "What does `input_dim` represent here?"
      ]
    },
    {
      "cell_type": "code",
      "metadata": {
        "id": "_Diwju_BHUQK",
        "colab_type": "code",
        "colab": {}
      },
      "source": [
        "#Add 1st hidden layer\n",
        "classifier.add(Dense(6, activation='sigmoid', kernel_initializer='uniform'))"
      ],
      "execution_count": 0,
      "outputs": []
    },
    {
      "cell_type": "code",
      "metadata": {
        "id": "pKtHXQExHUQO",
        "colab_type": "code",
        "colab": {}
      },
      "source": [
        "# Adding the output layer\n",
        "# Notice that we do not need to specify input dim. \n",
        "# we have an output of 1 node, which is the the desired dimensions of our output (stay with the bank or not)\n",
        "# We use the sigmoid because we want probability outcomes\n",
        "classifier.add(Dense(1, activation = 'sigmoid', kernel_initializer='uniform')) "
      ],
      "execution_count": 0,
      "outputs": []
    },
    {
      "cell_type": "code",
      "metadata": {
        "id": "BNP3DiCLHUQR",
        "colab_type": "code",
        "colab": {}
      },
      "source": [
        "# Create optimizer with default learning rate\n",
        "# Compile the model\n",
        "classifier.compile(optimizer='SGD', loss='mse', metrics=['accuracy'])"
      ],
      "execution_count": 0,
      "outputs": []
    },
    {
      "cell_type": "code",
      "metadata": {
        "id": "U1ZM6oGVHUQX",
        "colab_type": "code",
        "outputId": "373dbb39-67fc-4367-925e-2fe462a8323f",
        "colab": {
          "base_uri": "https://localhost:8080/",
          "height": 255
        }
      },
      "source": [
        "classifier.summary()"
      ],
      "execution_count": 30,
      "outputs": [
        {
          "output_type": "stream",
          "text": [
            "Model: \"sequential\"\n",
            "_________________________________________________________________\n",
            "Layer (type)                 Output Shape              Param #   \n",
            "=================================================================\n",
            "dense (Dense)                (None, 6)                 72        \n",
            "_________________________________________________________________\n",
            "dense_1 (Dense)              (None, 6)                 42        \n",
            "_________________________________________________________________\n",
            "dense_2 (Dense)              (None, 1)                 7         \n",
            "=================================================================\n",
            "Total params: 121\n",
            "Trainable params: 121\n",
            "Non-trainable params: 0\n",
            "_________________________________________________________________\n"
          ],
          "name": "stdout"
        }
      ]
    },
    {
      "cell_type": "markdown",
      "metadata": {
        "id": "feSnjKPtUEkU",
        "colab_type": "text"
      },
      "source": [
        "## George's Challenge\n",
        "What does `None` mean? Hint, we talked about this last time :) "
      ]
    },
    {
      "cell_type": "code",
      "metadata": {
        "id": "H5q62XKSHUQc",
        "colab_type": "code",
        "outputId": "4885f9d7-44ea-4e5c-e1f7-9dfc882896d5",
        "colab": {
          "base_uri": "https://localhost:8080/",
          "height": 1000
        }
      },
      "source": [
        "classifier.fit(\n",
        "    X_train, \n",
        "    y_train,\n",
        "    validation_data=(X_test,y_test),\n",
        "    epochs=100,\n",
        "    batch_size=32\n",
        ")"
      ],
      "execution_count": 31,
      "outputs": [
        {
          "output_type": "stream",
          "text": [
            "Epoch 1/100\n",
            "250/250 [==============================] - 1s 4ms/step - loss: 0.2057 - accuracy: 0.7960 - val_loss: 0.1816 - val_accuracy: 0.7975\n",
            "Epoch 2/100\n",
            "250/250 [==============================] - 1s 3ms/step - loss: 0.1739 - accuracy: 0.7960 - val_loss: 0.1680 - val_accuracy: 0.7975\n",
            "Epoch 3/100\n",
            "250/250 [==============================] - 1s 3ms/step - loss: 0.1664 - accuracy: 0.7960 - val_loss: 0.1640 - val_accuracy: 0.7975\n",
            "Epoch 4/100\n",
            "250/250 [==============================] - 1s 3ms/step - loss: 0.1640 - accuracy: 0.7960 - val_loss: 0.1626 - val_accuracy: 0.7975\n",
            "Epoch 5/100\n",
            "250/250 [==============================] - 1s 3ms/step - loss: 0.1631 - accuracy: 0.7960 - val_loss: 0.1620 - val_accuracy: 0.7975\n",
            "Epoch 6/100\n",
            "250/250 [==============================] - 1s 3ms/step - loss: 0.1627 - accuracy: 0.7960 - val_loss: 0.1618 - val_accuracy: 0.7975\n",
            "Epoch 7/100\n",
            "250/250 [==============================] - 1s 3ms/step - loss: 0.1626 - accuracy: 0.7960 - val_loss: 0.1616 - val_accuracy: 0.7975\n",
            "Epoch 8/100\n",
            "250/250 [==============================] - 1s 3ms/step - loss: 0.1625 - accuracy: 0.7960 - val_loss: 0.1616 - val_accuracy: 0.7975\n",
            "Epoch 9/100\n",
            "250/250 [==============================] - 1s 3ms/step - loss: 0.1624 - accuracy: 0.7960 - val_loss: 0.1616 - val_accuracy: 0.7975\n",
            "Epoch 10/100\n",
            "250/250 [==============================] - 1s 3ms/step - loss: 0.1624 - accuracy: 0.7960 - val_loss: 0.1615 - val_accuracy: 0.7975\n",
            "Epoch 11/100\n",
            "250/250 [==============================] - 1s 3ms/step - loss: 0.1624 - accuracy: 0.7960 - val_loss: 0.1615 - val_accuracy: 0.7975\n",
            "Epoch 12/100\n",
            "250/250 [==============================] - 1s 3ms/step - loss: 0.1624 - accuracy: 0.7960 - val_loss: 0.1615 - val_accuracy: 0.7975\n",
            "Epoch 13/100\n",
            "250/250 [==============================] - 1s 3ms/step - loss: 0.1624 - accuracy: 0.7960 - val_loss: 0.1615 - val_accuracy: 0.7975\n",
            "Epoch 14/100\n",
            "250/250 [==============================] - 1s 3ms/step - loss: 0.1624 - accuracy: 0.7960 - val_loss: 0.1615 - val_accuracy: 0.7975\n",
            "Epoch 15/100\n",
            "250/250 [==============================] - 1s 3ms/step - loss: 0.1624 - accuracy: 0.7960 - val_loss: 0.1615 - val_accuracy: 0.7975\n",
            "Epoch 16/100\n",
            "250/250 [==============================] - 1s 3ms/step - loss: 0.1624 - accuracy: 0.7960 - val_loss: 0.1615 - val_accuracy: 0.7975\n",
            "Epoch 17/100\n",
            "250/250 [==============================] - 1s 3ms/step - loss: 0.1624 - accuracy: 0.7960 - val_loss: 0.1615 - val_accuracy: 0.7975\n",
            "Epoch 18/100\n",
            "250/250 [==============================] - 1s 3ms/step - loss: 0.1624 - accuracy: 0.7960 - val_loss: 0.1615 - val_accuracy: 0.7975\n",
            "Epoch 19/100\n",
            "250/250 [==============================] - 1s 3ms/step - loss: 0.1624 - accuracy: 0.7960 - val_loss: 0.1615 - val_accuracy: 0.7975\n",
            "Epoch 20/100\n",
            "250/250 [==============================] - 1s 3ms/step - loss: 0.1624 - accuracy: 0.7960 - val_loss: 0.1615 - val_accuracy: 0.7975\n",
            "Epoch 21/100\n",
            "250/250 [==============================] - 1s 3ms/step - loss: 0.1624 - accuracy: 0.7960 - val_loss: 0.1615 - val_accuracy: 0.7975\n",
            "Epoch 22/100\n",
            "250/250 [==============================] - 1s 3ms/step - loss: 0.1624 - accuracy: 0.7960 - val_loss: 0.1615 - val_accuracy: 0.7975\n",
            "Epoch 23/100\n",
            "250/250 [==============================] - 1s 3ms/step - loss: 0.1624 - accuracy: 0.7960 - val_loss: 0.1615 - val_accuracy: 0.7975\n",
            "Epoch 24/100\n",
            "250/250 [==============================] - 1s 3ms/step - loss: 0.1624 - accuracy: 0.7960 - val_loss: 0.1615 - val_accuracy: 0.7975\n",
            "Epoch 25/100\n",
            "250/250 [==============================] - 1s 3ms/step - loss: 0.1624 - accuracy: 0.7960 - val_loss: 0.1615 - val_accuracy: 0.7975\n",
            "Epoch 26/100\n",
            "250/250 [==============================] - 1s 3ms/step - loss: 0.1624 - accuracy: 0.7960 - val_loss: 0.1615 - val_accuracy: 0.7975\n",
            "Epoch 27/100\n",
            "250/250 [==============================] - 1s 3ms/step - loss: 0.1624 - accuracy: 0.7960 - val_loss: 0.1615 - val_accuracy: 0.7975\n",
            "Epoch 28/100\n",
            "250/250 [==============================] - 1s 3ms/step - loss: 0.1624 - accuracy: 0.7960 - val_loss: 0.1615 - val_accuracy: 0.7975\n",
            "Epoch 29/100\n",
            "250/250 [==============================] - 1s 3ms/step - loss: 0.1624 - accuracy: 0.7960 - val_loss: 0.1615 - val_accuracy: 0.7975\n",
            "Epoch 30/100\n",
            "250/250 [==============================] - 1s 3ms/step - loss: 0.1624 - accuracy: 0.7960 - val_loss: 0.1615 - val_accuracy: 0.7975\n",
            "Epoch 31/100\n",
            "250/250 [==============================] - 1s 3ms/step - loss: 0.1624 - accuracy: 0.7960 - val_loss: 0.1615 - val_accuracy: 0.7975\n",
            "Epoch 32/100\n",
            "250/250 [==============================] - 1s 3ms/step - loss: 0.1624 - accuracy: 0.7960 - val_loss: 0.1615 - val_accuracy: 0.7975\n",
            "Epoch 33/100\n",
            "250/250 [==============================] - 1s 3ms/step - loss: 0.1624 - accuracy: 0.7960 - val_loss: 0.1615 - val_accuracy: 0.7975\n",
            "Epoch 34/100\n",
            "250/250 [==============================] - 1s 3ms/step - loss: 0.1624 - accuracy: 0.7960 - val_loss: 0.1615 - val_accuracy: 0.7975\n",
            "Epoch 35/100\n",
            "250/250 [==============================] - 1s 3ms/step - loss: 0.1624 - accuracy: 0.7960 - val_loss: 0.1615 - val_accuracy: 0.7975\n",
            "Epoch 36/100\n",
            "250/250 [==============================] - 1s 3ms/step - loss: 0.1624 - accuracy: 0.7960 - val_loss: 0.1615 - val_accuracy: 0.7975\n",
            "Epoch 37/100\n",
            "250/250 [==============================] - 1s 3ms/step - loss: 0.1624 - accuracy: 0.7960 - val_loss: 0.1615 - val_accuracy: 0.7975\n",
            "Epoch 38/100\n",
            "250/250 [==============================] - 1s 3ms/step - loss: 0.1624 - accuracy: 0.7960 - val_loss: 0.1615 - val_accuracy: 0.7975\n",
            "Epoch 39/100\n",
            "250/250 [==============================] - 1s 3ms/step - loss: 0.1624 - accuracy: 0.7960 - val_loss: 0.1615 - val_accuracy: 0.7975\n",
            "Epoch 40/100\n",
            "250/250 [==============================] - 1s 3ms/step - loss: 0.1624 - accuracy: 0.7960 - val_loss: 0.1615 - val_accuracy: 0.7975\n",
            "Epoch 41/100\n",
            "250/250 [==============================] - 1s 3ms/step - loss: 0.1624 - accuracy: 0.7960 - val_loss: 0.1615 - val_accuracy: 0.7975\n",
            "Epoch 42/100\n",
            "250/250 [==============================] - 1s 3ms/step - loss: 0.1624 - accuracy: 0.7960 - val_loss: 0.1615 - val_accuracy: 0.7975\n",
            "Epoch 43/100\n",
            "250/250 [==============================] - 1s 3ms/step - loss: 0.1624 - accuracy: 0.7960 - val_loss: 0.1615 - val_accuracy: 0.7975\n",
            "Epoch 44/100\n",
            "250/250 [==============================] - 1s 3ms/step - loss: 0.1624 - accuracy: 0.7960 - val_loss: 0.1615 - val_accuracy: 0.7975\n",
            "Epoch 45/100\n",
            "250/250 [==============================] - 1s 3ms/step - loss: 0.1624 - accuracy: 0.7960 - val_loss: 0.1615 - val_accuracy: 0.7975\n",
            "Epoch 46/100\n",
            "250/250 [==============================] - 1s 3ms/step - loss: 0.1624 - accuracy: 0.7960 - val_loss: 0.1615 - val_accuracy: 0.7975\n",
            "Epoch 47/100\n",
            "250/250 [==============================] - 1s 3ms/step - loss: 0.1624 - accuracy: 0.7960 - val_loss: 0.1615 - val_accuracy: 0.7975\n",
            "Epoch 48/100\n",
            "250/250 [==============================] - 1s 3ms/step - loss: 0.1624 - accuracy: 0.7960 - val_loss: 0.1615 - val_accuracy: 0.7975\n",
            "Epoch 49/100\n",
            "250/250 [==============================] - 1s 3ms/step - loss: 0.1624 - accuracy: 0.7960 - val_loss: 0.1615 - val_accuracy: 0.7975\n",
            "Epoch 50/100\n",
            "250/250 [==============================] - 1s 3ms/step - loss: 0.1624 - accuracy: 0.7960 - val_loss: 0.1615 - val_accuracy: 0.7975\n",
            "Epoch 51/100\n",
            "250/250 [==============================] - 1s 3ms/step - loss: 0.1624 - accuracy: 0.7960 - val_loss: 0.1615 - val_accuracy: 0.7975\n",
            "Epoch 52/100\n",
            "250/250 [==============================] - 1s 3ms/step - loss: 0.1624 - accuracy: 0.7960 - val_loss: 0.1615 - val_accuracy: 0.7975\n",
            "Epoch 53/100\n",
            "250/250 [==============================] - 1s 3ms/step - loss: 0.1624 - accuracy: 0.7960 - val_loss: 0.1615 - val_accuracy: 0.7975\n",
            "Epoch 54/100\n",
            "250/250 [==============================] - 1s 3ms/step - loss: 0.1624 - accuracy: 0.7960 - val_loss: 0.1615 - val_accuracy: 0.7975\n",
            "Epoch 55/100\n",
            "250/250 [==============================] - 1s 3ms/step - loss: 0.1624 - accuracy: 0.7960 - val_loss: 0.1615 - val_accuracy: 0.7975\n",
            "Epoch 56/100\n",
            "250/250 [==============================] - 1s 3ms/step - loss: 0.1624 - accuracy: 0.7960 - val_loss: 0.1615 - val_accuracy: 0.7975\n",
            "Epoch 57/100\n",
            "250/250 [==============================] - 1s 3ms/step - loss: 0.1623 - accuracy: 0.7960 - val_loss: 0.1615 - val_accuracy: 0.7975\n",
            "Epoch 58/100\n",
            "250/250 [==============================] - 1s 3ms/step - loss: 0.1623 - accuracy: 0.7960 - val_loss: 0.1615 - val_accuracy: 0.7975\n",
            "Epoch 59/100\n",
            "250/250 [==============================] - 1s 3ms/step - loss: 0.1623 - accuracy: 0.7960 - val_loss: 0.1615 - val_accuracy: 0.7975\n",
            "Epoch 60/100\n",
            "250/250 [==============================] - 1s 3ms/step - loss: 0.1623 - accuracy: 0.7960 - val_loss: 0.1614 - val_accuracy: 0.7975\n",
            "Epoch 61/100\n",
            "250/250 [==============================] - 1s 3ms/step - loss: 0.1623 - accuracy: 0.7960 - val_loss: 0.1614 - val_accuracy: 0.7975\n",
            "Epoch 62/100\n",
            "250/250 [==============================] - 1s 3ms/step - loss: 0.1623 - accuracy: 0.7960 - val_loss: 0.1614 - val_accuracy: 0.7975\n",
            "Epoch 63/100\n",
            "250/250 [==============================] - 1s 3ms/step - loss: 0.1623 - accuracy: 0.7960 - val_loss: 0.1614 - val_accuracy: 0.7975\n",
            "Epoch 64/100\n",
            "250/250 [==============================] - 1s 3ms/step - loss: 0.1623 - accuracy: 0.7960 - val_loss: 0.1614 - val_accuracy: 0.7975\n",
            "Epoch 65/100\n",
            "250/250 [==============================] - 1s 3ms/step - loss: 0.1623 - accuracy: 0.7960 - val_loss: 0.1614 - val_accuracy: 0.7975\n",
            "Epoch 66/100\n",
            "250/250 [==============================] - 1s 3ms/step - loss: 0.1623 - accuracy: 0.7960 - val_loss: 0.1614 - val_accuracy: 0.7975\n",
            "Epoch 67/100\n",
            "250/250 [==============================] - 1s 3ms/step - loss: 0.1623 - accuracy: 0.7960 - val_loss: 0.1614 - val_accuracy: 0.7975\n",
            "Epoch 68/100\n",
            "250/250 [==============================] - 1s 3ms/step - loss: 0.1623 - accuracy: 0.7960 - val_loss: 0.1614 - val_accuracy: 0.7975\n",
            "Epoch 69/100\n",
            "250/250 [==============================] - 1s 3ms/step - loss: 0.1623 - accuracy: 0.7960 - val_loss: 0.1614 - val_accuracy: 0.7975\n",
            "Epoch 70/100\n",
            "250/250 [==============================] - 1s 3ms/step - loss: 0.1623 - accuracy: 0.7960 - val_loss: 0.1614 - val_accuracy: 0.7975\n",
            "Epoch 71/100\n",
            "250/250 [==============================] - 1s 3ms/step - loss: 0.1623 - accuracy: 0.7960 - val_loss: 0.1614 - val_accuracy: 0.7975\n",
            "Epoch 72/100\n",
            "250/250 [==============================] - 1s 3ms/step - loss: 0.1623 - accuracy: 0.7960 - val_loss: 0.1614 - val_accuracy: 0.7975\n",
            "Epoch 73/100\n",
            "250/250 [==============================] - 1s 3ms/step - loss: 0.1623 - accuracy: 0.7960 - val_loss: 0.1614 - val_accuracy: 0.7975\n",
            "Epoch 74/100\n",
            "250/250 [==============================] - 1s 3ms/step - loss: 0.1623 - accuracy: 0.7960 - val_loss: 0.1614 - val_accuracy: 0.7975\n",
            "Epoch 75/100\n",
            "250/250 [==============================] - 1s 3ms/step - loss: 0.1623 - accuracy: 0.7960 - val_loss: 0.1614 - val_accuracy: 0.7975\n",
            "Epoch 76/100\n",
            "250/250 [==============================] - 1s 3ms/step - loss: 0.1623 - accuracy: 0.7960 - val_loss: 0.1614 - val_accuracy: 0.7975\n",
            "Epoch 77/100\n",
            "250/250 [==============================] - 1s 3ms/step - loss: 0.1623 - accuracy: 0.7960 - val_loss: 0.1614 - val_accuracy: 0.7975\n",
            "Epoch 78/100\n",
            "250/250 [==============================] - 1s 3ms/step - loss: 0.1623 - accuracy: 0.7960 - val_loss: 0.1614 - val_accuracy: 0.7975\n",
            "Epoch 79/100\n",
            "250/250 [==============================] - 1s 3ms/step - loss: 0.1623 - accuracy: 0.7960 - val_loss: 0.1614 - val_accuracy: 0.7975\n",
            "Epoch 80/100\n",
            "250/250 [==============================] - 1s 3ms/step - loss: 0.1623 - accuracy: 0.7960 - val_loss: 0.1614 - val_accuracy: 0.7975\n",
            "Epoch 81/100\n",
            "250/250 [==============================] - 1s 3ms/step - loss: 0.1623 - accuracy: 0.7960 - val_loss: 0.1614 - val_accuracy: 0.7975\n",
            "Epoch 82/100\n",
            "250/250 [==============================] - 1s 3ms/step - loss: 0.1623 - accuracy: 0.7960 - val_loss: 0.1614 - val_accuracy: 0.7975\n",
            "Epoch 83/100\n",
            "250/250 [==============================] - 1s 3ms/step - loss: 0.1623 - accuracy: 0.7960 - val_loss: 0.1614 - val_accuracy: 0.7975\n",
            "Epoch 84/100\n",
            "250/250 [==============================] - 1s 3ms/step - loss: 0.1623 - accuracy: 0.7960 - val_loss: 0.1614 - val_accuracy: 0.7975\n",
            "Epoch 85/100\n",
            "250/250 [==============================] - 1s 3ms/step - loss: 0.1623 - accuracy: 0.7960 - val_loss: 0.1614 - val_accuracy: 0.7975\n",
            "Epoch 86/100\n",
            "250/250 [==============================] - 1s 3ms/step - loss: 0.1623 - accuracy: 0.7960 - val_loss: 0.1614 - val_accuracy: 0.7975\n",
            "Epoch 87/100\n",
            "250/250 [==============================] - 1s 3ms/step - loss: 0.1623 - accuracy: 0.7960 - val_loss: 0.1614 - val_accuracy: 0.7975\n",
            "Epoch 88/100\n",
            "250/250 [==============================] - 1s 3ms/step - loss: 0.1623 - accuracy: 0.7960 - val_loss: 0.1614 - val_accuracy: 0.7975\n",
            "Epoch 89/100\n",
            "250/250 [==============================] - 1s 3ms/step - loss: 0.1623 - accuracy: 0.7960 - val_loss: 0.1614 - val_accuracy: 0.7975\n",
            "Epoch 90/100\n",
            "250/250 [==============================] - 1s 3ms/step - loss: 0.1623 - accuracy: 0.7960 - val_loss: 0.1614 - val_accuracy: 0.7975\n",
            "Epoch 91/100\n",
            "250/250 [==============================] - 1s 3ms/step - loss: 0.1623 - accuracy: 0.7960 - val_loss: 0.1614 - val_accuracy: 0.7975\n",
            "Epoch 92/100\n",
            "250/250 [==============================] - 1s 3ms/step - loss: 0.1623 - accuracy: 0.7960 - val_loss: 0.1614 - val_accuracy: 0.7975\n",
            "Epoch 93/100\n",
            "250/250 [==============================] - 1s 3ms/step - loss: 0.1623 - accuracy: 0.7960 - val_loss: 0.1614 - val_accuracy: 0.7975\n",
            "Epoch 94/100\n",
            "250/250 [==============================] - 1s 3ms/step - loss: 0.1623 - accuracy: 0.7960 - val_loss: 0.1614 - val_accuracy: 0.7975\n",
            "Epoch 95/100\n",
            "250/250 [==============================] - 1s 3ms/step - loss: 0.1623 - accuracy: 0.7960 - val_loss: 0.1614 - val_accuracy: 0.7975\n",
            "Epoch 96/100\n",
            "250/250 [==============================] - 1s 3ms/step - loss: 0.1623 - accuracy: 0.7960 - val_loss: 0.1613 - val_accuracy: 0.7975\n",
            "Epoch 97/100\n",
            "250/250 [==============================] - 1s 3ms/step - loss: 0.1622 - accuracy: 0.7960 - val_loss: 0.1613 - val_accuracy: 0.7975\n",
            "Epoch 98/100\n",
            "250/250 [==============================] - 1s 3ms/step - loss: 0.1622 - accuracy: 0.7960 - val_loss: 0.1613 - val_accuracy: 0.7975\n",
            "Epoch 99/100\n",
            "250/250 [==============================] - 1s 3ms/step - loss: 0.1622 - accuracy: 0.7960 - val_loss: 0.1613 - val_accuracy: 0.7975\n",
            "Epoch 100/100\n",
            "250/250 [==============================] - 1s 3ms/step - loss: 0.1622 - accuracy: 0.7960 - val_loss: 0.1613 - val_accuracy: 0.7975\n"
          ],
          "name": "stdout"
        },
        {
          "output_type": "execute_result",
          "data": {
            "text/plain": [
              "<tensorflow.python.keras.callbacks.History at 0x7fcaf03989b0>"
            ]
          },
          "metadata": {
            "tags": []
          },
          "execution_count": 31
        }
      ]
    },
    {
      "cell_type": "markdown",
      "metadata": {
        "id": "HMoGc6LEl_y1",
        "colab_type": "text"
      },
      "source": [
        "## George's Tip\n",
        "Indent like a pro!"
      ]
    },
    {
      "cell_type": "markdown",
      "metadata": {
        "id": "il6Kmob4HUQi",
        "colab_type": "text"
      },
      "source": [
        "#### Predict the results using 0.5 as a threshold"
      ]
    },
    {
      "cell_type": "code",
      "metadata": {
        "id": "A7-PkHlvHUQk",
        "colab_type": "code",
        "outputId": "abfdc8a5-8d0d-4d74-d927-c93fa2465ec0",
        "colab": {
          "base_uri": "https://localhost:8080/",
          "height": 136
        }
      },
      "source": [
        "y_pred = classifier.predict(X_test)\n",
        "print(y_pred)"
      ],
      "execution_count": 32,
      "outputs": [
        {
          "output_type": "stream",
          "text": [
            "[[0.20427212]\n",
            " [0.20502254]\n",
            " [0.2041394 ]\n",
            " ...\n",
            " [0.2043188 ]\n",
            " [0.20470184]\n",
            " [0.20467544]]\n"
          ],
          "name": "stdout"
        }
      ]
    },
    {
      "cell_type": "markdown",
      "metadata": {
        "id": "t-QFqooSWVns",
        "colab_type": "text"
      },
      "source": [
        "## George's Challenge\n",
        "Why does the `predict` method output decimals instead of class labels?"
      ]
    },
    {
      "cell_type": "code",
      "metadata": {
        "id": "C70m541dHUQo",
        "colab_type": "code",
        "outputId": "21505a74-fd95-4f9e-c5ec-21cfb59615b5",
        "colab": {
          "base_uri": "https://localhost:8080/",
          "height": 136
        }
      },
      "source": [
        "# To use the confusion Matrix, we need to convert the probabilities that a customer will leave the bank into the form true or false. \n",
        "# So we will use the cutoff value 0.5 to indicate whether they are likely to exit or not.\n",
        "y_pred = (y_pred > 0.5)\n",
        "print(y_pred)"
      ],
      "execution_count": 33,
      "outputs": [
        {
          "output_type": "stream",
          "text": [
            "[[False]\n",
            " [False]\n",
            " [False]\n",
            " ...\n",
            " [False]\n",
            " [False]\n",
            " [False]]\n"
          ],
          "name": "stdout"
        }
      ]
    },
    {
      "cell_type": "markdown",
      "metadata": {
        "id": "E4DXFj4LHUQr",
        "colab_type": "text"
      },
      "source": [
        "#### Print the Accuracy score and confusion matrix"
      ]
    },
    {
      "cell_type": "code",
      "metadata": {
        "id": "Mg32MO2OHUQs",
        "colab_type": "code",
        "outputId": "a53053ac-53d1-4dcf-9fb0-7b2939a59e81",
        "colab": {
          "base_uri": "https://localhost:8080/",
          "height": 51
        }
      },
      "source": [
        "cm1 = confusion_matrix(y_test, y_pred)\n",
        "print(cm1)"
      ],
      "execution_count": 34,
      "outputs": [
        {
          "output_type": "stream",
          "text": [
            "[[1595    0]\n",
            " [ 405    0]]\n"
          ],
          "name": "stdout"
        }
      ]
    },
    {
      "cell_type": "code",
      "metadata": {
        "id": "Sm9XiMdxHUQw",
        "colab_type": "code",
        "outputId": "079fc9cc-28c9-4843-aa93-809d85f5af0a",
        "colab": {
          "base_uri": "https://localhost:8080/",
          "height": 34
        }
      },
      "source": [
        "accuracy_model1 = ((cm1[0][0]+cm1[1][1])*100)/(cm1[0][0]+cm1[1][1]+cm1[0][1]+cm1[1][0])\n",
        "print (accuracy_model1, '% of testing data was classified correctly')"
      ],
      "execution_count": 35,
      "outputs": [
        {
          "output_type": "stream",
          "text": [
            "79.75 % of testing data was classified correctly\n"
          ],
          "name": "stdout"
        }
      ]
    },
    {
      "cell_type": "markdown",
      "metadata": {
        "id": "TQcytzOQWyGf",
        "colab_type": "text"
      },
      "source": [
        "## George's Challenge\n",
        "What's a better way?"
      ]
    },
    {
      "cell_type": "markdown",
      "metadata": {
        "id": "chY3sKXrHUQ0",
        "colab_type": "text"
      },
      "source": [
        "#### Optimize the model"
      ]
    },
    {
      "cell_type": "markdown",
      "metadata": {
        "id": "RH9SySidHUQ1",
        "colab_type": "text"
      },
      "source": [
        "Some important parameters to look out for while optimizing neural networks are:\n",
        "\n",
        "-Type of architecture\n",
        "\n",
        "-Number of Layers\n",
        "\n",
        "-Number of Neurons in a layer\n",
        "\n",
        "-Regularization parameters\n",
        "\n",
        "-Learning Rate\n",
        "\n",
        "-Type of optimization / backpropagation technique to use\n",
        "\n",
        "-Dropout rate\n",
        "\n",
        "-Weight sharing"
      ]
    },
    {
      "cell_type": "markdown",
      "metadata": {
        "id": "wWFZuawVHUQ3",
        "colab_type": "text"
      },
      "source": [
        "##### Number of Layers:\n",
        "We will keep it similar to the above model so that we can compare the accuracy.\n",
        "1 hidden layer.\n",
        "\n",
        "##### Activation:\n",
        "input layer: relu becasue we are in an input layer. uses the ReLu activation function for  ϕ\n",
        "output layer: sigmoid becasue we are in an output layer. uses the Sigmoid activation function for  ϕ . This is used instead of the ReLu function becasue it generates probabilities for the outcome. We want the probability that each customer leaves the bank.\n",
        "\n",
        "##### Type of optimization / backpropagation technique to use: \n",
        "We will use Adam. Adam is a very efficeint variation of Stochastic Gradient Descent. For Adam and its variant, learning rate or the decay rate does not really matter too much.\n",
        "\n",
        "##### Learning Rate:\n",
        "default learning rate 0.001.\n",
        "\n",
        "##### Number of Neurons in a layer:\n",
        "We will keep it 6 as per our initial calculation above.\n",
        "\n",
        "##### Weight sharing / kernel_initializer: \n",
        "uniform the distribution with which we randomly initialize weights for the nodes in this layer.\n",
        "\n",
        "##### Loss:\n",
        "loss: binary_crossentropy This is the loss function used within adam. This should be the logarthmic loss. If our dependent (output variable) is Binary, it is binary_crossentropy. If Categorical, then it is called categorical_crossentropy\n",
        "\n",
        "Rebuilding the model using these optimised parameters"
      ]
    },
    {
      "cell_type": "markdown",
      "metadata": {
        "id": "d_EQ8-h-Yoh8",
        "colab_type": "text"
      },
      "source": [
        "## George's Tip\n",
        "https://stats.stackexchange.com/questions/260505/should-i-use-a-categorical-cross-entropy-or-binary-cross-entropy-loss-for-binary"
      ]
    },
    {
      "cell_type": "code",
      "metadata": {
        "id": "xrWiY4uRHURB",
        "colab_type": "code",
        "colab": {}
      },
      "source": [
        "# Initializing the ANN\n",
        "Oclassifier = Sequential()\n",
        "# This adds the input layer (by specifying input dimension) AND the first hidden layer (units)\n",
        "Oclassifier.add(Dense(activation = 'relu', input_dim = 11, units=6, kernel_initializer='uniform'))"
      ],
      "execution_count": 0,
      "outputs": []
    },
    {
      "cell_type": "code",
      "metadata": {
        "id": "VRO3Pf80HURF",
        "colab_type": "code",
        "colab": {}
      },
      "source": [
        "# Adding the hidden layer\n",
        "# Notice that we do not need to specify input dim. \n",
        "Oclassifier.add(Dense(activation = 'relu', units=6, kernel_initializer='uniform')) "
      ],
      "execution_count": 0,
      "outputs": []
    },
    {
      "cell_type": "markdown",
      "metadata": {
        "id": "mhzzdbZaYxzo",
        "colab_type": "text"
      },
      "source": [
        "## George's Challenge\n",
        "Why don't we have to specify `input dim`?"
      ]
    },
    {
      "cell_type": "code",
      "metadata": {
        "id": "TtBNdW3mHURI",
        "colab_type": "code",
        "colab": {}
      },
      "source": [
        "# Adding the output layer\n",
        "# Notice that we do not need to specify input dim. \n",
        "# we have an output of 1 node, which is the the desired dimensions of our output (stay with the bank or not)\n",
        "# We use the sigmoid because we want probability outcomes\n",
        "Oclassifier.add(Dense(activation = 'sigmoid', units=1, kernel_initializer='uniform')) "
      ],
      "execution_count": 0,
      "outputs": []
    },
    {
      "cell_type": "code",
      "metadata": {
        "id": "x0p8AWY9HURM",
        "colab_type": "code",
        "colab": {}
      },
      "source": [
        "Oclassifier.compile(optimizer='adam', loss = 'binary_crossentropy', metrics=['accuracy'])"
      ],
      "execution_count": 0,
      "outputs": []
    },
    {
      "cell_type": "code",
      "metadata": {
        "id": "jc2ADej18pcg",
        "colab_type": "code",
        "outputId": "8466942f-7ceb-44d1-e0fa-58a8dd54730f",
        "colab": {
          "base_uri": "https://localhost:8080/",
          "height": 255
        }
      },
      "source": [
        "Oclassifier.summary()"
      ],
      "execution_count": 41,
      "outputs": [
        {
          "output_type": "stream",
          "text": [
            "Model: \"sequential_1\"\n",
            "_________________________________________________________________\n",
            "Layer (type)                 Output Shape              Param #   \n",
            "=================================================================\n",
            "dense_3 (Dense)              (None, 6)                 72        \n",
            "_________________________________________________________________\n",
            "dense_4 (Dense)              (None, 6)                 42        \n",
            "_________________________________________________________________\n",
            "dense_5 (Dense)              (None, 1)                 7         \n",
            "=================================================================\n",
            "Total params: 121\n",
            "Trainable params: 121\n",
            "Non-trainable params: 0\n",
            "_________________________________________________________________\n"
          ],
          "name": "stdout"
        }
      ]
    },
    {
      "cell_type": "code",
      "metadata": {
        "id": "AZMV81S5HURR",
        "colab_type": "code",
        "outputId": "227202cc-f0fa-442e-f2d9-9e469492240c",
        "colab": {
          "base_uri": "https://localhost:8080/",
          "height": 1000
        }
      },
      "source": [
        "Oclassifier.fit(X_train, y_train,           \n",
        "          validation_data=(X_test,y_test),\n",
        "          epochs=100,\n",
        "          batch_size=32)"
      ],
      "execution_count": 42,
      "outputs": [
        {
          "output_type": "stream",
          "text": [
            "Epoch 1/100\n",
            "250/250 [==============================] - 1s 4ms/step - loss: 0.5688 - accuracy: 0.7958 - val_loss: 0.4456 - val_accuracy: 0.7975\n",
            "Epoch 2/100\n",
            "250/250 [==============================] - 1s 3ms/step - loss: 0.4377 - accuracy: 0.7960 - val_loss: 0.4320 - val_accuracy: 0.7975\n",
            "Epoch 3/100\n",
            "250/250 [==============================] - 1s 3ms/step - loss: 0.4307 - accuracy: 0.7960 - val_loss: 0.4287 - val_accuracy: 0.7975\n",
            "Epoch 4/100\n",
            "250/250 [==============================] - 1s 3ms/step - loss: 0.4276 - accuracy: 0.7960 - val_loss: 0.4261 - val_accuracy: 0.7975\n",
            "Epoch 5/100\n",
            "250/250 [==============================] - 1s 3ms/step - loss: 0.4248 - accuracy: 0.7960 - val_loss: 0.4225 - val_accuracy: 0.7975\n",
            "Epoch 6/100\n",
            "250/250 [==============================] - 1s 3ms/step - loss: 0.4217 - accuracy: 0.7960 - val_loss: 0.4190 - val_accuracy: 0.7975\n",
            "Epoch 7/100\n",
            "250/250 [==============================] - 1s 3ms/step - loss: 0.4200 - accuracy: 0.8111 - val_loss: 0.4168 - val_accuracy: 0.8185\n",
            "Epoch 8/100\n",
            "250/250 [==============================] - 1s 3ms/step - loss: 0.4190 - accuracy: 0.8191 - val_loss: 0.4158 - val_accuracy: 0.8265\n",
            "Epoch 9/100\n",
            "250/250 [==============================] - 1s 3ms/step - loss: 0.4175 - accuracy: 0.8226 - val_loss: 0.4149 - val_accuracy: 0.8290\n",
            "Epoch 10/100\n",
            "250/250 [==============================] - 1s 3ms/step - loss: 0.4160 - accuracy: 0.8246 - val_loss: 0.4129 - val_accuracy: 0.8280\n",
            "Epoch 11/100\n",
            "250/250 [==============================] - 1s 3ms/step - loss: 0.4153 - accuracy: 0.8276 - val_loss: 0.4132 - val_accuracy: 0.8330\n",
            "Epoch 12/100\n",
            "250/250 [==============================] - 1s 3ms/step - loss: 0.4144 - accuracy: 0.8282 - val_loss: 0.4113 - val_accuracy: 0.8340\n",
            "Epoch 13/100\n",
            "250/250 [==============================] - 1s 3ms/step - loss: 0.4136 - accuracy: 0.8307 - val_loss: 0.4099 - val_accuracy: 0.8345\n",
            "Epoch 14/100\n",
            "250/250 [==============================] - 1s 3ms/step - loss: 0.4127 - accuracy: 0.8295 - val_loss: 0.4098 - val_accuracy: 0.8360\n",
            "Epoch 15/100\n",
            "250/250 [==============================] - 1s 3ms/step - loss: 0.4118 - accuracy: 0.8307 - val_loss: 0.4094 - val_accuracy: 0.8375\n",
            "Epoch 16/100\n",
            "250/250 [==============================] - 1s 3ms/step - loss: 0.4114 - accuracy: 0.8321 - val_loss: 0.4081 - val_accuracy: 0.8380\n",
            "Epoch 17/100\n",
            "250/250 [==============================] - 1s 3ms/step - loss: 0.4106 - accuracy: 0.8316 - val_loss: 0.4082 - val_accuracy: 0.8395\n",
            "Epoch 18/100\n",
            "250/250 [==============================] - 1s 3ms/step - loss: 0.4099 - accuracy: 0.8329 - val_loss: 0.4071 - val_accuracy: 0.8375\n",
            "Epoch 19/100\n",
            "250/250 [==============================] - 1s 3ms/step - loss: 0.4094 - accuracy: 0.8346 - val_loss: 0.4073 - val_accuracy: 0.8395\n",
            "Epoch 20/100\n",
            "250/250 [==============================] - 1s 3ms/step - loss: 0.4085 - accuracy: 0.8321 - val_loss: 0.4064 - val_accuracy: 0.8405\n",
            "Epoch 21/100\n",
            "250/250 [==============================] - 1s 3ms/step - loss: 0.4079 - accuracy: 0.8326 - val_loss: 0.4051 - val_accuracy: 0.8370\n",
            "Epoch 22/100\n",
            "250/250 [==============================] - 1s 3ms/step - loss: 0.4074 - accuracy: 0.8319 - val_loss: 0.4065 - val_accuracy: 0.8400\n",
            "Epoch 23/100\n",
            "250/250 [==============================] - 1s 3ms/step - loss: 0.4070 - accuracy: 0.8334 - val_loss: 0.4050 - val_accuracy: 0.8380\n",
            "Epoch 24/100\n",
            "250/250 [==============================] - 1s 3ms/step - loss: 0.4065 - accuracy: 0.8331 - val_loss: 0.4042 - val_accuracy: 0.8405\n",
            "Epoch 25/100\n",
            "250/250 [==============================] - 1s 3ms/step - loss: 0.4066 - accuracy: 0.8345 - val_loss: 0.4035 - val_accuracy: 0.8395\n",
            "Epoch 26/100\n",
            "250/250 [==============================] - 1s 3ms/step - loss: 0.4058 - accuracy: 0.8330 - val_loss: 0.4034 - val_accuracy: 0.8400\n",
            "Epoch 27/100\n",
            "250/250 [==============================] - 1s 3ms/step - loss: 0.4051 - accuracy: 0.8331 - val_loss: 0.4029 - val_accuracy: 0.8400\n",
            "Epoch 28/100\n",
            "250/250 [==============================] - 1s 3ms/step - loss: 0.4048 - accuracy: 0.8331 - val_loss: 0.4014 - val_accuracy: 0.8405\n",
            "Epoch 29/100\n",
            "250/250 [==============================] - 1s 3ms/step - loss: 0.4034 - accuracy: 0.8336 - val_loss: 0.4021 - val_accuracy: 0.8405\n",
            "Epoch 30/100\n",
            "250/250 [==============================] - 1s 3ms/step - loss: 0.4029 - accuracy: 0.8330 - val_loss: 0.3983 - val_accuracy: 0.8370\n",
            "Epoch 31/100\n",
            "250/250 [==============================] - 1s 3ms/step - loss: 0.4018 - accuracy: 0.8344 - val_loss: 0.3989 - val_accuracy: 0.8415\n",
            "Epoch 32/100\n",
            "250/250 [==============================] - 1s 4ms/step - loss: 0.4013 - accuracy: 0.8361 - val_loss: 0.3980 - val_accuracy: 0.8435\n",
            "Epoch 33/100\n",
            "250/250 [==============================] - 1s 4ms/step - loss: 0.4006 - accuracy: 0.8339 - val_loss: 0.3962 - val_accuracy: 0.8380\n",
            "Epoch 34/100\n",
            "250/250 [==============================] - 1s 3ms/step - loss: 0.3998 - accuracy: 0.8350 - val_loss: 0.3966 - val_accuracy: 0.8385\n",
            "Epoch 35/100\n",
            "250/250 [==============================] - 1s 4ms/step - loss: 0.3996 - accuracy: 0.8346 - val_loss: 0.3951 - val_accuracy: 0.8395\n",
            "Epoch 36/100\n",
            "250/250 [==============================] - 1s 3ms/step - loss: 0.3991 - accuracy: 0.8353 - val_loss: 0.3958 - val_accuracy: 0.8375\n",
            "Epoch 37/100\n",
            "250/250 [==============================] - 1s 4ms/step - loss: 0.3986 - accuracy: 0.8369 - val_loss: 0.3951 - val_accuracy: 0.8400\n",
            "Epoch 38/100\n",
            "250/250 [==============================] - 1s 4ms/step - loss: 0.3983 - accuracy: 0.8339 - val_loss: 0.3952 - val_accuracy: 0.8375\n",
            "Epoch 39/100\n",
            "250/250 [==============================] - 1s 4ms/step - loss: 0.3977 - accuracy: 0.8344 - val_loss: 0.3939 - val_accuracy: 0.8425\n",
            "Epoch 40/100\n",
            "250/250 [==============================] - 1s 4ms/step - loss: 0.3975 - accuracy: 0.8346 - val_loss: 0.3946 - val_accuracy: 0.8390\n",
            "Epoch 41/100\n",
            "250/250 [==============================] - 1s 4ms/step - loss: 0.3977 - accuracy: 0.8336 - val_loss: 0.3943 - val_accuracy: 0.8375\n",
            "Epoch 42/100\n",
            "250/250 [==============================] - 1s 3ms/step - loss: 0.3969 - accuracy: 0.8365 - val_loss: 0.3944 - val_accuracy: 0.8390\n",
            "Epoch 43/100\n",
            "250/250 [==============================] - 1s 3ms/step - loss: 0.3964 - accuracy: 0.8353 - val_loss: 0.3947 - val_accuracy: 0.8420\n",
            "Epoch 44/100\n",
            "250/250 [==============================] - 1s 3ms/step - loss: 0.3964 - accuracy: 0.8346 - val_loss: 0.3954 - val_accuracy: 0.8445\n",
            "Epoch 45/100\n",
            "250/250 [==============================] - 1s 3ms/step - loss: 0.3962 - accuracy: 0.8365 - val_loss: 0.3945 - val_accuracy: 0.8390\n",
            "Epoch 46/100\n",
            "250/250 [==============================] - 1s 3ms/step - loss: 0.3957 - accuracy: 0.8354 - val_loss: 0.3950 - val_accuracy: 0.8420\n",
            "Epoch 47/100\n",
            "250/250 [==============================] - 1s 3ms/step - loss: 0.3954 - accuracy: 0.8364 - val_loss: 0.3955 - val_accuracy: 0.8415\n",
            "Epoch 48/100\n",
            "250/250 [==============================] - 1s 3ms/step - loss: 0.3954 - accuracy: 0.8350 - val_loss: 0.3950 - val_accuracy: 0.8440\n",
            "Epoch 49/100\n",
            "250/250 [==============================] - 1s 3ms/step - loss: 0.3957 - accuracy: 0.8353 - val_loss: 0.3935 - val_accuracy: 0.8410\n",
            "Epoch 50/100\n",
            "250/250 [==============================] - 1s 3ms/step - loss: 0.3952 - accuracy: 0.8356 - val_loss: 0.3925 - val_accuracy: 0.8395\n",
            "Epoch 51/100\n",
            "250/250 [==============================] - 1s 3ms/step - loss: 0.3951 - accuracy: 0.8364 - val_loss: 0.3930 - val_accuracy: 0.8420\n",
            "Epoch 52/100\n",
            "250/250 [==============================] - 1s 3ms/step - loss: 0.3949 - accuracy: 0.8345 - val_loss: 0.3955 - val_accuracy: 0.8435\n",
            "Epoch 53/100\n",
            "250/250 [==============================] - 1s 3ms/step - loss: 0.3947 - accuracy: 0.8370 - val_loss: 0.3950 - val_accuracy: 0.8425\n",
            "Epoch 54/100\n",
            "250/250 [==============================] - 1s 3ms/step - loss: 0.3947 - accuracy: 0.8356 - val_loss: 0.3931 - val_accuracy: 0.8415\n",
            "Epoch 55/100\n",
            "250/250 [==============================] - 1s 3ms/step - loss: 0.3943 - accuracy: 0.8366 - val_loss: 0.3940 - val_accuracy: 0.8430\n",
            "Epoch 56/100\n",
            "250/250 [==============================] - 1s 3ms/step - loss: 0.3943 - accuracy: 0.8346 - val_loss: 0.3947 - val_accuracy: 0.8415\n",
            "Epoch 57/100\n",
            "250/250 [==============================] - 1s 3ms/step - loss: 0.3950 - accuracy: 0.8361 - val_loss: 0.3973 - val_accuracy: 0.8455\n",
            "Epoch 58/100\n",
            "250/250 [==============================] - 1s 3ms/step - loss: 0.3939 - accuracy: 0.8356 - val_loss: 0.3947 - val_accuracy: 0.8445\n",
            "Epoch 59/100\n",
            "250/250 [==============================] - 1s 3ms/step - loss: 0.3940 - accuracy: 0.8359 - val_loss: 0.3941 - val_accuracy: 0.8405\n",
            "Epoch 60/100\n",
            "250/250 [==============================] - 1s 3ms/step - loss: 0.3941 - accuracy: 0.8356 - val_loss: 0.3947 - val_accuracy: 0.8420\n",
            "Epoch 61/100\n",
            "250/250 [==============================] - 1s 3ms/step - loss: 0.3940 - accuracy: 0.8365 - val_loss: 0.3936 - val_accuracy: 0.8410\n",
            "Epoch 62/100\n",
            "250/250 [==============================] - 1s 3ms/step - loss: 0.3936 - accuracy: 0.8372 - val_loss: 0.3938 - val_accuracy: 0.8440\n",
            "Epoch 63/100\n",
            "250/250 [==============================] - 1s 3ms/step - loss: 0.3939 - accuracy: 0.8370 - val_loss: 0.3942 - val_accuracy: 0.8430\n",
            "Epoch 64/100\n",
            "250/250 [==============================] - 1s 3ms/step - loss: 0.3931 - accuracy: 0.8353 - val_loss: 0.3944 - val_accuracy: 0.8420\n",
            "Epoch 65/100\n",
            "250/250 [==============================] - 1s 3ms/step - loss: 0.3938 - accuracy: 0.8354 - val_loss: 0.3938 - val_accuracy: 0.8425\n",
            "Epoch 66/100\n",
            "250/250 [==============================] - 1s 3ms/step - loss: 0.3932 - accuracy: 0.8366 - val_loss: 0.3948 - val_accuracy: 0.8425\n",
            "Epoch 67/100\n",
            "250/250 [==============================] - 1s 3ms/step - loss: 0.3932 - accuracy: 0.8349 - val_loss: 0.3943 - val_accuracy: 0.8420\n",
            "Epoch 68/100\n",
            "250/250 [==============================] - 1s 3ms/step - loss: 0.3933 - accuracy: 0.8367 - val_loss: 0.3935 - val_accuracy: 0.8435\n",
            "Epoch 69/100\n",
            "250/250 [==============================] - 1s 3ms/step - loss: 0.3930 - accuracy: 0.8360 - val_loss: 0.3947 - val_accuracy: 0.8420\n",
            "Epoch 70/100\n",
            "250/250 [==============================] - 1s 3ms/step - loss: 0.3931 - accuracy: 0.8345 - val_loss: 0.3949 - val_accuracy: 0.8445\n",
            "Epoch 71/100\n",
            "250/250 [==============================] - 1s 3ms/step - loss: 0.3930 - accuracy: 0.8360 - val_loss: 0.3946 - val_accuracy: 0.8440\n",
            "Epoch 72/100\n",
            "250/250 [==============================] - 1s 3ms/step - loss: 0.3928 - accuracy: 0.8363 - val_loss: 0.3953 - val_accuracy: 0.8455\n",
            "Epoch 73/100\n",
            "250/250 [==============================] - 1s 3ms/step - loss: 0.3931 - accuracy: 0.8361 - val_loss: 0.3948 - val_accuracy: 0.8430\n",
            "Epoch 74/100\n",
            "250/250 [==============================] - 1s 3ms/step - loss: 0.3930 - accuracy: 0.8372 - val_loss: 0.3950 - val_accuracy: 0.8435\n",
            "Epoch 75/100\n",
            "250/250 [==============================] - 1s 3ms/step - loss: 0.3929 - accuracy: 0.8364 - val_loss: 0.3966 - val_accuracy: 0.8445\n",
            "Epoch 76/100\n",
            "250/250 [==============================] - 1s 3ms/step - loss: 0.3925 - accuracy: 0.8369 - val_loss: 0.3946 - val_accuracy: 0.8430\n",
            "Epoch 77/100\n",
            "250/250 [==============================] - 1s 3ms/step - loss: 0.3923 - accuracy: 0.8370 - val_loss: 0.3947 - val_accuracy: 0.8425\n",
            "Epoch 78/100\n",
            "250/250 [==============================] - 1s 3ms/step - loss: 0.3927 - accuracy: 0.8376 - val_loss: 0.3932 - val_accuracy: 0.8435\n",
            "Epoch 79/100\n",
            "250/250 [==============================] - 1s 3ms/step - loss: 0.3926 - accuracy: 0.8366 - val_loss: 0.3934 - val_accuracy: 0.8425\n",
            "Epoch 80/100\n",
            "250/250 [==============================] - 1s 3ms/step - loss: 0.3927 - accuracy: 0.8370 - val_loss: 0.3951 - val_accuracy: 0.8445\n",
            "Epoch 81/100\n",
            "250/250 [==============================] - 1s 3ms/step - loss: 0.3922 - accuracy: 0.8366 - val_loss: 0.3958 - val_accuracy: 0.8450\n",
            "Epoch 82/100\n",
            "250/250 [==============================] - 1s 3ms/step - loss: 0.3923 - accuracy: 0.8366 - val_loss: 0.3957 - val_accuracy: 0.8450\n",
            "Epoch 83/100\n",
            "250/250 [==============================] - 1s 3ms/step - loss: 0.3925 - accuracy: 0.8389 - val_loss: 0.3979 - val_accuracy: 0.8440\n",
            "Epoch 84/100\n",
            "250/250 [==============================] - 1s 3ms/step - loss: 0.3923 - accuracy: 0.8363 - val_loss: 0.3958 - val_accuracy: 0.8455\n",
            "Epoch 85/100\n",
            "250/250 [==============================] - 1s 3ms/step - loss: 0.3925 - accuracy: 0.8366 - val_loss: 0.3946 - val_accuracy: 0.8435\n",
            "Epoch 86/100\n",
            "250/250 [==============================] - 1s 3ms/step - loss: 0.3921 - accuracy: 0.8374 - val_loss: 0.3938 - val_accuracy: 0.8395\n",
            "Epoch 87/100\n",
            "250/250 [==============================] - 1s 3ms/step - loss: 0.3922 - accuracy: 0.8363 - val_loss: 0.3959 - val_accuracy: 0.8465\n",
            "Epoch 88/100\n",
            "250/250 [==============================] - 1s 3ms/step - loss: 0.3921 - accuracy: 0.8357 - val_loss: 0.3945 - val_accuracy: 0.8435\n",
            "Epoch 89/100\n",
            "250/250 [==============================] - 1s 3ms/step - loss: 0.3924 - accuracy: 0.8374 - val_loss: 0.3947 - val_accuracy: 0.8430\n",
            "Epoch 90/100\n",
            "250/250 [==============================] - 1s 3ms/step - loss: 0.3926 - accuracy: 0.8369 - val_loss: 0.3958 - val_accuracy: 0.8440\n",
            "Epoch 91/100\n",
            "250/250 [==============================] - 1s 3ms/step - loss: 0.3922 - accuracy: 0.8370 - val_loss: 0.3954 - val_accuracy: 0.8440\n",
            "Epoch 92/100\n",
            "250/250 [==============================] - 1s 3ms/step - loss: 0.3923 - accuracy: 0.8367 - val_loss: 0.3952 - val_accuracy: 0.8425\n",
            "Epoch 93/100\n",
            "250/250 [==============================] - 1s 3ms/step - loss: 0.3920 - accuracy: 0.8380 - val_loss: 0.3948 - val_accuracy: 0.8435\n",
            "Epoch 94/100\n",
            "250/250 [==============================] - 1s 3ms/step - loss: 0.3924 - accuracy: 0.8371 - val_loss: 0.3963 - val_accuracy: 0.8460\n",
            "Epoch 95/100\n",
            "250/250 [==============================] - 1s 3ms/step - loss: 0.3919 - accuracy: 0.8367 - val_loss: 0.3974 - val_accuracy: 0.8465\n",
            "Epoch 96/100\n",
            "250/250 [==============================] - 1s 3ms/step - loss: 0.3922 - accuracy: 0.8381 - val_loss: 0.3966 - val_accuracy: 0.8455\n",
            "Epoch 97/100\n",
            "250/250 [==============================] - 1s 3ms/step - loss: 0.3919 - accuracy: 0.8353 - val_loss: 0.3976 - val_accuracy: 0.8455\n",
            "Epoch 98/100\n",
            "250/250 [==============================] - 1s 3ms/step - loss: 0.3922 - accuracy: 0.8369 - val_loss: 0.3961 - val_accuracy: 0.8450\n",
            "Epoch 99/100\n",
            "250/250 [==============================] - 1s 3ms/step - loss: 0.3920 - accuracy: 0.8380 - val_loss: 0.3976 - val_accuracy: 0.8475\n",
            "Epoch 100/100\n",
            "250/250 [==============================] - 1s 3ms/step - loss: 0.3923 - accuracy: 0.8378 - val_loss: 0.3957 - val_accuracy: 0.8440\n"
          ],
          "name": "stdout"
        },
        {
          "output_type": "execute_result",
          "data": {
            "text/plain": [
              "<tensorflow.python.keras.callbacks.History at 0x7fcaf013dd68>"
            ]
          },
          "metadata": {
            "tags": []
          },
          "execution_count": 42
        }
      ]
    },
    {
      "cell_type": "markdown",
      "metadata": {
        "id": "ptZLKhZ0HURX",
        "colab_type": "text"
      },
      "source": [
        "#### Predict the results using 0.5 as a threshold"
      ]
    },
    {
      "cell_type": "code",
      "metadata": {
        "id": "GttaoUVkHURZ",
        "colab_type": "code",
        "outputId": "71ba39b5-9b07-497a-a3ec-670a47a59a98",
        "colab": {
          "base_uri": "https://localhost:8080/",
          "height": 136
        }
      },
      "source": [
        "y_pred = Oclassifier.predict(X_test)\n",
        "print(y_pred)"
      ],
      "execution_count": 43,
      "outputs": [
        {
          "output_type": "stream",
          "text": [
            "[[0.2265449 ]\n",
            " [0.37242636]\n",
            " [0.18577732]\n",
            " ...\n",
            " [0.20016901]\n",
            " [0.12504056]\n",
            " [0.14754216]]\n"
          ],
          "name": "stdout"
        }
      ]
    },
    {
      "cell_type": "code",
      "metadata": {
        "id": "nPwZePRlHURf",
        "colab_type": "code",
        "outputId": "b439e0a8-6ccc-4072-a8f3-93d7e84b48e1",
        "colab": {
          "base_uri": "https://localhost:8080/",
          "height": 136
        }
      },
      "source": [
        "# To use the confusion Matrix, we need to convert the probabilities that a customer will leave the bank into the form true or false. \n",
        "# So we will use the cutoff value 0.5 to indicate whether they are likely to exit or not.\n",
        "y_pred = (y_pred > 0.5)\n",
        "print(y_pred)"
      ],
      "execution_count": 44,
      "outputs": [
        {
          "output_type": "stream",
          "text": [
            "[[False]\n",
            " [False]\n",
            " [False]\n",
            " ...\n",
            " [False]\n",
            " [False]\n",
            " [False]]\n"
          ],
          "name": "stdout"
        }
      ]
    },
    {
      "cell_type": "markdown",
      "metadata": {
        "id": "APzf2XxgHURk",
        "colab_type": "text"
      },
      "source": [
        "#### Print the Accuracy score and confusion matrix"
      ]
    },
    {
      "cell_type": "code",
      "metadata": {
        "id": "8kC2hKKdHURm",
        "colab_type": "code",
        "outputId": "19fbb60a-404d-4498-b698-a7ae693fe27e",
        "colab": {
          "base_uri": "https://localhost:8080/",
          "height": 51
        }
      },
      "source": [
        "cm2 = confusion_matrix(y_test, y_pred)\n",
        "print(cm2)"
      ],
      "execution_count": 45,
      "outputs": [
        {
          "output_type": "stream",
          "text": [
            "[[1541   54]\n",
            " [ 258  147]]\n"
          ],
          "name": "stdout"
        }
      ]
    },
    {
      "cell_type": "code",
      "metadata": {
        "id": "KE3qpaFuHURp",
        "colab_type": "code",
        "outputId": "901533c5-29df-4ccb-edad-8224cc59a300",
        "colab": {
          "base_uri": "https://localhost:8080/",
          "height": 34
        }
      },
      "source": [
        "accuracy_model2 = ((cm2[0][0]+cm2[1][1])*100)/(cm2[0][0]+cm2[1][1]+cm2[0][1]+cm2[1][0])\n",
        "print (accuracy_model2, '% of testing data was classified correctly')"
      ],
      "execution_count": 46,
      "outputs": [
        {
          "output_type": "stream",
          "text": [
            "84.4 % of testing data was classified correctly\n"
          ],
          "name": "stdout"
        }
      ]
    },
    {
      "cell_type": "markdown",
      "metadata": {
        "id": "kbRxXISJHURt",
        "colab_type": "text"
      },
      "source": [
        "#### The optimised model gives better results as seen from the confusion matrix as well as improved accuracy.\n",
        "\n",
        "\n",
        "We encourage the learners to further look for optimizing the model and come up with better results.\n",
        "\n",
        "#### Happy Learning!"
      ]
    },
    {
      "cell_type": "markdown",
      "metadata": {
        "id": "BlnTdMqHSjJc",
        "colab_type": "text"
      },
      "source": [
        "# George's Bonus $$$\n",
        "- DL and ML's use cases\n",
        "- DL model tuning with sklearn"
      ]
    },
    {
      "cell_type": "code",
      "metadata": {
        "id": "1Kjd2oWSLKGP",
        "colab_type": "code",
        "outputId": "93ec3ba3-9be0-4ffe-cc23-f97751905171",
        "colab": {
          "base_uri": "https://localhost:8080/",
          "height": 1000
        }
      },
      "source": [
        "# Tune the DL model\n",
        "import numpy as np\n",
        "from tensorflow.keras.wrappers.scikit_learn import KerasClassifier\n",
        "from sklearn.model_selection import RandomizedSearchCV\n",
        "\n",
        "def create_model(\n",
        "    input_units=6, \n",
        "    hidden_units=6, \n",
        "    optimizer='adam', \n",
        "    init='uniform'\n",
        "):\n",
        "  model = Sequential()\n",
        "  model.add(Dense(\n",
        "      activation='relu', \n",
        "      input_dim=11, \n",
        "      units=input_units, \n",
        "      kernel_initializer=init\n",
        "      ))\n",
        "  model.add(Dense(\n",
        "      activation='relu', \n",
        "      units=hidden_units, \n",
        "      kernel_initializer=init\n",
        "      )) \n",
        "  model.add(Dense(\n",
        "      activation='sigmoid', \n",
        "      units=1, \n",
        "      kernel_initializer=init\n",
        "      )) \n",
        "  model.compile(\n",
        "      optimizer=optimizer, \n",
        "      loss='binary_crossentropy', \n",
        "      metrics=['accuracy']\n",
        "      )\n",
        "  return model\n",
        "\n",
        "model = KerasClassifier(build_fn=create_model, verbose=0)\n",
        "\n",
        "input_units = np.arange(2, 30)\n",
        "hidden_units = np.arange(2, 30)\n",
        "optimizer = ['rmsprop', 'adam']\n",
        "init = ['glorot_uniform', 'normal', 'uniform']\n",
        "epochs = np.arange(10, 150, 10)\n",
        "batch_size = [32, 64, 128, 256]\n",
        "\n",
        "param_grid = dict(\n",
        "    input_units=input_units,\n",
        "    hidden_units=hidden_units, \n",
        "    optimizer=optimizer, \n",
        "    init=init,\n",
        "    epochs=epochs,\n",
        "    batch_size=batch_size\n",
        ")\n",
        "gs = RandomizedSearchCV(\n",
        "    estimator=model, \n",
        "    param_distributions=param_grid, \n",
        "    n_iter=60,\n",
        "    random_state=seed,\n",
        "    verbose=2\n",
        "  )\n",
        "gs.fit(X_train, y_train)"
      ],
      "execution_count": 42,
      "outputs": [
        {
          "output_type": "stream",
          "text": [
            "Fitting 5 folds for each of 60 candidates, totalling 300 fits\n",
            "[CV] optimizer=adam, input_units=5, init=uniform, hidden_units=22, epochs=20, batch_size=128 \n"
          ],
          "name": "stdout"
        },
        {
          "output_type": "stream",
          "text": [
            "[Parallel(n_jobs=1)]: Using backend SequentialBackend with 1 concurrent workers.\n"
          ],
          "name": "stderr"
        },
        {
          "output_type": "stream",
          "text": [
            "[CV]  optimizer=adam, input_units=5, init=uniform, hidden_units=22, epochs=20, batch_size=128, total=   1.7s\n",
            "[CV] optimizer=adam, input_units=5, init=uniform, hidden_units=22, epochs=20, batch_size=128 \n"
          ],
          "name": "stdout"
        },
        {
          "output_type": "stream",
          "text": [
            "[Parallel(n_jobs=1)]: Done   1 out of   1 | elapsed:    1.7s remaining:    0.0s\n"
          ],
          "name": "stderr"
        },
        {
          "output_type": "stream",
          "text": [
            "[CV]  optimizer=adam, input_units=5, init=uniform, hidden_units=22, epochs=20, batch_size=128, total=   1.7s\n",
            "[CV] optimizer=adam, input_units=5, init=uniform, hidden_units=22, epochs=20, batch_size=128 \n",
            "[CV]  optimizer=adam, input_units=5, init=uniform, hidden_units=22, epochs=20, batch_size=128, total=   1.6s\n",
            "[CV] optimizer=adam, input_units=5, init=uniform, hidden_units=22, epochs=20, batch_size=128 \n",
            "[CV]  optimizer=adam, input_units=5, init=uniform, hidden_units=22, epochs=20, batch_size=128, total=   1.7s\n",
            "[CV] optimizer=adam, input_units=5, init=uniform, hidden_units=22, epochs=20, batch_size=128 \n",
            "[CV]  optimizer=adam, input_units=5, init=uniform, hidden_units=22, epochs=20, batch_size=128, total=   1.6s\n",
            "[CV] optimizer=adam, input_units=23, init=glorot_uniform, hidden_units=19, epochs=20, batch_size=128 \n",
            "[CV]  optimizer=adam, input_units=23, init=glorot_uniform, hidden_units=19, epochs=20, batch_size=128, total=   2.0s\n",
            "[CV] optimizer=adam, input_units=23, init=glorot_uniform, hidden_units=19, epochs=20, batch_size=128 \n",
            "[CV]  optimizer=adam, input_units=23, init=glorot_uniform, hidden_units=19, epochs=20, batch_size=128, total=   1.7s\n",
            "[CV] optimizer=adam, input_units=23, init=glorot_uniform, hidden_units=19, epochs=20, batch_size=128 \n",
            "[CV]  optimizer=adam, input_units=23, init=glorot_uniform, hidden_units=19, epochs=20, batch_size=128, total=   1.7s\n",
            "[CV] optimizer=adam, input_units=23, init=glorot_uniform, hidden_units=19, epochs=20, batch_size=128 \n",
            "[CV]  optimizer=adam, input_units=23, init=glorot_uniform, hidden_units=19, epochs=20, batch_size=128, total=   1.7s\n",
            "[CV] optimizer=adam, input_units=23, init=glorot_uniform, hidden_units=19, epochs=20, batch_size=128 \n",
            "[CV]  optimizer=adam, input_units=23, init=glorot_uniform, hidden_units=19, epochs=20, batch_size=128, total=   1.7s\n",
            "[CV] optimizer=rmsprop, input_units=19, init=normal, hidden_units=10, epochs=140, batch_size=32 \n",
            "[CV]  optimizer=rmsprop, input_units=19, init=normal, hidden_units=10, epochs=140, batch_size=32, total=  39.7s\n",
            "[CV] optimizer=rmsprop, input_units=19, init=normal, hidden_units=10, epochs=140, batch_size=32 \n",
            "[CV]  optimizer=rmsprop, input_units=19, init=normal, hidden_units=10, epochs=140, batch_size=32, total=  39.8s\n",
            "[CV] optimizer=rmsprop, input_units=19, init=normal, hidden_units=10, epochs=140, batch_size=32 \n",
            "[CV]  optimizer=rmsprop, input_units=19, init=normal, hidden_units=10, epochs=140, batch_size=32, total=  39.2s\n",
            "[CV] optimizer=rmsprop, input_units=19, init=normal, hidden_units=10, epochs=140, batch_size=32 \n",
            "[CV]  optimizer=rmsprop, input_units=19, init=normal, hidden_units=10, epochs=140, batch_size=32, total=  38.7s\n",
            "[CV] optimizer=rmsprop, input_units=19, init=normal, hidden_units=10, epochs=140, batch_size=32 \n",
            "[CV]  optimizer=rmsprop, input_units=19, init=normal, hidden_units=10, epochs=140, batch_size=32, total=  38.6s\n",
            "[CV] optimizer=adam, input_units=13, init=glorot_uniform, hidden_units=29, epochs=10, batch_size=128 \n",
            "[CV]  optimizer=adam, input_units=13, init=glorot_uniform, hidden_units=29, epochs=10, batch_size=128, total=   1.0s\n",
            "[CV] optimizer=adam, input_units=13, init=glorot_uniform, hidden_units=29, epochs=10, batch_size=128 \n",
            "[CV]  optimizer=adam, input_units=13, init=glorot_uniform, hidden_units=29, epochs=10, batch_size=128, total=   1.0s\n",
            "[CV] optimizer=adam, input_units=13, init=glorot_uniform, hidden_units=29, epochs=10, batch_size=128 \n",
            "[CV]  optimizer=adam, input_units=13, init=glorot_uniform, hidden_units=29, epochs=10, batch_size=128, total=   1.0s\n",
            "[CV] optimizer=adam, input_units=13, init=glorot_uniform, hidden_units=29, epochs=10, batch_size=128 \n",
            "[CV]  optimizer=adam, input_units=13, init=glorot_uniform, hidden_units=29, epochs=10, batch_size=128, total=   1.0s\n",
            "[CV] optimizer=adam, input_units=13, init=glorot_uniform, hidden_units=29, epochs=10, batch_size=128 \n",
            "[CV]  optimizer=adam, input_units=13, init=glorot_uniform, hidden_units=29, epochs=10, batch_size=128, total=   1.5s\n",
            "[CV] optimizer=rmsprop, input_units=3, init=normal, hidden_units=18, epochs=120, batch_size=128 \n",
            "[CV]  optimizer=rmsprop, input_units=3, init=normal, hidden_units=18, epochs=120, batch_size=128, total=   9.0s\n",
            "[CV] optimizer=rmsprop, input_units=3, init=normal, hidden_units=18, epochs=120, batch_size=128 \n",
            "[CV]  optimizer=rmsprop, input_units=3, init=normal, hidden_units=18, epochs=120, batch_size=128, total=   9.0s\n",
            "[CV] optimizer=rmsprop, input_units=3, init=normal, hidden_units=18, epochs=120, batch_size=128 \n",
            "[CV]  optimizer=rmsprop, input_units=3, init=normal, hidden_units=18, epochs=120, batch_size=128, total=   9.0s\n",
            "[CV] optimizer=rmsprop, input_units=3, init=normal, hidden_units=18, epochs=120, batch_size=128 \n",
            "[CV]  optimizer=rmsprop, input_units=3, init=normal, hidden_units=18, epochs=120, batch_size=128, total=   9.1s\n",
            "[CV] optimizer=rmsprop, input_units=3, init=normal, hidden_units=18, epochs=120, batch_size=128 \n",
            "[CV]  optimizer=rmsprop, input_units=3, init=normal, hidden_units=18, epochs=120, batch_size=128, total=   9.1s\n",
            "[CV] optimizer=adam, input_units=27, init=glorot_uniform, hidden_units=6, epochs=60, batch_size=128 \n",
            "[CV]  optimizer=adam, input_units=27, init=glorot_uniform, hidden_units=6, epochs=60, batch_size=128, total=   4.0s\n",
            "[CV] optimizer=adam, input_units=27, init=glorot_uniform, hidden_units=6, epochs=60, batch_size=128 \n",
            "[CV]  optimizer=adam, input_units=27, init=glorot_uniform, hidden_units=6, epochs=60, batch_size=128, total=   4.0s\n",
            "[CV] optimizer=adam, input_units=27, init=glorot_uniform, hidden_units=6, epochs=60, batch_size=128 \n",
            "[CV]  optimizer=adam, input_units=27, init=glorot_uniform, hidden_units=6, epochs=60, batch_size=128, total=   4.0s\n",
            "[CV] optimizer=adam, input_units=27, init=glorot_uniform, hidden_units=6, epochs=60, batch_size=128 \n",
            "[CV]  optimizer=adam, input_units=27, init=glorot_uniform, hidden_units=6, epochs=60, batch_size=128, total=   4.0s\n",
            "[CV] optimizer=adam, input_units=27, init=glorot_uniform, hidden_units=6, epochs=60, batch_size=128 \n",
            "[CV]  optimizer=adam, input_units=27, init=glorot_uniform, hidden_units=6, epochs=60, batch_size=128, total=   4.0s\n",
            "[CV] optimizer=adam, input_units=20, init=normal, hidden_units=28, epochs=20, batch_size=32 \n",
            "[CV]  optimizer=adam, input_units=20, init=normal, hidden_units=28, epochs=20, batch_size=32, total=   5.0s\n",
            "[CV] optimizer=adam, input_units=20, init=normal, hidden_units=28, epochs=20, batch_size=32 \n",
            "[CV]  optimizer=adam, input_units=20, init=normal, hidden_units=28, epochs=20, batch_size=32, total=   5.0s\n",
            "[CV] optimizer=adam, input_units=20, init=normal, hidden_units=28, epochs=20, batch_size=32 \n",
            "[CV]  optimizer=adam, input_units=20, init=normal, hidden_units=28, epochs=20, batch_size=32, total=   5.0s\n",
            "[CV] optimizer=adam, input_units=20, init=normal, hidden_units=28, epochs=20, batch_size=32 \n",
            "[CV]  optimizer=adam, input_units=20, init=normal, hidden_units=28, epochs=20, batch_size=32, total=   5.0s\n",
            "[CV] optimizer=adam, input_units=20, init=normal, hidden_units=28, epochs=20, batch_size=32 \n",
            "[CV]  optimizer=adam, input_units=20, init=normal, hidden_units=28, epochs=20, batch_size=32, total=   5.0s\n",
            "[CV] optimizer=adam, input_units=9, init=glorot_uniform, hidden_units=5, epochs=80, batch_size=128 \n",
            "[CV]  optimizer=adam, input_units=9, init=glorot_uniform, hidden_units=5, epochs=80, batch_size=128, total=   5.4s\n",
            "[CV] optimizer=adam, input_units=9, init=glorot_uniform, hidden_units=5, epochs=80, batch_size=128 \n",
            "[CV]  optimizer=adam, input_units=9, init=glorot_uniform, hidden_units=5, epochs=80, batch_size=128, total=   5.1s\n",
            "[CV] optimizer=adam, input_units=9, init=glorot_uniform, hidden_units=5, epochs=80, batch_size=128 \n",
            "[CV]  optimizer=adam, input_units=9, init=glorot_uniform, hidden_units=5, epochs=80, batch_size=128, total=   5.1s\n",
            "[CV] optimizer=adam, input_units=9, init=glorot_uniform, hidden_units=5, epochs=80, batch_size=128 \n",
            "[CV]  optimizer=adam, input_units=9, init=glorot_uniform, hidden_units=5, epochs=80, batch_size=128, total=   5.2s\n",
            "[CV] optimizer=adam, input_units=9, init=glorot_uniform, hidden_units=5, epochs=80, batch_size=128 \n",
            "[CV]  optimizer=adam, input_units=9, init=glorot_uniform, hidden_units=5, epochs=80, batch_size=128, total=   5.1s\n",
            "[CV] optimizer=adam, input_units=20, init=uniform, hidden_units=9, epochs=20, batch_size=32 \n",
            "[CV]  optimizer=adam, input_units=20, init=uniform, hidden_units=9, epochs=20, batch_size=32, total=   5.1s\n",
            "[CV] optimizer=adam, input_units=20, init=uniform, hidden_units=9, epochs=20, batch_size=32 \n",
            "[CV]  optimizer=adam, input_units=20, init=uniform, hidden_units=9, epochs=20, batch_size=32, total=   5.0s\n",
            "[CV] optimizer=adam, input_units=20, init=uniform, hidden_units=9, epochs=20, batch_size=32 \n",
            "[CV]  optimizer=adam, input_units=20, init=uniform, hidden_units=9, epochs=20, batch_size=32, total=   5.0s\n",
            "[CV] optimizer=adam, input_units=20, init=uniform, hidden_units=9, epochs=20, batch_size=32 \n",
            "[CV]  optimizer=adam, input_units=20, init=uniform, hidden_units=9, epochs=20, batch_size=32, total=   5.0s\n",
            "[CV] optimizer=adam, input_units=20, init=uniform, hidden_units=9, epochs=20, batch_size=32 \n",
            "[CV]  optimizer=adam, input_units=20, init=uniform, hidden_units=9, epochs=20, batch_size=32, total=   5.1s\n",
            "[CV] optimizer=adam, input_units=8, init=uniform, hidden_units=18, epochs=20, batch_size=128 \n",
            "[CV]  optimizer=adam, input_units=8, init=uniform, hidden_units=18, epochs=20, batch_size=128, total=   1.6s\n",
            "[CV] optimizer=adam, input_units=8, init=uniform, hidden_units=18, epochs=20, batch_size=128 \n",
            "[CV]  optimizer=adam, input_units=8, init=uniform, hidden_units=18, epochs=20, batch_size=128, total=   1.6s\n",
            "[CV] optimizer=adam, input_units=8, init=uniform, hidden_units=18, epochs=20, batch_size=128 \n",
            "[CV]  optimizer=adam, input_units=8, init=uniform, hidden_units=18, epochs=20, batch_size=128, total=   1.6s\n",
            "[CV] optimizer=adam, input_units=8, init=uniform, hidden_units=18, epochs=20, batch_size=128 \n",
            "[CV]  optimizer=adam, input_units=8, init=uniform, hidden_units=18, epochs=20, batch_size=128, total=   1.6s\n",
            "[CV] optimizer=adam, input_units=8, init=uniform, hidden_units=18, epochs=20, batch_size=128 \n",
            "[CV]  optimizer=adam, input_units=8, init=uniform, hidden_units=18, epochs=20, batch_size=128, total=   1.6s\n",
            "[CV] optimizer=adam, input_units=15, init=normal, hidden_units=5, epochs=110, batch_size=64 \n",
            "[CV]  optimizer=adam, input_units=15, init=normal, hidden_units=5, epochs=110, batch_size=64, total=  13.0s\n",
            "[CV] optimizer=adam, input_units=15, init=normal, hidden_units=5, epochs=110, batch_size=64 \n",
            "[CV]  optimizer=adam, input_units=15, init=normal, hidden_units=5, epochs=110, batch_size=64, total=  13.8s\n",
            "[CV] optimizer=adam, input_units=15, init=normal, hidden_units=5, epochs=110, batch_size=64 \n",
            "[CV]  optimizer=adam, input_units=15, init=normal, hidden_units=5, epochs=110, batch_size=64, total=  12.9s\n",
            "[CV] optimizer=adam, input_units=15, init=normal, hidden_units=5, epochs=110, batch_size=64 \n",
            "[CV]  optimizer=adam, input_units=15, init=normal, hidden_units=5, epochs=110, batch_size=64, total=  13.1s\n",
            "[CV] optimizer=adam, input_units=15, init=normal, hidden_units=5, epochs=110, batch_size=64 \n",
            "[CV]  optimizer=adam, input_units=15, init=normal, hidden_units=5, epochs=110, batch_size=64, total=  12.9s\n",
            "[CV] optimizer=rmsprop, input_units=17, init=uniform, hidden_units=25, epochs=70, batch_size=32 \n",
            "[CV]  optimizer=rmsprop, input_units=17, init=uniform, hidden_units=25, epochs=70, batch_size=32, total=  19.7s\n",
            "[CV] optimizer=rmsprop, input_units=17, init=uniform, hidden_units=25, epochs=70, batch_size=32 \n",
            "[CV]  optimizer=rmsprop, input_units=17, init=uniform, hidden_units=25, epochs=70, batch_size=32, total=  19.3s\n",
            "[CV] optimizer=rmsprop, input_units=17, init=uniform, hidden_units=25, epochs=70, batch_size=32 \n",
            "[CV]  optimizer=rmsprop, input_units=17, init=uniform, hidden_units=25, epochs=70, batch_size=32, total=  19.3s\n",
            "[CV] optimizer=rmsprop, input_units=17, init=uniform, hidden_units=25, epochs=70, batch_size=32 \n",
            "[CV]  optimizer=rmsprop, input_units=17, init=uniform, hidden_units=25, epochs=70, batch_size=32, total=  19.5s\n",
            "[CV] optimizer=rmsprop, input_units=17, init=uniform, hidden_units=25, epochs=70, batch_size=32 \n",
            "[CV]  optimizer=rmsprop, input_units=17, init=uniform, hidden_units=25, epochs=70, batch_size=32, total=  19.3s\n",
            "[CV] optimizer=adam, input_units=13, init=glorot_uniform, hidden_units=9, epochs=30, batch_size=64 \n",
            "[CV]  optimizer=adam, input_units=13, init=glorot_uniform, hidden_units=9, epochs=30, batch_size=64, total=   3.8s\n",
            "[CV] optimizer=adam, input_units=13, init=glorot_uniform, hidden_units=9, epochs=30, batch_size=64 \n",
            "[CV]  optimizer=adam, input_units=13, init=glorot_uniform, hidden_units=9, epochs=30, batch_size=64, total=   3.8s\n",
            "[CV] optimizer=adam, input_units=13, init=glorot_uniform, hidden_units=9, epochs=30, batch_size=64 \n",
            "[CV]  optimizer=adam, input_units=13, init=glorot_uniform, hidden_units=9, epochs=30, batch_size=64, total=   3.8s\n",
            "[CV] optimizer=adam, input_units=13, init=glorot_uniform, hidden_units=9, epochs=30, batch_size=64 \n",
            "[CV]  optimizer=adam, input_units=13, init=glorot_uniform, hidden_units=9, epochs=30, batch_size=64, total=   3.8s\n",
            "[CV] optimizer=adam, input_units=13, init=glorot_uniform, hidden_units=9, epochs=30, batch_size=64 \n",
            "[CV]  optimizer=adam, input_units=13, init=glorot_uniform, hidden_units=9, epochs=30, batch_size=64, total=   3.8s\n",
            "[CV] optimizer=adam, input_units=9, init=normal, hidden_units=9, epochs=110, batch_size=32 \n",
            "[CV]  optimizer=adam, input_units=9, init=normal, hidden_units=9, epochs=110, batch_size=32, total=  24.9s\n",
            "[CV] optimizer=adam, input_units=9, init=normal, hidden_units=9, epochs=110, batch_size=32 \n",
            "[CV]  optimizer=adam, input_units=9, init=normal, hidden_units=9, epochs=110, batch_size=32, total=  24.7s\n",
            "[CV] optimizer=adam, input_units=9, init=normal, hidden_units=9, epochs=110, batch_size=32 \n",
            "[CV]  optimizer=adam, input_units=9, init=normal, hidden_units=9, epochs=110, batch_size=32, total=  25.7s\n",
            "[CV] optimizer=adam, input_units=9, init=normal, hidden_units=9, epochs=110, batch_size=32 \n",
            "[CV]  optimizer=adam, input_units=9, init=normal, hidden_units=9, epochs=110, batch_size=32, total=  25.0s\n",
            "[CV] optimizer=adam, input_units=9, init=normal, hidden_units=9, epochs=110, batch_size=32 \n",
            "[CV]  optimizer=adam, input_units=9, init=normal, hidden_units=9, epochs=110, batch_size=32, total=  25.5s\n",
            "[CV] optimizer=rmsprop, input_units=3, init=uniform, hidden_units=29, epochs=100, batch_size=256 \n",
            "[CV]  optimizer=rmsprop, input_units=3, init=uniform, hidden_units=29, epochs=100, batch_size=256, total=   4.1s\n",
            "[CV] optimizer=rmsprop, input_units=3, init=uniform, hidden_units=29, epochs=100, batch_size=256 \n",
            "[CV]  optimizer=rmsprop, input_units=3, init=uniform, hidden_units=29, epochs=100, batch_size=256, total=   4.1s\n",
            "[CV] optimizer=rmsprop, input_units=3, init=uniform, hidden_units=29, epochs=100, batch_size=256 \n",
            "[CV]  optimizer=rmsprop, input_units=3, init=uniform, hidden_units=29, epochs=100, batch_size=256, total=   4.1s\n",
            "[CV] optimizer=rmsprop, input_units=3, init=uniform, hidden_units=29, epochs=100, batch_size=256 \n",
            "[CV]  optimizer=rmsprop, input_units=3, init=uniform, hidden_units=29, epochs=100, batch_size=256, total=   4.3s\n",
            "[CV] optimizer=rmsprop, input_units=3, init=uniform, hidden_units=29, epochs=100, batch_size=256 \n",
            "[CV]  optimizer=rmsprop, input_units=3, init=uniform, hidden_units=29, epochs=100, batch_size=256, total=   4.4s\n",
            "[CV] optimizer=rmsprop, input_units=26, init=glorot_uniform, hidden_units=20, epochs=100, batch_size=256 \n",
            "[CV]  optimizer=rmsprop, input_units=26, init=glorot_uniform, hidden_units=20, epochs=100, batch_size=256, total=   4.2s\n",
            "[CV] optimizer=rmsprop, input_units=26, init=glorot_uniform, hidden_units=20, epochs=100, batch_size=256 \n",
            "[CV]  optimizer=rmsprop, input_units=26, init=glorot_uniform, hidden_units=20, epochs=100, batch_size=256, total=   4.1s\n",
            "[CV] optimizer=rmsprop, input_units=26, init=glorot_uniform, hidden_units=20, epochs=100, batch_size=256 \n",
            "[CV]  optimizer=rmsprop, input_units=26, init=glorot_uniform, hidden_units=20, epochs=100, batch_size=256, total=   4.1s\n",
            "[CV] optimizer=rmsprop, input_units=26, init=glorot_uniform, hidden_units=20, epochs=100, batch_size=256 \n",
            "[CV]  optimizer=rmsprop, input_units=26, init=glorot_uniform, hidden_units=20, epochs=100, batch_size=256, total=   4.1s\n",
            "[CV] optimizer=rmsprop, input_units=26, init=glorot_uniform, hidden_units=20, epochs=100, batch_size=256 \n",
            "[CV]  optimizer=rmsprop, input_units=26, init=glorot_uniform, hidden_units=20, epochs=100, batch_size=256, total=   4.1s\n",
            "[CV] optimizer=rmsprop, input_units=11, init=uniform, hidden_units=20, epochs=10, batch_size=128 \n",
            "[CV]  optimizer=rmsprop, input_units=11, init=uniform, hidden_units=20, epochs=10, batch_size=128, total=   1.2s\n",
            "[CV] optimizer=rmsprop, input_units=11, init=uniform, hidden_units=20, epochs=10, batch_size=128 \n",
            "[CV]  optimizer=rmsprop, input_units=11, init=uniform, hidden_units=20, epochs=10, batch_size=128, total=   1.6s\n",
            "[CV] optimizer=rmsprop, input_units=11, init=uniform, hidden_units=20, epochs=10, batch_size=128 \n",
            "[CV]  optimizer=rmsprop, input_units=11, init=uniform, hidden_units=20, epochs=10, batch_size=128, total=   1.3s\n",
            "[CV] optimizer=rmsprop, input_units=11, init=uniform, hidden_units=20, epochs=10, batch_size=128 \n",
            "[CV]  optimizer=rmsprop, input_units=11, init=uniform, hidden_units=20, epochs=10, batch_size=128, total=   1.2s\n",
            "[CV] optimizer=rmsprop, input_units=11, init=uniform, hidden_units=20, epochs=10, batch_size=128 \n",
            "[CV]  optimizer=rmsprop, input_units=11, init=uniform, hidden_units=20, epochs=10, batch_size=128, total=   1.2s\n",
            "[CV] optimizer=rmsprop, input_units=9, init=normal, hidden_units=26, epochs=110, batch_size=64 \n",
            "[CV]  optimizer=rmsprop, input_units=9, init=normal, hidden_units=26, epochs=110, batch_size=64, total=  15.6s\n",
            "[CV] optimizer=rmsprop, input_units=9, init=normal, hidden_units=26, epochs=110, batch_size=64 \n",
            "[CV]  optimizer=rmsprop, input_units=9, init=normal, hidden_units=26, epochs=110, batch_size=64, total=  15.5s\n",
            "[CV] optimizer=rmsprop, input_units=9, init=normal, hidden_units=26, epochs=110, batch_size=64 \n",
            "[CV]  optimizer=rmsprop, input_units=9, init=normal, hidden_units=26, epochs=110, batch_size=64, total=  15.5s\n",
            "[CV] optimizer=rmsprop, input_units=9, init=normal, hidden_units=26, epochs=110, batch_size=64 \n",
            "[CV]  optimizer=rmsprop, input_units=9, init=normal, hidden_units=26, epochs=110, batch_size=64, total=  15.5s\n",
            "[CV] optimizer=rmsprop, input_units=9, init=normal, hidden_units=26, epochs=110, batch_size=64 \n",
            "[CV]  optimizer=rmsprop, input_units=9, init=normal, hidden_units=26, epochs=110, batch_size=64, total=  15.3s\n",
            "[CV] optimizer=rmsprop, input_units=18, init=glorot_uniform, hidden_units=26, epochs=70, batch_size=32 \n",
            "[CV]  optimizer=rmsprop, input_units=18, init=glorot_uniform, hidden_units=26, epochs=70, batch_size=32, total=  19.5s\n",
            "[CV] optimizer=rmsprop, input_units=18, init=glorot_uniform, hidden_units=26, epochs=70, batch_size=32 \n",
            "[CV]  optimizer=rmsprop, input_units=18, init=glorot_uniform, hidden_units=26, epochs=70, batch_size=32, total=  19.4s\n",
            "[CV] optimizer=rmsprop, input_units=18, init=glorot_uniform, hidden_units=26, epochs=70, batch_size=32 \n",
            "[CV]  optimizer=rmsprop, input_units=18, init=glorot_uniform, hidden_units=26, epochs=70, batch_size=32, total=  19.5s\n",
            "[CV] optimizer=rmsprop, input_units=18, init=glorot_uniform, hidden_units=26, epochs=70, batch_size=32 \n",
            "[CV]  optimizer=rmsprop, input_units=18, init=glorot_uniform, hidden_units=26, epochs=70, batch_size=32, total=  19.6s\n",
            "[CV] optimizer=rmsprop, input_units=18, init=glorot_uniform, hidden_units=26, epochs=70, batch_size=32 \n",
            "[CV]  optimizer=rmsprop, input_units=18, init=glorot_uniform, hidden_units=26, epochs=70, batch_size=32, total=  19.4s\n",
            "[CV] optimizer=adam, input_units=7, init=uniform, hidden_units=18, epochs=10, batch_size=256 \n",
            "[CV]  optimizer=adam, input_units=7, init=uniform, hidden_units=18, epochs=10, batch_size=256, total=   0.8s\n",
            "[CV] optimizer=adam, input_units=7, init=uniform, hidden_units=18, epochs=10, batch_size=256 \n",
            "[CV]  optimizer=adam, input_units=7, init=uniform, hidden_units=18, epochs=10, batch_size=256, total=   1.2s\n",
            "[CV] optimizer=adam, input_units=7, init=uniform, hidden_units=18, epochs=10, batch_size=256 \n",
            "[CV]  optimizer=adam, input_units=7, init=uniform, hidden_units=18, epochs=10, batch_size=256, total=   0.8s\n",
            "[CV] optimizer=adam, input_units=7, init=uniform, hidden_units=18, epochs=10, batch_size=256 \n",
            "[CV]  optimizer=adam, input_units=7, init=uniform, hidden_units=18, epochs=10, batch_size=256, total=   0.8s\n",
            "[CV] optimizer=adam, input_units=7, init=uniform, hidden_units=18, epochs=10, batch_size=256 \n",
            "[CV]  optimizer=adam, input_units=7, init=uniform, hidden_units=18, epochs=10, batch_size=256, total=   0.8s\n",
            "[CV] optimizer=rmsprop, input_units=14, init=uniform, hidden_units=24, epochs=10, batch_size=256 \n",
            "[CV]  optimizer=rmsprop, input_units=14, init=uniform, hidden_units=24, epochs=10, batch_size=256, total=   0.9s\n",
            "[CV] optimizer=rmsprop, input_units=14, init=uniform, hidden_units=24, epochs=10, batch_size=256 \n",
            "[CV]  optimizer=rmsprop, input_units=14, init=uniform, hidden_units=24, epochs=10, batch_size=256, total=   0.9s\n",
            "[CV] optimizer=rmsprop, input_units=14, init=uniform, hidden_units=24, epochs=10, batch_size=256 \n",
            "[CV]  optimizer=rmsprop, input_units=14, init=uniform, hidden_units=24, epochs=10, batch_size=256, total=   0.9s\n",
            "[CV] optimizer=rmsprop, input_units=14, init=uniform, hidden_units=24, epochs=10, batch_size=256 \n",
            "[CV]  optimizer=rmsprop, input_units=14, init=uniform, hidden_units=24, epochs=10, batch_size=256, total=   0.9s\n",
            "[CV] optimizer=rmsprop, input_units=14, init=uniform, hidden_units=24, epochs=10, batch_size=256 \n",
            "[CV]  optimizer=rmsprop, input_units=14, init=uniform, hidden_units=24, epochs=10, batch_size=256, total=   0.9s\n",
            "[CV] optimizer=rmsprop, input_units=26, init=glorot_uniform, hidden_units=21, epochs=130, batch_size=32 \n",
            "[CV]  optimizer=rmsprop, input_units=26, init=glorot_uniform, hidden_units=21, epochs=130, batch_size=32, total=  35.7s\n",
            "[CV] optimizer=rmsprop, input_units=26, init=glorot_uniform, hidden_units=21, epochs=130, batch_size=32 \n",
            "[CV]  optimizer=rmsprop, input_units=26, init=glorot_uniform, hidden_units=21, epochs=130, batch_size=32, total=  35.8s\n",
            "[CV] optimizer=rmsprop, input_units=26, init=glorot_uniform, hidden_units=21, epochs=130, batch_size=32 \n",
            "[CV]  optimizer=rmsprop, input_units=26, init=glorot_uniform, hidden_units=21, epochs=130, batch_size=32, total=  36.5s\n",
            "[CV] optimizer=rmsprop, input_units=26, init=glorot_uniform, hidden_units=21, epochs=130, batch_size=32 \n",
            "[CV]  optimizer=rmsprop, input_units=26, init=glorot_uniform, hidden_units=21, epochs=130, batch_size=32, total=  35.9s\n",
            "[CV] optimizer=rmsprop, input_units=26, init=glorot_uniform, hidden_units=21, epochs=130, batch_size=32 \n",
            "[CV]  optimizer=rmsprop, input_units=26, init=glorot_uniform, hidden_units=21, epochs=130, batch_size=32, total=  35.9s\n",
            "[CV] optimizer=rmsprop, input_units=29, init=normal, hidden_units=8, epochs=120, batch_size=128 \n",
            "[CV]  optimizer=rmsprop, input_units=29, init=normal, hidden_units=8, epochs=120, batch_size=128, total=   8.7s\n",
            "[CV] optimizer=rmsprop, input_units=29, init=normal, hidden_units=8, epochs=120, batch_size=128 \n",
            "[CV]  optimizer=rmsprop, input_units=29, init=normal, hidden_units=8, epochs=120, batch_size=128, total=   9.3s\n",
            "[CV] optimizer=rmsprop, input_units=29, init=normal, hidden_units=8, epochs=120, batch_size=128 \n",
            "[CV]  optimizer=rmsprop, input_units=29, init=normal, hidden_units=8, epochs=120, batch_size=128, total=   8.8s\n",
            "[CV] optimizer=rmsprop, input_units=29, init=normal, hidden_units=8, epochs=120, batch_size=128 \n",
            "[CV]  optimizer=rmsprop, input_units=29, init=normal, hidden_units=8, epochs=120, batch_size=128, total=   8.9s\n",
            "[CV] optimizer=rmsprop, input_units=29, init=normal, hidden_units=8, epochs=120, batch_size=128 \n",
            "[CV]  optimizer=rmsprop, input_units=29, init=normal, hidden_units=8, epochs=120, batch_size=128, total=   8.8s\n",
            "[CV] optimizer=rmsprop, input_units=24, init=normal, hidden_units=3, epochs=60, batch_size=64 \n",
            "[CV]  optimizer=rmsprop, input_units=24, init=normal, hidden_units=3, epochs=60, batch_size=64, total=   8.8s\n",
            "[CV] optimizer=rmsprop, input_units=24, init=normal, hidden_units=3, epochs=60, batch_size=64 \n",
            "[CV]  optimizer=rmsprop, input_units=24, init=normal, hidden_units=3, epochs=60, batch_size=64, total=   8.8s\n",
            "[CV] optimizer=rmsprop, input_units=24, init=normal, hidden_units=3, epochs=60, batch_size=64 \n",
            "[CV]  optimizer=rmsprop, input_units=24, init=normal, hidden_units=3, epochs=60, batch_size=64, total=   8.7s\n",
            "[CV] optimizer=rmsprop, input_units=24, init=normal, hidden_units=3, epochs=60, batch_size=64 \n",
            "[CV]  optimizer=rmsprop, input_units=24, init=normal, hidden_units=3, epochs=60, batch_size=64, total=   8.7s\n",
            "[CV] optimizer=rmsprop, input_units=24, init=normal, hidden_units=3, epochs=60, batch_size=64 \n",
            "[CV]  optimizer=rmsprop, input_units=24, init=normal, hidden_units=3, epochs=60, batch_size=64, total=   8.8s\n",
            "[CV] optimizer=rmsprop, input_units=27, init=normal, hidden_units=4, epochs=10, batch_size=256 \n",
            "[CV]  optimizer=rmsprop, input_units=27, init=normal, hidden_units=4, epochs=10, batch_size=256, total=   0.9s\n",
            "[CV] optimizer=rmsprop, input_units=27, init=normal, hidden_units=4, epochs=10, batch_size=256 \n",
            "[CV]  optimizer=rmsprop, input_units=27, init=normal, hidden_units=4, epochs=10, batch_size=256, total=   0.9s\n",
            "[CV] optimizer=rmsprop, input_units=27, init=normal, hidden_units=4, epochs=10, batch_size=256 \n",
            "[CV]  optimizer=rmsprop, input_units=27, init=normal, hidden_units=4, epochs=10, batch_size=256, total=   0.9s\n",
            "[CV] optimizer=rmsprop, input_units=27, init=normal, hidden_units=4, epochs=10, batch_size=256 \n",
            "[CV]  optimizer=rmsprop, input_units=27, init=normal, hidden_units=4, epochs=10, batch_size=256, total=   0.9s\n",
            "[CV] optimizer=rmsprop, input_units=27, init=normal, hidden_units=4, epochs=10, batch_size=256 \n",
            "[CV]  optimizer=rmsprop, input_units=27, init=normal, hidden_units=4, epochs=10, batch_size=256, total=   0.9s\n",
            "[CV] optimizer=adam, input_units=22, init=glorot_uniform, hidden_units=16, epochs=80, batch_size=64 \n",
            "[CV]  optimizer=adam, input_units=22, init=glorot_uniform, hidden_units=16, epochs=80, batch_size=64, total=   9.5s\n",
            "[CV] optimizer=adam, input_units=22, init=glorot_uniform, hidden_units=16, epochs=80, batch_size=64 \n",
            "[CV]  optimizer=adam, input_units=22, init=glorot_uniform, hidden_units=16, epochs=80, batch_size=64, total=   9.5s\n",
            "[CV] optimizer=adam, input_units=22, init=glorot_uniform, hidden_units=16, epochs=80, batch_size=64 \n",
            "[CV]  optimizer=adam, input_units=22, init=glorot_uniform, hidden_units=16, epochs=80, batch_size=64, total=  10.0s\n",
            "[CV] optimizer=adam, input_units=22, init=glorot_uniform, hidden_units=16, epochs=80, batch_size=64 \n",
            "[CV]  optimizer=adam, input_units=22, init=glorot_uniform, hidden_units=16, epochs=80, batch_size=64, total=   9.6s\n",
            "[CV] optimizer=adam, input_units=22, init=glorot_uniform, hidden_units=16, epochs=80, batch_size=64 \n",
            "[CV]  optimizer=adam, input_units=22, init=glorot_uniform, hidden_units=16, epochs=80, batch_size=64, total=   9.6s\n",
            "[CV] optimizer=rmsprop, input_units=28, init=normal, hidden_units=20, epochs=100, batch_size=64 \n",
            "[CV]  optimizer=rmsprop, input_units=28, init=normal, hidden_units=20, epochs=100, batch_size=64, total=  14.3s\n",
            "[CV] optimizer=rmsprop, input_units=28, init=normal, hidden_units=20, epochs=100, batch_size=64 \n",
            "[CV]  optimizer=rmsprop, input_units=28, init=normal, hidden_units=20, epochs=100, batch_size=64, total=  14.2s\n",
            "[CV] optimizer=rmsprop, input_units=28, init=normal, hidden_units=20, epochs=100, batch_size=64 \n",
            "[CV]  optimizer=rmsprop, input_units=28, init=normal, hidden_units=20, epochs=100, batch_size=64, total=  14.5s\n",
            "[CV] optimizer=rmsprop, input_units=28, init=normal, hidden_units=20, epochs=100, batch_size=64 \n",
            "[CV]  optimizer=rmsprop, input_units=28, init=normal, hidden_units=20, epochs=100, batch_size=64, total=  14.3s\n",
            "[CV] optimizer=rmsprop, input_units=28, init=normal, hidden_units=20, epochs=100, batch_size=64 \n",
            "[CV]  optimizer=rmsprop, input_units=28, init=normal, hidden_units=20, epochs=100, batch_size=64, total=  14.4s\n",
            "[CV] optimizer=rmsprop, input_units=15, init=glorot_uniform, hidden_units=15, epochs=10, batch_size=128 \n",
            "[CV]  optimizer=rmsprop, input_units=15, init=glorot_uniform, hidden_units=15, epochs=10, batch_size=128, total=   1.3s\n",
            "[CV] optimizer=rmsprop, input_units=15, init=glorot_uniform, hidden_units=15, epochs=10, batch_size=128 \n",
            "[CV]  optimizer=rmsprop, input_units=15, init=glorot_uniform, hidden_units=15, epochs=10, batch_size=128, total=   1.3s\n",
            "[CV] optimizer=rmsprop, input_units=15, init=glorot_uniform, hidden_units=15, epochs=10, batch_size=128 \n",
            "[CV]  optimizer=rmsprop, input_units=15, init=glorot_uniform, hidden_units=15, epochs=10, batch_size=128, total=   1.3s\n",
            "[CV] optimizer=rmsprop, input_units=15, init=glorot_uniform, hidden_units=15, epochs=10, batch_size=128 \n",
            "[CV]  optimizer=rmsprop, input_units=15, init=glorot_uniform, hidden_units=15, epochs=10, batch_size=128, total=   1.3s\n",
            "[CV] optimizer=rmsprop, input_units=15, init=glorot_uniform, hidden_units=15, epochs=10, batch_size=128 \n",
            "[CV]  optimizer=rmsprop, input_units=15, init=glorot_uniform, hidden_units=15, epochs=10, batch_size=128, total=   1.2s\n",
            "[CV] optimizer=adam, input_units=21, init=normal, hidden_units=3, epochs=70, batch_size=32 \n",
            "[CV]  optimizer=adam, input_units=21, init=normal, hidden_units=3, epochs=70, batch_size=32, total=  16.8s\n",
            "[CV] optimizer=adam, input_units=21, init=normal, hidden_units=3, epochs=70, batch_size=32 \n",
            "[CV]  optimizer=adam, input_units=21, init=normal, hidden_units=3, epochs=70, batch_size=32, total=  16.2s\n",
            "[CV] optimizer=adam, input_units=21, init=normal, hidden_units=3, epochs=70, batch_size=32 \n",
            "[CV]  optimizer=adam, input_units=21, init=normal, hidden_units=3, epochs=70, batch_size=32, total=  16.2s\n",
            "[CV] optimizer=adam, input_units=21, init=normal, hidden_units=3, epochs=70, batch_size=32 \n",
            "[CV]  optimizer=adam, input_units=21, init=normal, hidden_units=3, epochs=70, batch_size=32, total=  16.6s\n",
            "[CV] optimizer=adam, input_units=21, init=normal, hidden_units=3, epochs=70, batch_size=32 \n",
            "[CV]  optimizer=adam, input_units=21, init=normal, hidden_units=3, epochs=70, batch_size=32, total=  16.3s\n",
            "[CV] optimizer=adam, input_units=19, init=normal, hidden_units=15, epochs=10, batch_size=256 \n",
            "[CV]  optimizer=adam, input_units=19, init=normal, hidden_units=15, epochs=10, batch_size=256, total=   0.8s\n",
            "[CV] optimizer=adam, input_units=19, init=normal, hidden_units=15, epochs=10, batch_size=256 \n",
            "[CV]  optimizer=adam, input_units=19, init=normal, hidden_units=15, epochs=10, batch_size=256, total=   0.8s\n",
            "[CV] optimizer=adam, input_units=19, init=normal, hidden_units=15, epochs=10, batch_size=256 \n",
            "[CV]  optimizer=adam, input_units=19, init=normal, hidden_units=15, epochs=10, batch_size=256, total=   0.8s\n",
            "[CV] optimizer=adam, input_units=19, init=normal, hidden_units=15, epochs=10, batch_size=256 \n",
            "[CV]  optimizer=adam, input_units=19, init=normal, hidden_units=15, epochs=10, batch_size=256, total=   0.8s\n",
            "[CV] optimizer=adam, input_units=19, init=normal, hidden_units=15, epochs=10, batch_size=256 \n",
            "[CV]  optimizer=adam, input_units=19, init=normal, hidden_units=15, epochs=10, batch_size=256, total=   0.7s\n",
            "[CV] optimizer=rmsprop, input_units=14, init=uniform, hidden_units=17, epochs=140, batch_size=32 \n",
            "[CV]  optimizer=rmsprop, input_units=14, init=uniform, hidden_units=17, epochs=140, batch_size=32, total=  38.6s\n",
            "[CV] optimizer=rmsprop, input_units=14, init=uniform, hidden_units=17, epochs=140, batch_size=32 \n",
            "[CV]  optimizer=rmsprop, input_units=14, init=uniform, hidden_units=17, epochs=140, batch_size=32, total=  38.7s\n",
            "[CV] optimizer=rmsprop, input_units=14, init=uniform, hidden_units=17, epochs=140, batch_size=32 \n",
            "[CV]  optimizer=rmsprop, input_units=14, init=uniform, hidden_units=17, epochs=140, batch_size=32, total=  38.9s\n",
            "[CV] optimizer=rmsprop, input_units=14, init=uniform, hidden_units=17, epochs=140, batch_size=32 \n",
            "[CV]  optimizer=rmsprop, input_units=14, init=uniform, hidden_units=17, epochs=140, batch_size=32, total=  38.5s\n",
            "[CV] optimizer=rmsprop, input_units=14, init=uniform, hidden_units=17, epochs=140, batch_size=32 \n",
            "[CV]  optimizer=rmsprop, input_units=14, init=uniform, hidden_units=17, epochs=140, batch_size=32, total=  39.1s\n",
            "[CV] optimizer=rmsprop, input_units=17, init=normal, hidden_units=13, epochs=30, batch_size=32 \n",
            "[CV]  optimizer=rmsprop, input_units=17, init=normal, hidden_units=13, epochs=30, batch_size=32, total=   8.7s\n",
            "[CV] optimizer=rmsprop, input_units=17, init=normal, hidden_units=13, epochs=30, batch_size=32 \n",
            "[CV]  optimizer=rmsprop, input_units=17, init=normal, hidden_units=13, epochs=30, batch_size=32, total=   8.7s\n",
            "[CV] optimizer=rmsprop, input_units=17, init=normal, hidden_units=13, epochs=30, batch_size=32 \n",
            "[CV]  optimizer=rmsprop, input_units=17, init=normal, hidden_units=13, epochs=30, batch_size=32, total=   8.6s\n",
            "[CV] optimizer=rmsprop, input_units=17, init=normal, hidden_units=13, epochs=30, batch_size=32 \n",
            "[CV]  optimizer=rmsprop, input_units=17, init=normal, hidden_units=13, epochs=30, batch_size=32, total=   8.7s\n",
            "[CV] optimizer=rmsprop, input_units=17, init=normal, hidden_units=13, epochs=30, batch_size=32 \n",
            "[CV]  optimizer=rmsprop, input_units=17, init=normal, hidden_units=13, epochs=30, batch_size=32, total=   9.3s\n",
            "[CV] optimizer=adam, input_units=29, init=glorot_uniform, hidden_units=6, epochs=70, batch_size=64 \n",
            "[CV]  optimizer=adam, input_units=29, init=glorot_uniform, hidden_units=6, epochs=70, batch_size=64, total=   9.0s\n",
            "[CV] optimizer=adam, input_units=29, init=glorot_uniform, hidden_units=6, epochs=70, batch_size=64 \n",
            "[CV]  optimizer=adam, input_units=29, init=glorot_uniform, hidden_units=6, epochs=70, batch_size=64, total=   8.4s\n",
            "[CV] optimizer=adam, input_units=29, init=glorot_uniform, hidden_units=6, epochs=70, batch_size=64 \n",
            "[CV]  optimizer=adam, input_units=29, init=glorot_uniform, hidden_units=6, epochs=70, batch_size=64, total=   8.4s\n",
            "[CV] optimizer=adam, input_units=29, init=glorot_uniform, hidden_units=6, epochs=70, batch_size=64 \n",
            "[CV]  optimizer=adam, input_units=29, init=glorot_uniform, hidden_units=6, epochs=70, batch_size=64, total=   8.5s\n",
            "[CV] optimizer=adam, input_units=29, init=glorot_uniform, hidden_units=6, epochs=70, batch_size=64 \n",
            "[CV]  optimizer=adam, input_units=29, init=glorot_uniform, hidden_units=6, epochs=70, batch_size=64, total=   8.5s\n",
            "[CV] optimizer=rmsprop, input_units=27, init=glorot_uniform, hidden_units=29, epochs=10, batch_size=256 \n",
            "[CV]  optimizer=rmsprop, input_units=27, init=glorot_uniform, hidden_units=29, epochs=10, batch_size=256, total=   0.9s\n",
            "[CV] optimizer=rmsprop, input_units=27, init=glorot_uniform, hidden_units=29, epochs=10, batch_size=256 \n",
            "[CV]  optimizer=rmsprop, input_units=27, init=glorot_uniform, hidden_units=29, epochs=10, batch_size=256, total=   0.9s\n",
            "[CV] optimizer=rmsprop, input_units=27, init=glorot_uniform, hidden_units=29, epochs=10, batch_size=256 \n",
            "[CV]  optimizer=rmsprop, input_units=27, init=glorot_uniform, hidden_units=29, epochs=10, batch_size=256, total=   0.9s\n",
            "[CV] optimizer=rmsprop, input_units=27, init=glorot_uniform, hidden_units=29, epochs=10, batch_size=256 \n",
            "[CV]  optimizer=rmsprop, input_units=27, init=glorot_uniform, hidden_units=29, epochs=10, batch_size=256, total=   0.9s\n",
            "[CV] optimizer=rmsprop, input_units=27, init=glorot_uniform, hidden_units=29, epochs=10, batch_size=256 \n",
            "[CV]  optimizer=rmsprop, input_units=27, init=glorot_uniform, hidden_units=29, epochs=10, batch_size=256, total=   0.9s\n",
            "[CV] optimizer=rmsprop, input_units=17, init=glorot_uniform, hidden_units=27, epochs=130, batch_size=64 \n",
            "[CV]  optimizer=rmsprop, input_units=17, init=glorot_uniform, hidden_units=27, epochs=130, batch_size=64, total=  18.2s\n",
            "[CV] optimizer=rmsprop, input_units=17, init=glorot_uniform, hidden_units=27, epochs=130, batch_size=64 \n",
            "[CV]  optimizer=rmsprop, input_units=17, init=glorot_uniform, hidden_units=27, epochs=130, batch_size=64, total=  18.6s\n",
            "[CV] optimizer=rmsprop, input_units=17, init=glorot_uniform, hidden_units=27, epochs=130, batch_size=64 \n",
            "[CV]  optimizer=rmsprop, input_units=17, init=glorot_uniform, hidden_units=27, epochs=130, batch_size=64, total=  18.4s\n",
            "[CV] optimizer=rmsprop, input_units=17, init=glorot_uniform, hidden_units=27, epochs=130, batch_size=64 \n",
            "[CV]  optimizer=rmsprop, input_units=17, init=glorot_uniform, hidden_units=27, epochs=130, batch_size=64, total=  18.4s\n",
            "[CV] optimizer=rmsprop, input_units=17, init=glorot_uniform, hidden_units=27, epochs=130, batch_size=64 \n",
            "[CV]  optimizer=rmsprop, input_units=17, init=glorot_uniform, hidden_units=27, epochs=130, batch_size=64, total=  18.5s\n",
            "[CV] optimizer=adam, input_units=11, init=uniform, hidden_units=4, epochs=110, batch_size=256 \n",
            "[CV]  optimizer=adam, input_units=11, init=uniform, hidden_units=4, epochs=110, batch_size=256, total=   3.8s\n",
            "[CV] optimizer=adam, input_units=11, init=uniform, hidden_units=4, epochs=110, batch_size=256 \n",
            "[CV]  optimizer=adam, input_units=11, init=uniform, hidden_units=4, epochs=110, batch_size=256, total=   4.2s\n",
            "[CV] optimizer=adam, input_units=11, init=uniform, hidden_units=4, epochs=110, batch_size=256 \n",
            "[CV]  optimizer=adam, input_units=11, init=uniform, hidden_units=4, epochs=110, batch_size=256, total=   3.8s\n",
            "[CV] optimizer=adam, input_units=11, init=uniform, hidden_units=4, epochs=110, batch_size=256 \n",
            "[CV]  optimizer=adam, input_units=11, init=uniform, hidden_units=4, epochs=110, batch_size=256, total=   3.8s\n",
            "[CV] optimizer=adam, input_units=11, init=uniform, hidden_units=4, epochs=110, batch_size=256 \n",
            "[CV]  optimizer=adam, input_units=11, init=uniform, hidden_units=4, epochs=110, batch_size=256, total=   3.8s\n",
            "[CV] optimizer=rmsprop, input_units=18, init=normal, hidden_units=25, epochs=120, batch_size=32 \n",
            "[CV]  optimizer=rmsprop, input_units=18, init=normal, hidden_units=25, epochs=120, batch_size=32, total=  33.3s\n",
            "[CV] optimizer=rmsprop, input_units=18, init=normal, hidden_units=25, epochs=120, batch_size=32 \n",
            "[CV]  optimizer=rmsprop, input_units=18, init=normal, hidden_units=25, epochs=120, batch_size=32, total=  33.6s\n",
            "[CV] optimizer=rmsprop, input_units=18, init=normal, hidden_units=25, epochs=120, batch_size=32 \n",
            "[CV]  optimizer=rmsprop, input_units=18, init=normal, hidden_units=25, epochs=120, batch_size=32, total=  33.7s\n",
            "[CV] optimizer=rmsprop, input_units=18, init=normal, hidden_units=25, epochs=120, batch_size=32 \n",
            "[CV]  optimizer=rmsprop, input_units=18, init=normal, hidden_units=25, epochs=120, batch_size=32, total=  33.3s\n",
            "[CV] optimizer=rmsprop, input_units=18, init=normal, hidden_units=25, epochs=120, batch_size=32 \n",
            "[CV]  optimizer=rmsprop, input_units=18, init=normal, hidden_units=25, epochs=120, batch_size=32, total=  33.9s\n",
            "[CV] optimizer=rmsprop, input_units=10, init=uniform, hidden_units=10, epochs=100, batch_size=32 \n",
            "[CV]  optimizer=rmsprop, input_units=10, init=uniform, hidden_units=10, epochs=100, batch_size=32, total=  27.6s\n",
            "[CV] optimizer=rmsprop, input_units=10, init=uniform, hidden_units=10, epochs=100, batch_size=32 \n",
            "[CV]  optimizer=rmsprop, input_units=10, init=uniform, hidden_units=10, epochs=100, batch_size=32, total=  28.0s\n",
            "[CV] optimizer=rmsprop, input_units=10, init=uniform, hidden_units=10, epochs=100, batch_size=32 \n",
            "[CV]  optimizer=rmsprop, input_units=10, init=uniform, hidden_units=10, epochs=100, batch_size=32, total=  28.0s\n",
            "[CV] optimizer=rmsprop, input_units=10, init=uniform, hidden_units=10, epochs=100, batch_size=32 \n",
            "[CV]  optimizer=rmsprop, input_units=10, init=uniform, hidden_units=10, epochs=100, batch_size=32, total=  27.7s\n",
            "[CV] optimizer=rmsprop, input_units=10, init=uniform, hidden_units=10, epochs=100, batch_size=32 \n",
            "[CV]  optimizer=rmsprop, input_units=10, init=uniform, hidden_units=10, epochs=100, batch_size=32, total=  27.8s\n",
            "[CV] optimizer=rmsprop, input_units=3, init=normal, hidden_units=20, epochs=80, batch_size=128 \n",
            "[CV]  optimizer=rmsprop, input_units=3, init=normal, hidden_units=20, epochs=80, batch_size=128, total=   6.2s\n",
            "[CV] optimizer=rmsprop, input_units=3, init=normal, hidden_units=20, epochs=80, batch_size=128 \n",
            "[CV]  optimizer=rmsprop, input_units=3, init=normal, hidden_units=20, epochs=80, batch_size=128, total=   6.2s\n",
            "[CV] optimizer=rmsprop, input_units=3, init=normal, hidden_units=20, epochs=80, batch_size=128 \n",
            "[CV]  optimizer=rmsprop, input_units=3, init=normal, hidden_units=20, epochs=80, batch_size=128, total=   6.3s\n",
            "[CV] optimizer=rmsprop, input_units=3, init=normal, hidden_units=20, epochs=80, batch_size=128 \n",
            "[CV]  optimizer=rmsprop, input_units=3, init=normal, hidden_units=20, epochs=80, batch_size=128, total=   6.8s\n",
            "[CV] optimizer=rmsprop, input_units=3, init=normal, hidden_units=20, epochs=80, batch_size=128 \n",
            "[CV]  optimizer=rmsprop, input_units=3, init=normal, hidden_units=20, epochs=80, batch_size=128, total=   6.3s\n",
            "[CV] optimizer=rmsprop, input_units=17, init=glorot_uniform, hidden_units=18, epochs=10, batch_size=256 \n",
            "[CV]  optimizer=rmsprop, input_units=17, init=glorot_uniform, hidden_units=18, epochs=10, batch_size=256, total=   0.9s\n",
            "[CV] optimizer=rmsprop, input_units=17, init=glorot_uniform, hidden_units=18, epochs=10, batch_size=256 \n",
            "[CV]  optimizer=rmsprop, input_units=17, init=glorot_uniform, hidden_units=18, epochs=10, batch_size=256, total=   0.9s\n",
            "[CV] optimizer=rmsprop, input_units=17, init=glorot_uniform, hidden_units=18, epochs=10, batch_size=256 \n",
            "[CV]  optimizer=rmsprop, input_units=17, init=glorot_uniform, hidden_units=18, epochs=10, batch_size=256, total=   0.9s\n",
            "[CV] optimizer=rmsprop, input_units=17, init=glorot_uniform, hidden_units=18, epochs=10, batch_size=256 \n",
            "[CV]  optimizer=rmsprop, input_units=17, init=glorot_uniform, hidden_units=18, epochs=10, batch_size=256, total=   0.9s\n",
            "[CV] optimizer=rmsprop, input_units=17, init=glorot_uniform, hidden_units=18, epochs=10, batch_size=256 \n",
            "[CV]  optimizer=rmsprop, input_units=17, init=glorot_uniform, hidden_units=18, epochs=10, batch_size=256, total=   0.9s\n",
            "[CV] optimizer=rmsprop, input_units=25, init=normal, hidden_units=21, epochs=30, batch_size=64 \n",
            "[CV]  optimizer=rmsprop, input_units=25, init=normal, hidden_units=21, epochs=30, batch_size=64, total=   4.7s\n",
            "[CV] optimizer=rmsprop, input_units=25, init=normal, hidden_units=21, epochs=30, batch_size=64 \n",
            "[CV]  optimizer=rmsprop, input_units=25, init=normal, hidden_units=21, epochs=30, batch_size=64, total=   4.7s\n",
            "[CV] optimizer=rmsprop, input_units=25, init=normal, hidden_units=21, epochs=30, batch_size=64 \n",
            "[CV]  optimizer=rmsprop, input_units=25, init=normal, hidden_units=21, epochs=30, batch_size=64, total=   4.7s\n",
            "[CV] optimizer=rmsprop, input_units=25, init=normal, hidden_units=21, epochs=30, batch_size=64 \n",
            "[CV]  optimizer=rmsprop, input_units=25, init=normal, hidden_units=21, epochs=30, batch_size=64, total=   4.8s\n",
            "[CV] optimizer=rmsprop, input_units=25, init=normal, hidden_units=21, epochs=30, batch_size=64 \n",
            "[CV]  optimizer=rmsprop, input_units=25, init=normal, hidden_units=21, epochs=30, batch_size=64, total=   4.6s\n",
            "[CV] optimizer=rmsprop, input_units=21, init=normal, hidden_units=5, epochs=130, batch_size=32 \n",
            "[CV]  optimizer=rmsprop, input_units=21, init=normal, hidden_units=5, epochs=130, batch_size=32, total=  36.4s\n",
            "[CV] optimizer=rmsprop, input_units=21, init=normal, hidden_units=5, epochs=130, batch_size=32 \n",
            "[CV]  optimizer=rmsprop, input_units=21, init=normal, hidden_units=5, epochs=130, batch_size=32, total=  36.1s\n",
            "[CV] optimizer=rmsprop, input_units=21, init=normal, hidden_units=5, epochs=130, batch_size=32 \n",
            "[CV]  optimizer=rmsprop, input_units=21, init=normal, hidden_units=5, epochs=130, batch_size=32, total=  36.6s\n",
            "[CV] optimizer=rmsprop, input_units=21, init=normal, hidden_units=5, epochs=130, batch_size=32 \n",
            "[CV]  optimizer=rmsprop, input_units=21, init=normal, hidden_units=5, epochs=130, batch_size=32, total=  36.0s\n",
            "[CV] optimizer=rmsprop, input_units=21, init=normal, hidden_units=5, epochs=130, batch_size=32 \n",
            "[CV]  optimizer=rmsprop, input_units=21, init=normal, hidden_units=5, epochs=130, batch_size=32, total=  35.4s\n",
            "[CV] optimizer=rmsprop, input_units=20, init=normal, hidden_units=5, epochs=100, batch_size=256 \n",
            "[CV]  optimizer=rmsprop, input_units=20, init=normal, hidden_units=5, epochs=100, batch_size=256, total=   4.7s\n",
            "[CV] optimizer=rmsprop, input_units=20, init=normal, hidden_units=5, epochs=100, batch_size=256 \n",
            "[CV]  optimizer=rmsprop, input_units=20, init=normal, hidden_units=5, epochs=100, batch_size=256, total=   4.2s\n",
            "[CV] optimizer=rmsprop, input_units=20, init=normal, hidden_units=5, epochs=100, batch_size=256 \n",
            "[CV]  optimizer=rmsprop, input_units=20, init=normal, hidden_units=5, epochs=100, batch_size=256, total=   4.2s\n",
            "[CV] optimizer=rmsprop, input_units=20, init=normal, hidden_units=5, epochs=100, batch_size=256 \n",
            "[CV]  optimizer=rmsprop, input_units=20, init=normal, hidden_units=5, epochs=100, batch_size=256, total=   4.1s\n",
            "[CV] optimizer=rmsprop, input_units=20, init=normal, hidden_units=5, epochs=100, batch_size=256 \n",
            "[CV]  optimizer=rmsprop, input_units=20, init=normal, hidden_units=5, epochs=100, batch_size=256, total=   4.2s\n",
            "[CV] optimizer=adam, input_units=29, init=uniform, hidden_units=20, epochs=70, batch_size=32 \n",
            "[CV]  optimizer=adam, input_units=29, init=uniform, hidden_units=20, epochs=70, batch_size=32, total=  16.3s\n",
            "[CV] optimizer=adam, input_units=29, init=uniform, hidden_units=20, epochs=70, batch_size=32 \n",
            "[CV]  optimizer=adam, input_units=29, init=uniform, hidden_units=20, epochs=70, batch_size=32, total=  16.3s\n",
            "[CV] optimizer=adam, input_units=29, init=uniform, hidden_units=20, epochs=70, batch_size=32 \n",
            "[CV]  optimizer=adam, input_units=29, init=uniform, hidden_units=20, epochs=70, batch_size=32, total=  16.3s\n",
            "[CV] optimizer=adam, input_units=29, init=uniform, hidden_units=20, epochs=70, batch_size=32 \n",
            "[CV]  optimizer=adam, input_units=29, init=uniform, hidden_units=20, epochs=70, batch_size=32, total=  16.1s\n",
            "[CV] optimizer=adam, input_units=29, init=uniform, hidden_units=20, epochs=70, batch_size=32 \n",
            "[CV]  optimizer=adam, input_units=29, init=uniform, hidden_units=20, epochs=70, batch_size=32, total=  16.3s\n",
            "[CV] optimizer=adam, input_units=25, init=glorot_uniform, hidden_units=7, epochs=50, batch_size=128 \n",
            "[CV]  optimizer=adam, input_units=25, init=glorot_uniform, hidden_units=7, epochs=50, batch_size=128, total=   3.3s\n",
            "[CV] optimizer=adam, input_units=25, init=glorot_uniform, hidden_units=7, epochs=50, batch_size=128 \n",
            "[CV]  optimizer=adam, input_units=25, init=glorot_uniform, hidden_units=7, epochs=50, batch_size=128, total=   3.4s\n",
            "[CV] optimizer=adam, input_units=25, init=glorot_uniform, hidden_units=7, epochs=50, batch_size=128 \n",
            "[CV]  optimizer=adam, input_units=25, init=glorot_uniform, hidden_units=7, epochs=50, batch_size=128, total=   3.3s\n",
            "[CV] optimizer=adam, input_units=25, init=glorot_uniform, hidden_units=7, epochs=50, batch_size=128 \n",
            "[CV]  optimizer=adam, input_units=25, init=glorot_uniform, hidden_units=7, epochs=50, batch_size=128, total=   3.4s\n",
            "[CV] optimizer=adam, input_units=25, init=glorot_uniform, hidden_units=7, epochs=50, batch_size=128 \n",
            "[CV]  optimizer=adam, input_units=25, init=glorot_uniform, hidden_units=7, epochs=50, batch_size=128, total=   3.4s\n",
            "[CV] optimizer=rmsprop, input_units=25, init=normal, hidden_units=2, epochs=40, batch_size=64 \n",
            "[CV]  optimizer=rmsprop, input_units=25, init=normal, hidden_units=2, epochs=40, batch_size=64, total=   6.1s\n",
            "[CV] optimizer=rmsprop, input_units=25, init=normal, hidden_units=2, epochs=40, batch_size=64 \n",
            "[CV]  optimizer=rmsprop, input_units=25, init=normal, hidden_units=2, epochs=40, batch_size=64, total=   6.0s\n",
            "[CV] optimizer=rmsprop, input_units=25, init=normal, hidden_units=2, epochs=40, batch_size=64 \n",
            "[CV]  optimizer=rmsprop, input_units=25, init=normal, hidden_units=2, epochs=40, batch_size=64, total=   6.0s\n",
            "[CV] optimizer=rmsprop, input_units=25, init=normal, hidden_units=2, epochs=40, batch_size=64 \n",
            "[CV]  optimizer=rmsprop, input_units=25, init=normal, hidden_units=2, epochs=40, batch_size=64, total=   6.6s\n",
            "[CV] optimizer=rmsprop, input_units=25, init=normal, hidden_units=2, epochs=40, batch_size=64 \n",
            "[CV]  optimizer=rmsprop, input_units=25, init=normal, hidden_units=2, epochs=40, batch_size=64, total=   6.1s\n",
            "[CV] optimizer=adam, input_units=12, init=normal, hidden_units=21, epochs=140, batch_size=256 \n",
            "[CV]  optimizer=adam, input_units=12, init=normal, hidden_units=21, epochs=140, batch_size=256, total=   4.8s\n",
            "[CV] optimizer=adam, input_units=12, init=normal, hidden_units=21, epochs=140, batch_size=256 \n",
            "[CV]  optimizer=adam, input_units=12, init=normal, hidden_units=21, epochs=140, batch_size=256, total=   5.0s\n",
            "[CV] optimizer=adam, input_units=12, init=normal, hidden_units=21, epochs=140, batch_size=256 \n",
            "[CV]  optimizer=adam, input_units=12, init=normal, hidden_units=21, epochs=140, batch_size=256, total=   4.7s\n",
            "[CV] optimizer=adam, input_units=12, init=normal, hidden_units=21, epochs=140, batch_size=256 \n",
            "[CV]  optimizer=adam, input_units=12, init=normal, hidden_units=21, epochs=140, batch_size=256, total=   4.7s\n",
            "[CV] optimizer=adam, input_units=12, init=normal, hidden_units=21, epochs=140, batch_size=256 \n",
            "[CV]  optimizer=adam, input_units=12, init=normal, hidden_units=21, epochs=140, batch_size=256, total=   4.7s\n",
            "[CV] optimizer=adam, input_units=23, init=uniform, hidden_units=14, epochs=20, batch_size=128 \n",
            "[CV]  optimizer=adam, input_units=23, init=uniform, hidden_units=14, epochs=20, batch_size=128, total=   1.6s\n",
            "[CV] optimizer=adam, input_units=23, init=uniform, hidden_units=14, epochs=20, batch_size=128 \n",
            "[CV]  optimizer=adam, input_units=23, init=uniform, hidden_units=14, epochs=20, batch_size=128, total=   1.7s\n",
            "[CV] optimizer=adam, input_units=23, init=uniform, hidden_units=14, epochs=20, batch_size=128 \n",
            "[CV]  optimizer=adam, input_units=23, init=uniform, hidden_units=14, epochs=20, batch_size=128, total=   1.6s\n",
            "[CV] optimizer=adam, input_units=23, init=uniform, hidden_units=14, epochs=20, batch_size=128 \n",
            "[CV]  optimizer=adam, input_units=23, init=uniform, hidden_units=14, epochs=20, batch_size=128, total=   1.6s\n",
            "[CV] optimizer=adam, input_units=23, init=uniform, hidden_units=14, epochs=20, batch_size=128 \n",
            "[CV]  optimizer=adam, input_units=23, init=uniform, hidden_units=14, epochs=20, batch_size=128, total=   1.6s\n",
            "[CV] optimizer=adam, input_units=6, init=normal, hidden_units=7, epochs=120, batch_size=256 \n",
            "[CV]  optimizer=adam, input_units=6, init=normal, hidden_units=7, epochs=120, batch_size=256, total=   4.1s\n",
            "[CV] optimizer=adam, input_units=6, init=normal, hidden_units=7, epochs=120, batch_size=256 \n",
            "[CV]  optimizer=adam, input_units=6, init=normal, hidden_units=7, epochs=120, batch_size=256, total=   4.1s\n",
            "[CV] optimizer=adam, input_units=6, init=normal, hidden_units=7, epochs=120, batch_size=256 \n",
            "[CV]  optimizer=adam, input_units=6, init=normal, hidden_units=7, epochs=120, batch_size=256, total=   4.1s\n",
            "[CV] optimizer=adam, input_units=6, init=normal, hidden_units=7, epochs=120, batch_size=256 \n",
            "[CV]  optimizer=adam, input_units=6, init=normal, hidden_units=7, epochs=120, batch_size=256, total=   4.1s\n",
            "[CV] optimizer=adam, input_units=6, init=normal, hidden_units=7, epochs=120, batch_size=256 \n",
            "[CV]  optimizer=adam, input_units=6, init=normal, hidden_units=7, epochs=120, batch_size=256, total=   4.1s\n",
            "[CV] optimizer=rmsprop, input_units=25, init=normal, hidden_units=9, epochs=130, batch_size=32 \n",
            "[CV]  optimizer=rmsprop, input_units=25, init=normal, hidden_units=9, epochs=130, batch_size=32, total=  36.1s\n",
            "[CV] optimizer=rmsprop, input_units=25, init=normal, hidden_units=9, epochs=130, batch_size=32 \n",
            "[CV]  optimizer=rmsprop, input_units=25, init=normal, hidden_units=9, epochs=130, batch_size=32, total=  35.6s\n",
            "[CV] optimizer=rmsprop, input_units=25, init=normal, hidden_units=9, epochs=130, batch_size=32 \n",
            "[CV]  optimizer=rmsprop, input_units=25, init=normal, hidden_units=9, epochs=130, batch_size=32, total=  35.5s\n",
            "[CV] optimizer=rmsprop, input_units=25, init=normal, hidden_units=9, epochs=130, batch_size=32 \n",
            "[CV]  optimizer=rmsprop, input_units=25, init=normal, hidden_units=9, epochs=130, batch_size=32, total=  36.6s\n",
            "[CV] optimizer=rmsprop, input_units=25, init=normal, hidden_units=9, epochs=130, batch_size=32 \n",
            "[CV]  optimizer=rmsprop, input_units=25, init=normal, hidden_units=9, epochs=130, batch_size=32, total=  36.2s\n",
            "[CV] optimizer=adam, input_units=22, init=uniform, hidden_units=14, epochs=130, batch_size=32 \n",
            "[CV]  optimizer=adam, input_units=22, init=uniform, hidden_units=14, epochs=130, batch_size=32, total=  30.1s\n",
            "[CV] optimizer=adam, input_units=22, init=uniform, hidden_units=14, epochs=130, batch_size=32 \n",
            "[CV]  optimizer=adam, input_units=22, init=uniform, hidden_units=14, epochs=130, batch_size=32, total=  30.0s\n",
            "[CV] optimizer=adam, input_units=22, init=uniform, hidden_units=14, epochs=130, batch_size=32 \n",
            "[CV]  optimizer=adam, input_units=22, init=uniform, hidden_units=14, epochs=130, batch_size=32, total=  30.2s\n",
            "[CV] optimizer=adam, input_units=22, init=uniform, hidden_units=14, epochs=130, batch_size=32 \n",
            "[CV]  optimizer=adam, input_units=22, init=uniform, hidden_units=14, epochs=130, batch_size=32, total=  30.1s\n",
            "[CV] optimizer=adam, input_units=22, init=uniform, hidden_units=14, epochs=130, batch_size=32 \n",
            "[CV]  optimizer=adam, input_units=22, init=uniform, hidden_units=14, epochs=130, batch_size=32, total=  30.2s\n",
            "[CV] optimizer=rmsprop, input_units=9, init=glorot_uniform, hidden_units=4, epochs=90, batch_size=32 \n",
            "[CV]  optimizer=rmsprop, input_units=9, init=glorot_uniform, hidden_units=4, epochs=90, batch_size=32, total=  25.5s\n",
            "[CV] optimizer=rmsprop, input_units=9, init=glorot_uniform, hidden_units=4, epochs=90, batch_size=32 \n",
            "[CV]  optimizer=rmsprop, input_units=9, init=glorot_uniform, hidden_units=4, epochs=90, batch_size=32, total=  25.4s\n",
            "[CV] optimizer=rmsprop, input_units=9, init=glorot_uniform, hidden_units=4, epochs=90, batch_size=32 \n",
            "[CV]  optimizer=rmsprop, input_units=9, init=glorot_uniform, hidden_units=4, epochs=90, batch_size=32, total=  25.0s\n",
            "[CV] optimizer=rmsprop, input_units=9, init=glorot_uniform, hidden_units=4, epochs=90, batch_size=32 \n",
            "[CV]  optimizer=rmsprop, input_units=9, init=glorot_uniform, hidden_units=4, epochs=90, batch_size=32, total=  25.2s\n",
            "[CV] optimizer=rmsprop, input_units=9, init=glorot_uniform, hidden_units=4, epochs=90, batch_size=32 \n",
            "[CV]  optimizer=rmsprop, input_units=9, init=glorot_uniform, hidden_units=4, epochs=90, batch_size=32, total=  25.1s\n",
            "[CV] optimizer=rmsprop, input_units=17, init=uniform, hidden_units=15, epochs=30, batch_size=128 \n",
            "[CV]  optimizer=rmsprop, input_units=17, init=uniform, hidden_units=15, epochs=30, batch_size=128, total=   2.7s\n",
            "[CV] optimizer=rmsprop, input_units=17, init=uniform, hidden_units=15, epochs=30, batch_size=128 \n",
            "[CV]  optimizer=rmsprop, input_units=17, init=uniform, hidden_units=15, epochs=30, batch_size=128, total=   2.7s\n",
            "[CV] optimizer=rmsprop, input_units=17, init=uniform, hidden_units=15, epochs=30, batch_size=128 \n",
            "[CV]  optimizer=rmsprop, input_units=17, init=uniform, hidden_units=15, epochs=30, batch_size=128, total=   2.7s\n",
            "[CV] optimizer=rmsprop, input_units=17, init=uniform, hidden_units=15, epochs=30, batch_size=128 \n",
            "[CV]  optimizer=rmsprop, input_units=17, init=uniform, hidden_units=15, epochs=30, batch_size=128, total=   2.6s\n",
            "[CV] optimizer=rmsprop, input_units=17, init=uniform, hidden_units=15, epochs=30, batch_size=128 \n",
            "[CV]  optimizer=rmsprop, input_units=17, init=uniform, hidden_units=15, epochs=30, batch_size=128, total=   2.7s\n",
            "[CV] optimizer=rmsprop, input_units=23, init=normal, hidden_units=19, epochs=130, batch_size=256 \n",
            "[CV]  optimizer=rmsprop, input_units=23, init=normal, hidden_units=19, epochs=130, batch_size=256, total=   5.2s\n",
            "[CV] optimizer=rmsprop, input_units=23, init=normal, hidden_units=19, epochs=130, batch_size=256 \n",
            "[CV]  optimizer=rmsprop, input_units=23, init=normal, hidden_units=19, epochs=130, batch_size=256, total=   5.8s\n",
            "[CV] optimizer=rmsprop, input_units=23, init=normal, hidden_units=19, epochs=130, batch_size=256 \n",
            "[CV]  optimizer=rmsprop, input_units=23, init=normal, hidden_units=19, epochs=130, batch_size=256, total=   5.2s\n",
            "[CV] optimizer=rmsprop, input_units=23, init=normal, hidden_units=19, epochs=130, batch_size=256 \n",
            "[CV]  optimizer=rmsprop, input_units=23, init=normal, hidden_units=19, epochs=130, batch_size=256, total=   5.3s\n",
            "[CV] optimizer=rmsprop, input_units=23, init=normal, hidden_units=19, epochs=130, batch_size=256 \n",
            "[CV]  optimizer=rmsprop, input_units=23, init=normal, hidden_units=19, epochs=130, batch_size=256, total=   5.3s\n",
            "[CV] optimizer=rmsprop, input_units=25, init=glorot_uniform, hidden_units=5, epochs=100, batch_size=256 \n",
            "[CV]  optimizer=rmsprop, input_units=25, init=glorot_uniform, hidden_units=5, epochs=100, batch_size=256, total=   4.1s\n",
            "[CV] optimizer=rmsprop, input_units=25, init=glorot_uniform, hidden_units=5, epochs=100, batch_size=256 \n",
            "[CV]  optimizer=rmsprop, input_units=25, init=glorot_uniform, hidden_units=5, epochs=100, batch_size=256, total=   4.1s\n",
            "[CV] optimizer=rmsprop, input_units=25, init=glorot_uniform, hidden_units=5, epochs=100, batch_size=256 \n",
            "[CV]  optimizer=rmsprop, input_units=25, init=glorot_uniform, hidden_units=5, epochs=100, batch_size=256, total=   4.1s\n",
            "[CV] optimizer=rmsprop, input_units=25, init=glorot_uniform, hidden_units=5, epochs=100, batch_size=256 \n",
            "[CV]  optimizer=rmsprop, input_units=25, init=glorot_uniform, hidden_units=5, epochs=100, batch_size=256, total=   4.2s\n",
            "[CV] optimizer=rmsprop, input_units=25, init=glorot_uniform, hidden_units=5, epochs=100, batch_size=256 \n",
            "[CV]  optimizer=rmsprop, input_units=25, init=glorot_uniform, hidden_units=5, epochs=100, batch_size=256, total=   4.1s\n",
            "[CV] optimizer=rmsprop, input_units=26, init=glorot_uniform, hidden_units=27, epochs=90, batch_size=32 \n",
            "[CV]  optimizer=rmsprop, input_units=26, init=glorot_uniform, hidden_units=27, epochs=90, batch_size=32, total=  25.3s\n",
            "[CV] optimizer=rmsprop, input_units=26, init=glorot_uniform, hidden_units=27, epochs=90, batch_size=32 \n",
            "[CV]  optimizer=rmsprop, input_units=26, init=glorot_uniform, hidden_units=27, epochs=90, batch_size=32, total=  25.2s\n",
            "[CV] optimizer=rmsprop, input_units=26, init=glorot_uniform, hidden_units=27, epochs=90, batch_size=32 \n",
            "[CV]  optimizer=rmsprop, input_units=26, init=glorot_uniform, hidden_units=27, epochs=90, batch_size=32, total=  25.3s\n",
            "[CV] optimizer=rmsprop, input_units=26, init=glorot_uniform, hidden_units=27, epochs=90, batch_size=32 \n",
            "[CV]  optimizer=rmsprop, input_units=26, init=glorot_uniform, hidden_units=27, epochs=90, batch_size=32, total=  25.1s\n",
            "[CV] optimizer=rmsprop, input_units=26, init=glorot_uniform, hidden_units=27, epochs=90, batch_size=32 \n",
            "[CV]  optimizer=rmsprop, input_units=26, init=glorot_uniform, hidden_units=27, epochs=90, batch_size=32, total=  25.4s\n",
            "[CV] optimizer=adam, input_units=17, init=uniform, hidden_units=11, epochs=140, batch_size=64 \n",
            "[CV]  optimizer=adam, input_units=17, init=uniform, hidden_units=11, epochs=140, batch_size=64, total=  16.6s\n",
            "[CV] optimizer=adam, input_units=17, init=uniform, hidden_units=11, epochs=140, batch_size=64 \n",
            "[CV]  optimizer=adam, input_units=17, init=uniform, hidden_units=11, epochs=140, batch_size=64, total=  16.4s\n",
            "[CV] optimizer=adam, input_units=17, init=uniform, hidden_units=11, epochs=140, batch_size=64 \n",
            "[CV]  optimizer=adam, input_units=17, init=uniform, hidden_units=11, epochs=140, batch_size=64, total=  16.5s\n",
            "[CV] optimizer=adam, input_units=17, init=uniform, hidden_units=11, epochs=140, batch_size=64 \n",
            "[CV]  optimizer=adam, input_units=17, init=uniform, hidden_units=11, epochs=140, batch_size=64, total=  16.4s\n",
            "[CV] optimizer=adam, input_units=17, init=uniform, hidden_units=11, epochs=140, batch_size=64 \n",
            "[CV]  optimizer=adam, input_units=17, init=uniform, hidden_units=11, epochs=140, batch_size=64, total=  17.1s\n",
            "[CV] optimizer=rmsprop, input_units=17, init=uniform, hidden_units=10, epochs=50, batch_size=128 \n",
            "[CV]  optimizer=rmsprop, input_units=17, init=uniform, hidden_units=10, epochs=50, batch_size=128, total=   4.1s\n",
            "[CV] optimizer=rmsprop, input_units=17, init=uniform, hidden_units=10, epochs=50, batch_size=128 \n",
            "[CV]  optimizer=rmsprop, input_units=17, init=uniform, hidden_units=10, epochs=50, batch_size=128, total=   4.0s\n",
            "[CV] optimizer=rmsprop, input_units=17, init=uniform, hidden_units=10, epochs=50, batch_size=128 \n",
            "[CV]  optimizer=rmsprop, input_units=17, init=uniform, hidden_units=10, epochs=50, batch_size=128, total=   4.2s\n",
            "[CV] optimizer=rmsprop, input_units=17, init=uniform, hidden_units=10, epochs=50, batch_size=128 \n",
            "[CV]  optimizer=rmsprop, input_units=17, init=uniform, hidden_units=10, epochs=50, batch_size=128, total=   4.1s\n",
            "[CV] optimizer=rmsprop, input_units=17, init=uniform, hidden_units=10, epochs=50, batch_size=128 \n",
            "[CV]  optimizer=rmsprop, input_units=17, init=uniform, hidden_units=10, epochs=50, batch_size=128, total=   4.0s\n",
            "[CV] optimizer=rmsprop, input_units=5, init=normal, hidden_units=26, epochs=30, batch_size=128 \n",
            "[CV]  optimizer=rmsprop, input_units=5, init=normal, hidden_units=26, epochs=30, batch_size=128, total=   2.6s\n",
            "[CV] optimizer=rmsprop, input_units=5, init=normal, hidden_units=26, epochs=30, batch_size=128 \n",
            "[CV]  optimizer=rmsprop, input_units=5, init=normal, hidden_units=26, epochs=30, batch_size=128, total=   2.6s\n",
            "[CV] optimizer=rmsprop, input_units=5, init=normal, hidden_units=26, epochs=30, batch_size=128 \n",
            "[CV]  optimizer=rmsprop, input_units=5, init=normal, hidden_units=26, epochs=30, batch_size=128, total=   2.6s\n",
            "[CV] optimizer=rmsprop, input_units=5, init=normal, hidden_units=26, epochs=30, batch_size=128 \n",
            "[CV]  optimizer=rmsprop, input_units=5, init=normal, hidden_units=26, epochs=30, batch_size=128, total=   2.6s\n",
            "[CV] optimizer=rmsprop, input_units=5, init=normal, hidden_units=26, epochs=30, batch_size=128 \n",
            "[CV]  optimizer=rmsprop, input_units=5, init=normal, hidden_units=26, epochs=30, batch_size=128, total=   2.7s\n",
            "[CV] optimizer=adam, input_units=7, init=uniform, hidden_units=3, epochs=40, batch_size=128 \n",
            "[CV]  optimizer=adam, input_units=7, init=uniform, hidden_units=3, epochs=40, batch_size=128, total=   2.8s\n",
            "[CV] optimizer=adam, input_units=7, init=uniform, hidden_units=3, epochs=40, batch_size=128 \n",
            "[CV]  optimizer=adam, input_units=7, init=uniform, hidden_units=3, epochs=40, batch_size=128, total=   2.8s\n",
            "[CV] optimizer=adam, input_units=7, init=uniform, hidden_units=3, epochs=40, batch_size=128 \n",
            "[CV]  optimizer=adam, input_units=7, init=uniform, hidden_units=3, epochs=40, batch_size=128, total=   2.8s\n",
            "[CV] optimizer=adam, input_units=7, init=uniform, hidden_units=3, epochs=40, batch_size=128 \n",
            "[CV]  optimizer=adam, input_units=7, init=uniform, hidden_units=3, epochs=40, batch_size=128, total=   2.8s\n",
            "[CV] optimizer=adam, input_units=7, init=uniform, hidden_units=3, epochs=40, batch_size=128 \n",
            "[CV]  optimizer=adam, input_units=7, init=uniform, hidden_units=3, epochs=40, batch_size=128, total=   2.8s\n"
          ],
          "name": "stdout"
        },
        {
          "output_type": "stream",
          "text": [
            "[Parallel(n_jobs=1)]: Done 300 out of 300 | elapsed: 55.2min finished\n"
          ],
          "name": "stderr"
        },
        {
          "output_type": "error",
          "ename": "RuntimeError",
          "evalue": "ignored",
          "traceback": [
            "\u001b[0;31m---------------------------------------------------------------------------\u001b[0m",
            "\u001b[0;31mRuntimeError\u001b[0m                              Traceback (most recent call last)",
            "\u001b[0;32m<ipython-input-42-ccfdffd07e12>\u001b[0m in \u001b[0;36m<module>\u001b[0;34m()\u001b[0m\n\u001b[1;32m     58\u001b[0m     \u001b[0mverbose\u001b[0m\u001b[0;34m=\u001b[0m\u001b[0;36m2\u001b[0m\u001b[0;34m\u001b[0m\u001b[0;34m\u001b[0m\u001b[0m\n\u001b[1;32m     59\u001b[0m   )\n\u001b[0;32m---> 60\u001b[0;31m \u001b[0mgs\u001b[0m\u001b[0;34m.\u001b[0m\u001b[0mfit\u001b[0m\u001b[0;34m(\u001b[0m\u001b[0mX_train\u001b[0m\u001b[0;34m,\u001b[0m \u001b[0my_train\u001b[0m\u001b[0;34m)\u001b[0m\u001b[0;34m\u001b[0m\u001b[0;34m\u001b[0m\u001b[0m\n\u001b[0m",
            "\u001b[0;32m/usr/local/lib/python3.6/dist-packages/sklearn/model_selection/_search.py\u001b[0m in \u001b[0;36mfit\u001b[0;34m(self, X, y, groups, **fit_params)\u001b[0m\n\u001b[1;32m    734\u001b[0m             \u001b[0;31m# of the params are estimators as well.\u001b[0m\u001b[0;34m\u001b[0m\u001b[0;34m\u001b[0m\u001b[0;34m\u001b[0m\u001b[0m\n\u001b[1;32m    735\u001b[0m             self.best_estimator_ = clone(clone(base_estimator).set_params(\n\u001b[0;32m--> 736\u001b[0;31m                 **self.best_params_))\n\u001b[0m\u001b[1;32m    737\u001b[0m             \u001b[0mrefit_start_time\u001b[0m \u001b[0;34m=\u001b[0m \u001b[0mtime\u001b[0m\u001b[0;34m.\u001b[0m\u001b[0mtime\u001b[0m\u001b[0;34m(\u001b[0m\u001b[0;34m)\u001b[0m\u001b[0;34m\u001b[0m\u001b[0;34m\u001b[0m\u001b[0m\n\u001b[1;32m    738\u001b[0m             \u001b[0;32mif\u001b[0m \u001b[0my\u001b[0m \u001b[0;32mis\u001b[0m \u001b[0;32mnot\u001b[0m \u001b[0;32mNone\u001b[0m\u001b[0;34m:\u001b[0m\u001b[0;34m\u001b[0m\u001b[0;34m\u001b[0m\u001b[0m\n",
            "\u001b[0;32m/usr/local/lib/python3.6/dist-packages/sklearn/base.py\u001b[0m in \u001b[0;36mclone\u001b[0;34m(estimator, safe)\u001b[0m\n\u001b[1;32m     80\u001b[0m             raise RuntimeError('Cannot clone object %s, as the constructor '\n\u001b[1;32m     81\u001b[0m                                \u001b[0;34m'either does not set or modifies parameter %s'\u001b[0m \u001b[0;34m%\u001b[0m\u001b[0;34m\u001b[0m\u001b[0;34m\u001b[0m\u001b[0m\n\u001b[0;32m---> 82\u001b[0;31m                                (estimator, name))\n\u001b[0m\u001b[1;32m     83\u001b[0m     \u001b[0;32mreturn\u001b[0m \u001b[0mnew_object\u001b[0m\u001b[0;34m\u001b[0m\u001b[0;34m\u001b[0m\u001b[0m\n\u001b[1;32m     84\u001b[0m \u001b[0;34m\u001b[0m\u001b[0m\n",
            "\u001b[0;31mRuntimeError\u001b[0m: Cannot clone object <tensorflow.python.keras.wrappers.scikit_learn.KerasClassifier object at 0x7fdfb7ae5358>, as the constructor either does not set or modifies parameter input_units"
          ]
        }
      ]
    },
    {
      "cell_type": "code",
      "metadata": {
        "id": "KqJRpzKUUwE-",
        "colab_type": "code",
        "outputId": "1d609cbb-28f5-4ea2-964a-4c1ae5dd13fc",
        "colab": {
          "base_uri": "https://localhost:8080/",
          "height": 51
        }
      },
      "source": [
        "print(f'Best score: {gs.best_score_}')\n",
        "print(f'Best params: {gs.best_params_}')"
      ],
      "execution_count": 43,
      "outputs": [
        {
          "output_type": "stream",
          "text": [
            "Best score: 0.8605000019073487\n",
            "Best params: {'optimizer': 'adam', 'input_units': 17, 'init': 'uniform', 'hidden_units': 11, 'epochs': 140, 'batch_size': 64}\n"
          ],
          "name": "stdout"
        }
      ]
    },
    {
      "cell_type": "code",
      "metadata": {
        "id": "ZATxLQiyS_dP",
        "colab_type": "code",
        "colab": {
          "base_uri": "https://localhost:8080/",
          "height": 163
        },
        "outputId": "22c373f8-ae5c-481a-c661-ad557a338fa3"
      },
      "source": [
        "gs.best_estimator_"
      ],
      "execution_count": 47,
      "outputs": [
        {
          "output_type": "error",
          "ename": "AttributeError",
          "evalue": "ignored",
          "traceback": [
            "\u001b[0;31m---------------------------------------------------------------------------\u001b[0m",
            "\u001b[0;31mAttributeError\u001b[0m                            Traceback (most recent call last)",
            "\u001b[0;32m<ipython-input-47-50a4819aa4ed>\u001b[0m in \u001b[0;36m<module>\u001b[0;34m()\u001b[0m\n\u001b[0;32m----> 1\u001b[0;31m \u001b[0mgs\u001b[0m\u001b[0;34m.\u001b[0m\u001b[0mbest_estimator_\u001b[0m\u001b[0;34m\u001b[0m\u001b[0;34m\u001b[0m\u001b[0m\n\u001b[0m",
            "\u001b[0;31mAttributeError\u001b[0m: 'RandomizedSearchCV' object has no attribute 'best_estimator_'"
          ]
        }
      ]
    },
    {
      "cell_type": "code",
      "metadata": {
        "id": "CJOD4Yr2TCnx",
        "colab_type": "code",
        "outputId": "be6a6a8e-2fc7-4e79-aff9-73dfb4bcb2b3",
        "colab": {
          "base_uri": "https://localhost:8080/",
          "height": 153
        }
      },
      "source": [
        "# Spot checking with ML algorithms\n",
        "from sklearn.linear_model import LogisticRegression\n",
        "from sklearn.tree import DecisionTreeClassifier\n",
        "from sklearn.ensemble import RandomForestClassifier\n",
        "from sklearn.svm import SVC\n",
        "\n",
        "lr = LogisticRegression(random_state=seed)\n",
        "dt = DecisionTreeClassifier(random_state=seed)\n",
        "rf = RandomForestClassifier(random_state=seed)\n",
        "svc = SVC(random_state=seed)\n",
        "\n",
        "models = dict(lr=lr, dt=dt, rf=rf, svc=svc)\n",
        "#results = []\n",
        "\n",
        "for model_name, model in models.items():\n",
        "  model.fit(X_train, y_train)\n",
        "  result = model.score(X_test, y_test)\n",
        "  print(f'{model_name}: {result:.2f}')"
      ],
      "execution_count": 47,
      "outputs": [
        {
          "output_type": "stream",
          "text": [
            "/usr/local/lib/python3.6/dist-packages/sklearn/linear_model/logistic.py:432: FutureWarning: Default solver will be changed to 'lbfgs' in 0.22. Specify a solver to silence this warning.\n",
            "  FutureWarning)\n",
            "/usr/local/lib/python3.6/dist-packages/sklearn/ensemble/forest.py:245: FutureWarning: The default value of n_estimators will change from 10 in version 0.20 to 100 in 0.22.\n",
            "  \"10 in version 0.20 to 100 in 0.22.\", FutureWarning)\n"
          ],
          "name": "stderr"
        },
        {
          "output_type": "stream",
          "text": [
            "lr: 0.81\n",
            "dt: 0.80\n",
            "rf: 0.86\n",
            "svc: 0.86\n"
          ],
          "name": "stdout"
        }
      ]
    },
    {
      "cell_type": "code",
      "metadata": {
        "id": "Ypm2m4eFWzF8",
        "colab_type": "code",
        "colab": {}
      },
      "source": [
        ""
      ],
      "execution_count": 0,
      "outputs": []
    }
  ]
}