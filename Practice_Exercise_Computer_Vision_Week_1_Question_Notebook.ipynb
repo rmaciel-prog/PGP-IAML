{
  "nbformat": 4,
  "nbformat_minor": 0,
  "metadata": {
    "colab": {
      "name": "Practice_Exercise_Computer_Vision_Week_1 Question Notebook.ipynb",
      "provenance": [],
      "collapsed_sections": [],
      "toc_visible": true
    },
    "kernelspec": {
      "name": "python3",
      "display_name": "Python 3"
    }
  },
  "cells": [
    {
      "cell_type": "markdown",
      "metadata": {
        "id": "bo_zUiexKvEv",
        "colab_type": "text"
      },
      "source": [
        "## Welcome to the practice exercising on CV week 1: Working with images. \n",
        "#### In this practice exercise we will learn to use Open Computer Vision library and try to implement the learnings of the week.\n",
        "\n",
        "You can find more about the library <a href = \"https://opencv.org/\"> here</a>.\n",
        "\n"
      ]
    },
    {
      "cell_type": "markdown",
      "metadata": {
        "id": "yOJK1-c55bzK",
        "colab_type": "text"
      },
      "source": [
        "# Open Computer Vision Library (OpenCV):\n",
        "- **OpenCV** is a huge open-source **library** for **computer vision**, **machine learning**, and **image processing**.\n",
        "-  It can process images and videos to identify objects, faces, or even the handwriting of a human.\n",
        "- When it integrated with various libraries, such as **Numpy** (Python) is capable of processing the OpenCV array structure for analysis.\n",
        "- To Identify image pattern and its various features we use vector space and perform mathematical operations on these features.\n",
        "\n",
        "\n",
        "## Here we will cover the following topics:\n",
        "- Reading an image.\n",
        "- Extracting the RGB values of a pixel.\n",
        "- Display shape of Image.\n",
        "- Image as multidimensional array.\n",
        "- Save the image.\n",
        "- Resizing the Image.\n",
        "- Conversion of image to grayscale.\n",
        "- Gaussian blurring of image to reduce noise in the image.\n",
        "\n",
        "\n",
        "### We will encourage you first go through the functions and operations discussed below and then try to implement the same through the questions discussed below."
      ]
    },
    {
      "cell_type": "markdown",
      "metadata": {
        "id": "EHPhWk4o-8tE",
        "colab_type": "text"
      },
      "source": [
        "#### 1. The imread(), imshow() and the imwrite() function.\n",
        "- imread(): used to read the image. Refer to the image in the currently working directly or provide the full path to the image. \n",
        "-imshow(): used to display the image in a window. For colab operations, use <i>\"import from google.colab.patches import cv2_imshow()\"</i> to display the image. We will use the same in this practice.\n",
        "- imwrite(): save an image to the current working directory. You can use this to apply preprocessing to your images and then saving the edits.\n",
        "\n",
        "#### 2. The shape of the image\n",
        "- after reading the image, use the .shape to find the shape of the image.\n",
        "- Also, printing a read image outputs the numpy arrray implementation of the image and suggests that the image is saved as a numpy array in the object.\n",
        "\n",
        "#### 3. Resizing the image\n",
        "- use resize() function to resize the image to a desired size.\n",
        "Syntax - cv2.resize(image, (110, 110))\n",
        "\n",
        "#### 4. Converting an image\n",
        "- use cvtColor() to convert the images.<br> \n",
        "Syntax - cv2.cvtColor(image, code)<br>\n",
        "The functions takes arguments as the image and the coversion code that is to be performed on the passed image. To grayscale the images, use 'cv2.COLOR_BGR2GRAY' as the second argument.\n",
        "\n",
        "#### 5. Gaussian Blurring\n",
        "- use cv2.GaussianBlur() to apply a gaussian blur to the image.<br> \n",
        "Syntax - <i>cv2.GaussianBlur(image, (5, 5), 2).</i><br>\n",
        "The image is passed along with the kernel size (ex, cv2.GaussianBlur(image, (5, 5)) ). Play around with the kernel size and spot the differences in the blurring.\n",
        "\n",
        "\n",
        "\n",
        "Read more <a href = \"https://opencv-python-tutroals.readthedocs.io/en/latest/py_tutorials/py_gui/py_image_display/py_image_display.html\">here</a>. Note that the link refers to other related simple functions too. You can try them too.\n"
      ]
    },
    {
      "cell_type": "markdown",
      "metadata": {
        "id": "2rrMJtdA9WeI",
        "colab_type": "text"
      },
      "source": [
        "## Few additional details about images:\n",
        "- Computers 'look' at images as multidimensional arrays or matrices but they can also be treated like functions (ex. taking the derivative over an image's x-axis).\n",
        "- Below an image is loaded from the file system and loaded into memory. This matrix is 220 x 220 x 3 which represents the number of rows x number of columns x number of colour channels (RGB/BGR).\n",
        "- We can then plot that data to view the image.\n",
        "- Note: When images are loaded in OpenCV, they return BGR (blue, green, red) channels, where as matplotlib expects RGB (red, green, blue). Therefore, we need to convert the loaded image matrix from BGR to RGB."
      ]
    },
    {
      "cell_type": "markdown",
      "metadata": {
        "id": "i0QJnY2VNUIl",
        "colab_type": "text"
      },
      "source": [
        "### Now let us go ahead and try the operations on the an image.\n"
      ]
    },
    {
      "cell_type": "markdown",
      "metadata": {
        "id": "lxerPTIzNd-s",
        "colab_type": "text"
      },
      "source": [
        "Mount the drive\n"
      ]
    },
    {
      "cell_type": "code",
      "metadata": {
        "id": "y49EqBlFNgZQ",
        "colab_type": "code",
        "colab": {
          "base_uri": "https://localhost:8080/",
          "height": 125
        },
        "outputId": "70c6cb5e-0003-46da-c1f3-c3e2b77b545e"
      },
      "source": [
        "from google.colab import drive\n",
        "drive.mount('/content/drive')"
      ],
      "execution_count": 1,
      "outputs": [
        {
          "output_type": "stream",
          "text": [
            "Go to this URL in a browser: https://accounts.google.com/o/oauth2/auth?client_id=947318989803-6bn6qk8qdgf4n4g3pfee6491hc0brc4i.apps.googleusercontent.com&redirect_uri=urn%3aietf%3awg%3aoauth%3a2.0%3aoob&response_type=code&scope=email%20https%3a%2f%2fwww.googleapis.com%2fauth%2fdocs.test%20https%3a%2f%2fwww.googleapis.com%2fauth%2fdrive%20https%3a%2f%2fwww.googleapis.com%2fauth%2fdrive.photos.readonly%20https%3a%2f%2fwww.googleapis.com%2fauth%2fpeopleapi.readonly\n",
            "\n",
            "Enter your authorization code:\n",
            "··········\n",
            "Mounted at /content/drive\n"
          ],
          "name": "stdout"
        }
      ]
    },
    {
      "cell_type": "markdown",
      "metadata": {
        "id": "cPsE5nikQaLC",
        "colab_type": "text"
      },
      "source": [
        "Import the library and the related cv2_imshow"
      ]
    },
    {
      "cell_type": "code",
      "metadata": {
        "id": "hjldbxSAzPoI",
        "colab_type": "code",
        "colab": {}
      },
      "source": [
        "# Import necessary libraries.\n",
        "import cv2\n",
        "from google.colab.patches import cv2_imshow"
      ],
      "execution_count": 0,
      "outputs": []
    },
    {
      "cell_type": "markdown",
      "metadata": {
        "id": "p9nkRcYrLaUc",
        "colab_type": "text"
      },
      "source": [
        "## Read the image using cv2.imread() function "
      ]
    },
    {
      "cell_type": "code",
      "metadata": {
        "id": "UU2EYIrizmIF",
        "colab_type": "code",
        "colab": {}
      },
      "source": [
        "#your code here"
      ],
      "execution_count": 0,
      "outputs": []
    },
    {
      "cell_type": "markdown",
      "metadata": {
        "id": "ZTkhTAK5N3G7",
        "colab_type": "text"
      },
      "source": [
        "## Use the imshow() method to display the read image."
      ]
    },
    {
      "cell_type": "code",
      "metadata": {
        "id": "zwLQHc1aOO6Z",
        "colab_type": "code",
        "colab": {}
      },
      "source": [
        "#your code here"
      ],
      "execution_count": 0,
      "outputs": []
    },
    {
      "cell_type": "markdown",
      "metadata": {
        "id": "OJwS34x0QkjE",
        "colab_type": "text"
      },
      "source": [
        "## Print the shape of Image."
      ]
    },
    {
      "cell_type": "code",
      "metadata": {
        "id": "pQlhQX8_OPWR",
        "colab_type": "code",
        "colab": {}
      },
      "source": [
        "#your code here"
      ],
      "execution_count": 0,
      "outputs": []
    },
    {
      "cell_type": "markdown",
      "metadata": {
        "id": "CxqYw5pXRLKs",
        "colab_type": "text"
      },
      "source": [
        "### Print the numpy array equivalent of the image"
      ]
    },
    {
      "cell_type": "code",
      "metadata": {
        "id": "-jFGIloLRn-J",
        "colab_type": "code",
        "colab": {}
      },
      "source": [
        "#your code here"
      ],
      "execution_count": 0,
      "outputs": []
    },
    {
      "cell_type": "markdown",
      "metadata": {
        "id": "ix_jIbY_SP2a",
        "colab_type": "text"
      },
      "source": [
        "### Save the image as a .jpg image using cv2.imwrite() method \n"
      ]
    },
    {
      "cell_type": "code",
      "metadata": {
        "id": "di-3iaBwSI4B",
        "colab_type": "code",
        "colab": {}
      },
      "source": [
        "#your code here"
      ],
      "execution_count": 0,
      "outputs": []
    },
    {
      "cell_type": "markdown",
      "metadata": {
        "id": "_aa153dhSvRy",
        "colab_type": "text"
      },
      "source": [
        "## Image Resizing using OpenCV:\n",
        "- Image resizing refers to scaling of images.\n",
        "-  It helps in reducing the number of pixels from an image and that has several advantages e.g. It can reduce the time of training of a neural network as more is the number of pixels in an image more is the number of input nodes that in turn increases the complexity of the model.\n",
        "- It also helps in zooming in images.\n",
        "- Many times we need to resize the image i.e. either shirk it or scale up to meet the size requirements."
      ]
    },
    {
      "cell_type": "markdown",
      "metadata": {
        "id": "B537Fg67RI9N",
        "colab_type": "text"
      },
      "source": [
        "### Try resizing the image to half and double the original sizes."
      ]
    },
    {
      "cell_type": "code",
      "metadata": {
        "id": "FwkZxMGKTJ4v",
        "colab_type": "code",
        "colab": {}
      },
      "source": [
        "#your code here"
      ],
      "execution_count": 0,
      "outputs": []
    },
    {
      "cell_type": "markdown",
      "metadata": {
        "id": "lJHppVV-UOem",
        "colab_type": "text"
      },
      "source": [
        "# Grayscaling of Images using OpenCV:\n",
        "- Grayscaling is the process of converting an image from other color spaces e.g RGB, CMYK, HSV, etc. to shades of gray. It varies between complete black and complete white.\n",
        "\n",
        "## Importance of grayscaling:\n",
        "- **Dimension reduction:** For e.g. In RGB images there are three color channels and has three dimensions while grayscaled images are single dimensional.\n",
        "- **Reduces model complexity:** Consider training neural article on RGB images of 10x10x3 pixel.The input layer will have 300 input nodes. On the other hand, the same neural network will need only 100 input node for grayscaled images.\n",
        "- **For other algorithms to work:** There are many algorithms that are customized to work only on grayscaled images e.g. Canny edge detection function pre-implemented in OpenCV library works on Grayscaled images only."
      ]
    },
    {
      "cell_type": "markdown",
      "metadata": {
        "id": "HMKgOQnJRRPG",
        "colab_type": "text"
      },
      "source": [
        "### Convert the BGR image to grayscale"
      ]
    },
    {
      "cell_type": "code",
      "metadata": {
        "id": "TolwSNBX1rww",
        "colab_type": "code",
        "colab": {}
      },
      "source": [
        "#your code here"
      ],
      "execution_count": 0,
      "outputs": []
    },
    {
      "cell_type": "markdown",
      "metadata": {
        "id": "YFPvdnfRVd7B",
        "colab_type": "text"
      },
      "source": [
        "# Image blurring using OpenCV:\n",
        "- Image Blurring refers to making the image less clear or distinct. It is done with the help of various low pass filter kernels.\n",
        "\n",
        "## Advantages of blurring:\n",
        "- It helps in **Noise removal**. As noise is considered as high pass signal so by the application of low pass filter kernel we restrict noise.\n",
        "- It helps in **smoothing the image**.\n",
        "- **Low intensity edges are removed**.\n",
        "- It helps in **hiding the details when necessary**. For e.g. in many cases police deliberately want to hide the face of the victim, in such cases blurring is required.\n",
        "\n",
        "# Important types of blurring:\n",
        "- **Gaussian Blurring:** Gaussian blur is the result of blurring an image by a Gaussian function.\n",
        "- It is a widely used effect in graphics software, typically to **reduce image noise** and **reduce detail**. It is also used as a **preprocessing** stage before applying our machine learning or deep learning models.\n",
        "- We should specify the *width* and *height* of the **kernel** which should be **positive and odd**. We also should specify the standard deviation in the  X and Y directions, sigmaX and sigmaY respectively. If only sigmaX is specified, sigmaY is taken as equal to sigmaX."
      ]
    },
    {
      "cell_type": "markdown",
      "metadata": {
        "id": "z3QL6KCYRZgl",
        "colab_type": "text"
      },
      "source": [
        "### Blur the image with a kernel size of (5,5) and (15,15). \n",
        "Syntax: cv2.GaussianBlur(image, (5, 5), 0). Note the third mandatory argument. "
      ]
    },
    {
      "cell_type": "code",
      "metadata": {
        "id": "y2zg7kVMWMjL",
        "colab_type": "code",
        "colab": {}
      },
      "source": [
        "#your code here"
      ],
      "execution_count": 0,
      "outputs": []
    },
    {
      "cell_type": "markdown",
      "metadata": {
        "id": "R52U_ykIPdMm",
        "colab_type": "text"
      },
      "source": [
        "That all in this practice exercise, please go through it and be ready for the mentor learning session.\n",
        "\n",
        "Happy Learning!"
      ]
    },
    {
      "cell_type": "code",
      "metadata": {
        "id": "QR-xQNNZPqlz",
        "colab_type": "code",
        "colab": {}
      },
      "source": [
        ""
      ],
      "execution_count": 0,
      "outputs": []
    }
  ]
}