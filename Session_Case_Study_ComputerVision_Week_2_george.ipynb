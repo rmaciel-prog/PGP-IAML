{
  "nbformat": 4,
  "nbformat_minor": 0,
  "metadata": {
    "colab": {
      "name": "Session_Case_Study_ComputerVision_Week_2.ipynb",
      "provenance": [],
      "collapsed_sections": []
    },
    "kernelspec": {
      "name": "python3",
      "display_name": "Python 3"
    },
    "accelerator": "GPU"
  },
  "cells": [
    {
      "cell_type": "markdown",
      "metadata": {
        "id": "nQl-nIDDCA53",
        "colab_type": "text"
      },
      "source": [
        "# Case Study - Image Classification using Deep CNN in Keras.\n"
      ]
    },
    {
      "cell_type": "markdown",
      "metadata": {
        "id": "dFEKKMXICF9X",
        "colab_type": "text"
      },
      "source": [
        "<h1>Context<h1/>\n",
        "\n",
        "- The CIFAR-10 dataset contains 60,000 32x32 color images in 10 different classes.\n",
        "- The 10 different classes represent airplanes, cars, birds, cats, deer, dogs, frogs, horses, ships, and trucks.\n",
        "- There are 6,000 images of each class.\n",
        "\n",
        "<h2>Understand the labels:<h2/>\n",
        "\n",
        "- airplane : 0\n",
        "- automobile : 1\n",
        "- bird : 2\n",
        "- cat : 3\n",
        "- deer : 4\n",
        "- dog : 5\n",
        "- frog : 6\n",
        "- horse : 7\n",
        "- ship : 8\n",
        "- truck : 9"
      ]
    },
    {
      "cell_type": "markdown",
      "metadata": {
        "id": "Epsl8aAGNPej",
        "colab_type": "text"
      },
      "source": [
        "## George's Challenge\n",
        "What type of classification is this?"
      ]
    },
    {
      "cell_type": "markdown",
      "metadata": {
        "id": "iNIN3s1kHmTB",
        "colab_type": "text"
      },
      "source": [
        "<h1>Problem Statement<h1/>\n",
        "\n",
        "- Image Classification using Deep CNN in Keras and also some edge detection operation.\n"
      ]
    },
    {
      "cell_type": "markdown",
      "metadata": {
        "id": "BoVbZ22GICCo",
        "colab_type": "text"
      },
      "source": [
        "<h1>Import all necessary modules and load the data<h1/>"
      ]
    },
    {
      "cell_type": "code",
      "metadata": {
        "id": "r6bjW33oQvDs",
        "colab_type": "code",
        "colab": {}
      },
      "source": [
        "# Import necessary modules.\n",
        "import numpy as np\n",
        "\n",
        "from tensorflow import keras\n",
        "from tensorflow.keras.datasets import cifar10\n",
        "from tensorflow.keras.preprocessing.image import ImageDataGenerator\n",
        "from tensorflow.keras.models import Sequential\n",
        "from tensorflow.keras.layers import Dense, Dropout, Activation, Flatten\n",
        "from tensorflow.keras.layers import Conv2D, MaxPooling2D\n",
        "from tensorflow.keras.callbacks import ModelCheckpoint, EarlyStopping\n",
        "import matplotlib.pyplot as plt\n",
        "%matplotlib inline\n",
        "import cv2\n",
        "from google.colab.patches import cv2_imshow"
      ],
      "execution_count": 1,
      "outputs": []
    },
    {
      "cell_type": "code",
      "metadata": {
        "id": "e21_TQyARLdf",
        "colab_type": "code",
        "colab": {}
      },
      "source": [
        "# Set the batch size, number of epochs.\n",
        "batch_size = 32\n",
        "num_classes = 10\n",
        "epochs = 30\n",
        "num_predictions = 20"
      ],
      "execution_count": 3,
      "outputs": []
    },
    {
      "cell_type": "code",
      "metadata": {
        "id": "Ag1mlSAiRSsR",
        "colab_type": "code",
        "colab": {
          "base_uri": "https://localhost:8080/",
          "height": 51
        },
        "outputId": "b19cec14-a841-4c43-abdf-b19f052fd3e2"
      },
      "source": [
        "# The data, split between train and test sets:\n",
        "(x_train, y_train), (x_test, y_test) = cifar10.load_data()"
      ],
      "execution_count": 4,
      "outputs": [
        {
          "output_type": "stream",
          "text": [
            "Downloading data from https://www.cs.toronto.edu/~kriz/cifar-10-python.tar.gz\n",
            "170500096/170498071 [==============================] - 6s 0us/step\n"
          ],
          "name": "stdout"
        }
      ]
    },
    {
      "cell_type": "code",
      "metadata": {
        "id": "3pXTYLk2Idol",
        "colab_type": "code",
        "colab": {
          "base_uri": "https://localhost:8080/",
          "height": 68
        },
        "outputId": "6ddfe6e3-a639-4edd-a1b4-2f882503c7d9"
      },
      "source": [
        "# Print the shape of dataset.\n",
        "print('x_train shape:', x_train.shape)\n",
        "print(x_train.shape[0], 'train samples')\n",
        "print(x_test.shape[0], 'test samples')"
      ],
      "execution_count": 5,
      "outputs": [
        {
          "output_type": "stream",
          "text": [
            "x_train shape: (50000, 32, 32, 3)\n",
            "50000 train samples\n",
            "10000 test samples\n"
          ],
          "name": "stdout"
        }
      ]
    },
    {
      "cell_type": "code",
      "metadata": {
        "id": "j-wVAMfGnFij",
        "colab_type": "code",
        "colab": {
          "base_uri": "https://localhost:8080/",
          "height": 34
        },
        "outputId": "6a969d38-dc24-4286-9e86-7bc131bdc3dd"
      },
      "source": [
        "y_train.shape"
      ],
      "execution_count": 6,
      "outputs": [
        {
          "output_type": "execute_result",
          "data": {
            "text/plain": [
              "(50000, 1)"
            ]
          },
          "metadata": {
            "tags": []
          },
          "execution_count": 6
        }
      ]
    },
    {
      "cell_type": "markdown",
      "metadata": {
        "id": "b4EU-Du3CeCr",
        "colab_type": "text"
      },
      "source": [
        "- The training set contains 50000 images.\n",
        "- The size of each image is 32x32 pixels.\n",
        "- Each image has 3 color channels."
      ]
    },
    {
      "cell_type": "code",
      "metadata": {
        "id": "K-5Y28Hf7-tq",
        "colab_type": "code",
        "colab": {
          "base_uri": "https://localhost:8080/",
          "height": 34
        },
        "outputId": "2951b3f0-408e-4e69-c49e-acd84aedfb11"
      },
      "source": [
        "y_train[0]"
      ],
      "execution_count": 7,
      "outputs": [
        {
          "output_type": "execute_result",
          "data": {
            "text/plain": [
              "array([6], dtype=uint8)"
            ]
          },
          "metadata": {
            "tags": []
          },
          "execution_count": 7
        }
      ]
    },
    {
      "cell_type": "markdown",
      "metadata": {
        "id": "mnXS2u8UNgv_",
        "colab_type": "text"
      },
      "source": [
        "## George's Challenge\n",
        "- How to select the 10th image?\n",
        "- How to get the red pixels only?\n",
        "- What is the shape of resulting array?"
      ]
    },
    {
      "cell_type": "markdown",
      "metadata": {
        "id": "bVWDHNjrCy9P",
        "colab_type": "text"
      },
      "source": [
        "- The label of image at index = 0 is 6:\"frog\"."
      ]
    },
    {
      "cell_type": "code",
      "metadata": {
        "id": "s12yUeMB662K",
        "colab_type": "code",
        "colab": {}
      },
      "source": [
        "label_dict =  {0:'airplane', 1:'automobile', 2:'bird', 3:'cat', 4:'deer', 5:'dog', 6:'frog', 7:'horse', 8:'ship', 9:'truck'}"
      ],
      "execution_count": 14,
      "outputs": []
    },
    {
      "cell_type": "markdown",
      "metadata": {
        "id": "oKIYRyxsxCeK",
        "colab_type": "text"
      },
      "source": [
        "\n",
        "<h2>Explore the Data<h3/>\n",
        "\n",
        "- Understanding a dataset is part of making predictions on the data. \n",
        "- It answers some of questions like in a given data..\n",
        "  - \"What are the possible labels?\"\n",
        "  - \"What is the range of pixel values for the image data?\"\n"
      ]
    },
    {
      "cell_type": "code",
      "metadata": {
        "id": "66qUQg6OxcsL",
        "colab_type": "code",
        "colab": {
          "base_uri": "https://localhost:8080/",
          "height": 317
        },
        "outputId": "d78c6ca8-d35b-4ea0-97f2-0161e18b5f95"
      },
      "source": [
        "i = 0\n",
        "image = x_train[i]\n",
        "label = y_train[i][0]\n",
        "print(' Label \\n Label Id: {} \\n Name: {}'.format(label, label_dict[label]))\n",
        "plt.imshow(image);"
      ],
      "execution_count": 15,
      "outputs": [
        {
          "output_type": "stream",
          "text": [
            " Label \n",
            " Label Id: 6 \n",
            " Name: frog\n"
          ],
          "name": "stdout"
        },
        {
          "output_type": "display_data",
          "data": {
            "image/png": "[encoded data removed]",
            "text/plain": [
              "<Figure size 432x288 with 1 Axes>"
            ]
          },
          "metadata": {
            "tags": [],
            "needs_background": "light"
          }
        }
      ]
    },
    {
      "cell_type": "markdown",
      "metadata": {
        "id": "TZKivFaZDB7I",
        "colab_type": "text"
      },
      "source": [
        "- The above image of a frog.\n",
        "- The Label ID is 6.\n",
        "- As we can see the x-axis and y-axis of image, it shows that there are 32 pixels on each directions."
      ]
    },
    {
      "cell_type": "code",
      "metadata": {
        "id": "SMOKU7ZxPOrJ",
        "colab_type": "code",
        "colab": {
          "base_uri": "https://localhost:8080/",
          "height": 34
        },
        "outputId": "5d389036-265d-4444-9673-d08496d35c47"
      },
      "source": [
        "image.shape"
      ],
      "execution_count": 16,
      "outputs": [
        {
          "output_type": "execute_result",
          "data": {
            "text/plain": [
              "(32, 32, 3)"
            ]
          },
          "metadata": {
            "tags": []
          },
          "execution_count": 16
        }
      ]
    },
    {
      "cell_type": "markdown",
      "metadata": {
        "id": "jGR-V6nLnllx",
        "colab_type": "text"
      },
      "source": [
        "## George's Challenge\n",
        "- Without checking, what is the shape of `image`\n",
        "- How to rewrite the print statement using `f-string`?\n",
        "- Why do we need to use `[0]` in `label = y_train[i][0]`?"
      ]
    },
    {
      "cell_type": "code",
      "metadata": {
        "id": "aq0rkOOT8nfI",
        "colab_type": "code",
        "colab": {
          "base_uri": "https://localhost:8080/",
          "height": 300
        },
        "outputId": "a57b158f-9e3a-441f-b950-f9d8ed7e7772"
      },
      "source": [
        "sobel = cv2.Sobel(image, cv2.CV_64F, 1, 1, ksize=5)\n",
        "plt.imshow(sobel)"
      ],
      "execution_count": 21,
      "outputs": [
        {
          "output_type": "stream",
          "text": [
            "Clipping input data to the valid range for imshow with RGB data ([0..1] for floats or [0..255] for integers).\n"
          ],
          "name": "stderr"
        },
        {
          "output_type": "execute_result",
          "data": {
            "text/plain": [
              "<matplotlib.image.AxesImage at 0x7fdd327e8dd8>"
            ]
          },
          "metadata": {
            "tags": []
          },
          "execution_count": 21
        },
        {
          "output_type": "display_data",
          "data": {
            "image/png": "[encoded data removed]",
            "text/plain": [
              "<Figure size 432x288 with 1 Axes>"
            ]
          },
          "metadata": {
            "tags": [],
            "needs_background": "light"
          }
        }
      ]
    },
    {
      "cell_type": "markdown",
      "metadata": {
        "id": "_0ghOfUzDRP3",
        "colab_type": "text"
      },
      "source": [
        "- As the image quality is not good, the edges are not so good. But still we can visualize that there are edges."
      ]
    },
    {
      "cell_type": "code",
      "metadata": {
        "id": "l7kVqDH8RUNr",
        "colab_type": "code",
        "colab": {}
      },
      "source": [
        "#Convert class vectors to binary class matrices.\n",
        "## One hot encore labels 0, 1, .., 9 to [0, 0, .., 1, 0, 0]\n",
        "y_train = keras.utils.to_categorical(y_train, num_classes)\n",
        "y_test = keras.utils.to_categorical(y_test, num_classes)"
      ],
      "execution_count": 22,
      "outputs": []
    },
    {
      "cell_type": "markdown",
      "metadata": {
        "id": "ZXcwUyNdvuet",
        "colab_type": "text"
      },
      "source": [
        "## George's Challenge\n",
        "Why do we need to one-hot encode the labels?"
      ]
    },
    {
      "cell_type": "markdown",
      "metadata": {
        "id": "8xlCscLsouHY",
        "colab_type": "text"
      },
      "source": [
        "## George's Tip\n",
        "There are many tools to one-hot encode and they differ in syntax, but the keras one is probably best implemented.\n",
        "- `keras.utils.to_categorical`\n",
        "- `sklearn.preprocessing.OneHotEncoder`\n",
        "- `pandas get_dummies`"
      ]
    },
    {
      "cell_type": "code",
      "metadata": {
        "id": "UWSN8LRypurr",
        "colab_type": "code",
        "colab": {}
      },
      "source": [
        "import pandas as pd\n",
        "from sklearn.preprocessing import OneHotEncoder\n",
        "y = [[0], [1], [2], [3]]"
      ],
      "execution_count": 23,
      "outputs": []
    },
    {
      "cell_type": "code",
      "metadata": {
        "id": "s8LkvYcVwJL9",
        "colab_type": "code",
        "colab": {
          "base_uri": "https://localhost:8080/",
          "height": 85
        },
        "outputId": "689ae1ae-2ae9-4691-a2b9-ef5990d15b85"
      },
      "source": [
        "keras.utils.to_categorical(y)"
      ],
      "execution_count": 24,
      "outputs": [
        {
          "output_type": "execute_result",
          "data": {
            "text/plain": [
              "array([[1., 0., 0., 0.],\n",
              "       [0., 1., 0., 0.],\n",
              "       [0., 0., 1., 0.],\n",
              "       [0., 0., 0., 1.]], dtype=float32)"
            ]
          },
          "metadata": {
            "tags": []
          },
          "execution_count": 24
        }
      ]
    },
    {
      "cell_type": "code",
      "metadata": {
        "id": "nycvBjOiwN4a",
        "colab_type": "code",
        "colab": {
          "base_uri": "https://localhost:8080/",
          "height": 85
        },
        "outputId": "62a376a6-3304-46ee-c77f-0c1928889cf3"
      },
      "source": [
        "ohe = OneHotEncoder()\n",
        "ohe.fit_transform(y).toarray()"
      ],
      "execution_count": 27,
      "outputs": [
        {
          "output_type": "execute_result",
          "data": {
            "text/plain": [
              "array([[1., 0., 0., 0.],\n",
              "       [0., 1., 0., 0.],\n",
              "       [0., 0., 1., 0.],\n",
              "       [0., 0., 0., 1.]])"
            ]
          },
          "metadata": {
            "tags": []
          },
          "execution_count": 27
        }
      ]
    },
    {
      "cell_type": "code",
      "metadata": {
        "id": "5k4jHGiSwR0F",
        "colab_type": "code",
        "colab": {
          "base_uri": "https://localhost:8080/",
          "height": 85
        },
        "outputId": "01d728a5-104b-4b76-b6a5-88da7cf50fd3"
      },
      "source": [
        "y = [0, 1, 2, 3]\n",
        "pd.get_dummies(y).values"
      ],
      "execution_count": 30,
      "outputs": [
        {
          "output_type": "execute_result",
          "data": {
            "text/plain": [
              "array([[1, 0, 0, 0],\n",
              "       [0, 1, 0, 0],\n",
              "       [0, 0, 1, 0],\n",
              "       [0, 0, 0, 1]], dtype=uint8)"
            ]
          },
          "metadata": {
            "tags": []
          },
          "execution_count": 30
        }
      ]
    },
    {
      "cell_type": "markdown",
      "metadata": {
        "id": "lRk1hd2llEXG",
        "colab_type": "text"
      },
      "source": [
        "<h1>Create the Model:<h1/>\n",
        "\n",
        "- Convolutional input layer, 32 feature maps with a size of 3×3 and a rectifier activation function.\n",
        "- Convolutional layer, 32 feature maps with a size of 3×3 and a rectifier activation function.\n",
        "- Max Pool layer with size 2×2.\n",
        "- Dropout layer at 25%.\n",
        "---\n",
        "- Convolutional layer, 64 feature maps with a size of 3×3 and a rectifier activation function.\n",
        "- Convolutional layer, 64 feature maps with a size of 3×3 and a rectifier activation function.\n",
        "- Max Pool layer with size 2×2.\n",
        "- Dropout layer at 25%.\n",
        "---\n",
        "- Flatten layer.\n",
        "- Fully connected layer with 512 units and a rectifier activation function.\n",
        "- Dropout layer at 50%.\n",
        "- Fully connected output layer with 10 units and a softmax activation function.\n"
      ]
    },
    {
      "cell_type": "code",
      "metadata": {
        "colab_type": "code",
        "id": "4vMBaDiHRcdt",
        "colab": {}
      },
      "source": [
        "# Create the model\n",
        "model = Sequential()\n",
        "model.add(Conv2D(32, (3, 3), padding='same',\n",
        "                 input_shape=x_train.shape[1:]))\n",
        "model.add(Activation('relu'))\n",
        "model.add(Conv2D(32, (3, 3)))\n",
        "model.add(Activation('relu'))\n",
        "model.add(MaxPooling2D(pool_size=(2, 2)))\n",
        "model.add(Dropout(0.25))\n",
        "\n",
        "model.add(Conv2D(64, (3, 3), padding='same'))\n",
        "model.add(Activation('relu'))\n",
        "model.add(Conv2D(64, (3, 3)))\n",
        "model.add(Activation('relu'))\n",
        "model.add(MaxPooling2D(pool_size=(2, 2)))\n",
        "model.add(Dropout(0.25))\n",
        "\n",
        "model.add(Flatten())\n",
        "model.add(Dense(512))\n",
        "model.add(Activation('relu'))\n",
        "model.add(Dropout(0.5))\n",
        "model.add(Dense(num_classes))\n",
        "model.add(Activation('softmax'))"
      ],
      "execution_count": 31,
      "outputs": []
    },
    {
      "cell_type": "markdown",
      "metadata": {
        "id": "aDIcfXrV0zRH",
        "colab_type": "text"
      },
      "source": [
        "## George's Tip\n",
        "> Activations can either be used through an Activation layer, or through the activation argument supported by all forward layers.\n",
        "\n",
        "https://keras.io/api/layers/activations/"
      ]
    },
    {
      "cell_type": "markdown",
      "metadata": {
        "id": "AGK2OEtgFbF1",
        "colab_type": "text"
      },
      "source": [
        "<h3>Conv2D:<h3/>\n",
        "\n",
        "- Keras Conv2D is a 2D Convolution Layer, this layer creates a convolution kernel that is wind with layers input which helps produce a tensor of outputs.\n",
        "\n",
        "<h3>Activation('relu'):<h3/>\n",
        "\n",
        "- 'relu' stands for Rectified linear unit. It is the most widely used activation function. Chiefly implemented in hidden layers of Neural network.\n",
        "- ReLu is less computationally expensive than tanh and sigmoid because it involves simpler mathematical operations. At a time only a few neurons are activated making the network sparse making it efficient and easy for computation.\n",
        "\n",
        "<h3>MaxPooling2D:<h3/>\n",
        "\n",
        "- The objective of MaxPooling Layer is to down-sample an input representation.\n",
        "- This is done to in part to help over-fitting by providing an abstracted form of the representation. As well, it reduces the computational cost by reducing the number of parameters to learn.\n",
        "\n",
        "<h3>Dropout:<h3/>\n",
        "\n",
        "- Dropout is a technique used to improve over-fit on neural networks.\n",
        "- Basically during training half of neurons on a particular layer will be deactivated. This improve generalization.\n",
        "- Normally some deep learning models use Dropout on the fully connected layers, but is also possible to use dropout after the max-pooling layers, creating some kind of image noise augmentation.\n",
        "\n",
        "<h3>Dense:<h3/>\n",
        "\n",
        "- Dense layer implements the operation: output = activation(dot(input, kernel) + bias) where activation is the element-wise activation function passed as the activation argument, kernel is a weights matrix created by the layer, and bias is a bias vector created by the layer (only applicable if use_bias is True).\n",
        "\n",
        "<h3>Softmax:<h3/>\n",
        "\n",
        "- The softmax function is also a type of sigmoid function but is handy when we are trying to handle classification problems.\n",
        "- Usually used when trying to handle multiple classes. The softmax function would squeeze the outputs for each class between 0 and 1 and would also divide by the sum of the outputs.\n",
        "______________"
      ]
    },
    {
      "cell_type": "markdown",
      "metadata": {
        "id": "kjBlo11J3GHg",
        "colab_type": "text"
      },
      "source": [
        "## George's Challenge\n",
        "How to handle multilabel classification?"
      ]
    },
    {
      "cell_type": "markdown",
      "metadata": {
        "id": "j9Bltmc3mFhQ",
        "colab_type": "text"
      },
      "source": [
        "<h4>When training the network, what you want is minimize the cost by applying a algorithm of your choice. It could be SGD, AdamOptimizer, AdagradOptimizer, or something. You have to study how each algorithm works to choose what to use, but AdamOptimizer works find for most cases in general.<h4/>"
      ]
    },
    {
      "cell_type": "code",
      "metadata": {
        "id": "WwbnUwjGReRR",
        "colab_type": "code",
        "colab": {}
      },
      "source": [
        "# initiate Adam optimizer\n",
        "opt = keras.optimizers.Adam(learning_rate=0.0001)"
      ],
      "execution_count": 34,
      "outputs": []
    },
    {
      "cell_type": "code",
      "metadata": {
        "id": "eDiEZTmyRfmx",
        "colab_type": "code",
        "colab": {}
      },
      "source": [
        "# Let's train the model using RMSprop\n",
        "model.compile(loss='categorical_crossentropy',\n",
        "              optimizer=opt,\n",
        "              metrics=['accuracy'])"
      ],
      "execution_count": 35,
      "outputs": []
    },
    {
      "cell_type": "markdown",
      "metadata": {
        "id": "NIAu9SmeSbT_",
        "colab_type": "text"
      },
      "source": [
        "## George's Tip\n",
        "Which loss function to use? It depends :)\n",
        "\n",
        "https://stackoverflow.com/questions/42081257/why-binary-crossentropy-and-categorical-crossentropy-give-different-performances"
      ]
    },
    {
      "cell_type": "code",
      "metadata": {
        "id": "0uN0HlTjK5ZL",
        "colab_type": "code",
        "colab": {
          "base_uri": "https://localhost:8080/",
          "height": 765
        },
        "outputId": "32a16cbb-5a97-421b-ca07-5af4dd2aa425"
      },
      "source": [
        "# Network structure is summarized which confirms our design was implemented correctly.\n",
        "model.summary()"
      ],
      "execution_count": 36,
      "outputs": [
        {
          "output_type": "stream",
          "text": [
            "Model: \"sequential\"\n",
            "_________________________________________________________________\n",
            "Layer (type)                 Output Shape              Param #   \n",
            "=================================================================\n",
            "conv2d (Conv2D)              (None, 32, 32, 32)        896       \n",
            "_________________________________________________________________\n",
            "activation (Activation)      (None, 32, 32, 32)        0         \n",
            "_________________________________________________________________\n",
            "conv2d_1 (Conv2D)            (None, 30, 30, 32)        9248      \n",
            "_________________________________________________________________\n",
            "activation_1 (Activation)    (None, 30, 30, 32)        0         \n",
            "_________________________________________________________________\n",
            "max_pooling2d (MaxPooling2D) (None, 15, 15, 32)        0         \n",
            "_________________________________________________________________\n",
            "dropout (Dropout)            (None, 15, 15, 32)        0         \n",
            "_________________________________________________________________\n",
            "conv2d_2 (Conv2D)            (None, 15, 15, 64)        18496     \n",
            "_________________________________________________________________\n",
            "activation_2 (Activation)    (None, 15, 15, 64)        0         \n",
            "_________________________________________________________________\n",
            "conv2d_3 (Conv2D)            (None, 13, 13, 64)        36928     \n",
            "_________________________________________________________________\n",
            "activation_3 (Activation)    (None, 13, 13, 64)        0         \n",
            "_________________________________________________________________\n",
            "max_pooling2d_1 (MaxPooling2 (None, 6, 6, 64)          0         \n",
            "_________________________________________________________________\n",
            "dropout_1 (Dropout)          (None, 6, 6, 64)          0         \n",
            "_________________________________________________________________\n",
            "flatten (Flatten)            (None, 2304)              0         \n",
            "_________________________________________________________________\n",
            "dense (Dense)                (None, 512)               1180160   \n",
            "_________________________________________________________________\n",
            "activation_4 (Activation)    (None, 512)               0         \n",
            "_________________________________________________________________\n",
            "dropout_2 (Dropout)          (None, 512)               0         \n",
            "_________________________________________________________________\n",
            "dense_1 (Dense)              (None, 10)                5130      \n",
            "_________________________________________________________________\n",
            "activation_5 (Activation)    (None, 10)                0         \n",
            "=================================================================\n",
            "Total params: 1,250,858\n",
            "Trainable params: 1,250,858\n",
            "Non-trainable params: 0\n",
            "_________________________________________________________________\n"
          ],
          "name": "stdout"
        }
      ]
    },
    {
      "cell_type": "markdown",
      "metadata": {
        "id": "qXHjbtgluIyn",
        "colab_type": "text"
      },
      "source": [
        "- The pixel values are in the range of 0 to 255 for each of the red, green and blue channels.\n",
        "\n",
        "- It is good practice to work with normalized data. Because the input values are well understood, we can easily normalize to the range 0 to 1 by dividing each value by the maximum observation which is 255.\n",
        "\n",
        "- Note, the data is loaded as integers, so we must cast it to floating point values in order to perform the division."
      ]
    },
    {
      "cell_type": "code",
      "metadata": {
        "id": "fdy_QO9tRifH",
        "colab_type": "code",
        "colab": {}
      },
      "source": [
        "x_train = x_train.astype('float32') # Conversion to float type from integer type.\n",
        "x_test = x_test.astype('float32')\n",
        "x_train /= 255.0 # Division by 255\n",
        "x_test /= 255.0"
      ],
      "execution_count": 38,
      "outputs": []
    },
    {
      "cell_type": "code",
      "metadata": {
        "id": "Hbe2G_w9bvNh",
        "colab_type": "code",
        "colab": {
          "base_uri": "https://localhost:8080/",
          "height": 34
        },
        "outputId": "c34c0b9f-1db1-48a2-a098-d756ebb07363"
      },
      "source": [
        "#Adding Early stopping callback to the fit function is going to stop the training,\n",
        "#if the val_loss is not going to change even '0.001' for more than 10 continous epochs\n",
        "from tensorflow.keras.callbacks import ModelCheckpoint, EarlyStopping\n",
        "\n",
        "early_stopping = EarlyStopping(monitor='val_loss', min_delta=0.001, patience=10)\n",
        "\n",
        "#Adding Model Checkpoint callback to the fit function is going to save the weights whenever val_loss achieves a new low value. \n",
        "#Hence saving the best weights occurred during training\n",
        "\n",
        "model_checkpoint =  ModelCheckpoint('cifar_cnn_checkpoint_{epoch:02d}_loss{val_loss:.4f}.h5',\n",
        "                                                           monitor='val_loss',\n",
        "                                                           verbose=1,\n",
        "                                                           save_best_only=True,\n",
        "                                                           save_weights_only=True,\n",
        "                                                           mode='auto',\n",
        "                                                           period=1)"
      ],
      "execution_count": 39,
      "outputs": [
        {
          "output_type": "stream",
          "text": [
            "WARNING:tensorflow:`period` argument is deprecated. Please use `save_freq` to specify the frequency in number of batches seen.\n"
          ],
          "name": "stdout"
        }
      ]
    },
    {
      "cell_type": "markdown",
      "metadata": {
        "id": "f7kTtlDB2jxX",
        "colab_type": "text"
      },
      "source": [
        "## George's Tip\n",
        "> Passing an integer after the ':' will cause that field to be a minimum number of characters wide. This is useful for making columns line up.\n",
        "\n",
        "https://docs.python.org/3/tutorial/inputoutput.html#:~:text=There%20are%20several%20ways%20to%20format%20output.,to%20variables%20or%20literal%20values."
      ]
    },
    {
      "cell_type": "markdown",
      "metadata": {
        "id": "7aG-R9GYunmf",
        "colab_type": "text"
      },
      "source": [
        "<h2>Fit the model:<h2/>\n",
        "\n",
        "-  We can fit this model with 30 epochs and a batch size of 32.\n",
        "\n",
        "- A small number of epochs was chosen to quickly run the code so we can understand the concepts ahead. Normally the number of epochs would be one or two orders of magnitude larger for this problem."
      ]
    },
    {
      "cell_type": "code",
      "metadata": {
        "id": "e0ubfQ0kRl1G",
        "colab_type": "code",
        "colab": {
          "base_uri": "https://localhost:8080/",
          "height": 1000
        },
        "outputId": "cdfb2746-cdf2-43cd-84d7-214828bd1928"
      },
      "source": [
        "model.fit(x_train, y_train,\n",
        "          batch_size=batch_size,\n",
        "          epochs=epochs,\n",
        "          validation_data=(x_test, y_test),\n",
        "          shuffle=True,\n",
        "          verbose=1,\n",
        "          callbacks=[early_stopping,model_checkpoint])"
      ],
      "execution_count": 40,
      "outputs": [
        {
          "output_type": "stream",
          "text": [
            "Epoch 1/30\n",
            "1562/1563 [============================>.] - ETA: 0s - loss: 2.1165 - accuracy: 0.2174\n",
            "Epoch 00001: val_loss improved from inf to 1.98225, saving model to cifar_cnn_checkpoint_01_loss1.9823.h5\n",
            "1563/1563 [==============================] - 8s 5ms/step - loss: 2.1165 - accuracy: 0.2174 - val_loss: 1.9823 - val_accuracy: 0.2840\n",
            "Epoch 2/30\n",
            "1557/1563 [============================>.] - ETA: 0s - loss: 1.9711 - accuracy: 0.2827\n",
            "Epoch 00002: val_loss improved from 1.98225 to 1.89885, saving model to cifar_cnn_checkpoint_02_loss1.8989.h5\n",
            "1563/1563 [==============================] - 7s 5ms/step - loss: 1.9708 - accuracy: 0.2827 - val_loss: 1.8989 - val_accuracy: 0.3095\n",
            "Epoch 3/30\n",
            "1562/1563 [============================>.] - ETA: 0s - loss: 1.9110 - accuracy: 0.3061\n",
            "Epoch 00003: val_loss improved from 1.89885 to 1.83276, saving model to cifar_cnn_checkpoint_03_loss1.8328.h5\n",
            "1563/1563 [==============================] - 7s 5ms/step - loss: 1.9109 - accuracy: 0.3062 - val_loss: 1.8328 - val_accuracy: 0.3495\n",
            "Epoch 4/30\n",
            "1559/1563 [============================>.] - ETA: 0s - loss: 1.8523 - accuracy: 0.3308\n",
            "Epoch 00004: val_loss improved from 1.83276 to 1.76174, saving model to cifar_cnn_checkpoint_04_loss1.7617.h5\n",
            "1563/1563 [==============================] - 7s 5ms/step - loss: 1.8520 - accuracy: 0.3310 - val_loss: 1.7617 - val_accuracy: 0.3730\n",
            "Epoch 5/30\n",
            "1555/1563 [============================>.] - ETA: 0s - loss: 1.7858 - accuracy: 0.3543\n",
            "Epoch 00005: val_loss improved from 1.76174 to 1.68051, saving model to cifar_cnn_checkpoint_05_loss1.6805.h5\n",
            "1563/1563 [==============================] - 7s 5ms/step - loss: 1.7853 - accuracy: 0.3545 - val_loss: 1.6805 - val_accuracy: 0.3935\n",
            "Epoch 6/30\n",
            "1558/1563 [============================>.] - ETA: 0s - loss: 1.7056 - accuracy: 0.3851\n",
            "Epoch 00006: val_loss improved from 1.68051 to 1.60906, saving model to cifar_cnn_checkpoint_06_loss1.6091.h5\n",
            "1563/1563 [==============================] - 7s 5ms/step - loss: 1.7057 - accuracy: 0.3852 - val_loss: 1.6091 - val_accuracy: 0.4268\n",
            "Epoch 7/30\n",
            "1560/1563 [============================>.] - ETA: 0s - loss: 1.6479 - accuracy: 0.4083\n",
            "Epoch 00007: val_loss improved from 1.60906 to 1.54891, saving model to cifar_cnn_checkpoint_07_loss1.5489.h5\n",
            "1563/1563 [==============================] - 7s 5ms/step - loss: 1.6477 - accuracy: 0.4084 - val_loss: 1.5489 - val_accuracy: 0.4426\n",
            "Epoch 8/30\n",
            "1553/1563 [============================>.] - ETA: 0s - loss: 1.5961 - accuracy: 0.4279\n",
            "Epoch 00008: val_loss improved from 1.54891 to 1.51347, saving model to cifar_cnn_checkpoint_08_loss1.5135.h5\n",
            "1563/1563 [==============================] - 7s 5ms/step - loss: 1.5957 - accuracy: 0.4281 - val_loss: 1.5135 - val_accuracy: 0.4585\n",
            "Epoch 9/30\n",
            "1563/1563 [==============================] - ETA: 0s - loss: 1.5607 - accuracy: 0.4415\n",
            "Epoch 00009: val_loss improved from 1.51347 to 1.47319, saving model to cifar_cnn_checkpoint_09_loss1.4732.h5\n",
            "1563/1563 [==============================] - 8s 5ms/step - loss: 1.5607 - accuracy: 0.4415 - val_loss: 1.4732 - val_accuracy: 0.4753\n",
            "Epoch 10/30\n",
            "1559/1563 [============================>.] - ETA: 0s - loss: 1.5262 - accuracy: 0.4557\n",
            "Epoch 00010: val_loss improved from 1.47319 to 1.47316, saving model to cifar_cnn_checkpoint_10_loss1.4732.h5\n",
            "1563/1563 [==============================] - 7s 5ms/step - loss: 1.5266 - accuracy: 0.4556 - val_loss: 1.4732 - val_accuracy: 0.4740\n",
            "Epoch 11/30\n",
            "1563/1563 [==============================] - ETA: 0s - loss: 1.5003 - accuracy: 0.4653\n",
            "Epoch 00011: val_loss improved from 1.47316 to 1.43885, saving model to cifar_cnn_checkpoint_11_loss1.4389.h5\n",
            "1563/1563 [==============================] - 7s 5ms/step - loss: 1.5003 - accuracy: 0.4653 - val_loss: 1.4389 - val_accuracy: 0.4899\n",
            "Epoch 12/30\n",
            "1562/1563 [============================>.] - ETA: 0s - loss: 1.4783 - accuracy: 0.4725\n",
            "Epoch 00012: val_loss improved from 1.43885 to 1.41051, saving model to cifar_cnn_checkpoint_12_loss1.4105.h5\n",
            "1563/1563 [==============================] - 7s 5ms/step - loss: 1.4781 - accuracy: 0.4726 - val_loss: 1.4105 - val_accuracy: 0.4980\n",
            "Epoch 13/30\n",
            "1552/1563 [============================>.] - ETA: 0s - loss: 1.4539 - accuracy: 0.4820\n",
            "Epoch 00013: val_loss improved from 1.41051 to 1.40778, saving model to cifar_cnn_checkpoint_13_loss1.4078.h5\n",
            "1563/1563 [==============================] - 7s 5ms/step - loss: 1.4537 - accuracy: 0.4823 - val_loss: 1.4078 - val_accuracy: 0.5069\n",
            "Epoch 14/30\n",
            "1555/1563 [============================>.] - ETA: 0s - loss: 1.4336 - accuracy: 0.4896\n",
            "Epoch 00014: val_loss improved from 1.40778 to 1.36568, saving model to cifar_cnn_checkpoint_14_loss1.3657.h5\n",
            "1563/1563 [==============================] - 7s 5ms/step - loss: 1.4331 - accuracy: 0.4898 - val_loss: 1.3657 - val_accuracy: 0.5193\n",
            "Epoch 15/30\n",
            "1554/1563 [============================>.] - ETA: 0s - loss: 1.4143 - accuracy: 0.4977\n",
            "Epoch 00015: val_loss improved from 1.36568 to 1.34651, saving model to cifar_cnn_checkpoint_15_loss1.3465.h5\n",
            "1563/1563 [==============================] - 7s 5ms/step - loss: 1.4140 - accuracy: 0.4978 - val_loss: 1.3465 - val_accuracy: 0.5254\n",
            "Epoch 16/30\n",
            "1552/1563 [============================>.] - ETA: 0s - loss: 1.3962 - accuracy: 0.5035\n",
            "Epoch 00016: val_loss improved from 1.34651 to 1.32798, saving model to cifar_cnn_checkpoint_16_loss1.3280.h5\n",
            "1563/1563 [==============================] - 7s 5ms/step - loss: 1.3958 - accuracy: 0.5036 - val_loss: 1.3280 - val_accuracy: 0.5326\n",
            "Epoch 17/30\n",
            "1551/1563 [============================>.] - ETA: 0s - loss: 1.3779 - accuracy: 0.5131\n",
            "Epoch 00017: val_loss did not improve from 1.32798\n",
            "1563/1563 [==============================] - 7s 5ms/step - loss: 1.3781 - accuracy: 0.5130 - val_loss: 1.3296 - val_accuracy: 0.5297\n",
            "Epoch 18/30\n",
            "1558/1563 [============================>.] - ETA: 0s - loss: 1.3605 - accuracy: 0.5171\n",
            "Epoch 00018: val_loss improved from 1.32798 to 1.30400, saving model to cifar_cnn_checkpoint_18_loss1.3040.h5\n",
            "1563/1563 [==============================] - 7s 5ms/step - loss: 1.3607 - accuracy: 0.5171 - val_loss: 1.3040 - val_accuracy: 0.5388\n",
            "Epoch 19/30\n",
            "1557/1563 [============================>.] - ETA: 0s - loss: 1.3416 - accuracy: 0.5247\n",
            "Epoch 00019: val_loss improved from 1.30400 to 1.28073, saving model to cifar_cnn_checkpoint_19_loss1.2807.h5\n",
            "1563/1563 [==============================] - 7s 5ms/step - loss: 1.3418 - accuracy: 0.5246 - val_loss: 1.2807 - val_accuracy: 0.5507\n",
            "Epoch 20/30\n",
            "1552/1563 [============================>.] - ETA: 0s - loss: 1.3262 - accuracy: 0.5279\n",
            "Epoch 00020: val_loss improved from 1.28073 to 1.27614, saving model to cifar_cnn_checkpoint_20_loss1.2761.h5\n",
            "1563/1563 [==============================] - 7s 5ms/step - loss: 1.3258 - accuracy: 0.5280 - val_loss: 1.2761 - val_accuracy: 0.5518\n",
            "Epoch 21/30\n",
            "1556/1563 [============================>.] - ETA: 0s - loss: 1.3094 - accuracy: 0.5353\n",
            "Epoch 00021: val_loss improved from 1.27614 to 1.26575, saving model to cifar_cnn_checkpoint_21_loss1.2658.h5\n",
            "1563/1563 [==============================] - 7s 5ms/step - loss: 1.3093 - accuracy: 0.5354 - val_loss: 1.2658 - val_accuracy: 0.5546\n",
            "Epoch 22/30\n",
            "1563/1563 [==============================] - ETA: 0s - loss: 1.2941 - accuracy: 0.5417\n",
            "Epoch 00022: val_loss improved from 1.26575 to 1.25478, saving model to cifar_cnn_checkpoint_22_loss1.2548.h5\n",
            "1563/1563 [==============================] - 7s 5ms/step - loss: 1.2941 - accuracy: 0.5417 - val_loss: 1.2548 - val_accuracy: 0.5588\n",
            "Epoch 23/30\n",
            "1553/1563 [============================>.] - ETA: 0s - loss: 1.2812 - accuracy: 0.5462\n",
            "Epoch 00023: val_loss improved from 1.25478 to 1.24198, saving model to cifar_cnn_checkpoint_23_loss1.2420.h5\n",
            "1563/1563 [==============================] - 7s 5ms/step - loss: 1.2812 - accuracy: 0.5462 - val_loss: 1.2420 - val_accuracy: 0.5608\n",
            "Epoch 24/30\n",
            "1559/1563 [============================>.] - ETA: 0s - loss: 1.2647 - accuracy: 0.5534\n",
            "Epoch 00024: val_loss improved from 1.24198 to 1.22497, saving model to cifar_cnn_checkpoint_24_loss1.2250.h5\n",
            "1563/1563 [==============================] - 7s 5ms/step - loss: 1.2646 - accuracy: 0.5534 - val_loss: 1.2250 - val_accuracy: 0.5701\n",
            "Epoch 25/30\n",
            "1560/1563 [============================>.] - ETA: 0s - loss: 1.2524 - accuracy: 0.5564\n",
            "Epoch 00025: val_loss did not improve from 1.22497\n",
            "1563/1563 [==============================] - 7s 5ms/step - loss: 1.2522 - accuracy: 0.5565 - val_loss: 1.2414 - val_accuracy: 0.5608\n",
            "Epoch 26/30\n",
            "1557/1563 [============================>.] - ETA: 0s - loss: 1.2394 - accuracy: 0.5618\n",
            "Epoch 00026: val_loss improved from 1.22497 to 1.20425, saving model to cifar_cnn_checkpoint_26_loss1.2043.h5\n",
            "1563/1563 [==============================] - 7s 5ms/step - loss: 1.2394 - accuracy: 0.5617 - val_loss: 1.2043 - val_accuracy: 0.5748\n",
            "Epoch 27/30\n",
            "1552/1563 [============================>.] - ETA: 0s - loss: 1.2279 - accuracy: 0.5634\n",
            "Epoch 00027: val_loss improved from 1.20425 to 1.20049, saving model to cifar_cnn_checkpoint_27_loss1.2005.h5\n",
            "1563/1563 [==============================] - 7s 5ms/step - loss: 1.2279 - accuracy: 0.5634 - val_loss: 1.2005 - val_accuracy: 0.5772\n",
            "Epoch 28/30\n",
            "1558/1563 [============================>.] - ETA: 0s - loss: 1.2152 - accuracy: 0.5712\n",
            "Epoch 00028: val_loss improved from 1.20049 to 1.18840, saving model to cifar_cnn_checkpoint_28_loss1.1884.h5\n",
            "1563/1563 [==============================] - 7s 5ms/step - loss: 1.2152 - accuracy: 0.5711 - val_loss: 1.1884 - val_accuracy: 0.5838\n",
            "Epoch 29/30\n",
            "1560/1563 [============================>.] - ETA: 0s - loss: 1.2032 - accuracy: 0.5731\n",
            "Epoch 00029: val_loss improved from 1.18840 to 1.17423, saving model to cifar_cnn_checkpoint_29_loss1.1742.h5\n",
            "1563/1563 [==============================] - 8s 5ms/step - loss: 1.2033 - accuracy: 0.5730 - val_loss: 1.1742 - val_accuracy: 0.5848\n",
            "Epoch 30/30\n",
            "1553/1563 [============================>.] - ETA: 0s - loss: 1.1893 - accuracy: 0.5806\n",
            "Epoch 00030: val_loss improved from 1.17423 to 1.17037, saving model to cifar_cnn_checkpoint_30_loss1.1704.h5\n",
            "1563/1563 [==============================] - 8s 5ms/step - loss: 1.1896 - accuracy: 0.5803 - val_loss: 1.1704 - val_accuracy: 0.5900\n"
          ],
          "name": "stdout"
        },
        {
          "output_type": "execute_result",
          "data": {
            "text/plain": [
              "<tensorflow.python.keras.callbacks.History at 0x7fdd2023dac8>"
            ]
          },
          "metadata": {
            "tags": []
          },
          "execution_count": 40
        }
      ]
    },
    {
      "cell_type": "markdown",
      "metadata": {
        "id": "yhauG6YUvXqb",
        "colab_type": "text"
      },
      "source": [
        "<h2>Model Score:<h2/>\n",
        "\n",
        "- Once the model is fit, we evaluate it on the test dataset and print out the classification accuracy"
      ]
    },
    {
      "cell_type": "code",
      "metadata": {
        "id": "rLXR1tDpRrO2",
        "colab_type": "code",
        "colab": {
          "base_uri": "https://localhost:8080/",
          "height": 68
        },
        "outputId": "330bcd7b-4e82-4d59-8362-95cc18b50b8a"
      },
      "source": [
        "# Score trained model.\n",
        "scores = model.evaluate(x_test, y_test, verbose=1)\n",
        "print('Test loss:', scores[0])\n",
        "print('Test accuracy:', scores[1])"
      ],
      "execution_count": 41,
      "outputs": [
        {
          "output_type": "stream",
          "text": [
            "313/313 [==============================] - 1s 3ms/step - loss: 1.1704 - accuracy: 0.5900\n",
            "Test loss: 1.170371413230896\n",
            "Test accuracy: 0.5899999737739563\n"
          ],
          "name": "stdout"
        }
      ]
    },
    {
      "cell_type": "markdown",
      "metadata": {
        "id": "oW5reYl7Ls3R",
        "colab_type": "text"
      },
      "source": [
        "<h3>The above score shows that the accuracy is good, as we used number of epochs = 30.\n",
        "If we use more epochs and tune the hyper-parameters more then we can get some more accuracy score. As our focus on the case study was to learn about the use of CNNs for image classification, we needed to run the code thoroughly so we set number of epochs to less. <h3/>"
      ]
    },
    {
      "cell_type": "markdown",
      "metadata": {
        "id": "ZXRH4ZQULJxx",
        "colab_type": "text"
      },
      "source": [
        "# Summary:\n",
        "\n",
        "<h3>In this case study we discovered how to create deep CNNs in Keras for image classification.<h3/>\n",
        "\n",
        "After working through this case study we learned:\n",
        "\n",
        "- About the CIFAR-10 dataset and how to load it in Keras and plot examples from the dataset.\n",
        "- How to train and evaluate a Convolutional Neural Network on the problem.\n"
      ]
    },
    {
      "cell_type": "markdown",
      "metadata": {
        "id": "tH0ttsNkzeY_",
        "colab_type": "text"
      },
      "source": [
        "## George's Bonus $$$\n",
        "__Model training diagnosis using learning curve__\n",
        "- Early stopping https://machinelearningmastery.com/how-to-stop-training-deep-neural-networks-at-the-right-time-using-early-stopping/\n",
        "- Benefits of using pooling layers https://stats.stackexchange.com/questions/288261/why-is-max-pooling-necessary-in-convolutional-neural-networks\n",
        "- Why padding? https://stats.stackexchange.com/questions/246512/convolutional-layers-to-pad-or-not-to-pad\n",
        "- Learning Curve  https://machinelearningmastery.com/learning-curves-for-diagnosing-machine-learning-model-performance/\n",
        "- Cross Validate Keras models  https://machinelearningmastery.com/evaluate-performance-deep-learning-models-keras/\n",
        "- More CNN's \n",
        "  - https://www.youtube.com/watch?v=YRhxdVk_sIs   \n",
        "  - https://towardsdatascience.com/simple-introduction-to-convolutional-neural-networks-cdf8d3077bac\n",
        "- Neural Network Architectures  https://towardsdatascience.com/neural-network-architectures-156e5bad51ba "
      ]
    },
    {
      "cell_type": "code",
      "metadata": {
        "id": "RW-zCubAEg1F",
        "colab_type": "code",
        "colab": {}
      },
      "source": [
        "model = Sequential()\n",
        "model.add(Conv2D(32, (3, 3), padding='same',\n",
        "                 input_shape=x_train.shape[1:]))\n",
        "model.add(Activation('relu'))\n",
        "model.add(Conv2D(32, (3, 3)))\n",
        "model.add(Activation('relu'))\n",
        "model.add(MaxPooling2D(pool_size=(2, 2)))\n",
        "model.add(Dropout(0.25))\n",
        "\n",
        "model.add(Conv2D(64, (3, 3), padding='same'))\n",
        "model.add(Activation('relu'))\n",
        "model.add(Conv2D(64, (3, 3)))\n",
        "model.add(Activation('relu'))\n",
        "model.add(MaxPooling2D(pool_size=(2, 2)))\n",
        "model.add(Dropout(0.25))\n",
        "\n",
        "model.add(Flatten())\n",
        "model.add(Dense(512))\n",
        "model.add(Activation('relu'))\n",
        "model.add(Dropout(0.5))\n",
        "model.add(Dense(num_classes))\n",
        "model.add(Activation('softmax'))\n",
        "\n",
        "# initiate Adam optimizer\n",
        "opt = keras.optimizers.Adam(learning_rate=0.0001)\n",
        "\n",
        "# Let's train the model using RMSprop\n",
        "model.compile(\n",
        "    loss='categorical_crossentropy',\n",
        "    optimizer=opt,\n",
        "    metrics=['accuracy']\n",
        ")"
      ],
      "execution_count": 24,
      "outputs": []
    },
    {
      "cell_type": "code",
      "metadata": {
        "id": "-eT_XrLYAB6s",
        "colab_type": "code",
        "colab": {
          "base_uri": "https://localhost:8080/",
          "height": 1000
        },
        "outputId": "c4431e3b-62aa-4c48-c12f-9447dd48e92a"
      },
      "source": [
        "history = model.fit(\n",
        "    x_train, \n",
        "    y_train,\n",
        "    batch_size=batch_size,\n",
        "    epochs=60,\n",
        "    validation_data=(x_test, y_test),\n",
        "    shuffle=True,\n",
        "    verbose=1\n",
        ")\n",
        "\n",
        "# plot training history\n",
        "from matplotlib import pyplot\n",
        "pyplot.plot(history.history['loss'], label='train')\n",
        "pyplot.plot(history.history['val_loss'], label='test')\n",
        "pyplot.legend()\n",
        "pyplot.show()"
      ],
      "execution_count": 25,
      "outputs": [
        {
          "output_type": "stream",
          "text": [
            "Epoch 1/60\n",
            "1563/1563 [==============================] - 8s 5ms/step - loss: 1.7590 - accuracy: 0.3509 - val_loss: 1.4537 - val_accuracy: 0.4676\n",
            "Epoch 2/60\n",
            "1563/1563 [==============================] - 8s 5ms/step - loss: 1.4314 - accuracy: 0.4825 - val_loss: 1.2706 - val_accuracy: 0.5530\n",
            "Epoch 3/60\n",
            "1563/1563 [==============================] - 8s 5ms/step - loss: 1.2921 - accuracy: 0.5372 - val_loss: 1.1912 - val_accuracy: 0.5729\n",
            "Epoch 4/60\n",
            "1563/1563 [==============================] - 8s 5ms/step - loss: 1.1986 - accuracy: 0.5768 - val_loss: 1.0818 - val_accuracy: 0.6172\n",
            "Epoch 5/60\n",
            "1563/1563 [==============================] - 8s 5ms/step - loss: 1.1216 - accuracy: 0.6041 - val_loss: 1.0468 - val_accuracy: 0.6264\n",
            "Epoch 6/60\n",
            "1563/1563 [==============================] - 8s 5ms/step - loss: 1.0579 - accuracy: 0.6258 - val_loss: 0.9801 - val_accuracy: 0.6552\n",
            "Epoch 7/60\n",
            "1563/1563 [==============================] - 8s 5ms/step - loss: 1.0135 - accuracy: 0.6442 - val_loss: 0.9304 - val_accuracy: 0.6743\n",
            "Epoch 8/60\n",
            "1563/1563 [==============================] - 8s 5ms/step - loss: 0.9678 - accuracy: 0.6588 - val_loss: 0.8997 - val_accuracy: 0.6840\n",
            "Epoch 9/60\n",
            "1563/1563 [==============================] - 8s 5ms/step - loss: 0.9285 - accuracy: 0.6752 - val_loss: 0.8763 - val_accuracy: 0.6915\n",
            "Epoch 10/60\n",
            "1563/1563 [==============================] - 8s 5ms/step - loss: 0.8933 - accuracy: 0.6859 - val_loss: 0.8375 - val_accuracy: 0.7101\n",
            "Epoch 11/60\n",
            "1563/1563 [==============================] - 8s 5ms/step - loss: 0.8640 - accuracy: 0.6958 - val_loss: 0.8695 - val_accuracy: 0.6988\n",
            "Epoch 12/60\n",
            "1563/1563 [==============================] - 8s 5ms/step - loss: 0.8274 - accuracy: 0.7105 - val_loss: 0.8070 - val_accuracy: 0.7191\n",
            "Epoch 13/60\n",
            "1563/1563 [==============================] - 8s 5ms/step - loss: 0.7980 - accuracy: 0.7226 - val_loss: 0.7870 - val_accuracy: 0.7254\n",
            "Epoch 14/60\n",
            "1563/1563 [==============================] - 8s 5ms/step - loss: 0.7767 - accuracy: 0.7295 - val_loss: 0.7745 - val_accuracy: 0.7287\n",
            "Epoch 15/60\n",
            "1563/1563 [==============================] - 8s 5ms/step - loss: 0.7501 - accuracy: 0.7379 - val_loss: 0.7468 - val_accuracy: 0.7433\n",
            "Epoch 16/60\n",
            "1563/1563 [==============================] - 8s 5ms/step - loss: 0.7265 - accuracy: 0.7453 - val_loss: 0.7590 - val_accuracy: 0.7390\n",
            "Epoch 17/60\n",
            "1563/1563 [==============================] - 8s 5ms/step - loss: 0.7063 - accuracy: 0.7535 - val_loss: 0.7175 - val_accuracy: 0.7502\n",
            "Epoch 18/60\n",
            "1563/1563 [==============================] - 8s 5ms/step - loss: 0.6776 - accuracy: 0.7604 - val_loss: 0.7201 - val_accuracy: 0.7523\n",
            "Epoch 19/60\n",
            "1563/1563 [==============================] - 8s 5ms/step - loss: 0.6576 - accuracy: 0.7695 - val_loss: 0.7269 - val_accuracy: 0.7508\n",
            "Epoch 20/60\n",
            "1563/1563 [==============================] - 8s 5ms/step - loss: 0.6362 - accuracy: 0.7740 - val_loss: 0.7042 - val_accuracy: 0.7561\n",
            "Epoch 21/60\n",
            "1563/1563 [==============================] - 8s 5ms/step - loss: 0.6236 - accuracy: 0.7796 - val_loss: 0.6825 - val_accuracy: 0.7641\n",
            "Epoch 22/60\n",
            "1563/1563 [==============================] - 8s 5ms/step - loss: 0.6051 - accuracy: 0.7870 - val_loss: 0.6763 - val_accuracy: 0.7683\n",
            "Epoch 23/60\n",
            "1563/1563 [==============================] - 8s 5ms/step - loss: 0.5812 - accuracy: 0.7960 - val_loss: 0.6656 - val_accuracy: 0.7716\n",
            "Epoch 24/60\n",
            "1563/1563 [==============================] - 8s 5ms/step - loss: 0.5691 - accuracy: 0.8001 - val_loss: 0.6659 - val_accuracy: 0.7701\n",
            "Epoch 25/60\n",
            "1563/1563 [==============================] - 8s 5ms/step - loss: 0.5501 - accuracy: 0.8080 - val_loss: 0.6615 - val_accuracy: 0.7741\n",
            "Epoch 26/60\n",
            "1563/1563 [==============================] - 8s 5ms/step - loss: 0.5381 - accuracy: 0.8100 - val_loss: 0.6577 - val_accuracy: 0.7741\n",
            "Epoch 27/60\n",
            "1563/1563 [==============================] - 8s 5ms/step - loss: 0.5230 - accuracy: 0.8149 - val_loss: 0.6590 - val_accuracy: 0.7749\n",
            "Epoch 28/60\n",
            "1563/1563 [==============================] - 8s 5ms/step - loss: 0.5078 - accuracy: 0.8217 - val_loss: 0.6433 - val_accuracy: 0.7803\n",
            "Epoch 29/60\n",
            "1563/1563 [==============================] - 8s 5ms/step - loss: 0.4929 - accuracy: 0.8246 - val_loss: 0.6512 - val_accuracy: 0.7800\n",
            "Epoch 30/60\n",
            "1563/1563 [==============================] - 8s 5ms/step - loss: 0.4819 - accuracy: 0.8303 - val_loss: 0.6484 - val_accuracy: 0.7798\n",
            "Epoch 31/60\n",
            "1563/1563 [==============================] - 8s 5ms/step - loss: 0.4687 - accuracy: 0.8341 - val_loss: 0.6456 - val_accuracy: 0.7817\n",
            "Epoch 32/60\n",
            "1563/1563 [==============================] - 8s 5ms/step - loss: 0.4560 - accuracy: 0.8374 - val_loss: 0.6519 - val_accuracy: 0.7820\n",
            "Epoch 33/60\n",
            "1563/1563 [==============================] - 8s 5ms/step - loss: 0.4455 - accuracy: 0.8432 - val_loss: 0.6436 - val_accuracy: 0.7847\n",
            "Epoch 34/60\n",
            "1563/1563 [==============================] - 8s 5ms/step - loss: 0.4349 - accuracy: 0.8455 - val_loss: 0.6343 - val_accuracy: 0.7847\n",
            "Epoch 35/60\n",
            "1563/1563 [==============================] - 8s 5ms/step - loss: 0.4210 - accuracy: 0.8518 - val_loss: 0.6482 - val_accuracy: 0.7854\n",
            "Epoch 36/60\n",
            "1563/1563 [==============================] - 8s 5ms/step - loss: 0.4074 - accuracy: 0.8547 - val_loss: 0.6337 - val_accuracy: 0.7887\n",
            "Epoch 37/60\n",
            "1563/1563 [==============================] - 8s 5ms/step - loss: 0.3972 - accuracy: 0.8583 - val_loss: 0.6411 - val_accuracy: 0.7878\n",
            "Epoch 38/60\n",
            "1563/1563 [==============================] - 8s 5ms/step - loss: 0.3911 - accuracy: 0.8609 - val_loss: 0.6375 - val_accuracy: 0.7862\n",
            "Epoch 39/60\n",
            "1563/1563 [==============================] - 8s 5ms/step - loss: 0.3792 - accuracy: 0.8643 - val_loss: 0.6328 - val_accuracy: 0.7901\n",
            "Epoch 40/60\n",
            "1563/1563 [==============================] - 8s 5ms/step - loss: 0.3739 - accuracy: 0.8677 - val_loss: 0.6398 - val_accuracy: 0.7916\n",
            "Epoch 41/60\n",
            "1563/1563 [==============================] - 8s 5ms/step - loss: 0.3684 - accuracy: 0.8686 - val_loss: 0.6370 - val_accuracy: 0.7916\n",
            "Epoch 42/60\n",
            "1563/1563 [==============================] - 8s 5ms/step - loss: 0.3534 - accuracy: 0.8736 - val_loss: 0.6451 - val_accuracy: 0.7918\n",
            "Epoch 43/60\n",
            "1563/1563 [==============================] - 8s 5ms/step - loss: 0.3453 - accuracy: 0.8760 - val_loss: 0.6463 - val_accuracy: 0.7899\n",
            "Epoch 44/60\n",
            "1563/1563 [==============================] - 8s 5ms/step - loss: 0.3396 - accuracy: 0.8783 - val_loss: 0.6372 - val_accuracy: 0.7905\n",
            "Epoch 45/60\n",
            "1563/1563 [==============================] - 8s 5ms/step - loss: 0.3320 - accuracy: 0.8808 - val_loss: 0.6405 - val_accuracy: 0.7936\n",
            "Epoch 46/60\n",
            "1563/1563 [==============================] - 8s 5ms/step - loss: 0.3240 - accuracy: 0.8847 - val_loss: 0.6383 - val_accuracy: 0.7935\n",
            "Epoch 47/60\n",
            "1563/1563 [==============================] - 8s 5ms/step - loss: 0.3148 - accuracy: 0.8870 - val_loss: 0.6442 - val_accuracy: 0.7966\n",
            "Epoch 48/60\n",
            "1563/1563 [==============================] - 8s 5ms/step - loss: 0.3139 - accuracy: 0.8874 - val_loss: 0.6496 - val_accuracy: 0.7960\n",
            "Epoch 49/60\n",
            "1563/1563 [==============================] - 8s 5ms/step - loss: 0.3011 - accuracy: 0.8912 - val_loss: 0.6519 - val_accuracy: 0.7919\n",
            "Epoch 50/60\n",
            "1563/1563 [==============================] - 8s 5ms/step - loss: 0.2972 - accuracy: 0.8932 - val_loss: 0.6676 - val_accuracy: 0.7900\n",
            "Epoch 51/60\n",
            "1563/1563 [==============================] - 8s 5ms/step - loss: 0.2910 - accuracy: 0.8967 - val_loss: 0.6450 - val_accuracy: 0.7943\n",
            "Epoch 52/60\n",
            "1563/1563 [==============================] - 8s 5ms/step - loss: 0.2810 - accuracy: 0.9002 - val_loss: 0.6687 - val_accuracy: 0.7898\n",
            "Epoch 53/60\n",
            "1563/1563 [==============================] - 8s 5ms/step - loss: 0.2797 - accuracy: 0.9008 - val_loss: 0.6778 - val_accuracy: 0.7894\n",
            "Epoch 54/60\n",
            "1563/1563 [==============================] - 8s 5ms/step - loss: 0.2791 - accuracy: 0.9006 - val_loss: 0.6692 - val_accuracy: 0.7942\n",
            "Epoch 55/60\n",
            "1563/1563 [==============================] - 8s 5ms/step - loss: 0.2742 - accuracy: 0.9018 - val_loss: 0.6640 - val_accuracy: 0.7950\n",
            "Epoch 56/60\n",
            "1563/1563 [==============================] - 8s 5ms/step - loss: 0.2622 - accuracy: 0.9059 - val_loss: 0.6678 - val_accuracy: 0.7949\n",
            "Epoch 57/60\n",
            "1563/1563 [==============================] - 8s 5ms/step - loss: 0.2650 - accuracy: 0.9056 - val_loss: 0.6704 - val_accuracy: 0.7951\n",
            "Epoch 58/60\n",
            "1563/1563 [==============================] - 8s 5ms/step - loss: 0.2576 - accuracy: 0.9059 - val_loss: 0.6648 - val_accuracy: 0.7965\n",
            "Epoch 59/60\n",
            "1563/1563 [==============================] - 8s 5ms/step - loss: 0.2504 - accuracy: 0.9094 - val_loss: 0.6645 - val_accuracy: 0.7954\n",
            "Epoch 60/60\n",
            "1563/1563 [==============================] - 8s 5ms/step - loss: 0.2482 - accuracy: 0.9120 - val_loss: 0.6777 - val_accuracy: 0.7947\n"
          ],
          "name": "stdout"
        },
        {
          "output_type": "display_data",
          "data": {
            "image/png": "[encoded data removed]",
            "text/plain": [
              "<Figure size 432x288 with 1 Axes>"
            ]
          },
          "metadata": {
            "tags": [],
            "needs_background": "light"
          }
        }
      ]
    },
    {
      "cell_type": "code",
      "metadata": {
        "id": "G1YHVYrdBdv3",
        "colab_type": "code",
        "colab": {
          "base_uri": "https://localhost:8080/",
          "height": 1000
        },
        "outputId": "0b6e920b-7774-46e6-bb78-b60258ae83f2"
      },
      "source": [
        "model = Sequential()\n",
        "model.add(Conv2D(32, (3, 3), padding='same',\n",
        "                 input_shape=x_train.shape[1:]))\n",
        "model.add(Activation('relu'))\n",
        "model.add(Conv2D(32, (3, 3)))\n",
        "model.add(Activation('relu'))\n",
        "model.add(MaxPooling2D(pool_size=(2, 2)))\n",
        "model.add(Dropout(0.25))\n",
        "\n",
        "model.add(Conv2D(64, (3, 3), padding='same'))\n",
        "model.add(Activation('relu'))\n",
        "model.add(Conv2D(64, (3, 3)))\n",
        "model.add(Activation('relu'))\n",
        "model.add(MaxPooling2D(pool_size=(2, 2)))\n",
        "model.add(Dropout(0.25))\n",
        "\n",
        "model.add(Flatten())\n",
        "model.add(Dense(512))\n",
        "model.add(Activation('relu'))\n",
        "model.add(Dropout(0.5))\n",
        "model.add(Dense(num_classes))\n",
        "model.add(Activation('softmax'))\n",
        "\n",
        "# initiate Adam optimizer\n",
        "opt = keras.optimizers.Adam(learning_rate=0.0001)\n",
        "\n",
        "# Let's train the model using RMSprop\n",
        "model.compile(\n",
        "    loss='categorical_crossentropy',\n",
        "    optimizer=opt,\n",
        "    metrics=['accuracy']\n",
        ")\n",
        "\n",
        "es = EarlyStopping(\n",
        "    monitor='val_loss', \n",
        "    mode='min', \n",
        "    verbose=1, \n",
        "    patience=10, \n",
        "    min_delta=0.001\n",
        ")\n",
        "\n",
        "ckpt = ModelCheckpoint(\n",
        "    'cifar_cnn_checkpoint_{epoch:02d}_loss{val_loss:.4f}.h5', \n",
        "    monitor='val_loss', \n",
        "    verbose=1, \n",
        "    save_best_only=True,\n",
        "    mode='min'\n",
        ")\n",
        "\n",
        "history = model.fit(\n",
        "    x_train, \n",
        "    y_train, \n",
        "    validation_data=(x_test, y_test), \n",
        "    epochs=100, \n",
        "    verbose=1, \n",
        "    callbacks=[es, ckpt]\n",
        ")\n",
        "\n",
        "from matplotlib import pyplot\n",
        "pyplot.plot(history.history['loss'], label='train')\n",
        "pyplot.plot(history.history['val_loss'], label='test')\n",
        "pyplot.legend()\n",
        "pyplot.show()"
      ],
      "execution_count": 33,
      "outputs": [
        {
          "output_type": "stream",
          "text": [
            "Epoch 1/100\n",
            "1558/1563 [============================>.] - ETA: 0s - loss: 1.8014 - accuracy: 0.3358\n",
            "Epoch 00001: val_loss improved from inf to 1.48130, saving model to cifar_cnn_checkpoint_01_loss1.4813.h5\n",
            "1563/1563 [==============================] - 8s 5ms/step - loss: 1.8008 - accuracy: 0.3360 - val_loss: 1.4813 - val_accuracy: 0.4639\n",
            "Epoch 2/100\n",
            "1558/1563 [============================>.] - ETA: 0s - loss: 1.4550 - accuracy: 0.4702\n",
            "Epoch 00002: val_loss improved from 1.48130 to 1.31681, saving model to cifar_cnn_checkpoint_02_loss1.3168.h5\n",
            "1563/1563 [==============================] - 8s 5ms/step - loss: 1.4550 - accuracy: 0.4702 - val_loss: 1.3168 - val_accuracy: 0.5321\n",
            "Epoch 3/100\n",
            "1555/1563 [============================>.] - ETA: 0s - loss: 1.3233 - accuracy: 0.5255\n",
            "Epoch 00003: val_loss improved from 1.31681 to 1.18158, saving model to cifar_cnn_checkpoint_03_loss1.1816.h5\n",
            "1563/1563 [==============================] - 8s 5ms/step - loss: 1.3231 - accuracy: 0.5255 - val_loss: 1.1816 - val_accuracy: 0.5887\n",
            "Epoch 4/100\n",
            "1555/1563 [============================>.] - ETA: 0s - loss: 1.2243 - accuracy: 0.5662\n",
            "Epoch 00004: val_loss improved from 1.18158 to 1.11589, saving model to cifar_cnn_checkpoint_04_loss1.1159.h5\n",
            "1563/1563 [==============================] - 8s 5ms/step - loss: 1.2239 - accuracy: 0.5664 - val_loss: 1.1159 - val_accuracy: 0.6075\n",
            "Epoch 5/100\n",
            "1557/1563 [============================>.] - ETA: 0s - loss: 1.1477 - accuracy: 0.5935\n",
            "Epoch 00005: val_loss improved from 1.11589 to 1.09697, saving model to cifar_cnn_checkpoint_05_loss1.0970.h5\n",
            "1563/1563 [==============================] - 8s 5ms/step - loss: 1.1475 - accuracy: 0.5936 - val_loss: 1.0970 - val_accuracy: 0.6145\n",
            "Epoch 6/100\n",
            "1563/1563 [==============================] - ETA: 0s - loss: 1.0871 - accuracy: 0.6148\n",
            "Epoch 00006: val_loss improved from 1.09697 to 0.98678, saving model to cifar_cnn_checkpoint_06_loss0.9868.h5\n",
            "1563/1563 [==============================] - 8s 5ms/step - loss: 1.0871 - accuracy: 0.6148 - val_loss: 0.9868 - val_accuracy: 0.6523\n",
            "Epoch 7/100\n",
            "1563/1563 [==============================] - ETA: 0s - loss: 1.0291 - accuracy: 0.6372\n",
            "Epoch 00007: val_loss improved from 0.98678 to 0.93625, saving model to cifar_cnn_checkpoint_07_loss0.9362.h5\n",
            "1563/1563 [==============================] - 8s 5ms/step - loss: 1.0291 - accuracy: 0.6372 - val_loss: 0.9362 - val_accuracy: 0.6737\n",
            "Epoch 8/100\n",
            "1562/1563 [============================>.] - ETA: 0s - loss: 0.9798 - accuracy: 0.6554\n",
            "Epoch 00008: val_loss improved from 0.93625 to 0.91216, saving model to cifar_cnn_checkpoint_08_loss0.9122.h5\n",
            "1563/1563 [==============================] - 8s 5ms/step - loss: 0.9799 - accuracy: 0.6554 - val_loss: 0.9122 - val_accuracy: 0.6835\n",
            "Epoch 9/100\n",
            "1553/1563 [============================>.] - ETA: 0s - loss: 0.9398 - accuracy: 0.6695\n",
            "Epoch 00009: val_loss improved from 0.91216 to 0.88122, saving model to cifar_cnn_checkpoint_09_loss0.8812.h5\n",
            "1563/1563 [==============================] - 8s 5ms/step - loss: 0.9392 - accuracy: 0.6698 - val_loss: 0.8812 - val_accuracy: 0.6968\n",
            "Epoch 10/100\n",
            "1561/1563 [============================>.] - ETA: 0s - loss: 0.8977 - accuracy: 0.6835\n",
            "Epoch 00010: val_loss improved from 0.88122 to 0.84070, saving model to cifar_cnn_checkpoint_10_loss0.8407.h5\n",
            "1563/1563 [==============================] - 8s 5ms/step - loss: 0.8978 - accuracy: 0.6836 - val_loss: 0.8407 - val_accuracy: 0.7119\n",
            "Epoch 11/100\n",
            "1561/1563 [============================>.] - ETA: 0s - loss: 0.8686 - accuracy: 0.6972\n",
            "Epoch 00011: val_loss improved from 0.84070 to 0.84010, saving model to cifar_cnn_checkpoint_11_loss0.8401.h5\n",
            "1563/1563 [==============================] - 8s 5ms/step - loss: 0.8685 - accuracy: 0.6973 - val_loss: 0.8401 - val_accuracy: 0.7086\n",
            "Epoch 12/100\n",
            "1561/1563 [============================>.] - ETA: 0s - loss: 0.8325 - accuracy: 0.7082\n",
            "Epoch 00012: val_loss improved from 0.84010 to 0.80799, saving model to cifar_cnn_checkpoint_12_loss0.8080.h5\n",
            "1563/1563 [==============================] - 8s 5ms/step - loss: 0.8325 - accuracy: 0.7081 - val_loss: 0.8080 - val_accuracy: 0.7211\n",
            "Epoch 13/100\n",
            "1555/1563 [============================>.] - ETA: 0s - loss: 0.8021 - accuracy: 0.7194\n",
            "Epoch 00013: val_loss improved from 0.80799 to 0.76351, saving model to cifar_cnn_checkpoint_13_loss0.7635.h5\n",
            "1563/1563 [==============================] - 8s 5ms/step - loss: 0.8024 - accuracy: 0.7193 - val_loss: 0.7635 - val_accuracy: 0.7359\n",
            "Epoch 14/100\n",
            "1557/1563 [============================>.] - ETA: 0s - loss: 0.7753 - accuracy: 0.7295\n",
            "Epoch 00014: val_loss did not improve from 0.76351\n",
            "1563/1563 [==============================] - 8s 5ms/step - loss: 0.7749 - accuracy: 0.7297 - val_loss: 0.8001 - val_accuracy: 0.7234\n",
            "Epoch 15/100\n",
            "1562/1563 [============================>.] - ETA: 0s - loss: 0.7487 - accuracy: 0.7407\n",
            "Epoch 00015: val_loss improved from 0.76351 to 0.73110, saving model to cifar_cnn_checkpoint_15_loss0.7311.h5\n",
            "1563/1563 [==============================] - 8s 5ms/step - loss: 0.7487 - accuracy: 0.7407 - val_loss: 0.7311 - val_accuracy: 0.7492\n",
            "Epoch 16/100\n",
            "1557/1563 [============================>.] - ETA: 0s - loss: 0.7235 - accuracy: 0.7462\n",
            "Epoch 00016: val_loss improved from 0.73110 to 0.72768, saving model to cifar_cnn_checkpoint_16_loss0.7277.h5\n",
            "1563/1563 [==============================] - 8s 5ms/step - loss: 0.7233 - accuracy: 0.7462 - val_loss: 0.7277 - val_accuracy: 0.7508\n",
            "Epoch 17/100\n",
            "1557/1563 [============================>.] - ETA: 0s - loss: 0.7040 - accuracy: 0.7535\n",
            "Epoch 00017: val_loss improved from 0.72768 to 0.69722, saving model to cifar_cnn_checkpoint_17_loss0.6972.h5\n",
            "1563/1563 [==============================] - 8s 5ms/step - loss: 0.7039 - accuracy: 0.7536 - val_loss: 0.6972 - val_accuracy: 0.7603\n",
            "Epoch 18/100\n",
            "1552/1563 [============================>.] - ETA: 0s - loss: 0.6798 - accuracy: 0.7613\n",
            "Epoch 00018: val_loss did not improve from 0.69722\n",
            "1563/1563 [==============================] - 8s 5ms/step - loss: 0.6796 - accuracy: 0.7613 - val_loss: 0.7002 - val_accuracy: 0.7594\n",
            "Epoch 19/100\n",
            "1562/1563 [============================>.] - ETA: 0s - loss: 0.6586 - accuracy: 0.7693\n",
            "Epoch 00019: val_loss did not improve from 0.69722\n",
            "1563/1563 [==============================] - 8s 5ms/step - loss: 0.6587 - accuracy: 0.7693 - val_loss: 0.6991 - val_accuracy: 0.7605\n",
            "Epoch 20/100\n",
            "1554/1563 [============================>.] - ETA: 0s - loss: 0.6397 - accuracy: 0.7729\n",
            "Epoch 00020: val_loss improved from 0.69722 to 0.67484, saving model to cifar_cnn_checkpoint_20_loss0.6748.h5\n",
            "1563/1563 [==============================] - 8s 5ms/step - loss: 0.6395 - accuracy: 0.7729 - val_loss: 0.6748 - val_accuracy: 0.7696\n",
            "Epoch 21/100\n",
            "1557/1563 [============================>.] - ETA: 0s - loss: 0.6180 - accuracy: 0.7837\n",
            "Epoch 00021: val_loss improved from 0.67484 to 0.67342, saving model to cifar_cnn_checkpoint_21_loss0.6734.h5\n",
            "1563/1563 [==============================] - 8s 5ms/step - loss: 0.6180 - accuracy: 0.7836 - val_loss: 0.6734 - val_accuracy: 0.7666\n",
            "Epoch 22/100\n",
            "1563/1563 [==============================] - ETA: 0s - loss: 0.6031 - accuracy: 0.7893\n",
            "Epoch 00022: val_loss did not improve from 0.67342\n",
            "1563/1563 [==============================] - 8s 5ms/step - loss: 0.6031 - accuracy: 0.7893 - val_loss: 0.6738 - val_accuracy: 0.7715\n",
            "Epoch 23/100\n",
            "1555/1563 [============================>.] - ETA: 0s - loss: 0.5868 - accuracy: 0.7931\n",
            "Epoch 00023: val_loss improved from 0.67342 to 0.65942, saving model to cifar_cnn_checkpoint_23_loss0.6594.h5\n",
            "1563/1563 [==============================] - 8s 5ms/step - loss: 0.5865 - accuracy: 0.7932 - val_loss: 0.6594 - val_accuracy: 0.7747\n",
            "Epoch 24/100\n",
            "1562/1563 [============================>.] - ETA: 0s - loss: 0.5701 - accuracy: 0.7992\n",
            "Epoch 00024: val_loss did not improve from 0.65942\n",
            "1563/1563 [==============================] - 8s 5ms/step - loss: 0.5701 - accuracy: 0.7992 - val_loss: 0.6640 - val_accuracy: 0.7737\n",
            "Epoch 25/100\n",
            "1562/1563 [============================>.] - ETA: 0s - loss: 0.5506 - accuracy: 0.8051\n",
            "Epoch 00025: val_loss improved from 0.65942 to 0.64304, saving model to cifar_cnn_checkpoint_25_loss0.6430.h5\n",
            "1563/1563 [==============================] - 8s 5ms/step - loss: 0.5507 - accuracy: 0.8052 - val_loss: 0.6430 - val_accuracy: 0.7774\n",
            "Epoch 26/100\n",
            "1555/1563 [============================>.] - ETA: 0s - loss: 0.5366 - accuracy: 0.8117\n",
            "Epoch 00026: val_loss did not improve from 0.64304\n",
            "1563/1563 [==============================] - 8s 5ms/step - loss: 0.5369 - accuracy: 0.8116 - val_loss: 0.6460 - val_accuracy: 0.7812\n",
            "Epoch 27/100\n",
            "1559/1563 [============================>.] - ETA: 0s - loss: 0.5246 - accuracy: 0.8157\n",
            "Epoch 00027: val_loss improved from 0.64304 to 0.63375, saving model to cifar_cnn_checkpoint_27_loss0.6337.h5\n",
            "1563/1563 [==============================] - 8s 5ms/step - loss: 0.5246 - accuracy: 0.8157 - val_loss: 0.6337 - val_accuracy: 0.7832\n",
            "Epoch 28/100\n",
            "1562/1563 [============================>.] - ETA: 0s - loss: 0.5112 - accuracy: 0.8198\n",
            "Epoch 00028: val_loss did not improve from 0.63375\n",
            "1563/1563 [==============================] - 8s 5ms/step - loss: 0.5112 - accuracy: 0.8198 - val_loss: 0.6350 - val_accuracy: 0.7827\n",
            "Epoch 29/100\n",
            "1563/1563 [==============================] - ETA: 0s - loss: 0.4962 - accuracy: 0.8249\n",
            "Epoch 00029: val_loss improved from 0.63375 to 0.62619, saving model to cifar_cnn_checkpoint_29_loss0.6262.h5\n",
            "1563/1563 [==============================] - 8s 5ms/step - loss: 0.4962 - accuracy: 0.8249 - val_loss: 0.6262 - val_accuracy: 0.7868\n",
            "Epoch 30/100\n",
            "1556/1563 [============================>.] - ETA: 0s - loss: 0.4771 - accuracy: 0.8303\n",
            "Epoch 00030: val_loss did not improve from 0.62619\n",
            "1563/1563 [==============================] - 8s 5ms/step - loss: 0.4771 - accuracy: 0.8303 - val_loss: 0.6411 - val_accuracy: 0.7874\n",
            "Epoch 31/100\n",
            "1561/1563 [============================>.] - ETA: 0s - loss: 0.4702 - accuracy: 0.8332\n",
            "Epoch 00031: val_loss did not improve from 0.62619\n",
            "1563/1563 [==============================] - 8s 5ms/step - loss: 0.4702 - accuracy: 0.8332 - val_loss: 0.6268 - val_accuracy: 0.7899\n",
            "Epoch 32/100\n",
            "1552/1563 [============================>.] - ETA: 0s - loss: 0.4606 - accuracy: 0.8380\n",
            "Epoch 00032: val_loss improved from 0.62619 to 0.61977, saving model to cifar_cnn_checkpoint_32_loss0.6198.h5\n",
            "1563/1563 [==============================] - 8s 5ms/step - loss: 0.4607 - accuracy: 0.8380 - val_loss: 0.6198 - val_accuracy: 0.7933\n",
            "Epoch 33/100\n",
            "1555/1563 [============================>.] - ETA: 0s - loss: 0.4486 - accuracy: 0.8418\n",
            "Epoch 00033: val_loss did not improve from 0.61977\n",
            "1563/1563 [==============================] - 8s 5ms/step - loss: 0.4488 - accuracy: 0.8415 - val_loss: 0.6371 - val_accuracy: 0.7862\n",
            "Epoch 34/100\n",
            "1563/1563 [==============================] - ETA: 0s - loss: 0.4337 - accuracy: 0.8484\n",
            "Epoch 00034: val_loss improved from 0.61977 to 0.61299, saving model to cifar_cnn_checkpoint_34_loss0.6130.h5\n",
            "1563/1563 [==============================] - 8s 5ms/step - loss: 0.4337 - accuracy: 0.8484 - val_loss: 0.6130 - val_accuracy: 0.7941\n",
            "Epoch 35/100\n",
            "1556/1563 [============================>.] - ETA: 0s - loss: 0.4226 - accuracy: 0.8491\n",
            "Epoch 00035: val_loss did not improve from 0.61299\n",
            "1563/1563 [==============================] - 8s 5ms/step - loss: 0.4225 - accuracy: 0.8491 - val_loss: 0.6154 - val_accuracy: 0.7913\n",
            "Epoch 36/100\n",
            "1559/1563 [============================>.] - ETA: 0s - loss: 0.4114 - accuracy: 0.8541\n",
            "Epoch 00036: val_loss did not improve from 0.61299\n",
            "1563/1563 [==============================] - 8s 5ms/step - loss: 0.4114 - accuracy: 0.8540 - val_loss: 0.6326 - val_accuracy: 0.7890\n",
            "Epoch 37/100\n",
            "1557/1563 [============================>.] - ETA: 0s - loss: 0.4010 - accuracy: 0.8563\n",
            "Epoch 00037: val_loss did not improve from 0.61299\n",
            "1563/1563 [==============================] - 8s 5ms/step - loss: 0.4007 - accuracy: 0.8564 - val_loss: 0.6166 - val_accuracy: 0.7947\n",
            "Epoch 38/100\n",
            "1552/1563 [============================>.] - ETA: 0s - loss: 0.3955 - accuracy: 0.8597\n",
            "Epoch 00038: val_loss did not improve from 0.61299\n",
            "1563/1563 [==============================] - 8s 5ms/step - loss: 0.3959 - accuracy: 0.8595 - val_loss: 0.6219 - val_accuracy: 0.7935\n",
            "Epoch 39/100\n",
            "1555/1563 [============================>.] - ETA: 0s - loss: 0.3804 - accuracy: 0.8645\n",
            "Epoch 00039: val_loss did not improve from 0.61299\n",
            "1563/1563 [==============================] - 8s 5ms/step - loss: 0.3802 - accuracy: 0.8645 - val_loss: 0.6173 - val_accuracy: 0.7962\n",
            "Epoch 40/100\n",
            "1552/1563 [============================>.] - ETA: 0s - loss: 0.3704 - accuracy: 0.8686\n",
            "Epoch 00040: val_loss did not improve from 0.61299\n",
            "1563/1563 [==============================] - 8s 5ms/step - loss: 0.3703 - accuracy: 0.8687 - val_loss: 0.6319 - val_accuracy: 0.7946\n",
            "Epoch 41/100\n",
            "1561/1563 [============================>.] - ETA: 0s - loss: 0.3636 - accuracy: 0.8684\n",
            "Epoch 00041: val_loss did not improve from 0.61299\n",
            "1563/1563 [==============================] - 8s 5ms/step - loss: 0.3634 - accuracy: 0.8684 - val_loss: 0.6284 - val_accuracy: 0.7933\n",
            "Epoch 42/100\n",
            "1552/1563 [============================>.] - ETA: 0s - loss: 0.3593 - accuracy: 0.8702\n",
            "Epoch 00042: val_loss did not improve from 0.61299\n",
            "1563/1563 [==============================] - 8s 5ms/step - loss: 0.3597 - accuracy: 0.8702 - val_loss: 0.6323 - val_accuracy: 0.7909\n",
            "Epoch 43/100\n",
            "1552/1563 [============================>.] - ETA: 0s - loss: 0.3465 - accuracy: 0.8781\n",
            "Epoch 00043: val_loss did not improve from 0.61299\n",
            "1563/1563 [==============================] - 8s 5ms/step - loss: 0.3463 - accuracy: 0.8781 - val_loss: 0.6337 - val_accuracy: 0.7954\n",
            "Epoch 44/100\n",
            "1556/1563 [============================>.] - ETA: 0s - loss: 0.3426 - accuracy: 0.8775\n",
            "Epoch 00044: val_loss did not improve from 0.61299\n",
            "1563/1563 [==============================] - 8s 5ms/step - loss: 0.3422 - accuracy: 0.8777 - val_loss: 0.6243 - val_accuracy: 0.7977\n",
            "Epoch 00044: early stopping\n"
          ],
          "name": "stdout"
        },
        {
          "output_type": "display_data",
          "data": {
            "image/png": "[encoded data removed]",
            "text/plain": [
              "<Figure size 432x288 with 1 Axes>"
            ]
          },
          "metadata": {
            "tags": [],
            "needs_background": "light"
          }
        }
      ]
    },
    {
      "cell_type": "code",
      "metadata": {
        "id": "yDzYeTo-KcDe",
        "colab_type": "code",
        "colab": {
          "base_uri": "https://localhost:8080/",
          "height": 68
        },
        "outputId": "0afd9f79-5261-43b8-d757-c7c60c213305"
      },
      "source": [
        "scores = model.evaluate(x_test, y_test, verbose=1)\n",
        "print('Test loss:', scores[0])\n",
        "print('Test accuracy:', scores[1])"
      ],
      "execution_count": 34,
      "outputs": [
        {
          "output_type": "stream",
          "text": [
            "313/313 [==============================] - 1s 3ms/step - loss: 0.6243 - accuracy: 0.7977\n",
            "Test loss: 0.624273419380188\n",
            "Test accuracy: 0.7976999878883362\n"
          ],
          "name": "stdout"
        }
      ]
    },
    {
      "cell_type": "code",
      "metadata": {
        "id": "BOu_4OZtrhmq",
        "colab_type": "code",
        "colab": {}
      },
      "source": [
        ""
      ],
      "execution_count": 27,
      "outputs": []
    }
  ]
}