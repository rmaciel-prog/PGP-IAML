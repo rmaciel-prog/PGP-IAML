{
  "nbformat": 4,
  "nbformat_minor": 0,
  "metadata": {
    "kernelspec": {
      "display_name": "Python 3",
      "language": "python",
      "name": "python3"
    },
    "language_info": {
      "codemirror_mode": {
        "name": "ipython",
        "version": 3
      },
      "file_extension": ".py",
      "mimetype": "text/x-python",
      "name": "python",
      "nbconvert_exporter": "python",
      "pygments_lexer": "ipython3",
      "version": "3.5.2"
    },
    "colab": {
      "name": "Session_Case_Study_ComputerVisionWeek_1.ipynb",
      "provenance": [],
      "collapsed_sections": []
    }
  },
  "cells": [
    {
      "cell_type": "markdown",
      "metadata": {
        "id": "ZibhRtQ2DzPP",
        "colab_type": "text"
      },
      "source": [
        "# Case study on Image classification:\n",
        "\n",
        "# Context:\n",
        "- We are given a **dataset** which contains image data. \n",
        "- The data contains **pixel values** of the images in csv format. \n",
        "- Each image represents one of the number from 0, 1, 2, ..., 8, 9. So there are 10 possible outcomes for each row of data. As the data contains the pixel values of the image in each row. \n",
        "- Each image is 28 pixels in height and 28 pixels in width, for a total of 784 pixels in total. \n",
        "- Each pixel has a single pixel-value associated with it, indicating the lightness or darkness of that pixel, with higher numbers meaning darker. \n",
        "- This pixel-value is an integer between 0 and 255, inclusive.\n",
        "- The data set has 785 columns. \n",
        "- The first column, called \"label\", is the digit which is in the image. \n",
        "- *The* rest of the columns contain the pixel-values of the associated image."
      ]
    },
    {
      "cell_type": "markdown",
      "metadata": {
        "id": "hQp3fAsEHRt_",
        "colab_type": "text"
      },
      "source": [
        "# Problem:\n",
        "- Classify the image based on the pixel value.\n",
        "- The result of the model should be the number which is represented by the pixel values.\n",
        "- Use Supervised Learning method for it."
      ]
    },
    {
      "cell_type": "markdown",
      "metadata": {
        "id": "H37yWAWZHqT0",
        "colab_type": "text"
      },
      "source": [
        "# Data:\n",
        "- **label:** A value between 0 and 9. Both inclusive. Total 10 unique values.\n",
        "- **pixel0, pixel1, pixel2, ..., pixel782, pixel783:** Each value in these columns is between 0 and 255. Which represents the pixel intensity. "
      ]
    },
    {
      "cell_type": "code",
      "metadata": {
        "id": "ovA48OkpDrLc",
        "colab_type": "code",
        "colab": {
          "base_uri": "https://localhost:8080/",
          "height": 51
        },
        "outputId": "e647bac5-d4e1-42b8-c276-45cbf3326818"
      },
      "source": [
        "import numpy as np\n",
        "import pandas as pd\n",
        "import cv2\n",
        "import seaborn as sns\n",
        "from sklearn import svm\n",
        "import matplotlib.pyplot as plt\n",
        "%matplotlib inline\n",
        "from sklearn.model_selection import train_test_split\n",
        "\n",
        "from google.colab import drive"
      ],
      "execution_count": 1,
      "outputs": [
        {
          "output_type": "stream",
          "text": [
            "/usr/local/lib/python3.6/dist-packages/statsmodels/tools/_testing.py:19: FutureWarning: pandas.util.testing is deprecated. Use the functions in the public API at pandas.testing instead.\n",
            "  import pandas.util.testing as tm\n"
          ],
          "name": "stderr"
        }
      ]
    },
    {
      "cell_type": "markdown",
      "metadata": {
        "id": "gVbd_vGsDrLh",
        "colab_type": "text"
      },
      "source": [
        "## Loading the data\n",
        "- We use panda's read_csv to read train.csv into a dataframe.\n",
        "- Then we separate our images and labels for supervised learning.\n",
        "- We also do a train_test_split to break our data into two sets, one for training and one for testing. This let's us measure how well our model was trained by later inputting some known test data."
      ]
    },
    {
      "cell_type": "code",
      "metadata": {
        "id": "YNZD31CJ9wiQ",
        "colab_type": "code",
        "colab": {
          "base_uri": "https://localhost:8080/",
          "height": 122
        },
        "outputId": "9ad67fec-135e-4016-a97f-7e3b9aa6eace"
      },
      "source": [
        "drive.mount('/content/drive/')"
      ],
      "execution_count": 2,
      "outputs": [
        {
          "output_type": "stream",
          "text": [
            "Go to this URL in a browser: https://accounts.google.com/o/oauth2/auth?client_id=947318989803-6bn6qk8qdgf4n4g3pfee6491hc0brc4i.apps.googleusercontent.com&redirect_uri=urn%3aietf%3awg%3aoauth%3a2.0%3aoob&response_type=code&scope=email%20https%3a%2f%2fwww.googleapis.com%2fauth%2fdocs.test%20https%3a%2f%2fwww.googleapis.com%2fauth%2fdrive%20https%3a%2f%2fwww.googleapis.com%2fauth%2fdrive.photos.readonly%20https%3a%2f%2fwww.googleapis.com%2fauth%2fpeopleapi.readonly\n",
            "\n",
            "Enter your authorization code:\n",
            "··········\n",
            "Mounted at /content/drive/\n"
          ],
          "name": "stdout"
        }
      ]
    },
    {
      "cell_type": "code",
      "metadata": {
        "id": "watsLCCsDrLi",
        "colab_type": "code",
        "colab": {}
      },
      "source": [
        "data = pd.read_csv('/content/drive/My Drive/Colab Notebooks/data/dataset_week_1.csv')"
      ],
      "execution_count": 3,
      "outputs": []
    },
    {
      "cell_type": "code",
      "metadata": {
        "id": "0dOe_Ps--jQb",
        "colab_type": "code",
        "colab": {
          "base_uri": "https://localhost:8080/",
          "height": 253
        },
        "outputId": "cf650683-1be6-4b93-c254-f363a83f311a"
      },
      "source": [
        "data.head()"
      ],
      "execution_count": 4,
      "outputs": [
        {
          "output_type": "execute_result",
          "data": {
            "text/html": [
              "<div>\n",
              "<style scoped>\n",
              "    .dataframe tbody tr th:only-of-type {\n",
              "        vertical-align: middle;\n",
              "    }\n",
              "\n",
              "    .dataframe tbody tr th {\n",
              "        vertical-align: top;\n",
              "    }\n",
              "\n",
              "    .dataframe thead th {\n",
              "        text-align: right;\n",
              "    }\n",
              "</style>\n",
              "<table border=\"1\" class=\"dataframe\">\n",
              "  <thead>\n",
              "    <tr style=\"text-align: right;\">\n",
              "      <th></th>\n",
              "      <th>label</th>\n",
              "      <th>pixel0</th>\n",
              "      <th>pixel1</th>\n",
              "      <th>pixel2</th>\n",
              "      <th>pixel3</th>\n",
              "      <th>pixel4</th>\n",
              "      <th>pixel5</th>\n",
              "      <th>pixel6</th>\n",
              "      <th>pixel7</th>\n",
              "      <th>pixel8</th>\n",
              "      <th>pixel9</th>\n",
              "      <th>pixel10</th>\n",
              "      <th>pixel11</th>\n",
              "      <th>pixel12</th>\n",
              "      <th>pixel13</th>\n",
              "      <th>pixel14</th>\n",
              "      <th>pixel15</th>\n",
              "      <th>pixel16</th>\n",
              "      <th>pixel17</th>\n",
              "      <th>pixel18</th>\n",
              "      <th>pixel19</th>\n",
              "      <th>pixel20</th>\n",
              "      <th>pixel21</th>\n",
              "      <th>pixel22</th>\n",
              "      <th>pixel23</th>\n",
              "      <th>pixel24</th>\n",
              "      <th>pixel25</th>\n",
              "      <th>pixel26</th>\n",
              "      <th>pixel27</th>\n",
              "      <th>pixel28</th>\n",
              "      <th>pixel29</th>\n",
              "      <th>pixel30</th>\n",
              "      <th>pixel31</th>\n",
              "      <th>pixel32</th>\n",
              "      <th>pixel33</th>\n",
              "      <th>pixel34</th>\n",
              "      <th>pixel35</th>\n",
              "      <th>pixel36</th>\n",
              "      <th>pixel37</th>\n",
              "      <th>pixel38</th>\n",
              "      <th>...</th>\n",
              "      <th>pixel744</th>\n",
              "      <th>pixel745</th>\n",
              "      <th>pixel746</th>\n",
              "      <th>pixel747</th>\n",
              "      <th>pixel748</th>\n",
              "      <th>pixel749</th>\n",
              "      <th>pixel750</th>\n",
              "      <th>pixel751</th>\n",
              "      <th>pixel752</th>\n",
              "      <th>pixel753</th>\n",
              "      <th>pixel754</th>\n",
              "      <th>pixel755</th>\n",
              "      <th>pixel756</th>\n",
              "      <th>pixel757</th>\n",
              "      <th>pixel758</th>\n",
              "      <th>pixel759</th>\n",
              "      <th>pixel760</th>\n",
              "      <th>pixel761</th>\n",
              "      <th>pixel762</th>\n",
              "      <th>pixel763</th>\n",
              "      <th>pixel764</th>\n",
              "      <th>pixel765</th>\n",
              "      <th>pixel766</th>\n",
              "      <th>pixel767</th>\n",
              "      <th>pixel768</th>\n",
              "      <th>pixel769</th>\n",
              "      <th>pixel770</th>\n",
              "      <th>pixel771</th>\n",
              "      <th>pixel772</th>\n",
              "      <th>pixel773</th>\n",
              "      <th>pixel774</th>\n",
              "      <th>pixel775</th>\n",
              "      <th>pixel776</th>\n",
              "      <th>pixel777</th>\n",
              "      <th>pixel778</th>\n",
              "      <th>pixel779</th>\n",
              "      <th>pixel780</th>\n",
              "      <th>pixel781</th>\n",
              "      <th>pixel782</th>\n",
              "      <th>pixel783</th>\n",
              "    </tr>\n",
              "  </thead>\n",
              "  <tbody>\n",
              "    <tr>\n",
              "      <th>0</th>\n",
              "      <td>1</td>\n",
              "      <td>0</td>\n",
              "      <td>0</td>\n",
              "      <td>0</td>\n",
              "      <td>0</td>\n",
              "      <td>0</td>\n",
              "      <td>0</td>\n",
              "      <td>0</td>\n",
              "      <td>0</td>\n",
              "      <td>0</td>\n",
              "      <td>0</td>\n",
              "      <td>0</td>\n",
              "      <td>0</td>\n",
              "      <td>0</td>\n",
              "      <td>0</td>\n",
              "      <td>0</td>\n",
              "      <td>0</td>\n",
              "      <td>0</td>\n",
              "      <td>0</td>\n",
              "      <td>0</td>\n",
              "      <td>0</td>\n",
              "      <td>0</td>\n",
              "      <td>0</td>\n",
              "      <td>0</td>\n",
              "      <td>0</td>\n",
              "      <td>0</td>\n",
              "      <td>0</td>\n",
              "      <td>0</td>\n",
              "      <td>0</td>\n",
              "      <td>0</td>\n",
              "      <td>0</td>\n",
              "      <td>0</td>\n",
              "      <td>0</td>\n",
              "      <td>0</td>\n",
              "      <td>0</td>\n",
              "      <td>0</td>\n",
              "      <td>0</td>\n",
              "      <td>0</td>\n",
              "      <td>0</td>\n",
              "      <td>0</td>\n",
              "      <td>...</td>\n",
              "      <td>0</td>\n",
              "      <td>0</td>\n",
              "      <td>0</td>\n",
              "      <td>0</td>\n",
              "      <td>0</td>\n",
              "      <td>0</td>\n",
              "      <td>0</td>\n",
              "      <td>0</td>\n",
              "      <td>0</td>\n",
              "      <td>0</td>\n",
              "      <td>0</td>\n",
              "      <td>0</td>\n",
              "      <td>0</td>\n",
              "      <td>0</td>\n",
              "      <td>0</td>\n",
              "      <td>0</td>\n",
              "      <td>0</td>\n",
              "      <td>0</td>\n",
              "      <td>0</td>\n",
              "      <td>0</td>\n",
              "      <td>0</td>\n",
              "      <td>0</td>\n",
              "      <td>0</td>\n",
              "      <td>0</td>\n",
              "      <td>0</td>\n",
              "      <td>0</td>\n",
              "      <td>0</td>\n",
              "      <td>0</td>\n",
              "      <td>0</td>\n",
              "      <td>0</td>\n",
              "      <td>0</td>\n",
              "      <td>0</td>\n",
              "      <td>0</td>\n",
              "      <td>0</td>\n",
              "      <td>0</td>\n",
              "      <td>0</td>\n",
              "      <td>0</td>\n",
              "      <td>0</td>\n",
              "      <td>0</td>\n",
              "      <td>0</td>\n",
              "    </tr>\n",
              "    <tr>\n",
              "      <th>1</th>\n",
              "      <td>0</td>\n",
              "      <td>0</td>\n",
              "      <td>0</td>\n",
              "      <td>0</td>\n",
              "      <td>0</td>\n",
              "      <td>0</td>\n",
              "      <td>0</td>\n",
              "      <td>0</td>\n",
              "      <td>0</td>\n",
              "      <td>0</td>\n",
              "      <td>0</td>\n",
              "      <td>0</td>\n",
              "      <td>0</td>\n",
              "      <td>0</td>\n",
              "      <td>0</td>\n",
              "      <td>0</td>\n",
              "      <td>0</td>\n",
              "      <td>0</td>\n",
              "      <td>0</td>\n",
              "      <td>0</td>\n",
              "      <td>0</td>\n",
              "      <td>0</td>\n",
              "      <td>0</td>\n",
              "      <td>0</td>\n",
              "      <td>0</td>\n",
              "      <td>0</td>\n",
              "      <td>0</td>\n",
              "      <td>0</td>\n",
              "      <td>0</td>\n",
              "      <td>0</td>\n",
              "      <td>0</td>\n",
              "      <td>0</td>\n",
              "      <td>0</td>\n",
              "      <td>0</td>\n",
              "      <td>0</td>\n",
              "      <td>0</td>\n",
              "      <td>0</td>\n",
              "      <td>0</td>\n",
              "      <td>0</td>\n",
              "      <td>0</td>\n",
              "      <td>...</td>\n",
              "      <td>0</td>\n",
              "      <td>0</td>\n",
              "      <td>0</td>\n",
              "      <td>0</td>\n",
              "      <td>0</td>\n",
              "      <td>0</td>\n",
              "      <td>0</td>\n",
              "      <td>0</td>\n",
              "      <td>0</td>\n",
              "      <td>0</td>\n",
              "      <td>0</td>\n",
              "      <td>0</td>\n",
              "      <td>0</td>\n",
              "      <td>0</td>\n",
              "      <td>0</td>\n",
              "      <td>0</td>\n",
              "      <td>0</td>\n",
              "      <td>0</td>\n",
              "      <td>0</td>\n",
              "      <td>0</td>\n",
              "      <td>0</td>\n",
              "      <td>0</td>\n",
              "      <td>0</td>\n",
              "      <td>0</td>\n",
              "      <td>0</td>\n",
              "      <td>0</td>\n",
              "      <td>0</td>\n",
              "      <td>0</td>\n",
              "      <td>0</td>\n",
              "      <td>0</td>\n",
              "      <td>0</td>\n",
              "      <td>0</td>\n",
              "      <td>0</td>\n",
              "      <td>0</td>\n",
              "      <td>0</td>\n",
              "      <td>0</td>\n",
              "      <td>0</td>\n",
              "      <td>0</td>\n",
              "      <td>0</td>\n",
              "      <td>0</td>\n",
              "    </tr>\n",
              "    <tr>\n",
              "      <th>2</th>\n",
              "      <td>1</td>\n",
              "      <td>0</td>\n",
              "      <td>0</td>\n",
              "      <td>0</td>\n",
              "      <td>0</td>\n",
              "      <td>0</td>\n",
              "      <td>0</td>\n",
              "      <td>0</td>\n",
              "      <td>0</td>\n",
              "      <td>0</td>\n",
              "      <td>0</td>\n",
              "      <td>0</td>\n",
              "      <td>0</td>\n",
              "      <td>0</td>\n",
              "      <td>0</td>\n",
              "      <td>0</td>\n",
              "      <td>0</td>\n",
              "      <td>0</td>\n",
              "      <td>0</td>\n",
              "      <td>0</td>\n",
              "      <td>0</td>\n",
              "      <td>0</td>\n",
              "      <td>0</td>\n",
              "      <td>0</td>\n",
              "      <td>0</td>\n",
              "      <td>0</td>\n",
              "      <td>0</td>\n",
              "      <td>0</td>\n",
              "      <td>0</td>\n",
              "      <td>0</td>\n",
              "      <td>0</td>\n",
              "      <td>0</td>\n",
              "      <td>0</td>\n",
              "      <td>0</td>\n",
              "      <td>0</td>\n",
              "      <td>0</td>\n",
              "      <td>0</td>\n",
              "      <td>0</td>\n",
              "      <td>0</td>\n",
              "      <td>0</td>\n",
              "      <td>...</td>\n",
              "      <td>0</td>\n",
              "      <td>0</td>\n",
              "      <td>0</td>\n",
              "      <td>0</td>\n",
              "      <td>0</td>\n",
              "      <td>0</td>\n",
              "      <td>0</td>\n",
              "      <td>0</td>\n",
              "      <td>0</td>\n",
              "      <td>0</td>\n",
              "      <td>0</td>\n",
              "      <td>0</td>\n",
              "      <td>0</td>\n",
              "      <td>0</td>\n",
              "      <td>0</td>\n",
              "      <td>0</td>\n",
              "      <td>0</td>\n",
              "      <td>0</td>\n",
              "      <td>0</td>\n",
              "      <td>0</td>\n",
              "      <td>0</td>\n",
              "      <td>0</td>\n",
              "      <td>0</td>\n",
              "      <td>0</td>\n",
              "      <td>0</td>\n",
              "      <td>0</td>\n",
              "      <td>0</td>\n",
              "      <td>0</td>\n",
              "      <td>0</td>\n",
              "      <td>0</td>\n",
              "      <td>0</td>\n",
              "      <td>0</td>\n",
              "      <td>0</td>\n",
              "      <td>0</td>\n",
              "      <td>0</td>\n",
              "      <td>0</td>\n",
              "      <td>0</td>\n",
              "      <td>0</td>\n",
              "      <td>0</td>\n",
              "      <td>0</td>\n",
              "    </tr>\n",
              "    <tr>\n",
              "      <th>3</th>\n",
              "      <td>4</td>\n",
              "      <td>0</td>\n",
              "      <td>0</td>\n",
              "      <td>0</td>\n",
              "      <td>0</td>\n",
              "      <td>0</td>\n",
              "      <td>0</td>\n",
              "      <td>0</td>\n",
              "      <td>0</td>\n",
              "      <td>0</td>\n",
              "      <td>0</td>\n",
              "      <td>0</td>\n",
              "      <td>0</td>\n",
              "      <td>0</td>\n",
              "      <td>0</td>\n",
              "      <td>0</td>\n",
              "      <td>0</td>\n",
              "      <td>0</td>\n",
              "      <td>0</td>\n",
              "      <td>0</td>\n",
              "      <td>0</td>\n",
              "      <td>0</td>\n",
              "      <td>0</td>\n",
              "      <td>0</td>\n",
              "      <td>0</td>\n",
              "      <td>0</td>\n",
              "      <td>0</td>\n",
              "      <td>0</td>\n",
              "      <td>0</td>\n",
              "      <td>0</td>\n",
              "      <td>0</td>\n",
              "      <td>0</td>\n",
              "      <td>0</td>\n",
              "      <td>0</td>\n",
              "      <td>0</td>\n",
              "      <td>0</td>\n",
              "      <td>0</td>\n",
              "      <td>0</td>\n",
              "      <td>0</td>\n",
              "      <td>0</td>\n",
              "      <td>...</td>\n",
              "      <td>0</td>\n",
              "      <td>0</td>\n",
              "      <td>0</td>\n",
              "      <td>0</td>\n",
              "      <td>0</td>\n",
              "      <td>0</td>\n",
              "      <td>0</td>\n",
              "      <td>0</td>\n",
              "      <td>0</td>\n",
              "      <td>0</td>\n",
              "      <td>0</td>\n",
              "      <td>0</td>\n",
              "      <td>0</td>\n",
              "      <td>0</td>\n",
              "      <td>0</td>\n",
              "      <td>0</td>\n",
              "      <td>0</td>\n",
              "      <td>0</td>\n",
              "      <td>0</td>\n",
              "      <td>0</td>\n",
              "      <td>0</td>\n",
              "      <td>0</td>\n",
              "      <td>0</td>\n",
              "      <td>0</td>\n",
              "      <td>0</td>\n",
              "      <td>0</td>\n",
              "      <td>0</td>\n",
              "      <td>0</td>\n",
              "      <td>0</td>\n",
              "      <td>0</td>\n",
              "      <td>0</td>\n",
              "      <td>0</td>\n",
              "      <td>0</td>\n",
              "      <td>0</td>\n",
              "      <td>0</td>\n",
              "      <td>0</td>\n",
              "      <td>0</td>\n",
              "      <td>0</td>\n",
              "      <td>0</td>\n",
              "      <td>0</td>\n",
              "    </tr>\n",
              "    <tr>\n",
              "      <th>4</th>\n",
              "      <td>0</td>\n",
              "      <td>0</td>\n",
              "      <td>0</td>\n",
              "      <td>0</td>\n",
              "      <td>0</td>\n",
              "      <td>0</td>\n",
              "      <td>0</td>\n",
              "      <td>0</td>\n",
              "      <td>0</td>\n",
              "      <td>0</td>\n",
              "      <td>0</td>\n",
              "      <td>0</td>\n",
              "      <td>0</td>\n",
              "      <td>0</td>\n",
              "      <td>0</td>\n",
              "      <td>0</td>\n",
              "      <td>0</td>\n",
              "      <td>0</td>\n",
              "      <td>0</td>\n",
              "      <td>0</td>\n",
              "      <td>0</td>\n",
              "      <td>0</td>\n",
              "      <td>0</td>\n",
              "      <td>0</td>\n",
              "      <td>0</td>\n",
              "      <td>0</td>\n",
              "      <td>0</td>\n",
              "      <td>0</td>\n",
              "      <td>0</td>\n",
              "      <td>0</td>\n",
              "      <td>0</td>\n",
              "      <td>0</td>\n",
              "      <td>0</td>\n",
              "      <td>0</td>\n",
              "      <td>0</td>\n",
              "      <td>0</td>\n",
              "      <td>0</td>\n",
              "      <td>0</td>\n",
              "      <td>0</td>\n",
              "      <td>0</td>\n",
              "      <td>...</td>\n",
              "      <td>0</td>\n",
              "      <td>0</td>\n",
              "      <td>0</td>\n",
              "      <td>0</td>\n",
              "      <td>0</td>\n",
              "      <td>0</td>\n",
              "      <td>0</td>\n",
              "      <td>0</td>\n",
              "      <td>0</td>\n",
              "      <td>0</td>\n",
              "      <td>0</td>\n",
              "      <td>0</td>\n",
              "      <td>0</td>\n",
              "      <td>0</td>\n",
              "      <td>0</td>\n",
              "      <td>0</td>\n",
              "      <td>0</td>\n",
              "      <td>0</td>\n",
              "      <td>0</td>\n",
              "      <td>0</td>\n",
              "      <td>0</td>\n",
              "      <td>0</td>\n",
              "      <td>0</td>\n",
              "      <td>0</td>\n",
              "      <td>0</td>\n",
              "      <td>0</td>\n",
              "      <td>0</td>\n",
              "      <td>0</td>\n",
              "      <td>0</td>\n",
              "      <td>0</td>\n",
              "      <td>0</td>\n",
              "      <td>0</td>\n",
              "      <td>0</td>\n",
              "      <td>0</td>\n",
              "      <td>0</td>\n",
              "      <td>0</td>\n",
              "      <td>0</td>\n",
              "      <td>0</td>\n",
              "      <td>0</td>\n",
              "      <td>0</td>\n",
              "    </tr>\n",
              "  </tbody>\n",
              "</table>\n",
              "<p>5 rows × 785 columns</p>\n",
              "</div>"
            ],
            "text/plain": [
              "   label  pixel0  pixel1  pixel2  ...  pixel780  pixel781  pixel782  pixel783\n",
              "0      1       0       0       0  ...         0         0         0         0\n",
              "1      0       0       0       0  ...         0         0         0         0\n",
              "2      1       0       0       0  ...         0         0         0         0\n",
              "3      4       0       0       0  ...         0         0         0         0\n",
              "4      0       0       0       0  ...         0         0         0         0\n",
              "\n",
              "[5 rows x 785 columns]"
            ]
          },
          "metadata": {
            "tags": []
          },
          "execution_count": 4
        }
      ]
    },
    {
      "cell_type": "code",
      "metadata": {
        "id": "6vjl-ggHQE0B",
        "colab_type": "code",
        "colab": {
          "base_uri": "https://localhost:8080/",
          "height": 34
        },
        "outputId": "6273c9be-0e96-48d0-957c-bf7c330049da"
      },
      "source": [
        "data.shape"
      ],
      "execution_count": 5,
      "outputs": [
        {
          "output_type": "execute_result",
          "data": {
            "text/plain": [
              "(10008, 785)"
            ]
          },
          "metadata": {
            "tags": []
          },
          "execution_count": 5
        }
      ]
    },
    {
      "cell_type": "code",
      "metadata": {
        "id": "TwpHt4vIDrLl",
        "colab_type": "code",
        "colab": {}
      },
      "source": [
        "# The labels for images.\n",
        "y = data[\"label\"]"
      ],
      "execution_count": 6,
      "outputs": []
    },
    {
      "cell_type": "code",
      "metadata": {
        "id": "3qHkPllCDrLn",
        "colab_type": "code",
        "colab": {}
      },
      "source": [
        "# Drop 'label' column.\n",
        "X = data.drop(labels = [\"label\"], axis = 1) "
      ],
      "execution_count": 7,
      "outputs": []
    },
    {
      "cell_type": "code",
      "metadata": {
        "id": "Vz3bmnIWDrLq",
        "colab_type": "code",
        "colab": {
          "base_uri": "https://localhost:8080/",
          "height": 466
        },
        "outputId": "d4aa91eb-2ffa-4608-e8cb-3fb0abc998ae"
      },
      "source": [
        "g = sns.countplot(y)\n",
        "y.value_counts()"
      ],
      "execution_count": 8,
      "outputs": [
        {
          "output_type": "execute_result",
          "data": {
            "text/plain": [
              "5    1002\n",
              "7    1001\n",
              "6    1001\n",
              "3    1001\n",
              "9    1001\n",
              "1    1001\n",
              "8    1001\n",
              "4    1000\n",
              "2    1000\n",
              "0    1000\n",
              "Name: label, dtype: int64"
            ]
          },
          "metadata": {
            "tags": []
          },
          "execution_count": 8
        },
        {
          "output_type": "display_data",
          "data": {
            "image/png": "[encoded data removed]",
            "text/plain": [
              "<Figure size 432x288 with 1 Axes>"
            ]
          },
          "metadata": {
            "tags": [],
            "needs_background": "light"
          }
        }
      ]
    },
    {
      "cell_type": "markdown",
      "metadata": {
        "id": "YghaEzSV0_MN",
        "colab_type": "text"
      },
      "source": [
        "### We can see from the above plot that the data is evenly distributed among all the classes (from 0, 1, 2, ..., 8, 9). So, the dataset is perfectly balanced."
      ]
    },
    {
      "cell_type": "markdown",
      "metadata": {
        "id": "gdloDq-VQr19",
        "colab_type": "text"
      },
      "source": [
        "## George's Challenge\n",
        "- What type of classification is this?\n",
        "- If we are to use neural networks, what activation functions do we need in the output layer?"
      ]
    },
    {
      "cell_type": "markdown",
      "metadata": {
        "id": "B5wTnQZ2DrLt",
        "colab_type": "text"
      },
      "source": [
        "# Check for null and missing values"
      ]
    },
    {
      "cell_type": "code",
      "metadata": {
        "id": "7MSX5S1DDrLu",
        "colab_type": "code",
        "colab": {
          "base_uri": "https://localhost:8080/",
          "height": 221
        },
        "outputId": "b891876a-534e-4853-dbac-903142458167"
      },
      "source": [
        "# Check the data\n",
        "X.isnull().sum()"
      ],
      "execution_count": 9,
      "outputs": [
        {
          "output_type": "execute_result",
          "data": {
            "text/plain": [
              "pixel0      0\n",
              "pixel1      0\n",
              "pixel2      0\n",
              "pixel3      0\n",
              "pixel4      0\n",
              "           ..\n",
              "pixel779    0\n",
              "pixel780    0\n",
              "pixel781    0\n",
              "pixel782    0\n",
              "pixel783    0\n",
              "Length: 784, dtype: int64"
            ]
          },
          "metadata": {
            "tags": []
          },
          "execution_count": 9
        }
      ]
    },
    {
      "cell_type": "code",
      "metadata": {
        "id": "Ahp7eRGyLVXO",
        "colab_type": "code",
        "colab": {
          "base_uri": "https://localhost:8080/",
          "height": 34
        },
        "outputId": "a54f9ee7-9a44-4920-c131-150f6ffee876"
      },
      "source": [
        "X.isnull().sum().sum()"
      ],
      "execution_count": 10,
      "outputs": [
        {
          "output_type": "execute_result",
          "data": {
            "text/plain": [
              "0"
            ]
          },
          "metadata": {
            "tags": []
          },
          "execution_count": 10
        }
      ]
    },
    {
      "cell_type": "markdown",
      "metadata": {
        "id": "TXM9eAO7LEV8",
        "colab_type": "text"
      },
      "source": [
        "## George's Challenge\n",
        "How can we know whether there's any null values in the df at all?"
      ]
    },
    {
      "cell_type": "markdown",
      "metadata": {
        "id": "xCdXjZaTDrLx",
        "colab_type": "text"
      },
      "source": [
        "#### I checked for corrupted images (missing values inside).\n",
        "\n",
        "\n",
        "#### There is no missing values in the dataset. So we can safely go ahead."
      ]
    },
    {
      "cell_type": "markdown",
      "metadata": {
        "id": "Kbp9tbJ5DrLy",
        "colab_type": "text"
      },
      "source": [
        "# Normalization\n",
        "- We perform a grayscale normalization to reduce the effect of illumination's differences."
      ]
    },
    {
      "cell_type": "code",
      "metadata": {
        "id": "dCiHsJ5eDrLy",
        "colab_type": "code",
        "colab": {}
      },
      "source": [
        "# Normalize the data\n",
        "X = X.astype('float32') / 255.0"
      ],
      "execution_count": 11,
      "outputs": []
    },
    {
      "cell_type": "markdown",
      "metadata": {
        "id": "DXDiZ-_bKg11",
        "colab_type": "text"
      },
      "source": [
        "## George's Challenge\n",
        "Data leakage? Why or why not?"
      ]
    },
    {
      "cell_type": "markdown",
      "metadata": {
        "id": "QTTRz-WtRRRE",
        "colab_type": "text"
      },
      "source": [
        "## George's Tip\n",
        "Why normalizing?\n",
        "> Neural networks process inputs using small weight values, and inputs with large integer values can disrupt or slow down the learning process. As such it is good practice to normalize the pixel values so that each pixel value has a value between 0 and 1.\n",
        "\n",
        "https://machinelearningmastery.com/how-to-manually-scale-image-pixel-data-for-deep-learning/\n"
      ]
    },
    {
      "cell_type": "code",
      "metadata": {
        "id": "fzXfwxBbLe-I",
        "colab_type": "code",
        "colab": {}
      },
      "source": [
        "X = X.values # Convert the features (pixel values) to numpy array to feed into the supervised learning model.\n",
        "y = y.values # Convert the labels to numpy array to feed into the supervised learning model."
      ],
      "execution_count": 12,
      "outputs": []
    },
    {
      "cell_type": "code",
      "metadata": {
        "id": "croSzfCaDrL1",
        "colab_type": "code",
        "colab": {}
      },
      "source": [
        "# Split data into test and train to build the model.\n",
        "X_train, X_test, y_train, y_test = train_test_split(X, y, train_size=0.75, random_state=0)"
      ],
      "execution_count": 13,
      "outputs": []
    },
    {
      "cell_type": "code",
      "metadata": {
        "id": "BSpJiuyeKl2B",
        "colab_type": "code",
        "colab": {
          "base_uri": "https://localhost:8080/",
          "height": 34
        },
        "outputId": "76c0dce0-5f0a-4f2e-ca96-769bcb99fc60"
      },
      "source": [
        "type(X_train) # As we can see that the data to be fed into model is of the type numpy array."
      ],
      "execution_count": 14,
      "outputs": [
        {
          "output_type": "execute_result",
          "data": {
            "text/plain": [
              "numpy.ndarray"
            ]
          },
          "metadata": {
            "tags": []
          },
          "execution_count": 14
        }
      ]
    },
    {
      "cell_type": "markdown",
      "metadata": {
        "id": "XSiKBnaoDrL3",
        "colab_type": "text"
      },
      "source": [
        "#### We can get a better sense for one of these examples by visualising the image and looking at the label."
      ]
    },
    {
      "cell_type": "markdown",
      "metadata": {
        "id": "mBjg8ZrpDrL3",
        "colab_type": "text"
      },
      "source": [
        "# Viewing an Image\n",
        "- Since the image is currently one-dimension, we load it into a numpy array and reshape it so that it is two-dimensional (28x28 pixels)\n",
        "- Then, we plot the image and label with matplotlib\n",
        "\n",
        "##### You can change the value of variable i to check out other images and labels.¶"
      ]
    },
    {
      "cell_type": "code",
      "metadata": {
        "id": "ogQfrOQJDrL4",
        "colab_type": "code",
        "colab": {
          "base_uri": "https://localhost:8080/",
          "height": 298
        },
        "outputId": "0403e67b-26ee-4137-82a4-8044a40ee01f"
      },
      "source": [
        "i=1\n",
        "img = X[i]\n",
        "img = img.reshape((28,28))\n",
        "plt.imshow(img, cmap='gray')\n",
        "plt.title(y[i])"
      ],
      "execution_count": 17,
      "outputs": [
        {
          "output_type": "execute_result",
          "data": {
            "text/plain": [
              "Text(0.5, 1.0, '0')"
            ]
          },
          "metadata": {
            "tags": []
          },
          "execution_count": 17
        },
        {
          "output_type": "display_data",
          "data": {
            "image/png": "[encoded data removed]",
            "text/plain": [
              "<Figure size 432x288 with 1 Axes>"
            ]
          },
          "metadata": {
            "tags": [],
            "needs_background": "light"
          }
        }
      ]
    },
    {
      "cell_type": "markdown",
      "metadata": {
        "id": "RylRXwz1SF6I",
        "colab_type": "text"
      },
      "source": [
        "## George's Challenge\n",
        "- What is `X[i]`'s shape?\n",
        "- How to reshape the whole array instead of just one row?\n",
        "- What's the shape of the reshaped array?"
      ]
    },
    {
      "cell_type": "markdown",
      "metadata": {
        "id": "9z-Rvd7r2Iax",
        "colab_type": "text"
      },
      "source": [
        "### In the original data, the pixel values were in a 1-Dimensional array.\n",
        "### We converted that 1-D array of 784 pixel values into an 2-D array of shape (28 X 28).\n",
        "### Note that 28 multiplied by 28 is equal to 784.\n",
        "### As each pixel value represents dark or white spot, when we plot the 28x28 pixel's array, we get the above image.\n",
        "### So, it validates the fact that image can be represented by an numpy array.\n",
        "### Each value of the above numpy array represents a pixel, which has value between 0 and 255."
      ]
    },
    {
      "cell_type": "markdown",
      "metadata": {
        "id": "C924HqB4DrL6",
        "colab_type": "text"
      },
      "source": [
        "# Examining the Pixel Values:\n",
        "- Note that these images aren't actually black and white (0,1). They are gray-scale (0-255).\n",
        "- A histogram of this image's pixel values shows the range."
      ]
    },
    {
      "cell_type": "code",
      "metadata": {
        "id": "tR-VjkaNDrL6",
        "colab_type": "code",
        "colab": {
          "base_uri": "https://localhost:8080/",
          "height": 316
        },
        "outputId": "7094f421-dfd4-41bd-9f52-47f705ac2eac"
      },
      "source": [
        "plt.hist(X[1])"
      ],
      "execution_count": 25,
      "outputs": [
        {
          "output_type": "execute_result",
          "data": {
            "text/plain": [
              "(array([566.,  17.,  12.,  11.,   3.,  11.,   7.,  11.,   7., 139.]),\n",
              " array([0. , 0.1, 0.2, 0.3, 0.4, 0.5, 0.6, 0.7, 0.8, 0.9, 1. ]),\n",
              " <a list of 10 Patch objects>)"
            ]
          },
          "metadata": {
            "tags": []
          },
          "execution_count": 25
        },
        {
          "output_type": "display_data",
          "data": {
            "image/png": "[encoded data removed]",
            "text/plain": [
              "<Figure size 432x288 with 1 Axes>"
            ]
          },
          "metadata": {
            "tags": [],
            "needs_background": "light"
          }
        }
      ]
    },
    {
      "cell_type": "code",
      "metadata": {
        "id": "fWdaBC4mzs6s",
        "colab_type": "code",
        "colab": {
          "base_uri": "https://localhost:8080/",
          "height": 282
        },
        "outputId": "be9b0555-0c64-4d3c-f88b-eeee0d966b02"
      },
      "source": [
        "i=100\n",
        "img = X[i]\n",
        "img = img.reshape((28,28))\n",
        "plt.imshow(img, cmap='gray')"
      ],
      "execution_count": 26,
      "outputs": [
        {
          "output_type": "execute_result",
          "data": {
            "text/plain": [
              "<matplotlib.image.AxesImage at 0x7f8182a42ba8>"
            ]
          },
          "metadata": {
            "tags": []
          },
          "execution_count": 26
        },
        {
          "output_type": "display_data",
          "data": {
            "image/png": "[encoded data removed]",
            "text/plain": [
              "<Figure size 432x288 with 1 Axes>"
            ]
          },
          "metadata": {
            "tags": [],
            "needs_background": "light"
          }
        }
      ]
    },
    {
      "cell_type": "code",
      "metadata": {
        "id": "THSt6FdYzyg3",
        "colab_type": "code",
        "colab": {
          "base_uri": "https://localhost:8080/",
          "height": 316
        },
        "outputId": "68211610-afda-4e03-c9b6-55c13cbdec97"
      },
      "source": [
        "plt.hist(X[i])"
      ],
      "execution_count": 27,
      "outputs": [
        {
          "output_type": "execute_result",
          "data": {
            "text/plain": [
              "(array([641.,  14.,   5.,  11.,   6.,   9.,   9.,   9.,  14.,  66.]),\n",
              " array([0. , 0.1, 0.2, 0.3, 0.4, 0.5, 0.6, 0.7, 0.8, 0.9, 1. ]),\n",
              " <a list of 10 Patch objects>)"
            ]
          },
          "metadata": {
            "tags": []
          },
          "execution_count": 27
        },
        {
          "output_type": "display_data",
          "data": {
            "image/png": "[encoded data removed]",
            "text/plain": [
              "<Figure size 432x288 with 1 Axes>"
            ]
          },
          "metadata": {
            "tags": [],
            "needs_background": "light"
          }
        }
      ]
    },
    {
      "cell_type": "code",
      "metadata": {
        "id": "9YswG8L7z3Lo",
        "colab_type": "code",
        "colab": {
          "base_uri": "https://localhost:8080/",
          "height": 282
        },
        "outputId": "ec3de16e-0146-4e39-853e-f6f1b516d04f"
      },
      "source": [
        "i=101\n",
        "img = X[i]\n",
        "img = img.reshape((28,28))\n",
        "plt.imshow(img, cmap='gray')"
      ],
      "execution_count": 28,
      "outputs": [
        {
          "output_type": "execute_result",
          "data": {
            "text/plain": [
              "<matplotlib.image.AxesImage at 0x7f8182922400>"
            ]
          },
          "metadata": {
            "tags": []
          },
          "execution_count": 28
        },
        {
          "output_type": "display_data",
          "data": {
            "image/png": "[encoded data removed]",
            "text/plain": [
              "<Figure size 432x288 with 1 Axes>"
            ]
          },
          "metadata": {
            "tags": [],
            "needs_background": "light"
          }
        }
      ]
    },
    {
      "cell_type": "code",
      "metadata": {
        "id": "zZ5K4_przZp2",
        "colab_type": "code",
        "colab": {
          "base_uri": "https://localhost:8080/",
          "height": 316
        },
        "outputId": "e714b7bb-0d31-45d5-be67-171710f42f51"
      },
      "source": [
        "plt.hist(X[i])"
      ],
      "execution_count": 29,
      "outputs": [
        {
          "output_type": "execute_result",
          "data": {
            "text/plain": [
              "(array([626.,  13.,   7.,   7.,   5.,  14.,   5.,  14.,   9.,  84.]),\n",
              " array([0. , 0.1, 0.2, 0.3, 0.4, 0.5, 0.6, 0.7, 0.8, 0.9, 1. ]),\n",
              " <a list of 10 Patch objects>)"
            ]
          },
          "metadata": {
            "tags": []
          },
          "execution_count": 29
        },
        {
          "output_type": "display_data",
          "data": {
            "image/png": "[encoded data removed]",
            "text/plain": [
              "<Figure size 432x288 with 1 Axes>"
            ]
          },
          "metadata": {
            "tags": [],
            "needs_background": "light"
          }
        }
      ]
    },
    {
      "cell_type": "markdown",
      "metadata": {
        "id": "vW9K3euq3Mu-",
        "colab_type": "text"
      },
      "source": [
        "### From above histogram, we can see that the there are more number of pixels which have value equal to zero. \n",
        "### Zero value represents black pixel.\n",
        "### From the image we saw before, we observed that the black portion of image was more than the white portion.\n",
        "### It confirms that white pixel is represented by value equal to 1."
      ]
    },
    {
      "cell_type": "markdown",
      "metadata": {
        "id": "UhuCU0WZDrL9",
        "colab_type": "text"
      },
      "source": [
        "# Training our model\n",
        "- First, we use the sklearn.ensemble module to create a **random forest classifier**.\n",
        "- Next, we pass our training images and labels to the classifier's fit method, which trains our model.\n",
        "- Finally, the test images and labels are passed to the score method to see how well we trained our model. Score will return a float between 0-1 indicating our accuracy on the test data set\n",
        "\n",
        "##### Try playing with the parameters of RandomForestClassifier() to see how the results change.¶"
      ]
    },
    {
      "cell_type": "code",
      "metadata": {
        "id": "sTlKVDJXSPS5",
        "colab_type": "code",
        "colab": {
          "base_uri": "https://localhost:8080/",
          "height": 153
        },
        "outputId": "e5e37630-d722-4e56-bb63-caa260923b26"
      },
      "source": [
        "from sklearn.ensemble import RandomForestClassifier\n",
        "# random forest model creation\n",
        "clf = RandomForestClassifier(random_state=0)\n",
        "clf.fit(X_train, y_train)"
      ],
      "execution_count": 30,
      "outputs": [
        {
          "output_type": "execute_result",
          "data": {
            "text/plain": [
              "RandomForestClassifier(bootstrap=True, ccp_alpha=0.0, class_weight=None,\n",
              "                       criterion='gini', max_depth=None, max_features='auto',\n",
              "                       max_leaf_nodes=None, max_samples=None,\n",
              "                       min_impurity_decrease=0.0, min_impurity_split=None,\n",
              "                       min_samples_leaf=1, min_samples_split=2,\n",
              "                       min_weight_fraction_leaf=0.0, n_estimators=100,\n",
              "                       n_jobs=None, oob_score=False, random_state=0, verbose=0,\n",
              "                       warm_start=False)"
            ]
          },
          "metadata": {
            "tags": []
          },
          "execution_count": 30
        }
      ]
    },
    {
      "cell_type": "code",
      "metadata": {
        "id": "z8wJbZO4DrL9",
        "colab_type": "code",
        "colab": {
          "base_uri": "https://localhost:8080/",
          "height": 34
        },
        "outputId": "34a7ae7a-3669-45e5-a2a0-d547545c20b8"
      },
      "source": [
        "clf.score(X_test, y_test)"
      ],
      "execution_count": 31,
      "outputs": [
        {
          "output_type": "execute_result",
          "data": {
            "text/plain": [
              "0.9376498800959233"
            ]
          },
          "metadata": {
            "tags": []
          },
          "execution_count": 31
        }
      ]
    },
    {
      "cell_type": "code",
      "metadata": {
        "id": "-2VlLptZOz-l",
        "colab_type": "code",
        "colab": {}
      },
      "source": [
        "y_pred = clf.predict(X_test)"
      ],
      "execution_count": 32,
      "outputs": []
    },
    {
      "cell_type": "markdown",
      "metadata": {
        "id": "mNzzpIh0DrL_",
        "colab_type": "text"
      },
      "source": [
        " How did our model do?\n",
        "- You should have gotten around 0.9376, or **93.76% accuracy**. This is good."
      ]
    },
    {
      "cell_type": "markdown",
      "metadata": {
        "id": "Ym9pV6JwtdRu",
        "colab_type": "text"
      },
      "source": [
        "## George's Challenge\n",
        "What accuracy would we get if we randomly guess the class?"
      ]
    },
    {
      "cell_type": "code",
      "metadata": {
        "id": "-KiepNei7Y5X",
        "colab_type": "code",
        "colab": {
          "base_uri": "https://localhost:8080/",
          "height": 298
        },
        "outputId": "bd1fe0d9-81fe-48da-db05-b719f143aba4"
      },
      "source": [
        "img = X_test[i]\n",
        "img = img.reshape((28,28))\n",
        "plt.imshow(img, cmap='gray')\n",
        "plt.title(y_pred[i])"
      ],
      "execution_count": 34,
      "outputs": [
        {
          "output_type": "execute_result",
          "data": {
            "text/plain": [
              "Text(0.5, 1.0, '9')"
            ]
          },
          "metadata": {
            "tags": []
          },
          "execution_count": 34
        },
        {
          "output_type": "display_data",
          "data": {
            "image/png": "[encoded data removed]",
            "text/plain": [
              "<Figure size 432x288 with 1 Axes>"
            ]
          },
          "metadata": {
            "tags": [],
            "needs_background": "light"
          }
        }
      ]
    },
    {
      "cell_type": "code",
      "metadata": {
        "id": "F31G4fDUDrMF",
        "colab_type": "code",
        "colab": {}
      },
      "source": [
        "from sklearn.metrics import classification_report, confusion_matrix"
      ],
      "execution_count": 35,
      "outputs": []
    },
    {
      "cell_type": "code",
      "metadata": {
        "id": "GFssUSxGOtEp",
        "colab_type": "code",
        "colab": {
          "base_uri": "https://localhost:8080/",
          "height": 204
        },
        "outputId": "36cb3dae-d19f-416a-b803-753b73dd1ce3"
      },
      "source": [
        "print(\"=== Confusion Matrix ===\")\n",
        "cm = confusion_matrix(y_test, y_pred)\n",
        "print(cm)"
      ],
      "execution_count": 36,
      "outputs": [
        {
          "output_type": "stream",
          "text": [
            "=== Confusion Matrix ===\n",
            "[[233   0   2   0   0   0   4   0   2   0]\n",
            " [  0 253   4   0   0   0   2   0   0   0]\n",
            " [  1   4 203   1   1   0   0   6   3   2]\n",
            " [  2   1   6 245   0   7   3   0   5   3]\n",
            " [  1   0   1   0 224   0   1   0   3  11]\n",
            " [  0   0   1   5   1 253   3   0   3   3]\n",
            " [  1   0   1   0   0   2 247   0   1   0]\n",
            " [  2   0   5   1   2   0   0 241   0   7]\n",
            " [  0   2   3   8   0   1   4   0 229   2]\n",
            " [  2   0   0   3   9   2   1   1   4 218]]\n"
          ],
          "name": "stdout"
        }
      ]
    },
    {
      "cell_type": "code",
      "metadata": {
        "id": "4akqR7KmRsC1",
        "colab_type": "code",
        "colab": {
          "base_uri": "https://localhost:8080/",
          "height": 445
        },
        "outputId": "24f2fc73-7f29-4b03-d1bc-ac7d7abb26fa"
      },
      "source": [
        "df_cm = pd.DataFrame(cm, index = [i for i in \"0123456789\"],\n",
        "                     columns = [i for i in \"0123456789\"])\n",
        "plt.figure(figsize = (10,7))\n",
        "sns.heatmap(df_cm, annot=True, fmt='d')"
      ],
      "execution_count": 37,
      "outputs": [
        {
          "output_type": "execute_result",
          "data": {
            "text/plain": [
              "<matplotlib.axes._subplots.AxesSubplot at 0x7f8180b43b00>"
            ]
          },
          "metadata": {
            "tags": []
          },
          "execution_count": 37
        },
        {
          "output_type": "display_data",
          "data": {
            "image/png": "[encoded data removed]",
            "text/plain": [
              "<Figure size 720x504 with 2 Axes>"
            ]
          },
          "metadata": {
            "tags": [],
            "needs_background": "light"
          }
        }
      ]
    },
    {
      "cell_type": "code",
      "metadata": {
        "id": "Am6wEwLARqnv",
        "colab_type": "code",
        "colab": {
          "base_uri": "https://localhost:8080/",
          "height": 323
        },
        "outputId": "eb254c2a-7650-45cf-ee05-72b7d0366a8e"
      },
      "source": [
        "print(\"=== Classification Report ===\")\n",
        "print(classification_report(y_test, y_pred))"
      ],
      "execution_count": 38,
      "outputs": [
        {
          "output_type": "stream",
          "text": [
            "=== Classification Report ===\n",
            "              precision    recall  f1-score   support\n",
            "\n",
            "           0       0.96      0.97      0.96       241\n",
            "           1       0.97      0.98      0.97       259\n",
            "           2       0.90      0.92      0.91       221\n",
            "           3       0.93      0.90      0.92       272\n",
            "           4       0.95      0.93      0.94       241\n",
            "           5       0.95      0.94      0.95       269\n",
            "           6       0.93      0.98      0.96       252\n",
            "           7       0.97      0.93      0.95       258\n",
            "           8       0.92      0.92      0.92       249\n",
            "           9       0.89      0.91      0.90       240\n",
            "\n",
            "    accuracy                           0.94      2502\n",
            "   macro avg       0.94      0.94      0.94      2502\n",
            "weighted avg       0.94      0.94      0.94      2502\n",
            "\n"
          ],
          "name": "stdout"
        }
      ]
    },
    {
      "cell_type": "markdown",
      "metadata": {
        "id": "b0qtAzjCTCpa",
        "colab_type": "text"
      },
      "source": [
        "### So, we got a pretty good accuracy on classification of the images of digits, as the classification report shows."
      ]
    },
    {
      "cell_type": "markdown",
      "metadata": {
        "id": "TI5b6Oq6rFac",
        "colab_type": "text"
      },
      "source": [
        "# Using Gaussian Blurring in Pre-Processing:\n",
        "- Now we'll use **gaussian blurring** in the **pre-processing**.\n",
        "- And see how it affects the **model accuracy**."
      ]
    },
    {
      "cell_type": "markdown",
      "metadata": {
        "id": "698nrWVF8JuG",
        "colab_type": "text"
      },
      "source": [
        "### To apply gaussian blurring:\n",
        "- We have to convert the flattened 1-D array to 2-D array.\n",
        "- The shape of 2-D array is 28x28 pixels.\n",
        "- Then we apply gaussian blurring filter to each of the image.\n",
        "- After applying filter, we have to convert the 2-D array to 1-D array with shape 784 pixels. So that we can feed that into the traditional supervised learning algorithm as we did in the case above."
      ]
    },
    {
      "cell_type": "code",
      "metadata": {
        "id": "BGleFB8Vtn63",
        "colab_type": "code",
        "colab": {
          "base_uri": "https://localhost:8080/",
          "height": 51
        },
        "outputId": "85cfa27a-00fd-4c9a-f0a5-09161ee4c751"
      },
      "source": [
        "print(len(X)) # Check the number of rows in the dataset.\n",
        "print(X.shape) # The shape of dataset tells us that there are 10008 numbers, each of which has 784 pixels. (It's the shape of the numpy array)"
      ],
      "execution_count": 39,
      "outputs": [
        {
          "output_type": "stream",
          "text": [
            "10008\n",
            "(10008, 784)\n"
          ],
          "name": "stdout"
        }
      ]
    },
    {
      "cell_type": "code",
      "metadata": {
        "id": "M487y2fPrEWg",
        "colab_type": "code",
        "colab": {}
      },
      "source": [
        "# Now we create an empty numpy array, which will be used to store the new values after applying Gaussian Blurring filter to the original image.\n",
        "new_x = np.empty((10008, 28, 28)) "
      ],
      "execution_count": 40,
      "outputs": []
    },
    {
      "cell_type": "code",
      "metadata": {
        "id": "Rct5u84p23mZ",
        "colab_type": "code",
        "colab": {
          "base_uri": "https://localhost:8080/",
          "height": 34
        },
        "outputId": "18ddd1f4-e53f-4f41-cb14-4cbf812e0779"
      },
      "source": [
        "new_x.shape"
      ],
      "execution_count": 42,
      "outputs": [
        {
          "output_type": "execute_result",
          "data": {
            "text/plain": [
              "(10008, 28, 28)"
            ]
          },
          "metadata": {
            "tags": []
          },
          "execution_count": 42
        }
      ]
    },
    {
      "cell_type": "code",
      "metadata": {
        "id": "brOQfs99wVlw",
        "colab_type": "code",
        "colab": {
          "base_uri": "https://localhost:8080/",
          "height": 34
        },
        "outputId": "bb5f5918-710c-45b1-8eef-f0bfef0a8e41"
      },
      "source": [
        "# We can see that each digit is made of 784 pixels.\n",
        "X[0].shape "
      ],
      "execution_count": 43,
      "outputs": [
        {
          "output_type": "execute_result",
          "data": {
            "text/plain": [
              "(784,)"
            ]
          },
          "metadata": {
            "tags": []
          },
          "execution_count": 43
        }
      ]
    },
    {
      "cell_type": "code",
      "metadata": {
        "id": "GU0K9-SkvNxG",
        "colab_type": "code",
        "colab": {}
      },
      "source": [
        "# In the following step, we iterate through each row, and convert the 1-D array of 784 pixels to an array of 28x28 pixels 2-D array. \n",
        "for idx, line in enumerate(X):\n",
        "  new_x[idx] = line.reshape((28, 28))"
      ],
      "execution_count": 44,
      "outputs": []
    },
    {
      "cell_type": "code",
      "metadata": {
        "id": "rpRPHrsW3T6b",
        "colab_type": "code",
        "colab": {
          "base_uri": "https://localhost:8080/",
          "height": 68
        },
        "outputId": "3c5c5e5f-eedb-40c7-8e31-cdb78ac91951"
      },
      "source": [
        "lst = ['a', 'b', 'c']\n",
        "for idx, item in enumerate(lst):\n",
        "  print(idx, item)"
      ],
      "execution_count": null,
      "outputs": [
        {
          "output_type": "stream",
          "text": [
            "0 a\n",
            "1 b\n",
            "2 c\n"
          ],
          "name": "stdout"
        }
      ]
    },
    {
      "cell_type": "markdown",
      "metadata": {
        "id": "MGHWR_RLWKay",
        "colab_type": "text"
      },
      "source": [
        "## George's Challenge\n",
        "Walk thru the code :)"
      ]
    },
    {
      "cell_type": "code",
      "metadata": {
        "id": "AcS7KhoJ5LP3",
        "colab_type": "code",
        "colab": {
          "base_uri": "https://localhost:8080/",
          "height": 34
        },
        "outputId": "618a1b8d-ab7e-4de5-876e-1b8484300900"
      },
      "source": [
        "# Here we see that the length of new dataset after application of Gaussian Blurring filter is same as previous one.\n",
        "# i.e. Total number of images is same.\n",
        "len(new_x)"
      ],
      "execution_count": null,
      "outputs": [
        {
          "output_type": "execute_result",
          "data": {
            "text/plain": [
              "10008"
            ]
          },
          "metadata": {
            "tags": []
          },
          "execution_count": 40
        }
      ]
    },
    {
      "cell_type": "code",
      "metadata": {
        "id": "yUwCRIhm5qJj",
        "colab_type": "code",
        "colab": {}
      },
      "source": [
        "# Now we apply the gaussian blur to each 28x28 pixels array (image) to reduce the noise in the image\n",
        "for idx, img in enumerate(new_x):\n",
        "  new_x[idx] = cv2.GaussianBlur(img, (5, 5), 0)"
      ],
      "execution_count": 47,
      "outputs": []
    },
    {
      "cell_type": "code",
      "metadata": {
        "id": "U51O5KVc6Hx_",
        "colab_type": "code",
        "colab": {
          "base_uri": "https://localhost:8080/",
          "height": 282
        },
        "outputId": "dd150e22-0326-4a5a-a0c0-127bdeea4a9e"
      },
      "source": [
        "# Plot the de-noised image generated by applying Gaussian blur.\n",
        "plt.imshow(new_x[1], cmap='gray')\n",
        "#plt.title(y[i])"
      ],
      "execution_count": 48,
      "outputs": [
        {
          "output_type": "execute_result",
          "data": {
            "text/plain": [
              "<matplotlib.image.AxesImage at 0x7f817e192ac8>"
            ]
          },
          "metadata": {
            "tags": []
          },
          "execution_count": 48
        },
        {
          "output_type": "display_data",
          "data": {
            "image/png": "[encoded data removed]",
            "text/plain": [
              "<Figure size 432x288 with 1 Axes>"
            ]
          },
          "metadata": {
            "tags": [],
            "needs_background": "light"
          }
        }
      ]
    },
    {
      "cell_type": "markdown",
      "metadata": {
        "id": "P8S4oJhiXj6i",
        "colab_type": "text"
      },
      "source": [
        "## George's Tip\n",
        "NEVER loop thru a numpy array or pandas df! Use vectorized operations instead!\n",
        "https://www.pythonlikeyoumeanit.com/Module3_IntroducingNumpy/VectorizedOperations.html"
      ]
    },
    {
      "cell_type": "markdown",
      "metadata": {
        "id": "0NYHz26iXbut",
        "colab_type": "text"
      },
      "source": [
        "## George's Bonus\n",
        "- How to do this with vectorized operations?\n"
      ]
    },
    {
      "cell_type": "code",
      "metadata": {
        "id": "HeOj0V7e8RMo",
        "colab_type": "code",
        "colab": {
          "base_uri": "https://localhost:8080/",
          "height": 34
        },
        "outputId": "74a7e9d4-62de-43c9-8c5d-10b2b5ea1312"
      },
      "source": [
        "X.shape"
      ],
      "execution_count": null,
      "outputs": [
        {
          "output_type": "execute_result",
          "data": {
            "text/plain": [
              "(10008, 784)"
            ]
          },
          "metadata": {
            "tags": []
          },
          "execution_count": 43
        }
      ]
    },
    {
      "cell_type": "code",
      "metadata": {
        "id": "XUYmfhfsXZfk",
        "colab_type": "code",
        "colab": {
          "base_uri": "https://localhost:8080/",
          "height": 282
        },
        "outputId": "ac2c241a-06ae-4df0-f6e5-71f304203524"
      },
      "source": [
        "X_new = np.apply_along_axis(\n",
        "    lambda img: cv2.GaussianBlur(img, (5, 5), 0), \n",
        "    -1, \n",
        "    X.reshape((-1, 28, 28))\n",
        ")\n",
        "X_new = X_new.reshape((-1, 28, 28))\n",
        "plt.imshow(X_new[1], cmap='gray')"
      ],
      "execution_count": null,
      "outputs": [
        {
          "output_type": "execute_result",
          "data": {
            "text/plain": [
              "<matplotlib.image.AxesImage at 0x7f161a42a898>"
            ]
          },
          "metadata": {
            "tags": []
          },
          "execution_count": 44
        },
        {
          "output_type": "display_data",
          "data": {
            "image/png": "[encoded data removed]",
            "text/plain": [
              "<Figure size 432x288 with 1 Axes>"
            ]
          },
          "metadata": {
            "tags": [],
            "needs_background": "light"
          }
        }
      ]
    },
    {
      "cell_type": "markdown",
      "metadata": {
        "id": "bgCZOIZ3eIQO",
        "colab_type": "text"
      },
      "source": [
        "## George's Bonus\n",
        "pandas vectorized operations\n",
        "\n"
      ]
    },
    {
      "cell_type": "code",
      "metadata": {
        "id": "8prmUi-_Pyt4",
        "colab_type": "code",
        "colab": {
          "base_uri": "https://localhost:8080/",
          "height": 297
        },
        "outputId": "005ef444-576b-4033-f694-b1a77aa3cc52"
      },
      "source": [
        "df = pd.DataFrame({'A' : np.random.randn(8),\n",
        "                   'B' : np.random.randn(8),\n",
        "                   'C' : np.random.randn(8)})\n",
        "df"
      ],
      "execution_count": 60,
      "outputs": [
        {
          "output_type": "execute_result",
          "data": {
            "text/html": [
              "<div>\n",
              "<style scoped>\n",
              "    .dataframe tbody tr th:only-of-type {\n",
              "        vertical-align: middle;\n",
              "    }\n",
              "\n",
              "    .dataframe tbody tr th {\n",
              "        vertical-align: top;\n",
              "    }\n",
              "\n",
              "    .dataframe thead th {\n",
              "        text-align: right;\n",
              "    }\n",
              "</style>\n",
              "<table border=\"1\" class=\"dataframe\">\n",
              "  <thead>\n",
              "    <tr style=\"text-align: right;\">\n",
              "      <th></th>\n",
              "      <th>A</th>\n",
              "      <th>B</th>\n",
              "      <th>C</th>\n",
              "    </tr>\n",
              "  </thead>\n",
              "  <tbody>\n",
              "    <tr>\n",
              "      <th>0</th>\n",
              "      <td>-0.300131</td>\n",
              "      <td>0.645815</td>\n",
              "      <td>0.983223</td>\n",
              "    </tr>\n",
              "    <tr>\n",
              "      <th>1</th>\n",
              "      <td>-1.320524</td>\n",
              "      <td>-0.227705</td>\n",
              "      <td>1.041478</td>\n",
              "    </tr>\n",
              "    <tr>\n",
              "      <th>2</th>\n",
              "      <td>0.115361</td>\n",
              "      <td>-0.082648</td>\n",
              "      <td>-1.870502</td>\n",
              "    </tr>\n",
              "    <tr>\n",
              "      <th>3</th>\n",
              "      <td>1.295958</td>\n",
              "      <td>-0.093973</td>\n",
              "      <td>-0.078213</td>\n",
              "    </tr>\n",
              "    <tr>\n",
              "      <th>4</th>\n",
              "      <td>1.153946</td>\n",
              "      <td>-0.823499</td>\n",
              "      <td>0.849941</td>\n",
              "    </tr>\n",
              "    <tr>\n",
              "      <th>5</th>\n",
              "      <td>-0.355999</td>\n",
              "      <td>-0.046417</td>\n",
              "      <td>-0.882342</td>\n",
              "    </tr>\n",
              "    <tr>\n",
              "      <th>6</th>\n",
              "      <td>-0.100814</td>\n",
              "      <td>-0.366180</td>\n",
              "      <td>-1.801636</td>\n",
              "    </tr>\n",
              "    <tr>\n",
              "      <th>7</th>\n",
              "      <td>-0.375560</td>\n",
              "      <td>0.156662</td>\n",
              "      <td>1.239886</td>\n",
              "    </tr>\n",
              "  </tbody>\n",
              "</table>\n",
              "</div>"
            ],
            "text/plain": [
              "          A         B         C\n",
              "0 -0.300131  0.645815  0.983223\n",
              "1 -1.320524 -0.227705  1.041478\n",
              "2  0.115361 -0.082648 -1.870502\n",
              "3  1.295958 -0.093973 -0.078213\n",
              "4  1.153946 -0.823499  0.849941\n",
              "5 -0.355999 -0.046417 -0.882342\n",
              "6 -0.100814 -0.366180 -1.801636\n",
              "7 -0.375560  0.156662  1.239886"
            ]
          },
          "metadata": {
            "tags": []
          },
          "execution_count": 60
        }
      ]
    },
    {
      "cell_type": "code",
      "metadata": {
        "id": "Gsn43Fx7TTZD",
        "colab_type": "code",
        "colab": {
          "base_uri": "https://localhost:8080/",
          "height": 170
        },
        "outputId": "a99fbd40-652c-4d5d-ba25-bfdb39b8f821"
      },
      "source": [
        "df.apply(lambda row: row.mean(), axis=1)"
      ],
      "execution_count": 61,
      "outputs": [
        {
          "output_type": "execute_result",
          "data": {
            "text/plain": [
              "0    0.442969\n",
              "1   -0.168917\n",
              "2   -0.612596\n",
              "3    0.374591\n",
              "4    0.393463\n",
              "5   -0.428253\n",
              "6   -0.756210\n",
              "7    0.340329\n",
              "dtype: float64"
            ]
          },
          "metadata": {
            "tags": []
          },
          "execution_count": 61
        }
      ]
    },
    {
      "cell_type": "markdown",
      "metadata": {
        "id": "s7HetEcsJOs_",
        "colab_type": "text"
      },
      "source": [
        "## George's Tip\n",
        "Learn more about Gaussian Blurring\n",
        "\n",
        "- https://medium.com/analytics-vidhya/gaussian-blurring-with-python-and-opencv-ba8429eb879b\n",
        "- https://computergraphics.stackexchange.com/questions/39/how-is-gaussian-blur-implemented"
      ]
    },
    {
      "cell_type": "markdown",
      "metadata": {
        "id": "eF6V8wMs-a4V",
        "colab_type": "text"
      },
      "source": [
        "### By looking at the above image, we can clearly see the difference after the application of the Gaussian Blurring filter, the image noise is reduced, the image is more smooth now."
      ]
    },
    {
      "cell_type": "code",
      "metadata": {
        "id": "j56ucXS868Vf",
        "colab_type": "code",
        "colab": {}
      },
      "source": [
        "# Now we create another empty numpy array of 10008 rows and 784 columns shape, to store the pixel values, which are obtained by applying the Gaussian Blur.\n",
        "# The new array is necessary as we have to feed the data in the model in this original format.\n",
        "another_x = np.empty((10008, 784))"
      ],
      "execution_count": 49,
      "outputs": []
    },
    {
      "cell_type": "code",
      "metadata": {
        "id": "-vWrEHLz7KqU",
        "colab_type": "code",
        "colab": {}
      },
      "source": [
        "# Append/Set the values of the another array to be fed into model equal to the flattened array, which has the shape of 784 pixels (1-D)\n",
        "for idx, img in enumerate(new_x):\n",
        "  another_x[idx] = img.flatten()"
      ],
      "execution_count": 50,
      "outputs": []
    },
    {
      "cell_type": "markdown",
      "metadata": {
        "id": "kg0BKz_Ldl3j",
        "colab_type": "text"
      },
      "source": [
        "## George's Challenge\n",
        "How to avoid the for loop and use `reshape` to do the same?"
      ]
    },
    {
      "cell_type": "markdown",
      "metadata": {
        "colab_type": "text",
        "id": "7G3igCnt7-YX"
      },
      "source": [
        "# Examining the Pixel Values:\n",
        "- Note that these images aren't actually black and white (0,1). They are gray-scale (0-255).\n",
        "- A histogram of this image's pixel values shows the range."
      ]
    },
    {
      "cell_type": "code",
      "metadata": {
        "colab_type": "code",
        "id": "BNZA6iy27-Yb",
        "colab": {
          "base_uri": "https://localhost:8080/",
          "height": 354
        },
        "outputId": "1e0975c8-e7eb-43d4-8a90-e8f99200564f"
      },
      "source": [
        "plt.hist(another_x[1])"
      ],
      "execution_count": 51,
      "outputs": [
        {
          "output_type": "execute_result",
          "data": {
            "text/plain": [
              "(array([478.,  40.,  36.,  25.,  27.,  20.,  27.,  33.,  46.,  52.]),\n",
              " array([0.        , 0.09641544, 0.19283088, 0.28924632, 0.38566176,\n",
              "        0.48207721, 0.57849265, 0.67490809, 0.77132353, 0.86773897,\n",
              "        0.96415441]),\n",
              " <a list of 10 Patch objects>)"
            ]
          },
          "metadata": {
            "tags": []
          },
          "execution_count": 51
        },
        {
          "output_type": "display_data",
          "data": {
            "image/png": "[encoded data removed]",
            "text/plain": [
              "<Figure size 432x288 with 1 Axes>"
            ]
          },
          "metadata": {
            "tags": [],
            "needs_background": "light"
          }
        }
      ]
    },
    {
      "cell_type": "markdown",
      "metadata": {
        "id": "55Dr7kF2_kPt",
        "colab_type": "text"
      },
      "source": [
        "# From the above histogram we can clearly see that after application of Gaussian blur, the image is changed slightly. The pixel intensity histogram is different this time."
      ]
    },
    {
      "cell_type": "code",
      "metadata": {
        "id": "dZpyXnqd7hBW",
        "colab_type": "code",
        "colab": {}
      },
      "source": [
        "# Split the new data (another_x) and y into train and test set.\n",
        "# Note that we used the same y (labels) as before, as the labels have values between 0 to 9. So, there is no connection between the Gaussian blur and the...\n",
        "# ...labels, so we can use it as it is.\n",
        "X_train, X_test, y_train, y_test = train_test_split(another_x, y, train_size=0.75, random_state=0)"
      ],
      "execution_count": 52,
      "outputs": []
    },
    {
      "cell_type": "markdown",
      "metadata": {
        "colab_type": "text",
        "id": "PtB5QGC96n6t"
      },
      "source": [
        "# Training our model\n",
        "- First, we use the sklearn.ensemble module to create a **Random Forest classifier**.\n",
        "- Next, we pass our training images and labels to the classifier's fit method, which trains our model.\n",
        "- Finally, the test images and labels are passed to the score method to see how well we trained our model. Fit will return a float between 0-1 indicating our accuracy on the test data set\n",
        "\n",
        "##### Try playing with the parameters of RandomForestClassifier() to see how the results change.¶"
      ]
    },
    {
      "cell_type": "code",
      "metadata": {
        "colab_type": "code",
        "id": "Ae0lZ4iT6n6t",
        "colab": {
          "base_uri": "https://localhost:8080/",
          "height": 153
        },
        "outputId": "85f1222b-a97c-4331-b498-efaaa81f9991"
      },
      "source": [
        "from sklearn.ensemble import RandomForestClassifier\n",
        "# random forest model creation\n",
        "clf = RandomForestClassifier(random_state=0)\n",
        "clf.fit(X_train, y_train)"
      ],
      "execution_count": 53,
      "outputs": [
        {
          "output_type": "execute_result",
          "data": {
            "text/plain": [
              "RandomForestClassifier(bootstrap=True, ccp_alpha=0.0, class_weight=None,\n",
              "                       criterion='gini', max_depth=None, max_features='auto',\n",
              "                       max_leaf_nodes=None, max_samples=None,\n",
              "                       min_impurity_decrease=0.0, min_impurity_split=None,\n",
              "                       min_samples_leaf=1, min_samples_split=2,\n",
              "                       min_weight_fraction_leaf=0.0, n_estimators=100,\n",
              "                       n_jobs=None, oob_score=False, random_state=0, verbose=0,\n",
              "                       warm_start=False)"
            ]
          },
          "metadata": {
            "tags": []
          },
          "execution_count": 53
        }
      ]
    },
    {
      "cell_type": "code",
      "metadata": {
        "colab_type": "code",
        "id": "ZRJI9aM06n6w",
        "colab": {
          "base_uri": "https://localhost:8080/",
          "height": 34
        },
        "outputId": "8e4cb92f-f515-428b-e0e1-0f3c0251984b"
      },
      "source": [
        "clf.score(X_test, y_test)"
      ],
      "execution_count": 54,
      "outputs": [
        {
          "output_type": "execute_result",
          "data": {
            "text/plain": [
              "0.9428457234212629"
            ]
          },
          "metadata": {
            "tags": []
          },
          "execution_count": 54
        }
      ]
    },
    {
      "cell_type": "markdown",
      "metadata": {
        "id": "rwUO3eSLAY2U",
        "colab_type": "text"
      },
      "source": [
        "# Here we can clearly see that the accuracy is increased after applying the Gaussian Blur."
      ]
    },
    {
      "cell_type": "code",
      "metadata": {
        "colab_type": "code",
        "id": "Q-qE--GN6n6y",
        "colab": {}
      },
      "source": [
        "y_pred = clf.predict(X_test)"
      ],
      "execution_count": 55,
      "outputs": []
    },
    {
      "cell_type": "markdown",
      "metadata": {
        "colab_type": "text",
        "id": "xDBQ9wAe6n60"
      },
      "source": [
        "# How did our model do?\n",
        "- You should have gotten around 0.9428, or **94.28% accuracy**. This is good.\n",
        "- **We also see there is improvement in accuracy after using gaussian blurring.**\n"
      ]
    },
    {
      "cell_type": "markdown",
      "metadata": {
        "id": "K1TZo8U3eX7d",
        "colab_type": "text"
      },
      "source": [
        "## George's Challenge\n",
        "- What's the problem with the above conclusion?\n",
        "- How to solve it?"
      ]
    },
    {
      "cell_type": "code",
      "metadata": {
        "colab_type": "code",
        "id": "bD91V4d96n63",
        "colab": {}
      },
      "source": [
        "from sklearn.metrics import classification_report, confusion_matrix"
      ],
      "execution_count": 56,
      "outputs": []
    },
    {
      "cell_type": "code",
      "metadata": {
        "colab_type": "code",
        "id": "w0kLaIEP6n64",
        "colab": {
          "base_uri": "https://localhost:8080/",
          "height": 204
        },
        "outputId": "3dfcad8a-7970-43be-de35-0e59d91e980f"
      },
      "source": [
        "print(\"=== Confusion Matrix ===\")\n",
        "cm = confusion_matrix(y_test, y_pred)\n",
        "print(cm)"
      ],
      "execution_count": 57,
      "outputs": [
        {
          "output_type": "stream",
          "text": [
            "=== Confusion Matrix ===\n",
            "[[234   0   0   0   1   1   2   0   2   1]\n",
            " [  0 253   2   0   0   0   4   0   0   0]\n",
            " [  1   2 206   2   1   0   0   4   4   1]\n",
            " [  0   2   8 248   0   2   2   1   6   3]\n",
            " [  1   0   0   0 226   0   2   0   0  12]\n",
            " [  0   0   2   4   0 255   3   0   2   3]\n",
            " [  1   0   0   0   0   4 244   0   3   0]\n",
            " [  0   0   4   0   2   0   0 242   1   9]\n",
            " [  0   2   0   6   1   1   4   0 233   2]\n",
            " [  2   0   1   4   9   2   0   0   4 218]]\n"
          ],
          "name": "stdout"
        }
      ]
    },
    {
      "cell_type": "code",
      "metadata": {
        "colab_type": "code",
        "id": "PIvQcnQC6n67",
        "colab": {
          "base_uri": "https://localhost:8080/",
          "height": 445
        },
        "outputId": "b5a54e35-6cd9-4763-849d-169754e8b8e6"
      },
      "source": [
        "df_cm = pd.DataFrame(cm, index = [i for i in \"0123456789\"],\n",
        "                     columns = [i for i in \"0123456789\"])\n",
        "plt.figure(figsize = (10,7))\n",
        "sns.heatmap(df_cm, annot=True, fmt='d')"
      ],
      "execution_count": 58,
      "outputs": [
        {
          "output_type": "execute_result",
          "data": {
            "text/plain": [
              "<matplotlib.axes._subplots.AxesSubplot at 0x7f8180b43978>"
            ]
          },
          "metadata": {
            "tags": []
          },
          "execution_count": 58
        },
        {
          "output_type": "display_data",
          "data": {
            "image/png": "[encoded data removed]",
            "text/plain": [
              "<Figure size 720x504 with 2 Axes>"
            ]
          },
          "metadata": {
            "tags": [],
            "needs_background": "light"
          }
        }
      ]
    },
    {
      "cell_type": "code",
      "metadata": {
        "colab_type": "code",
        "id": "ai2YK86F6n69",
        "colab": {
          "base_uri": "https://localhost:8080/",
          "height": 323
        },
        "outputId": "f9ba02b3-3c01-4f10-e841-d7b6d9d18381"
      },
      "source": [
        "print(\"=== Classification Report ===\")\n",
        "print(classification_report(y_test, y_pred))"
      ],
      "execution_count": 59,
      "outputs": [
        {
          "output_type": "stream",
          "text": [
            "=== Classification Report ===\n",
            "              precision    recall  f1-score   support\n",
            "\n",
            "           0       0.98      0.97      0.98       241\n",
            "           1       0.98      0.98      0.98       259\n",
            "           2       0.92      0.93      0.93       221\n",
            "           3       0.94      0.91      0.93       272\n",
            "           4       0.94      0.94      0.94       241\n",
            "           5       0.96      0.95      0.96       269\n",
            "           6       0.93      0.97      0.95       252\n",
            "           7       0.98      0.94      0.96       258\n",
            "           8       0.91      0.94      0.92       249\n",
            "           9       0.88      0.91      0.89       240\n",
            "\n",
            "    accuracy                           0.94      2502\n",
            "   macro avg       0.94      0.94      0.94      2502\n",
            "weighted avg       0.94      0.94      0.94      2502\n",
            "\n"
          ],
          "name": "stdout"
        }
      ]
    },
    {
      "cell_type": "markdown",
      "metadata": {
        "colab_type": "text",
        "id": "84I_Zi2g6n6_"
      },
      "source": [
        "### So, we got a pretty good accuracy on classification of the images of digits, as the classification report shows.\n",
        "\n",
        "# In this mentor learning session we learnt that:\n",
        "- The images can be represented using numpy array.\n",
        "- If the array is 1-D, then we can visualize the image after reshaping the array to suitable shape. In this case we converted it to 2-D array.\n",
        "- We visualized the image by plotting the numpy array using matplotlib.\n",
        "- After that we saw that the pixel values' distribution in histogram, the black pixel's value is zero, and the white pixel's value is 1. These values are after normalization of pixel values, i.e. after dividing each value by 255.\n",
        "- We used RandomForestClassifier as supervised classification method.\n",
        "- We also used Gaussian Blurring as pre-processing method, and saw that there is improvement in the accuracy of model.\n",
        "- During process of applying Gaussian Blurring, we also used certain reshaping techniques, which should be kept in mind, as it is important to know how the shape of array plays an important role in the image classification, their visualizaion."
      ]
    },
    {
      "cell_type": "markdown",
      "metadata": {
        "id": "Q6umk7ZAskid",
        "colab_type": "text"
      },
      "source": [
        "## George's Bonus\n",
        "Algorithms vs. Models"
      ]
    },
    {
      "cell_type": "code",
      "metadata": {
        "id": "fU7xQoQ-PiYm",
        "colab_type": "code",
        "colab": {}
      },
      "source": [
        ""
      ],
      "execution_count": null,
      "outputs": []
    }
  ]
}