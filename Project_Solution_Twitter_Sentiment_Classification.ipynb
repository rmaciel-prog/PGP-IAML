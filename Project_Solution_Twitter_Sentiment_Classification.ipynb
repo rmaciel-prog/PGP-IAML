{
 "cells": [
  {
   "cell_type": "markdown",
   "metadata": {
    "colab_type": "text",
    "id": "NdN-_t0YBO8H"
   },
   "source": [
    "# Project Description:Twitter US Airline Sentiment\n",
    "\n",
    "# Data Description:\n",
    "\n",
    "- A sentiment analysis job about the problems of each major U.S. airline.\n",
    "- Twitter data was scraped from February of 2015 and contributors were asked to first classify positive, negative, and neutral tweets, followed by categorizing negative reasons (such as \"late flight\" or \"rude service\").\n",
    "\n",
    "# Dataset:\n",
    "\n",
    "- The project is from a dataset from Kaggle.\n",
    "- Link to the Kaggle project site:https://www.kaggle.com/crowdflower/twitter-airline-sentiment\n",
    "- The dataset has to be downloaded from the above Kagglewebsite.\n",
    "\n",
    "# Objective:\n",
    "\n",
    "- To implement the techniques learnt as a part of the course.\n",
    "\n",
    "# Learning Outcomes:\n",
    "- Basic understanding of text pre-processing.\n",
    "- What to do after text pre-processing:\n",
    "    - Bag of words\n",
    "    - Tf-idf\n",
    "- Build the classification model.\n",
    "- Evaluate the Model performance."
   ]
  },
  {
   "cell_type": "code",
   "execution_count": 1,
   "metadata": {
    "colab": {
     "base_uri": "https://localhost:8080/",
     "height": 408
    },
    "colab_type": "code",
    "id": "12uFIt9NAVES",
    "outputId": "20c8d728-7531-484c-c501-f359caf4f81c"
   },
   "outputs": [
    {
     "name": "stdout",
     "output_type": "stream",
     "text": [
      "Collecting contractions\n",
      "  Downloading https://files.pythonhosted.org/packages/00/92/a05b76a692ac08d470ae5c23873cf1c9a041532f1ee065e74b374f218306/contractions-0.0.25-py2.py3-none-any.whl\n",
      "Collecting textsearch\n",
      "  Downloading https://files.pythonhosted.org/packages/42/a8/03407021f9555043de5492a2bd7a35c56cc03c2510092b5ec018cae1bbf1/textsearch-0.0.17-py2.py3-none-any.whl\n",
      "Collecting Unidecode\n",
      "\u001b[?25l  Downloading https://files.pythonhosted.org/packages/d0/42/d9edfed04228bacea2d824904cae367ee9efd05e6cce7ceaaedd0b0ad964/Unidecode-1.1.1-py2.py3-none-any.whl (238kB)\n",
      "\u001b[K     |████████████████████████████████| 245kB 3.7MB/s \n",
      "\u001b[?25hCollecting pyahocorasick\n",
      "\u001b[?25l  Downloading https://files.pythonhosted.org/packages/f4/9f/f0d8e8850e12829eea2e778f1c90e3c53a9a799b7f412082a5d21cd19ae1/pyahocorasick-1.4.0.tar.gz (312kB)\n",
      "\u001b[K     |████████████████████████████████| 317kB 16.9MB/s \n",
      "\u001b[?25hBuilding wheels for collected packages: pyahocorasick\n",
      "  Building wheel for pyahocorasick (setup.py) ... \u001b[?25l\u001b[?25hdone\n",
      "  Created wheel for pyahocorasick: filename=pyahocorasick-1.4.0-cp36-cp36m-linux_x86_64.whl size=81699 sha256=271d96eecb29c0e30849d49349f143bd9ecb37e1edb91a23a3e144c801c86fd7\n",
      "  Stored in directory: /root/.cache/pip/wheels/0a/90/61/87a55f5b459792fbb2b7ba6b31721b06ff5cf6bde541b40994\n",
      "Successfully built pyahocorasick\n",
      "Installing collected packages: Unidecode, pyahocorasick, textsearch, contractions\n",
      "Successfully installed Unidecode-1.1.1 contractions-0.0.25 pyahocorasick-1.4.0 textsearch-0.0.17\n",
      "[nltk_data] Downloading package stopwords to /root/nltk_data...\n",
      "[nltk_data]   Unzipping corpora/stopwords.zip.\n",
      "[nltk_data] Downloading package punkt to /root/nltk_data...\n",
      "[nltk_data]   Unzipping tokenizers/punkt.zip.\n",
      "[nltk_data] Downloading package wordnet to /root/nltk_data...\n",
      "[nltk_data]   Unzipping corpora/wordnet.zip.\n"
     ]
    }
   ],
   "source": [
    "# install and import necessary libraries.\n",
    "\n",
    "!pip install contractions\n",
    "\n",
    "import re, string, unicodedata                          # Import Regex, string and unicodedata.\n",
    "import contractions                                     # Import contractions library.\n",
    "from bs4 import BeautifulSoup                           # Import BeautifulSoup.\n",
    "\n",
    "import numpy as np                                      # Import numpy.\n",
    "import pandas as pd                                     # Import pandas.\n",
    "import nltk                                             # Import Natural Language Tool-Kit.\n",
    "\n",
    "nltk.download('stopwords')                              # Download Stopwords.\n",
    "nltk.download('punkt')\n",
    "nltk.download('wordnet')\n",
    "\n",
    "from nltk.corpus import stopwords                       # Import stopwords.\n",
    "from nltk.tokenize import word_tokenize, sent_tokenize  # Import Tokenizer.\n",
    "from nltk.stem.wordnet import WordNetLemmatizer         # Import Lemmatizer."
   ]
  },
  {
   "cell_type": "code",
   "execution_count": 2,
   "metadata": {
    "colab": {
     "base_uri": "https://localhost:8080/",
     "height": 122
    },
    "colab_type": "code",
    "id": "PxvHrZQhCl9w",
    "outputId": "7aac667f-5791-47af-e6af-463b16ee59f5"
   },
   "outputs": [
    {
     "name": "stdout",
     "output_type": "stream",
     "text": [
      "Go to this URL in a browser: https://accounts.google.com/o/oauth2/auth?client_id=947318989803-6bn6qk8qdgf4n4g3pfee6491hc0brc4i.apps.googleusercontent.com&redirect_uri=urn%3aietf%3awg%3aoauth%3a2.0%3aoob&response_type=code&scope=email%20https%3a%2f%2fwww.googleapis.com%2fauth%2fdocs.test%20https%3a%2f%2fwww.googleapis.com%2fauth%2fdrive%20https%3a%2f%2fwww.googleapis.com%2fauth%2fdrive.photos.readonly%20https%3a%2f%2fwww.googleapis.com%2fauth%2fpeopleapi.readonly\n",
      "\n",
      "Enter your authorization code:\n",
      "··········\n",
      "Mounted at /content/drive\n"
     ]
    }
   ],
   "source": [
    "from google.colab import drive\n",
    "drive.mount('/content/drive')"
   ]
  },
  {
   "cell_type": "code",
   "execution_count": 3,
   "metadata": {
    "colab": {},
    "colab_type": "code",
    "id": "Ec3j31-PCYWA"
   },
   "outputs": [],
   "source": [
    "# Loading data into pandas dataframe\n",
    "data = pd.read_csv(\"/content/drive/My Drive/Colab Notebooks/data/Tweets.csv\")"
   ]
  },
  {
   "cell_type": "code",
   "execution_count": 4,
   "metadata": {
    "colab": {
     "base_uri": "https://localhost:8080/",
     "height": 34
    },
    "colab_type": "code",
    "id": "7DysT_j1Cky-",
    "outputId": "aba77a5b-89ac-45ec-d915-7664319a5bb5"
   },
   "outputs": [
    {
     "data": {
      "text/plain": [
       "(14640, 15)"
      ]
     },
     "execution_count": 4,
     "metadata": {
      "tags": []
     },
     "output_type": "execute_result"
    }
   ],
   "source": [
    "data.shape                                               # print shape of data."
   ]
  },
  {
   "cell_type": "code",
   "execution_count": 5,
   "metadata": {
    "colab": {
     "base_uri": "https://localhost:8080/",
     "height": 445
    },
    "colab_type": "code",
    "id": "MKS-Z7GiCmWX",
    "outputId": "ff4f97ce-461c-44df-a5b8-b42108381565"
   },
   "outputs": [
    {
     "data": {
      "text/html": [
       "<div>\n",
       "<style scoped>\n",
       "    .dataframe tbody tr th:only-of-type {\n",
       "        vertical-align: middle;\n",
       "    }\n",
       "\n",
       "    .dataframe tbody tr th {\n",
       "        vertical-align: top;\n",
       "    }\n",
       "\n",
       "    .dataframe thead th {\n",
       "        text-align: right;\n",
       "    }\n",
       "</style>\n",
       "<table border=\"1\" class=\"dataframe\">\n",
       "  <thead>\n",
       "    <tr style=\"text-align: right;\">\n",
       "      <th></th>\n",
       "      <th>tweet_id</th>\n",
       "      <th>airline_sentiment</th>\n",
       "      <th>airline_sentiment_confidence</th>\n",
       "      <th>negativereason</th>\n",
       "      <th>negativereason_confidence</th>\n",
       "      <th>airline</th>\n",
       "      <th>airline_sentiment_gold</th>\n",
       "      <th>name</th>\n",
       "      <th>negativereason_gold</th>\n",
       "      <th>retweet_count</th>\n",
       "      <th>text</th>\n",
       "      <th>tweet_coord</th>\n",
       "      <th>tweet_created</th>\n",
       "      <th>tweet_location</th>\n",
       "      <th>user_timezone</th>\n",
       "    </tr>\n",
       "  </thead>\n",
       "  <tbody>\n",
       "    <tr>\n",
       "      <th>0</th>\n",
       "      <td>570306133677760513</td>\n",
       "      <td>neutral</td>\n",
       "      <td>1.0000</td>\n",
       "      <td>NaN</td>\n",
       "      <td>NaN</td>\n",
       "      <td>Virgin America</td>\n",
       "      <td>NaN</td>\n",
       "      <td>cairdin</td>\n",
       "      <td>NaN</td>\n",
       "      <td>0</td>\n",
       "      <td>@VirginAmerica What @dhepburn said.</td>\n",
       "      <td>NaN</td>\n",
       "      <td>2015-02-24 11:35:52 -0800</td>\n",
       "      <td>NaN</td>\n",
       "      <td>Eastern Time (US &amp; Canada)</td>\n",
       "    </tr>\n",
       "    <tr>\n",
       "      <th>1</th>\n",
       "      <td>570301130888122368</td>\n",
       "      <td>positive</td>\n",
       "      <td>0.3486</td>\n",
       "      <td>NaN</td>\n",
       "      <td>0.0000</td>\n",
       "      <td>Virgin America</td>\n",
       "      <td>NaN</td>\n",
       "      <td>jnardino</td>\n",
       "      <td>NaN</td>\n",
       "      <td>0</td>\n",
       "      <td>@VirginAmerica plus you've added commercials t...</td>\n",
       "      <td>NaN</td>\n",
       "      <td>2015-02-24 11:15:59 -0800</td>\n",
       "      <td>NaN</td>\n",
       "      <td>Pacific Time (US &amp; Canada)</td>\n",
       "    </tr>\n",
       "    <tr>\n",
       "      <th>2</th>\n",
       "      <td>570301083672813571</td>\n",
       "      <td>neutral</td>\n",
       "      <td>0.6837</td>\n",
       "      <td>NaN</td>\n",
       "      <td>NaN</td>\n",
       "      <td>Virgin America</td>\n",
       "      <td>NaN</td>\n",
       "      <td>yvonnalynn</td>\n",
       "      <td>NaN</td>\n",
       "      <td>0</td>\n",
       "      <td>@VirginAmerica I didn't today... Must mean I n...</td>\n",
       "      <td>NaN</td>\n",
       "      <td>2015-02-24 11:15:48 -0800</td>\n",
       "      <td>Lets Play</td>\n",
       "      <td>Central Time (US &amp; Canada)</td>\n",
       "    </tr>\n",
       "    <tr>\n",
       "      <th>3</th>\n",
       "      <td>570301031407624196</td>\n",
       "      <td>negative</td>\n",
       "      <td>1.0000</td>\n",
       "      <td>Bad Flight</td>\n",
       "      <td>0.7033</td>\n",
       "      <td>Virgin America</td>\n",
       "      <td>NaN</td>\n",
       "      <td>jnardino</td>\n",
       "      <td>NaN</td>\n",
       "      <td>0</td>\n",
       "      <td>@VirginAmerica it's really aggressive to blast...</td>\n",
       "      <td>NaN</td>\n",
       "      <td>2015-02-24 11:15:36 -0800</td>\n",
       "      <td>NaN</td>\n",
       "      <td>Pacific Time (US &amp; Canada)</td>\n",
       "    </tr>\n",
       "    <tr>\n",
       "      <th>4</th>\n",
       "      <td>570300817074462722</td>\n",
       "      <td>negative</td>\n",
       "      <td>1.0000</td>\n",
       "      <td>Can't Tell</td>\n",
       "      <td>1.0000</td>\n",
       "      <td>Virgin America</td>\n",
       "      <td>NaN</td>\n",
       "      <td>jnardino</td>\n",
       "      <td>NaN</td>\n",
       "      <td>0</td>\n",
       "      <td>@VirginAmerica and it's a really big bad thing...</td>\n",
       "      <td>NaN</td>\n",
       "      <td>2015-02-24 11:14:45 -0800</td>\n",
       "      <td>NaN</td>\n",
       "      <td>Pacific Time (US &amp; Canada)</td>\n",
       "    </tr>\n",
       "  </tbody>\n",
       "</table>\n",
       "</div>"
      ],
      "text/plain": [
       "             tweet_id  ...               user_timezone\n",
       "0  570306133677760513  ...  Eastern Time (US & Canada)\n",
       "1  570301130888122368  ...  Pacific Time (US & Canada)\n",
       "2  570301083672813571  ...  Central Time (US & Canada)\n",
       "3  570301031407624196  ...  Pacific Time (US & Canada)\n",
       "4  570300817074462722  ...  Pacific Time (US & Canada)\n",
       "\n",
       "[5 rows x 15 columns]"
      ]
     },
     "execution_count": 5,
     "metadata": {
      "tags": []
     },
     "output_type": "execute_result"
    }
   ],
   "source": [
    "data.head()                                              # Print first 5 rows of data."
   ]
  },
  {
   "cell_type": "code",
   "execution_count": 6,
   "metadata": {
    "colab": {
     "base_uri": "https://localhost:8080/",
     "height": 289
    },
    "colab_type": "code",
    "id": "RjFc0JaDCn1u",
    "outputId": "dbde3c3d-62f4-46d5-a343-48d44caa2ba5"
   },
   "outputs": [
    {
     "data": {
      "text/plain": [
       "tweet_id                            0\n",
       "airline_sentiment                   0\n",
       "airline_sentiment_confidence        0\n",
       "negativereason                   5462\n",
       "negativereason_confidence        4118\n",
       "airline                             0\n",
       "airline_sentiment_gold          14600\n",
       "name                                0\n",
       "negativereason_gold             14608\n",
       "retweet_count                       0\n",
       "text                                0\n",
       "tweet_coord                     13621\n",
       "tweet_created                       0\n",
       "tweet_location                   4733\n",
       "user_timezone                    4820\n",
       "dtype: int64"
      ]
     },
     "execution_count": 6,
     "metadata": {
      "tags": []
     },
     "output_type": "execute_result"
    }
   ],
   "source": [
    "data.isnull().sum(axis=0)                                # Check for NULL values."
   ]
  },
  {
   "cell_type": "code",
   "execution_count": 7,
   "metadata": {
    "colab": {},
    "colab_type": "code",
    "id": "EkHEfgc1C4aX"
   },
   "outputs": [],
   "source": [
    "data = data[['text', 'airline_sentiment']]"
   ]
  },
  {
   "cell_type": "code",
   "execution_count": 11,
   "metadata": {
    "colab": {
     "base_uri": "https://localhost:8080/",
     "height": 204
    },
    "colab_type": "code",
    "id": "D8ONn2VkCq5N",
    "outputId": "027e763f-e499-47ad-a857-60bdf7896a55"
   },
   "outputs": [
    {
     "data": {
      "text/html": [
       "<div>\n",
       "<style scoped>\n",
       "    .dataframe tbody tr th:only-of-type {\n",
       "        vertical-align: middle;\n",
       "    }\n",
       "\n",
       "    .dataframe tbody tr th {\n",
       "        vertical-align: top;\n",
       "    }\n",
       "\n",
       "    .dataframe thead th {\n",
       "        text-align: right;\n",
       "    }\n",
       "</style>\n",
       "<table border=\"1\" class=\"dataframe\">\n",
       "  <thead>\n",
       "    <tr style=\"text-align: right;\">\n",
       "      <th></th>\n",
       "      <th>text</th>\n",
       "      <th>airline_sentiment</th>\n",
       "    </tr>\n",
       "  </thead>\n",
       "  <tbody>\n",
       "    <tr>\n",
       "      <th>0</th>\n",
       "      <td>@VirginAmerica What @dhepburn said.</td>\n",
       "      <td>neutral</td>\n",
       "    </tr>\n",
       "    <tr>\n",
       "      <th>1</th>\n",
       "      <td>@VirginAmerica plus you've added commercials to the experience... tacky.</td>\n",
       "      <td>positive</td>\n",
       "    </tr>\n",
       "    <tr>\n",
       "      <th>2</th>\n",
       "      <td>@VirginAmerica I didn't today... Must mean I need to take another trip!</td>\n",
       "      <td>neutral</td>\n",
       "    </tr>\n",
       "    <tr>\n",
       "      <th>3</th>\n",
       "      <td>@VirginAmerica it's really aggressive to blast obnoxious \"entertainment\" in your guests' faces &amp;amp; they have little recourse</td>\n",
       "      <td>negative</td>\n",
       "    </tr>\n",
       "    <tr>\n",
       "      <th>4</th>\n",
       "      <td>@VirginAmerica and it's a really big bad thing about it</td>\n",
       "      <td>negative</td>\n",
       "    </tr>\n",
       "  </tbody>\n",
       "</table>\n",
       "</div>"
      ],
      "text/plain": [
       "                                                                                                                             text airline_sentiment\n",
       "0                                                                                             @VirginAmerica What @dhepburn said.           neutral\n",
       "1                                                        @VirginAmerica plus you've added commercials to the experience... tacky.          positive\n",
       "2                                                         @VirginAmerica I didn't today... Must mean I need to take another trip!           neutral\n",
       "3  @VirginAmerica it's really aggressive to blast obnoxious \"entertainment\" in your guests' faces &amp; they have little recourse          negative\n",
       "4                                                                         @VirginAmerica and it's a really big bad thing about it          negative"
      ]
     },
     "execution_count": 11,
     "metadata": {
      "tags": []
     },
     "output_type": "execute_result"
    }
   ],
   "source": [
    "pd.set_option('display.max_colwidth', None) # Display full dataframe information (Non-turncated Text column.)\n",
    "\n",
    "data.head()                                 # Check first 5 rows of data"
   ]
  },
  {
   "cell_type": "code",
   "execution_count": 12,
   "metadata": {
    "colab": {
     "base_uri": "https://localhost:8080/",
     "height": 34
    },
    "colab_type": "code",
    "id": "S3pLvA5aDLPp",
    "outputId": "2240de41-43b1-4f81-b3fe-134a43313aac"
   },
   "outputs": [
    {
     "data": {
      "text/plain": [
       "array(['neutral', 'positive', 'negative'], dtype=object)"
      ]
     },
     "execution_count": 12,
     "metadata": {
      "tags": []
     },
     "output_type": "execute_result"
    }
   ],
   "source": [
    "data['airline_sentiment'].unique()"
   ]
  },
  {
   "cell_type": "code",
   "execution_count": 13,
   "metadata": {
    "colab": {
     "base_uri": "https://localhost:8080/",
     "height": 85
    },
    "colab_type": "code",
    "id": "2-2sMSyaDSBU",
    "outputId": "620c1a97-67e1-4502-8f3a-0c60dc141a53"
   },
   "outputs": [
    {
     "data": {
      "text/plain": [
       "negative    9178\n",
       "neutral     3099\n",
       "positive    2363\n",
       "Name: airline_sentiment, dtype: int64"
      ]
     },
     "execution_count": 13,
     "metadata": {
      "tags": []
     },
     "output_type": "execute_result"
    }
   ],
   "source": [
    "data['airline_sentiment'].value_counts()"
   ]
  },
  {
   "cell_type": "markdown",
   "metadata": {
    "colab_type": "text",
    "id": "T_RYjo3KEFfQ"
   },
   "source": [
    "# Data Pre-processing:\n",
    "\n",
    "- Remove html tags.\n",
    "- Replace contractions in string. (e.g. replace I'm --> I am) and so on.\\\n",
    "- Remove numbers.\n",
    "- Tokenization\n",
    "- To remove Stopwords.\n",
    "- Lemmatized data\n",
    "- We have used NLTK library to tokenize words , remove stopwords and lemmatize the remaining words."
   ]
  },
  {
   "cell_type": "code",
   "execution_count": 14,
   "metadata": {
    "colab": {
     "base_uri": "https://localhost:8080/",
     "height": 204
    },
    "colab_type": "code",
    "id": "laSkpdl5DsgO",
    "outputId": "fca66e52-3432-4f83-b0d9-eec2e28b65d9"
   },
   "outputs": [
    {
     "data": {
      "text/html": [
       "<div>\n",
       "<style scoped>\n",
       "    .dataframe tbody tr th:only-of-type {\n",
       "        vertical-align: middle;\n",
       "    }\n",
       "\n",
       "    .dataframe tbody tr th {\n",
       "        vertical-align: top;\n",
       "    }\n",
       "\n",
       "    .dataframe thead th {\n",
       "        text-align: right;\n",
       "    }\n",
       "</style>\n",
       "<table border=\"1\" class=\"dataframe\">\n",
       "  <thead>\n",
       "    <tr style=\"text-align: right;\">\n",
       "      <th></th>\n",
       "      <th>text</th>\n",
       "      <th>airline_sentiment</th>\n",
       "    </tr>\n",
       "  </thead>\n",
       "  <tbody>\n",
       "    <tr>\n",
       "      <th>0</th>\n",
       "      <td>@VirginAmerica What @dhepburn said.</td>\n",
       "      <td>neutral</td>\n",
       "    </tr>\n",
       "    <tr>\n",
       "      <th>1</th>\n",
       "      <td>@VirginAmerica plus you've added commercials to the experience... tacky.</td>\n",
       "      <td>positive</td>\n",
       "    </tr>\n",
       "    <tr>\n",
       "      <th>2</th>\n",
       "      <td>@VirginAmerica I didn't today... Must mean I need to take another trip!</td>\n",
       "      <td>neutral</td>\n",
       "    </tr>\n",
       "    <tr>\n",
       "      <th>3</th>\n",
       "      <td>@VirginAmerica it's really aggressive to blast obnoxious \"entertainment\" in your guests' faces &amp; they have little recourse</td>\n",
       "      <td>negative</td>\n",
       "    </tr>\n",
       "    <tr>\n",
       "      <th>4</th>\n",
       "      <td>@VirginAmerica and it's a really big bad thing about it</td>\n",
       "      <td>negative</td>\n",
       "    </tr>\n",
       "  </tbody>\n",
       "</table>\n",
       "</div>"
      ],
      "text/plain": [
       "                                                                                                                         text airline_sentiment\n",
       "0                                                                                         @VirginAmerica What @dhepburn said.           neutral\n",
       "1                                                    @VirginAmerica plus you've added commercials to the experience... tacky.          positive\n",
       "2                                                     @VirginAmerica I didn't today... Must mean I need to take another trip!           neutral\n",
       "3  @VirginAmerica it's really aggressive to blast obnoxious \"entertainment\" in your guests' faces & they have little recourse          negative\n",
       "4                                                                     @VirginAmerica and it's a really big bad thing about it          negative"
      ]
     },
     "execution_count": 14,
     "metadata": {
      "tags": []
     },
     "output_type": "execute_result"
    }
   ],
   "source": [
    "def strip_html(text):\n",
    "    soup = BeautifulSoup(text, \"html.parser\")\n",
    "    return soup.get_text()\n",
    "\n",
    "data['text'] = data['text'].apply(lambda x: strip_html(x))\n",
    "data.head()"
   ]
  },
  {
   "cell_type": "code",
   "execution_count": 15,
   "metadata": {
    "colab": {
     "base_uri": "https://localhost:8080/",
     "height": 204
    },
    "colab_type": "code",
    "id": "8Eedp31mEM2a",
    "outputId": "02ff6a06-0c85-4020-aea5-8c079a2c6b17"
   },
   "outputs": [
    {
     "data": {
      "text/html": [
       "<div>\n",
       "<style scoped>\n",
       "    .dataframe tbody tr th:only-of-type {\n",
       "        vertical-align: middle;\n",
       "    }\n",
       "\n",
       "    .dataframe tbody tr th {\n",
       "        vertical-align: top;\n",
       "    }\n",
       "\n",
       "    .dataframe thead th {\n",
       "        text-align: right;\n",
       "    }\n",
       "</style>\n",
       "<table border=\"1\" class=\"dataframe\">\n",
       "  <thead>\n",
       "    <tr style=\"text-align: right;\">\n",
       "      <th></th>\n",
       "      <th>text</th>\n",
       "      <th>airline_sentiment</th>\n",
       "    </tr>\n",
       "  </thead>\n",
       "  <tbody>\n",
       "    <tr>\n",
       "      <th>0</th>\n",
       "      <td>@VirginAmerica What @dhepburn said.</td>\n",
       "      <td>neutral</td>\n",
       "    </tr>\n",
       "    <tr>\n",
       "      <th>1</th>\n",
       "      <td>@VirginAmerica plus you have added commercials to the experience... tacky.</td>\n",
       "      <td>positive</td>\n",
       "    </tr>\n",
       "    <tr>\n",
       "      <th>2</th>\n",
       "      <td>@VirginAmerica I did not today... Must mean I need to take another trip!</td>\n",
       "      <td>neutral</td>\n",
       "    </tr>\n",
       "    <tr>\n",
       "      <th>3</th>\n",
       "      <td>@VirginAmerica it is really aggressive to blast obnoxious \"entertainment\" in your guests' faces &amp; they have little recourse</td>\n",
       "      <td>negative</td>\n",
       "    </tr>\n",
       "    <tr>\n",
       "      <th>4</th>\n",
       "      <td>@VirginAmerica and it is a really big bad thing about it</td>\n",
       "      <td>negative</td>\n",
       "    </tr>\n",
       "  </tbody>\n",
       "</table>\n",
       "</div>"
      ],
      "text/plain": [
       "                                                                                                                          text airline_sentiment\n",
       "0                                                                                          @VirginAmerica What @dhepburn said.           neutral\n",
       "1                                                   @VirginAmerica plus you have added commercials to the experience... tacky.          positive\n",
       "2                                                     @VirginAmerica I did not today... Must mean I need to take another trip!           neutral\n",
       "3  @VirginAmerica it is really aggressive to blast obnoxious \"entertainment\" in your guests' faces & they have little recourse          negative\n",
       "4                                                                     @VirginAmerica and it is a really big bad thing about it          negative"
      ]
     },
     "execution_count": 15,
     "metadata": {
      "tags": []
     },
     "output_type": "execute_result"
    }
   ],
   "source": [
    "def replace_contractions(text):\n",
    "    \"\"\"Replace contractions in string of text\"\"\"\n",
    "    return contractions.fix(text)\n",
    "\n",
    "data['text'] = data['text'].apply(lambda x: replace_contractions(x))\n",
    "data.head()"
   ]
  },
  {
   "cell_type": "code",
   "execution_count": 16,
   "metadata": {
    "colab": {
     "base_uri": "https://localhost:8080/",
     "height": 204
    },
    "colab_type": "code",
    "id": "QnAbvXPHEUKt",
    "outputId": "b5a46620-0e7e-4c2c-c0bc-a31cef59be49"
   },
   "outputs": [
    {
     "data": {
      "text/html": [
       "<div>\n",
       "<style scoped>\n",
       "    .dataframe tbody tr th:only-of-type {\n",
       "        vertical-align: middle;\n",
       "    }\n",
       "\n",
       "    .dataframe tbody tr th {\n",
       "        vertical-align: top;\n",
       "    }\n",
       "\n",
       "    .dataframe thead th {\n",
       "        text-align: right;\n",
       "    }\n",
       "</style>\n",
       "<table border=\"1\" class=\"dataframe\">\n",
       "  <thead>\n",
       "    <tr style=\"text-align: right;\">\n",
       "      <th></th>\n",
       "      <th>text</th>\n",
       "      <th>airline_sentiment</th>\n",
       "    </tr>\n",
       "  </thead>\n",
       "  <tbody>\n",
       "    <tr>\n",
       "      <th>0</th>\n",
       "      <td>@VirginAmerica What @dhepburn said.</td>\n",
       "      <td>neutral</td>\n",
       "    </tr>\n",
       "    <tr>\n",
       "      <th>1</th>\n",
       "      <td>@VirginAmerica plus you have added commercials to the experience... tacky.</td>\n",
       "      <td>positive</td>\n",
       "    </tr>\n",
       "    <tr>\n",
       "      <th>2</th>\n",
       "      <td>@VirginAmerica I did not today... Must mean I need to take another trip!</td>\n",
       "      <td>neutral</td>\n",
       "    </tr>\n",
       "    <tr>\n",
       "      <th>3</th>\n",
       "      <td>@VirginAmerica it is really aggressive to blast obnoxious \"entertainment\" in your guests' faces &amp; they have little recourse</td>\n",
       "      <td>negative</td>\n",
       "    </tr>\n",
       "    <tr>\n",
       "      <th>4</th>\n",
       "      <td>@VirginAmerica and it is a really big bad thing about it</td>\n",
       "      <td>negative</td>\n",
       "    </tr>\n",
       "  </tbody>\n",
       "</table>\n",
       "</div>"
      ],
      "text/plain": [
       "                                                                                                                          text airline_sentiment\n",
       "0                                                                                          @VirginAmerica What @dhepburn said.           neutral\n",
       "1                                                   @VirginAmerica plus you have added commercials to the experience... tacky.          positive\n",
       "2                                                     @VirginAmerica I did not today... Must mean I need to take another trip!           neutral\n",
       "3  @VirginAmerica it is really aggressive to blast obnoxious \"entertainment\" in your guests' faces & they have little recourse          negative\n",
       "4                                                                     @VirginAmerica and it is a really big bad thing about it          negative"
      ]
     },
     "execution_count": 16,
     "metadata": {
      "tags": []
     },
     "output_type": "execute_result"
    }
   ],
   "source": [
    "def remove_numbers(text):\n",
    "  text = re.sub(r'\\d+', '', text)\n",
    "  return text\n",
    "\n",
    "data['text'] = data['text'].apply(lambda x: remove_numbers(x))\n",
    "data.head()"
   ]
  },
  {
   "cell_type": "code",
   "execution_count": 17,
   "metadata": {
    "colab": {},
    "colab_type": "code",
    "id": "_chhbPWTEX1b"
   },
   "outputs": [],
   "source": [
    "data['text'] = data.apply(lambda row: nltk.word_tokenize(row['text']), axis=1) # Tokenization of data"
   ]
  },
  {
   "cell_type": "code",
   "execution_count": 18,
   "metadata": {
    "colab": {
     "base_uri": "https://localhost:8080/",
     "height": 204
    },
    "colab_type": "code",
    "id": "hvVxf7AWEbkn",
    "outputId": "8e875315-3aed-4cb0-dae4-a36a9118b5c1"
   },
   "outputs": [
    {
     "data": {
      "text/html": [
       "<div>\n",
       "<style scoped>\n",
       "    .dataframe tbody tr th:only-of-type {\n",
       "        vertical-align: middle;\n",
       "    }\n",
       "\n",
       "    .dataframe tbody tr th {\n",
       "        vertical-align: top;\n",
       "    }\n",
       "\n",
       "    .dataframe thead th {\n",
       "        text-align: right;\n",
       "    }\n",
       "</style>\n",
       "<table border=\"1\" class=\"dataframe\">\n",
       "  <thead>\n",
       "    <tr style=\"text-align: right;\">\n",
       "      <th></th>\n",
       "      <th>text</th>\n",
       "      <th>airline_sentiment</th>\n",
       "    </tr>\n",
       "  </thead>\n",
       "  <tbody>\n",
       "    <tr>\n",
       "      <th>0</th>\n",
       "      <td>[@, VirginAmerica, What, @, dhepburn, said, .]</td>\n",
       "      <td>neutral</td>\n",
       "    </tr>\n",
       "    <tr>\n",
       "      <th>1</th>\n",
       "      <td>[@, VirginAmerica, plus, you, have, added, commercials, to, the, experience, ..., tacky, .]</td>\n",
       "      <td>positive</td>\n",
       "    </tr>\n",
       "    <tr>\n",
       "      <th>2</th>\n",
       "      <td>[@, VirginAmerica, I, did, not, today, ..., Must, mean, I, need, to, take, another, trip, !]</td>\n",
       "      <td>neutral</td>\n",
       "    </tr>\n",
       "    <tr>\n",
       "      <th>3</th>\n",
       "      <td>[@, VirginAmerica, it, is, really, aggressive, to, blast, obnoxious, ``, entertainment, '', in, your, guests, ', faces, &amp;, they, have, little, recourse]</td>\n",
       "      <td>negative</td>\n",
       "    </tr>\n",
       "    <tr>\n",
       "      <th>4</th>\n",
       "      <td>[@, VirginAmerica, and, it, is, a, really, big, bad, thing, about, it]</td>\n",
       "      <td>negative</td>\n",
       "    </tr>\n",
       "  </tbody>\n",
       "</table>\n",
       "</div>"
      ],
      "text/plain": [
       "                                                                                                                                                       text airline_sentiment\n",
       "0                                                                                                            [@, VirginAmerica, What, @, dhepburn, said, .]           neutral\n",
       "1                                                               [@, VirginAmerica, plus, you, have, added, commercials, to, the, experience, ..., tacky, .]          positive\n",
       "2                                                              [@, VirginAmerica, I, did, not, today, ..., Must, mean, I, need, to, take, another, trip, !]           neutral\n",
       "3  [@, VirginAmerica, it, is, really, aggressive, to, blast, obnoxious, ``, entertainment, '', in, your, guests, ', faces, &, they, have, little, recourse]          negative\n",
       "4                                                                                    [@, VirginAmerica, and, it, is, a, really, big, bad, thing, about, it]          negative"
      ]
     },
     "execution_count": 18,
     "metadata": {
      "tags": []
     },
     "output_type": "execute_result"
    }
   ],
   "source": [
    "data.head()                                                                    # Look at how tokenized data looks."
   ]
  },
  {
   "cell_type": "code",
   "execution_count": 19,
   "metadata": {
    "colab": {},
    "colab_type": "code",
    "id": "3vkK8dzyEeA-"
   },
   "outputs": [],
   "source": [
    "stopwords = stopwords.words('english')\n",
    "\n",
    "customlist = ['not', \"couldn't\", 'didn', \"didn't\", 'doesn', \"doesn't\", 'hadn', \"hadn't\", 'hasn',\n",
    "        \"hasn't\", 'haven', \"haven't\", 'isn', \"isn't\", 'ma', 'mightn', \"mightn't\", 'mustn',\n",
    "        \"mustn't\", 'needn', \"needn't\", 'shan', \"shan't\", 'shouldn', \"shouldn't\", 'wasn',\n",
    "        \"wasn't\", 'weren', \"weren't\", 'won', \"won't\", 'wouldn', \"wouldn't\"]\n",
    "\n",
    "# Set custom stop-word's list as not, couldn't etc. words matter in Sentiment, so not removing them from original data.\n",
    "\n",
    "stopwords = list(set(stopwords) - set(customlist))                              "
   ]
  },
  {
   "cell_type": "code",
   "execution_count": 20,
   "metadata": {
    "colab": {
     "base_uri": "https://localhost:8080/",
     "height": 204
    },
    "colab_type": "code",
    "id": "TpYUaYoSEhM1",
    "outputId": "4c6ec99f-1e4c-44f1-d697-e60d03bc1292"
   },
   "outputs": [
    {
     "data": {
      "text/html": [
       "<div>\n",
       "<style scoped>\n",
       "    .dataframe tbody tr th:only-of-type {\n",
       "        vertical-align: middle;\n",
       "    }\n",
       "\n",
       "    .dataframe tbody tr th {\n",
       "        vertical-align: top;\n",
       "    }\n",
       "\n",
       "    .dataframe thead th {\n",
       "        text-align: right;\n",
       "    }\n",
       "</style>\n",
       "<table border=\"1\" class=\"dataframe\">\n",
       "  <thead>\n",
       "    <tr style=\"text-align: right;\">\n",
       "      <th></th>\n",
       "      <th>text</th>\n",
       "      <th>airline_sentiment</th>\n",
       "    </tr>\n",
       "  </thead>\n",
       "  <tbody>\n",
       "    <tr>\n",
       "      <th>0</th>\n",
       "      <td>virginamerica dhepburn say</td>\n",
       "      <td>neutral</td>\n",
       "    </tr>\n",
       "    <tr>\n",
       "      <th>1</th>\n",
       "      <td>virginamerica plus add commercials experience tacky</td>\n",
       "      <td>positive</td>\n",
       "    </tr>\n",
       "    <tr>\n",
       "      <th>2</th>\n",
       "      <td>virginamerica not today must mean need take another trip</td>\n",
       "      <td>neutral</td>\n",
       "    </tr>\n",
       "    <tr>\n",
       "      <th>3</th>\n",
       "      <td>virginamerica really aggressive blast obnoxious entertainment guests face little recourse</td>\n",
       "      <td>negative</td>\n",
       "    </tr>\n",
       "    <tr>\n",
       "      <th>4</th>\n",
       "      <td>virginamerica really big bad thing</td>\n",
       "      <td>negative</td>\n",
       "    </tr>\n",
       "  </tbody>\n",
       "</table>\n",
       "</div>"
      ],
      "text/plain": [
       "                                                                                        text airline_sentiment\n",
       "0                                                                 virginamerica dhepburn say           neutral\n",
       "1                                        virginamerica plus add commercials experience tacky          positive\n",
       "2                                   virginamerica not today must mean need take another trip           neutral\n",
       "3  virginamerica really aggressive blast obnoxious entertainment guests face little recourse          negative\n",
       "4                                                         virginamerica really big bad thing          negative"
      ]
     },
     "execution_count": 20,
     "metadata": {
      "tags": []
     },
     "output_type": "execute_result"
    }
   ],
   "source": [
    "lemmatizer = WordNetLemmatizer()\n",
    "\n",
    "def remove_non_ascii(words):\n",
    "    \"\"\"Remove non-ASCII characters from list of tokenized words\"\"\"\n",
    "    new_words = []\n",
    "    for word in words:\n",
    "        new_word = unicodedata.normalize('NFKD', word).encode('ascii', 'ignore').decode('utf-8', 'ignore')\n",
    "        new_words.append(new_word)\n",
    "    return new_words\n",
    "\n",
    "def to_lowercase(words):\n",
    "    \"\"\"Convert all characters to lowercase from list of tokenized words\"\"\"\n",
    "    new_words = []\n",
    "    for word in words:\n",
    "        new_word = word.lower()\n",
    "        new_words.append(new_word)\n",
    "    return new_words\n",
    "\n",
    "def remove_punctuation(words):\n",
    "    \"\"\"Remove punctuation from list of tokenized words\"\"\"\n",
    "    new_words = []\n",
    "    for word in words:\n",
    "        new_word = re.sub(r'[^\\w\\s]', '', word)\n",
    "        if new_word != '':\n",
    "            new_words.append(new_word)\n",
    "    return new_words\n",
    "\n",
    "def remove_stopwords(words):\n",
    "    \"\"\"Remove stop words from list of tokenized words\"\"\"\n",
    "    new_words = []\n",
    "    for word in words:\n",
    "        if word not in stopwords:\n",
    "            new_words.append(word)\n",
    "    return new_words\n",
    "\n",
    "def lemmatize_list(words):\n",
    "    new_words = []\n",
    "    for word in words:\n",
    "      new_words.append(lemmatizer.lemmatize(word, pos='v'))\n",
    "    return new_words\n",
    "\n",
    "def normalize(words):\n",
    "    words = remove_non_ascii(words)\n",
    "    words = to_lowercase(words)\n",
    "    words = remove_punctuation(words)\n",
    "    words = remove_stopwords(words)\n",
    "    words = lemmatize_list(words)\n",
    "    return ' '.join(words)\n",
    "\n",
    "data['text'] = data.apply(lambda row: normalize(row['text']), axis=1)\n",
    "data.head()"
   ]
  },
  {
   "cell_type": "code",
   "execution_count": 21,
   "metadata": {
    "colab": {},
    "colab_type": "code",
    "id": "6F3Ps47KEmRu"
   },
   "outputs": [],
   "source": [
    "# Vectorization (Convert text data to numbers).\n",
    "from sklearn.feature_extraction.text import CountVectorizer\n",
    "\n",
    "vectorizer = CountVectorizer(max_features=5000)                # Keep only 5000 features as number of features will increase the processing time.\n",
    "data_features = vectorizer.fit_transform(data['text'])\n",
    "\n",
    "data_features = data_features.toarray()                        # Convert the data features to array."
   ]
  },
  {
   "cell_type": "code",
   "execution_count": 22,
   "metadata": {
    "colab": {
     "base_uri": "https://localhost:8080/",
     "height": 34
    },
    "colab_type": "code",
    "id": "1_S9PgGkEqkA",
    "outputId": "96c9445f-5dab-4b74-a3f7-5c6bd2aab664"
   },
   "outputs": [
    {
     "data": {
      "text/plain": [
       "(14640, 5000)"
      ]
     },
     "execution_count": 22,
     "metadata": {
      "tags": []
     },
     "output_type": "execute_result"
    }
   ],
   "source": [
    "data_features.shape"
   ]
  },
  {
   "cell_type": "code",
   "execution_count": 24,
   "metadata": {
    "colab": {},
    "colab_type": "code",
    "id": "Dz0x-GTgEs0o"
   },
   "outputs": [],
   "source": [
    "X = data_features\n",
    "\n",
    "y = data.airline_sentiment"
   ]
  },
  {
   "cell_type": "code",
   "execution_count": 25,
   "metadata": {
    "colab": {},
    "colab_type": "code",
    "id": "yEXKAcB4HdlJ"
   },
   "outputs": [],
   "source": [
    "# Split data into training and testing set.\n",
    "\n",
    "from sklearn.model_selection import train_test_split\n",
    "\n",
    "X_train, X_test, y_train, y_test = train_test_split(X, y, test_size=0.3, random_state=42)"
   ]
  },
  {
   "cell_type": "code",
   "execution_count": 27,
   "metadata": {
    "colab": {
     "base_uri": "https://localhost:8080/",
     "height": 170
    },
    "colab_type": "code",
    "id": "wh_yexCvJSwe",
    "outputId": "5c53f345-59fa-499d-e4c8-d79960535ca1"
   },
   "outputs": [
    {
     "name": "stdout",
     "output_type": "stream",
     "text": [
      "RandomForestClassifier(bootstrap=True, ccp_alpha=0.0, class_weight=None,\n",
      "                       criterion='gini', max_depth=None, max_features='auto',\n",
      "                       max_leaf_nodes=None, max_samples=None,\n",
      "                       min_impurity_decrease=0.0, min_impurity_split=None,\n",
      "                       min_samples_leaf=1, min_samples_split=2,\n",
      "                       min_weight_fraction_leaf=0.0, n_estimators=10, n_jobs=4,\n",
      "                       oob_score=False, random_state=None, verbose=0,\n",
      "                       warm_start=False)\n",
      "0.7192622950819672\n"
     ]
    }
   ],
   "source": [
    "# Using Random Forest to build model for the classification of reviews.\n",
    "# Also calculating the cross validation score.\n",
    "\n",
    "from sklearn.ensemble import RandomForestClassifier\n",
    "from sklearn.model_selection import cross_val_score\n",
    "\n",
    "forest = RandomForestClassifier(n_estimators=10, n_jobs=4)\n",
    "\n",
    "forest = forest.fit(X_train, y_train)\n",
    "\n",
    "print(forest)\n",
    "\n",
    "print(np.mean(cross_val_score(forest, X, y, cv=10)))"
   ]
  },
  {
   "cell_type": "markdown",
   "metadata": {
    "colab_type": "text",
    "id": "Jr4RxczqLu69"
   },
   "source": [
    "## George's Tip\n",
    "- RandomForestClassifier in sklearn doesn't need labels to be onehot encoded.\n",
    "- https://roamanalytics.com/2016/10/28/are-categorical-variables-getting-lost-in-your-random-forests/#:~:text=TL%3BDR%20Decision%20tree%20models,seriously%20degrade%20tree%2Dmodel%20performance."
   ]
  },
  {
   "cell_type": "markdown",
   "metadata": {
    "colab_type": "text",
    "id": "c_7OUFUKQd7s"
   },
   "source": [
    "## George's Challenge\n",
    "Why use `X, y` in cross-validaation? Why not `X_test, y_test`?"
   ]
  },
  {
   "cell_type": "code",
   "execution_count": 28,
   "metadata": {
    "colab": {},
    "colab_type": "code",
    "id": "QBKhsHJGJVgA"
   },
   "outputs": [],
   "source": [
    "# Predict the result for test data using the model built above.\n",
    "\n",
    "result = forest.predict(X_test)"
   ]
  },
  {
   "cell_type": "code",
   "execution_count": 29,
   "metadata": {
    "colab": {
     "base_uri": "https://localhost:8080/",
     "height": 530
    },
    "colab_type": "code",
    "id": "6gQXCPlwJg7j",
    "outputId": "3155d92a-3310-45a2-df01-340fae12505e"
   },
   "outputs": [
    {
     "name": "stdout",
     "output_type": "stream",
     "text": [
      "[[2554  201   59]\n",
      " [ 412  406   66]\n",
      " [ 217  108  369]]\n"
     ]
    },
    {
     "name": "stderr",
     "output_type": "stream",
     "text": [
      "/usr/local/lib/python3.6/dist-packages/statsmodels/tools/_testing.py:19: FutureWarning: pandas.util.testing is deprecated. Use the functions in the public API at pandas.testing instead.\n",
      "  import pandas.util.testing as tm\n"
     ]
    },
    {
     "data": {
      "text/plain": [
       "<matplotlib.axes._subplots.AxesSubplot at 0x7fbe54214908>"
      ]
     },
     "execution_count": 29,
     "metadata": {
      "tags": []
     },
     "output_type": "execute_result"
    },
    {
     "data": {
      "image/png": "[encoded data removed]",
      "text/plain": [
       "<Figure size 720x504 with 2 Axes>"
      ]
     },
     "metadata": {
      "needs_background": "light",
      "tags": []
     },
     "output_type": "display_data"
    }
   ],
   "source": [
    "# Print and plot Confusion matirx to get an idea of how the distribution of the prediction is, among all the classes.\n",
    "\n",
    "import matplotlib.pyplot as plt\n",
    "import seaborn as sns\n",
    "from sklearn.metrics import confusion_matrix\n",
    "\n",
    "conf_mat = confusion_matrix(y_test, result)\n",
    "\n",
    "print(conf_mat)\n",
    "\n",
    "df_cm = pd.DataFrame(conf_mat, index = [i for i in ['positive', 'negative', 'neutral']],\n",
    "                  columns = [i for i in ['positive', 'negative', 'neutral']])\n",
    "plt.figure(figsize = (10,7))\n",
    "sns.heatmap(df_cm, annot=True, fmt='g')"
   ]
  },
  {
   "cell_type": "code",
   "execution_count": 30,
   "metadata": {
    "colab": {
     "base_uri": "https://localhost:8080/",
     "height": 34
    },
    "colab_type": "code",
    "id": "PztKcFjCJi7y",
    "outputId": "078d8a4d-d823-4422-c867-43ec0b149ca7"
   },
   "outputs": [
    {
     "data": {
      "text/plain": [
       "(14640, 5000)"
      ]
     },
     "execution_count": 30,
     "metadata": {
      "tags": []
     },
     "output_type": "execute_result"
    }
   ],
   "source": [
    "# Using TfidfVectorizer to convert text data to numbers.\n",
    "\n",
    "from sklearn.feature_extraction.text import TfidfVectorizer\n",
    "\n",
    "vectorizer = TfidfVectorizer(max_features=5000)\n",
    "data_features = vectorizer.fit_transform(data['text'])\n",
    "\n",
    "data_features = data_features.toarray()\n",
    "\n",
    "data_features.shape"
   ]
  },
  {
   "cell_type": "markdown",
   "metadata": {
    "colab_type": "text",
    "id": "J0jF73E5Q_-9"
   },
   "source": [
    "## George's Challenge\n",
    "- What's the difference between `CountVectorizer` and `TfidfVectorizer`?\n",
    "- Which is better?"
   ]
  },
  {
   "cell_type": "code",
   "execution_count": 31,
   "metadata": {
    "colab": {
     "base_uri": "https://localhost:8080/",
     "height": 170
    },
    "colab_type": "code",
    "id": "KFBpkURIJ1ZZ",
    "outputId": "7f1feceb-2d5a-47f2-d0fd-3b31daea1a3a"
   },
   "outputs": [
    {
     "name": "stdout",
     "output_type": "stream",
     "text": [
      "RandomForestClassifier(bootstrap=True, ccp_alpha=0.0, class_weight=None,\n",
      "                       criterion='gini', max_depth=None, max_features='auto',\n",
      "                       max_leaf_nodes=None, max_samples=None,\n",
      "                       min_impurity_decrease=0.0, min_impurity_split=None,\n",
      "                       min_samples_leaf=1, min_samples_split=2,\n",
      "                       min_weight_fraction_leaf=0.0, n_estimators=10, n_jobs=4,\n",
      "                       oob_score=False, random_state=None, verbose=0,\n",
      "                       warm_start=False)\n",
      "0.7188524590163935\n"
     ]
    }
   ],
   "source": [
    "# Using Random Forest to build model for the classification of reviews.\n",
    "# Also calculating the cross validation score.\n",
    "\n",
    "from sklearn.ensemble import RandomForestClassifier\n",
    "from sklearn.model_selection import cross_val_score\n",
    "\n",
    "import numpy as np\n",
    "\n",
    "forest = RandomForestClassifier(n_estimators=10, n_jobs=4)\n",
    "\n",
    "forest = forest.fit(X_train, y_train)\n",
    "\n",
    "print(forest)\n",
    "\n",
    "print(np.mean(cross_val_score(forest, X, y, cv=10)))"
   ]
  },
  {
   "cell_type": "code",
   "execution_count": 32,
   "metadata": {
    "colab": {},
    "colab_type": "code",
    "id": "-jiPKRA6J5-X"
   },
   "outputs": [],
   "source": [
    "result = forest.predict(X_test)"
   ]
  },
  {
   "cell_type": "markdown",
   "metadata": {
    "colab_type": "text",
    "id": "1siWLZw5Rkbs"
   },
   "source": [
    "## George's Challenge\n",
    "10-fold cv vs. one-time test result, which is more preferrable? Why?"
   ]
  },
  {
   "cell_type": "code",
   "execution_count": 33,
   "metadata": {
    "colab": {
     "base_uri": "https://localhost:8080/",
     "height": 445
    },
    "colab_type": "code",
    "id": "CU31UAhFJ8ip",
    "outputId": "c8a0a959-8349-4fe3-c503-aa1addeaa431"
   },
   "outputs": [
    {
     "data": {
      "text/plain": [
       "<matplotlib.axes._subplots.AxesSubplot at 0x7fbe552c99e8>"
      ]
     },
     "execution_count": 33,
     "metadata": {
      "tags": []
     },
     "output_type": "execute_result"
    },
    {
     "data": {
      "image/png": "[encoded data removed]",
      "text/plain": [
       "<Figure size 720x504 with 2 Axes>"
      ]
     },
     "metadata": {
      "needs_background": "light",
      "tags": []
     },
     "output_type": "display_data"
    }
   ],
   "source": [
    "import matplotlib.pyplot as plt\n",
    "import seaborn as sns\n",
    "from sklearn.metrics import confusion_matrix\n",
    "\n",
    "conf_mat = confusion_matrix(y_test, result)\n",
    "\n",
    "df_cm = pd.DataFrame(conf_mat, index = [i for i in ['positive', 'negative', 'neutral']],\n",
    "                  columns = [i for i in ['positive', 'negative', 'neutral']])\n",
    "plt.figure(figsize = (10,7))\n",
    "sns.heatmap(df_cm, annot=True, fmt='g')"
   ]
  },
  {
   "cell_type": "markdown",
   "metadata": {
    "colab_type": "text",
    "id": "Ey0xGvtMKFMQ"
   },
   "source": [
    "Summary:\n",
    "\n",
    "- We used dataset which has tweets in text format and their sentiment type (positive, negative and neutral).\n",
    "- The goal was to build a model for text-classification.\n",
    "- We Pre-processed the data using variuos techniques and libraries.\n",
    "- The pre-precessed data is converted to numbers, so that we can feed the data in the model.\n",
    "- After building the classification model, we predicted the result for the test data.\n",
    "- After that we saw that using the above techniques, our model performed good in perspective of how the text classification models perform.\n",
    "- One more way to increase accuracy is to use different variations of Pre-processing techniques."
   ]
  },
  {
   "cell_type": "markdown",
   "metadata": {
    "colab_type": "text",
    "id": "pNYHZYqPSG2c"
   },
   "source": [
    "## George's Challenge\n",
    "What are some ideas to improve the model by using different preprocessing techniques?"
   ]
  },
  {
   "cell_type": "markdown",
   "metadata": {
    "colab_type": "text",
    "id": "EGd-FIPdSQPh"
   },
   "source": [
    "# George's Bonus $$$\n",
    "**Use Pre trained word embeddings for text classification**"
   ]
  },
  {
   "cell_type": "code",
   "execution_count": 1,
   "metadata": {},
   "outputs": [],
   "source": [
    "import pandas as pd\n",
    "import numpy as np\n",
    "from matplotlib import pyplot\n",
    "from sklearn.preprocessing import OneHotEncoder\n",
    "\n",
    "from tensorflow.keras.preprocessing.sequence import pad_sequences\n",
    "from tensorflow.keras.models import Sequential, Model, load_model\n",
    "#from tensorflow.keras.utils import plot_model\n",
    "from tensorflow.keras.layers import Input, Dense, Activation, Embedding, GlobalMaxPooling1D, Dropout, Conv1D, Concatenate, Flatten\n",
    "from tensorflow.keras.preprocessing.text import Tokenizer\n",
    "from tensorflow.keras.preprocessing.sequence import pad_sequences\n",
    "from tensorflow.keras.utils import to_categorical\n",
    "from tensorflow.keras import regularizers"
   ]
  },
  {
   "cell_type": "code",
   "execution_count": 2,
   "metadata": {
    "colab": {},
    "colab_type": "code",
    "id": "Ec3j31-PCYWA"
   },
   "outputs": [
    {
     "data": {
      "text/html": [
       "<div>\n",
       "<style scoped>\n",
       "    .dataframe tbody tr th:only-of-type {\n",
       "        vertical-align: middle;\n",
       "    }\n",
       "\n",
       "    .dataframe tbody tr th {\n",
       "        vertical-align: top;\n",
       "    }\n",
       "\n",
       "    .dataframe thead th {\n",
       "        text-align: right;\n",
       "    }\n",
       "</style>\n",
       "<table border=\"1\" class=\"dataframe\">\n",
       "  <thead>\n",
       "    <tr style=\"text-align: right;\">\n",
       "      <th></th>\n",
       "      <th>tweet_id</th>\n",
       "      <th>airline_sentiment</th>\n",
       "      <th>airline_sentiment_confidence</th>\n",
       "      <th>negativereason</th>\n",
       "      <th>negativereason_confidence</th>\n",
       "      <th>airline</th>\n",
       "      <th>airline_sentiment_gold</th>\n",
       "      <th>name</th>\n",
       "      <th>negativereason_gold</th>\n",
       "      <th>retweet_count</th>\n",
       "      <th>text</th>\n",
       "      <th>tweet_coord</th>\n",
       "      <th>tweet_created</th>\n",
       "      <th>tweet_location</th>\n",
       "      <th>user_timezone</th>\n",
       "    </tr>\n",
       "  </thead>\n",
       "  <tbody>\n",
       "    <tr>\n",
       "      <th>0</th>\n",
       "      <td>570306133677760513</td>\n",
       "      <td>neutral</td>\n",
       "      <td>1.0000</td>\n",
       "      <td>NaN</td>\n",
       "      <td>NaN</td>\n",
       "      <td>Virgin America</td>\n",
       "      <td>NaN</td>\n",
       "      <td>cairdin</td>\n",
       "      <td>NaN</td>\n",
       "      <td>0</td>\n",
       "      <td>@VirginAmerica What @dhepburn said.</td>\n",
       "      <td>NaN</td>\n",
       "      <td>2015-02-24 11:35:52 -0800</td>\n",
       "      <td>NaN</td>\n",
       "      <td>Eastern Time (US &amp; Canada)</td>\n",
       "    </tr>\n",
       "    <tr>\n",
       "      <th>1</th>\n",
       "      <td>570301130888122368</td>\n",
       "      <td>positive</td>\n",
       "      <td>0.3486</td>\n",
       "      <td>NaN</td>\n",
       "      <td>0.0000</td>\n",
       "      <td>Virgin America</td>\n",
       "      <td>NaN</td>\n",
       "      <td>jnardino</td>\n",
       "      <td>NaN</td>\n",
       "      <td>0</td>\n",
       "      <td>@VirginAmerica plus you've added commercials t...</td>\n",
       "      <td>NaN</td>\n",
       "      <td>2015-02-24 11:15:59 -0800</td>\n",
       "      <td>NaN</td>\n",
       "      <td>Pacific Time (US &amp; Canada)</td>\n",
       "    </tr>\n",
       "    <tr>\n",
       "      <th>2</th>\n",
       "      <td>570301083672813571</td>\n",
       "      <td>neutral</td>\n",
       "      <td>0.6837</td>\n",
       "      <td>NaN</td>\n",
       "      <td>NaN</td>\n",
       "      <td>Virgin America</td>\n",
       "      <td>NaN</td>\n",
       "      <td>yvonnalynn</td>\n",
       "      <td>NaN</td>\n",
       "      <td>0</td>\n",
       "      <td>@VirginAmerica I didn't today... Must mean I n...</td>\n",
       "      <td>NaN</td>\n",
       "      <td>2015-02-24 11:15:48 -0800</td>\n",
       "      <td>Lets Play</td>\n",
       "      <td>Central Time (US &amp; Canada)</td>\n",
       "    </tr>\n",
       "    <tr>\n",
       "      <th>3</th>\n",
       "      <td>570301031407624196</td>\n",
       "      <td>negative</td>\n",
       "      <td>1.0000</td>\n",
       "      <td>Bad Flight</td>\n",
       "      <td>0.7033</td>\n",
       "      <td>Virgin America</td>\n",
       "      <td>NaN</td>\n",
       "      <td>jnardino</td>\n",
       "      <td>NaN</td>\n",
       "      <td>0</td>\n",
       "      <td>@VirginAmerica it's really aggressive to blast...</td>\n",
       "      <td>NaN</td>\n",
       "      <td>2015-02-24 11:15:36 -0800</td>\n",
       "      <td>NaN</td>\n",
       "      <td>Pacific Time (US &amp; Canada)</td>\n",
       "    </tr>\n",
       "    <tr>\n",
       "      <th>4</th>\n",
       "      <td>570300817074462722</td>\n",
       "      <td>negative</td>\n",
       "      <td>1.0000</td>\n",
       "      <td>Can't Tell</td>\n",
       "      <td>1.0000</td>\n",
       "      <td>Virgin America</td>\n",
       "      <td>NaN</td>\n",
       "      <td>jnardino</td>\n",
       "      <td>NaN</td>\n",
       "      <td>0</td>\n",
       "      <td>@VirginAmerica and it's a really big bad thing...</td>\n",
       "      <td>NaN</td>\n",
       "      <td>2015-02-24 11:14:45 -0800</td>\n",
       "      <td>NaN</td>\n",
       "      <td>Pacific Time (US &amp; Canada)</td>\n",
       "    </tr>\n",
       "  </tbody>\n",
       "</table>\n",
       "</div>"
      ],
      "text/plain": [
       "             tweet_id airline_sentiment  airline_sentiment_confidence  \\\n",
       "0  570306133677760513           neutral                        1.0000   \n",
       "1  570301130888122368          positive                        0.3486   \n",
       "2  570301083672813571           neutral                        0.6837   \n",
       "3  570301031407624196          negative                        1.0000   \n",
       "4  570300817074462722          negative                        1.0000   \n",
       "\n",
       "  negativereason  negativereason_confidence         airline  \\\n",
       "0            NaN                        NaN  Virgin America   \n",
       "1            NaN                     0.0000  Virgin America   \n",
       "2            NaN                        NaN  Virgin America   \n",
       "3     Bad Flight                     0.7033  Virgin America   \n",
       "4     Can't Tell                     1.0000  Virgin America   \n",
       "\n",
       "  airline_sentiment_gold        name negativereason_gold  retweet_count  \\\n",
       "0                    NaN     cairdin                 NaN              0   \n",
       "1                    NaN    jnardino                 NaN              0   \n",
       "2                    NaN  yvonnalynn                 NaN              0   \n",
       "3                    NaN    jnardino                 NaN              0   \n",
       "4                    NaN    jnardino                 NaN              0   \n",
       "\n",
       "                                                text tweet_coord  \\\n",
       "0                @VirginAmerica What @dhepburn said.         NaN   \n",
       "1  @VirginAmerica plus you've added commercials t...         NaN   \n",
       "2  @VirginAmerica I didn't today... Must mean I n...         NaN   \n",
       "3  @VirginAmerica it's really aggressive to blast...         NaN   \n",
       "4  @VirginAmerica and it's a really big bad thing...         NaN   \n",
       "\n",
       "               tweet_created tweet_location               user_timezone  \n",
       "0  2015-02-24 11:35:52 -0800            NaN  Eastern Time (US & Canada)  \n",
       "1  2015-02-24 11:15:59 -0800            NaN  Pacific Time (US & Canada)  \n",
       "2  2015-02-24 11:15:48 -0800      Lets Play  Central Time (US & Canada)  \n",
       "3  2015-02-24 11:15:36 -0800            NaN  Pacific Time (US & Canada)  \n",
       "4  2015-02-24 11:14:45 -0800            NaN  Pacific Time (US & Canada)  "
      ]
     },
     "execution_count": 2,
     "metadata": {},
     "output_type": "execute_result"
    }
   ],
   "source": [
    "# Loading data into pandas dataframe\n",
    "df = pd.read_csv(\"Tweets.csv\")\n",
    "df.head()"
   ]
  },
  {
   "cell_type": "code",
   "execution_count": 3,
   "metadata": {
    "colab": {},
    "colab_type": "code",
    "id": "cDJUYNTNSd5f"
   },
   "outputs": [
    {
     "data": {
      "text/html": [
       "<div>\n",
       "<style scoped>\n",
       "    .dataframe tbody tr th:only-of-type {\n",
       "        vertical-align: middle;\n",
       "    }\n",
       "\n",
       "    .dataframe tbody tr th {\n",
       "        vertical-align: top;\n",
       "    }\n",
       "\n",
       "    .dataframe thead th {\n",
       "        text-align: right;\n",
       "    }\n",
       "</style>\n",
       "<table border=\"1\" class=\"dataframe\">\n",
       "  <thead>\n",
       "    <tr style=\"text-align: right;\">\n",
       "      <th></th>\n",
       "      <th>text</th>\n",
       "      <th>airline_sentiment</th>\n",
       "    </tr>\n",
       "  </thead>\n",
       "  <tbody>\n",
       "    <tr>\n",
       "      <th>0</th>\n",
       "      <td>@VirginAmerica What @dhepburn said.</td>\n",
       "      <td>neutral</td>\n",
       "    </tr>\n",
       "    <tr>\n",
       "      <th>1</th>\n",
       "      <td>@VirginAmerica plus you've added commercials t...</td>\n",
       "      <td>positive</td>\n",
       "    </tr>\n",
       "    <tr>\n",
       "      <th>2</th>\n",
       "      <td>@VirginAmerica I didn't today... Must mean I n...</td>\n",
       "      <td>neutral</td>\n",
       "    </tr>\n",
       "    <tr>\n",
       "      <th>3</th>\n",
       "      <td>@VirginAmerica it's really aggressive to blast...</td>\n",
       "      <td>negative</td>\n",
       "    </tr>\n",
       "    <tr>\n",
       "      <th>4</th>\n",
       "      <td>@VirginAmerica and it's a really big bad thing...</td>\n",
       "      <td>negative</td>\n",
       "    </tr>\n",
       "  </tbody>\n",
       "</table>\n",
       "</div>"
      ],
      "text/plain": [
       "                                                text airline_sentiment\n",
       "0                @VirginAmerica What @dhepburn said.           neutral\n",
       "1  @VirginAmerica plus you've added commercials t...          positive\n",
       "2  @VirginAmerica I didn't today... Must mean I n...           neutral\n",
       "3  @VirginAmerica it's really aggressive to blast...          negative\n",
       "4  @VirginAmerica and it's a really big bad thing...          negative"
      ]
     },
     "execution_count": 3,
     "metadata": {},
     "output_type": "execute_result"
    }
   ],
   "source": [
    "df = df[['text', 'airline_sentiment']]\n",
    "df.head()"
   ]
  },
  {
   "cell_type": "code",
   "execution_count": 4,
   "metadata": {},
   "outputs": [],
   "source": [
    "X, y = df['text'], df['airline_sentiment']"
   ]
  },
  {
   "cell_type": "code",
   "execution_count": 5,
   "metadata": {},
   "outputs": [
    {
     "data": {
      "text/plain": [
       "array([[0, 1, 0],\n",
       "       [0, 0, 1],\n",
       "       [0, 1, 0],\n",
       "       ...,\n",
       "       [0, 1, 0],\n",
       "       [1, 0, 0],\n",
       "       [0, 1, 0]], dtype=uint8)"
      ]
     },
     "execution_count": 5,
     "metadata": {},
     "output_type": "execute_result"
    }
   ],
   "source": [
    "y = pd.get_dummies(y, drop_first=False).values\n",
    "y"
   ]
  },
  {
   "cell_type": "code",
   "execution_count": 6,
   "metadata": {
    "colab": {},
    "colab_type": "code",
    "id": "E2HMfYMoSd8r"
   },
   "outputs": [
    {
     "data": {
      "text/plain": [
       "26840"
      ]
     },
     "execution_count": 6,
     "metadata": {},
     "output_type": "execute_result"
    }
   ],
   "source": [
    "# vocabulary\n",
    "results = set()\n",
    "df['text'].str.lower().str.split().apply(results.update)\n",
    "len(results)"
   ]
  },
  {
   "cell_type": "code",
   "execution_count": 7,
   "metadata": {},
   "outputs": [
    {
     "data": {
      "text/plain": [
       "36"
      ]
     },
     "execution_count": 7,
     "metadata": {},
     "output_type": "execute_result"
    }
   ],
   "source": [
    "# max length\n",
    "X.str.split().apply(len).max()"
   ]
  },
  {
   "cell_type": "code",
   "execution_count": 8,
   "metadata": {},
   "outputs": [],
   "source": [
    "# prepare tokenizer\n",
    "t = Tokenizer()\n",
    "t.fit_on_texts(X)\n",
    "vocab_size = len(t.word_index) + 1\n",
    "# integer encode the documents\n",
    "encoded_docs = t.texts_to_sequences(X)\n",
    "# pad documents to a max length of 36 words\n",
    "max_length = 36\n",
    "padded_docs = pad_sequences(encoded_docs, maxlen=max_length, padding='post')"
   ]
  },
  {
   "cell_type": "code",
   "execution_count": 9,
   "metadata": {},
   "outputs": [
    {
     "data": {
      "text/plain": [
       "array([[  81,   62, 6686, ...,    0,    0,    0],\n",
       "       [  81,  558,  590, ...,    0,    0,    0],\n",
       "       [  81,    3,  207, ...,    0,    0,    0],\n",
       "       ...,\n",
       "       [  13,   75,  661, ...,    0,    0,    0],\n",
       "       [  13,    6,   22, ...,    0,    0,    0],\n",
       "       [  13,   41,   22, ...,    0,    0,    0]], dtype=int32)"
      ]
     },
     "execution_count": 9,
     "metadata": {},
     "output_type": "execute_result"
    }
   ],
   "source": [
    "padded_docs"
   ]
  },
  {
   "cell_type": "code",
   "execution_count": 10,
   "metadata": {
    "colab": {},
    "colab_type": "code",
    "id": "95JVOhqTSdtH"
   },
   "outputs": [
    {
     "name": "stdout",
     "output_type": "stream",
     "text": [
      "Loaded 400000 word vectors.\n"
     ]
    }
   ],
   "source": [
    "# https://nlp.stanford.edu/projects/glove/\n",
    "\n",
    "# load the whole embedding into memory\n",
    "embeddings_index = dict()\n",
    "f = open('/home/george/glove.6B/glove.6B.100d.txt')\n",
    "for line in f:\n",
    "    values = line.split()\n",
    "    word = values[0]\n",
    "    coefs = np.asarray(values[1:], dtype='float32' )\n",
    "    embeddings_index[word] = coefs\n",
    "f.close()\n",
    "print(f'Loaded {len(embeddings_index)} word vectors.')"
   ]
  },
  {
   "cell_type": "code",
   "execution_count": 12,
   "metadata": {
    "colab": {},
    "colab_type": "code",
    "id": "O_AybuZJSdwh"
   },
   "outputs": [],
   "source": [
    "# create a weight matrix for words in training docs\n",
    "embedding_matrix = np.zeros((vocab_size, 100))\n",
    "for word, i in t.word_index.items():\n",
    "    embedding_vector = embeddings_index.get(word)\n",
    "    if embedding_vector is not None:\n",
    "        embedding_matrix[i] = embedding_vector"
   ]
  },
  {
   "cell_type": "code",
   "execution_count": 13,
   "metadata": {},
   "outputs": [
    {
     "name": "stdout",
     "output_type": "stream",
     "text": [
      "Model: \"sequential_1\"\n",
      "_________________________________________________________________\n",
      "Layer (type)                 Output Shape              Param #   \n",
      "=================================================================\n",
      "embedding (Embedding)        (None, 36, 100)           1576900   \n",
      "_________________________________________________________________\n",
      "flatten (Flatten)            (None, 3600)              0         \n",
      "_________________________________________________________________\n",
      "dense (Dense)                (None, 100)               360100    \n",
      "_________________________________________________________________\n",
      "dense_1 (Dense)              (None, 3)                 303       \n",
      "=================================================================\n",
      "Total params: 1,937,303\n",
      "Trainable params: 360,403\n",
      "Non-trainable params: 1,576,900\n",
      "_________________________________________________________________\n",
      "None\n"
     ]
    }
   ],
   "source": [
    "# create the model\n",
    "model = Sequential()\n",
    "model.add(\n",
    "    Embedding(\n",
    "        input_dim=vocab_size, \n",
    "        output_dim=100, \n",
    "        input_length=max_length,\n",
    "        weights=[embedding_matrix],\n",
    "        trainable=False\n",
    "        )\n",
    "    )\n",
    "model.add(Flatten())\n",
    "model.add(Dense(100, activation='relu'))\n",
    "model.add(Dense(3, activation='softmax'))\n",
    "model.compile(\n",
    "    loss='categorical_crossentropy', \n",
    "    optimizer='adam', \n",
    "    metrics=['accuracy']\n",
    "    )\n",
    "print(model.summary())"
   ]
  },
  {
   "cell_type": "code",
   "execution_count": 14,
   "metadata": {},
   "outputs": [
    {
     "name": "stdout",
     "output_type": "stream",
     "text": [
      "Train on 13176 samples, validate on 1464 samples\n",
      "Epoch 1/30\n",
      "13176/13176 [==============================] - 5s 367us/sample - loss: 0.7198 - accuracy: 0.7048 - val_loss: 0.4963 - val_accuracy: 0.8115\n",
      "Epoch 2/30\n",
      "13176/13176 [==============================] - 2s 138us/sample - loss: 0.5701 - accuracy: 0.7669 - val_loss: 0.5138 - val_accuracy: 0.7958\n",
      "Epoch 3/30\n",
      "13176/13176 [==============================] - 2s 136us/sample - loss: 0.4726 - accuracy: 0.8122 - val_loss: 0.6066 - val_accuracy: 0.7398\n",
      "Epoch 4/30\n",
      "13176/13176 [==============================] - 2s 127us/sample - loss: 0.3707 - accuracy: 0.8574 - val_loss: 0.5599 - val_accuracy: 0.7684\n",
      "Epoch 5/30\n",
      "13176/13176 [==============================] - 2s 134us/sample - loss: 0.2708 - accuracy: 0.9023 - val_loss: 0.6257 - val_accuracy: 0.7712\n",
      "Epoch 6/30\n",
      "13176/13176 [==============================] - 2s 137us/sample - loss: 0.1824 - accuracy: 0.9414 - val_loss: 0.6854 - val_accuracy: 0.7623\n",
      "Epoch 7/30\n",
      "13176/13176 [==============================] - 2s 131us/sample - loss: 0.1253 - accuracy: 0.9631 - val_loss: 0.7412 - val_accuracy: 0.7787\n",
      "Epoch 8/30\n",
      "13176/13176 [==============================] - 2s 125us/sample - loss: 0.0906 - accuracy: 0.9787 - val_loss: 0.8103 - val_accuracy: 0.7589\n",
      "Epoch 9/30\n",
      "13176/13176 [==============================] - 2s 128us/sample - loss: 0.0635 - accuracy: 0.9874 - val_loss: 0.8977 - val_accuracy: 0.7480\n",
      "Epoch 10/30\n",
      "13176/13176 [==============================] - 2s 148us/sample - loss: 0.0544 - accuracy: 0.9895 - val_loss: 0.9387 - val_accuracy: 0.7493\n",
      "Epoch 11/30\n",
      "13176/13176 [==============================] - 2s 126us/sample - loss: 0.0596 - accuracy: 0.9872 - val_loss: 1.0121 - val_accuracy: 0.7370\n",
      "Epoch 12/30\n",
      "13176/13176 [==============================] - 2s 132us/sample - loss: 0.0485 - accuracy: 0.9891 - val_loss: 0.9956 - val_accuracy: 0.7589\n",
      "Epoch 13/30\n",
      "13176/13176 [==============================] - 2s 133us/sample - loss: 0.0530 - accuracy: 0.9890 - val_loss: 1.0232 - val_accuracy: 0.7589\n",
      "Epoch 14/30\n",
      "13176/13176 [==============================] - 2s 131us/sample - loss: 0.0487 - accuracy: 0.9898 - val_loss: 1.1504 - val_accuracy: 0.7124\n",
      "Epoch 15/30\n",
      "13176/13176 [==============================] - 2s 128us/sample - loss: 0.0555 - accuracy: 0.9854 - val_loss: 1.1187 - val_accuracy: 0.7199\n",
      "Epoch 16/30\n",
      "13176/13176 [==============================] - 2s 130us/sample - loss: 0.0550 - accuracy: 0.9866 - val_loss: 1.0897 - val_accuracy: 0.7507\n",
      "Epoch 17/30\n",
      "13176/13176 [==============================] - 2s 142us/sample - loss: 0.0345 - accuracy: 0.9921 - val_loss: 1.1428 - val_accuracy: 0.7466\n",
      "Epoch 18/30\n",
      "13176/13176 [==============================] - 2s 131us/sample - loss: 0.0336 - accuracy: 0.9926 - val_loss: 1.1769 - val_accuracy: 0.7404\n",
      "Epoch 19/30\n",
      "13176/13176 [==============================] - 2s 129us/sample - loss: 0.0371 - accuracy: 0.9928 - val_loss: 1.2125 - val_accuracy: 0.7302\n",
      "Epoch 20/30\n",
      "13176/13176 [==============================] - 2s 129us/sample - loss: 0.0302 - accuracy: 0.9930 - val_loss: 1.2499 - val_accuracy: 0.7507\n",
      "Epoch 21/30\n",
      "13176/13176 [==============================] - 2s 134us/sample - loss: 0.0384 - accuracy: 0.9896 - val_loss: 1.1559 - val_accuracy: 0.7650\n",
      "Epoch 22/30\n",
      "13176/13176 [==============================] - 2s 146us/sample - loss: 0.0408 - accuracy: 0.9890 - val_loss: 1.2297 - val_accuracy: 0.7377\n",
      "Epoch 23/30\n",
      "13176/13176 [==============================] - 2s 135us/sample - loss: 0.0325 - accuracy: 0.9922 - val_loss: 1.2746 - val_accuracy: 0.7363\n",
      "Epoch 24/30\n",
      "13176/13176 [==============================] - 2s 134us/sample - loss: 0.0402 - accuracy: 0.9883 - val_loss: 1.2066 - val_accuracy: 0.7678\n",
      "Epoch 25/30\n",
      "13176/13176 [==============================] - 2s 130us/sample - loss: 0.0334 - accuracy: 0.9908 - val_loss: 1.3294 - val_accuracy: 0.7466\n",
      "Epoch 26/30\n",
      "13176/13176 [==============================] - 2s 122us/sample - loss: 0.0239 - accuracy: 0.9936 - val_loss: 1.3881 - val_accuracy: 0.7384\n",
      "Epoch 27/30\n",
      "13176/13176 [==============================] - 2s 124us/sample - loss: 0.0240 - accuracy: 0.9932 - val_loss: 1.4141 - val_accuracy: 0.7295\n",
      "Epoch 28/30\n",
      "13176/13176 [==============================] - 2s 134us/sample - loss: 0.0231 - accuracy: 0.9934 - val_loss: 1.3375 - val_accuracy: 0.7309\n",
      "Epoch 29/30\n",
      "13176/13176 [==============================] - 2s 116us/sample - loss: 0.0233 - accuracy: 0.9930 - val_loss: 1.3678 - val_accuracy: 0.7459\n",
      "Epoch 30/30\n",
      "13176/13176 [==============================] - 2s 130us/sample - loss: 0.0229 - accuracy: 0.9941 - val_loss: 1.5391 - val_accuracy: 0.7213\n"
     ]
    },
    {
     "data": {
      "image/png": "[encoded data removed]",
      "text/plain": [
       "<Figure size 432x288 with 1 Axes>"
      ]
     },
     "metadata": {
      "needs_background": "light"
     },
     "output_type": "display_data"
    }
   ],
   "source": [
    "# fit the model\n",
    "history = model.fit(padded_docs, y, validation_split=0.1, epochs=30, verbose=1)\n",
    "\n",
    "pyplot.plot(history.history['loss'])\n",
    "pyplot.plot(history.history['val_loss'])\n",
    "pyplot.title('model train vs validation loss')\n",
    "pyplot.ylabel('loss')\n",
    "pyplot.xlabel('epoch')\n",
    "pyplot.legend(['train', 'validation'], loc='upper right')\n",
    "pyplot.show()\n",
    "\n",
    "# evaluate the model\n",
    "#loss, accuracy = model.evaluate(padded_docs, labels, verbose=0)\n",
    "#print( ' Accuracy: %f ' % (accuracy*100))"
   ]
  },
  {
   "cell_type": "code",
   "execution_count": 15,
   "metadata": {},
   "outputs": [
    {
     "name": "stdout",
     "output_type": "stream",
     "text": [
      "Train on 13176 samples, validate on 1464 samples\n",
      "Epoch 1/30\n",
      "13176/13176 [==============================] - 2s 183us/sample - loss: 0.7647 - accuracy: 0.6847 - val_loss: 0.6603 - val_accuracy: 0.7548\n",
      "Epoch 2/30\n",
      "13176/13176 [==============================] - 2s 151us/sample - loss: 0.6223 - accuracy: 0.7426 - val_loss: 0.5063 - val_accuracy: 0.8135\n",
      "Epoch 3/30\n",
      "13176/13176 [==============================] - 2s 139us/sample - loss: 0.5486 - accuracy: 0.7793 - val_loss: 0.5802 - val_accuracy: 0.7698\n",
      "Epoch 4/30\n",
      "13176/13176 [==============================] - 2s 135us/sample - loss: 0.4799 - accuracy: 0.8083 - val_loss: 0.5334 - val_accuracy: 0.7917\n",
      "Epoch 5/30\n",
      "13176/13176 [==============================] - 2s 143us/sample - loss: 0.4192 - accuracy: 0.8373 - val_loss: 0.5051 - val_accuracy: 0.8074\n",
      "Epoch 6/30\n",
      "13176/13176 [==============================] - 2s 148us/sample - loss: 0.3604 - accuracy: 0.8623 - val_loss: 0.5846 - val_accuracy: 0.7616\n",
      "Epoch 7/30\n",
      "13176/13176 [==============================] - 2s 143us/sample - loss: 0.3041 - accuracy: 0.8844 - val_loss: 0.5514 - val_accuracy: 0.7923\n",
      "Epoch 8/30\n",
      "13176/13176 [==============================] - 2s 159us/sample - loss: 0.2699 - accuracy: 0.8989 - val_loss: 0.6536 - val_accuracy: 0.7439\n",
      "Epoch 9/30\n",
      "13176/13176 [==============================] - 2s 158us/sample - loss: 0.2249 - accuracy: 0.9187 - val_loss: 0.5975 - val_accuracy: 0.7999\n",
      "Epoch 10/30\n",
      "13176/13176 [==============================] - 2s 130us/sample - loss: 0.2124 - accuracy: 0.9237 - val_loss: 0.6315 - val_accuracy: 0.7951\n",
      "Epoch 11/30\n",
      "13176/13176 [==============================] - 2s 127us/sample - loss: 0.1890 - accuracy: 0.9314 - val_loss: 0.6388 - val_accuracy: 0.7992\n",
      "Epoch 12/30\n",
      "13176/13176 [==============================] - 2s 127us/sample - loss: 0.1701 - accuracy: 0.9387 - val_loss: 0.6359 - val_accuracy: 0.8046\n",
      "Epoch 13/30\n",
      "13176/13176 [==============================] - 2s 138us/sample - loss: 0.1604 - accuracy: 0.9400 - val_loss: 0.7106 - val_accuracy: 0.7801\n",
      "Epoch 14/30\n",
      "13176/13176 [==============================] - 2s 135us/sample - loss: 0.1491 - accuracy: 0.9451 - val_loss: 0.7145 - val_accuracy: 0.8115\n",
      "Epoch 15/30\n",
      "13176/13176 [==============================] - 2s 127us/sample - loss: 0.1344 - accuracy: 0.9537 - val_loss: 0.7379 - val_accuracy: 0.7712\n",
      "Epoch 16/30\n",
      "13176/13176 [==============================] - 2s 134us/sample - loss: 0.1367 - accuracy: 0.9520 - val_loss: 0.7934 - val_accuracy: 0.7712\n",
      "Epoch 17/30\n",
      "13176/13176 [==============================] - 2s 150us/sample - loss: 0.1290 - accuracy: 0.9521 - val_loss: 0.8022 - val_accuracy: 0.7780\n",
      "Epoch 18/30\n",
      "13176/13176 [==============================] - 2s 144us/sample - loss: 0.1127 - accuracy: 0.9586 - val_loss: 0.8046 - val_accuracy: 0.7889\n",
      "Epoch 19/30\n",
      "13176/13176 [==============================] - 2s 138us/sample - loss: 0.1145 - accuracy: 0.9581 - val_loss: 0.8286 - val_accuracy: 0.7732\n",
      "Epoch 20/30\n",
      "13176/13176 [==============================] - 2s 135us/sample - loss: 0.1105 - accuracy: 0.9590 - val_loss: 0.8804 - val_accuracy: 0.7780\n",
      "Epoch 21/30\n",
      "13176/13176 [==============================] - 2s 133us/sample - loss: 0.1060 - accuracy: 0.9607 - val_loss: 0.8963 - val_accuracy: 0.7650\n",
      "Epoch 22/30\n",
      "13176/13176 [==============================] - 2s 148us/sample - loss: 0.1017 - accuracy: 0.9630 - val_loss: 0.9248 - val_accuracy: 0.7630\n",
      "Epoch 23/30\n",
      "13176/13176 [==============================] - 2s 132us/sample - loss: 0.0982 - accuracy: 0.9628 - val_loss: 0.9993 - val_accuracy: 0.7520\n",
      "Epoch 24/30\n",
      "13176/13176 [==============================] - 2s 130us/sample - loss: 0.1017 - accuracy: 0.9649 - val_loss: 0.9052 - val_accuracy: 0.7732\n",
      "Epoch 25/30\n",
      "13176/13176 [==============================] - 2s 133us/sample - loss: 0.0950 - accuracy: 0.9654 - val_loss: 0.9229 - val_accuracy: 0.7766\n",
      "Epoch 26/30\n",
      "13176/13176 [==============================] - 2s 138us/sample - loss: 0.0928 - accuracy: 0.9666 - val_loss: 0.9807 - val_accuracy: 0.7848\n",
      "Epoch 27/30\n",
      "13176/13176 [==============================] - 2s 123us/sample - loss: 0.0942 - accuracy: 0.9661 - val_loss: 1.0215 - val_accuracy: 0.7684\n",
      "Epoch 28/30\n",
      "13176/13176 [==============================] - 2s 133us/sample - loss: 0.0882 - accuracy: 0.9665 - val_loss: 1.0521 - val_accuracy: 0.7637\n",
      "Epoch 29/30\n",
      "13176/13176 [==============================] - 2s 137us/sample - loss: 0.0824 - accuracy: 0.9691 - val_loss: 1.0488 - val_accuracy: 0.7459\n",
      "Epoch 30/30\n",
      "13176/13176 [==============================] - 2s 141us/sample - loss: 0.0887 - accuracy: 0.9674 - val_loss: 1.0001 - val_accuracy: 0.7753\n"
     ]
    },
    {
     "data": {
      "image/png": "[encoded data removed]",
      "text/plain": [
       "<Figure size 432x288 with 1 Axes>"
      ]
     },
     "metadata": {
      "needs_background": "light"
     },
     "output_type": "display_data"
    }
   ],
   "source": [
    "model = Sequential()\n",
    "model.add(\n",
    "    Embedding(\n",
    "        input_dim=vocab_size, \n",
    "        output_dim=100, \n",
    "        input_length=max_length,\n",
    "        weights=[embedding_matrix],\n",
    "        trainable=False\n",
    "        )\n",
    "    )\n",
    "model.add(Flatten())\n",
    "model.add(Dense(100, activation='relu'))\n",
    "model.add(Dropout(0.3))\n",
    "model.add(Dense(3, activation='softmax'))\n",
    "model.compile(\n",
    "    loss='categorical_crossentropy', \n",
    "    optimizer='adam', \n",
    "    metrics=['accuracy']\n",
    "    )\n",
    "\n",
    "history = model.fit(padded_docs, y, validation_split=0.1, epochs=30, verbose=1)\n",
    "\n",
    "pyplot.plot(history.history['loss'])\n",
    "pyplot.plot(history.history['val_loss'])\n",
    "pyplot.title('model train vs validation loss')\n",
    "pyplot.ylabel('loss')\n",
    "pyplot.xlabel('epoch')\n",
    "pyplot.legend(['train', 'validation'], loc='upper right')\n",
    "pyplot.show()"
   ]
  },
  {
   "cell_type": "code",
   "execution_count": 17,
   "metadata": {},
   "outputs": [
    {
     "name": "stdout",
     "output_type": "stream",
     "text": [
      "Train on 13176 samples, validate on 1464 samples\n",
      "Epoch 1/30\n",
      "13176/13176 [==============================] - 2s 166us/sample - loss: 0.7792 - accuracy: 0.6814 - val_loss: 0.6341 - val_accuracy: 0.7930\n",
      "Epoch 2/30\n",
      "13176/13176 [==============================] - 2s 124us/sample - loss: 0.6676 - accuracy: 0.7273 - val_loss: 0.5135 - val_accuracy: 0.8217\n",
      "Epoch 3/30\n",
      "13176/13176 [==============================] - 2s 134us/sample - loss: 0.6106 - accuracy: 0.7508 - val_loss: 0.5449 - val_accuracy: 0.8156\n",
      "Epoch 4/30\n",
      "13176/13176 [==============================] - 2s 136us/sample - loss: 0.5726 - accuracy: 0.7685 - val_loss: 0.5019 - val_accuracy: 0.8012\n",
      "Epoch 5/30\n",
      "13176/13176 [==============================] - 2s 140us/sample - loss: 0.5428 - accuracy: 0.7797 - val_loss: 0.5010 - val_accuracy: 0.8122\n",
      "Epoch 6/30\n",
      "13176/13176 [==============================] - 2s 139us/sample - loss: 0.5069 - accuracy: 0.7940 - val_loss: 0.4822 - val_accuracy: 0.8183\n",
      "Epoch 7/30\n",
      "13176/13176 [==============================] - 2s 126us/sample - loss: 0.4680 - accuracy: 0.8172 - val_loss: 0.5475 - val_accuracy: 0.7821\n",
      "Epoch 8/30\n",
      "13176/13176 [==============================] - 2s 131us/sample - loss: 0.4516 - accuracy: 0.8171 - val_loss: 0.5554 - val_accuracy: 0.7787\n",
      "Epoch 9/30\n",
      "13176/13176 [==============================] - 2s 151us/sample - loss: 0.4220 - accuracy: 0.8369 - val_loss: 0.5286 - val_accuracy: 0.7985\n",
      "Epoch 10/30\n",
      "13176/13176 [==============================] - 2s 122us/sample - loss: 0.3926 - accuracy: 0.8438 - val_loss: 0.5309 - val_accuracy: 0.7958\n",
      "Epoch 11/30\n",
      "13176/13176 [==============================] - 2s 130us/sample - loss: 0.3746 - accuracy: 0.8521 - val_loss: 0.5498 - val_accuracy: 0.7937\n",
      "Epoch 12/30\n",
      "13176/13176 [==============================] - 2s 133us/sample - loss: 0.3553 - accuracy: 0.8617 - val_loss: 0.5473 - val_accuracy: 0.8005\n",
      "Epoch 13/30\n",
      "13176/13176 [==============================] - 2s 121us/sample - loss: 0.3367 - accuracy: 0.8654 - val_loss: 0.5603 - val_accuracy: 0.8005\n",
      "Epoch 14/30\n",
      "13176/13176 [==============================] - 2s 135us/sample - loss: 0.3215 - accuracy: 0.8783 - val_loss: 0.5657 - val_accuracy: 0.7985\n",
      "Epoch 15/30\n",
      "13176/13176 [==============================] - 2s 122us/sample - loss: 0.3076 - accuracy: 0.8804 - val_loss: 0.5811 - val_accuracy: 0.7842\n",
      "Epoch 16/30\n",
      "13176/13176 [==============================] - 2s 132us/sample - loss: 0.2980 - accuracy: 0.8830 - val_loss: 0.5877 - val_accuracy: 0.7855\n",
      "Epoch 17/30\n",
      "13176/13176 [==============================] - 2s 147us/sample - loss: 0.2892 - accuracy: 0.8884 - val_loss: 0.5688 - val_accuracy: 0.7937\n",
      "Epoch 18/30\n",
      "13176/13176 [==============================] - 2s 125us/sample - loss: 0.2807 - accuracy: 0.8915 - val_loss: 0.5994 - val_accuracy: 0.7923\n",
      "Epoch 19/30\n",
      "13176/13176 [==============================] - 2s 140us/sample - loss: 0.2760 - accuracy: 0.8957 - val_loss: 0.6013 - val_accuracy: 0.7869\n",
      "Epoch 20/30\n",
      "13176/13176 [==============================] - 2s 133us/sample - loss: 0.2671 - accuracy: 0.8968 - val_loss: 0.5934 - val_accuracy: 0.7889\n",
      "Epoch 21/30\n",
      "13176/13176 [==============================] - 2s 137us/sample - loss: 0.2600 - accuracy: 0.9001 - val_loss: 0.6092 - val_accuracy: 0.7889\n",
      "Epoch 22/30\n",
      "13176/13176 [==============================] - 2s 140us/sample - loss: 0.2528 - accuracy: 0.9003 - val_loss: 0.6209 - val_accuracy: 0.7773\n",
      "Epoch 23/30\n",
      "13176/13176 [==============================] - 2s 128us/sample - loss: 0.2424 - accuracy: 0.9072 - val_loss: 0.6309 - val_accuracy: 0.8074\n",
      "Epoch 24/30\n",
      "13176/13176 [==============================] - 2s 126us/sample - loss: 0.2371 - accuracy: 0.9071 - val_loss: 0.6198 - val_accuracy: 0.7903\n",
      "Epoch 25/30\n",
      "13176/13176 [==============================] - 2s 135us/sample - loss: 0.2310 - accuracy: 0.9125 - val_loss: 0.6414 - val_accuracy: 0.8060\n",
      "Epoch 26/30\n",
      "13176/13176 [==============================] - 2s 124us/sample - loss: 0.2431 - accuracy: 0.9061 - val_loss: 0.6539 - val_accuracy: 0.7780\n",
      "Epoch 27/30\n",
      "13176/13176 [==============================] - 2s 126us/sample - loss: 0.2238 - accuracy: 0.9156 - val_loss: 0.6662 - val_accuracy: 0.7807\n",
      "Epoch 28/30\n",
      "13176/13176 [==============================] - 2s 132us/sample - loss: 0.2252 - accuracy: 0.9173 - val_loss: 0.6340 - val_accuracy: 0.7814\n",
      "Epoch 29/30\n",
      "13176/13176 [==============================] - 2s 122us/sample - loss: 0.2131 - accuracy: 0.9197 - val_loss: 0.6460 - val_accuracy: 0.7814\n",
      "Epoch 30/30\n",
      "13176/13176 [==============================] - 2s 122us/sample - loss: 0.2137 - accuracy: 0.9186 - val_loss: 0.6641 - val_accuracy: 0.7896\n"
     ]
    },
    {
     "data": {
      "image/png": "[encoded data removed]",
      "text/plain": [
       "<Figure size 432x288 with 1 Axes>"
      ]
     },
     "metadata": {
      "needs_background": "light"
     },
     "output_type": "display_data"
    }
   ],
   "source": [
    "model = Sequential()\n",
    "model.add(\n",
    "    Embedding(\n",
    "        input_dim=vocab_size, \n",
    "        output_dim=100, \n",
    "        input_length=max_length,\n",
    "        weights=[embedding_matrix],\n",
    "        trainable=False\n",
    "        )\n",
    "    )\n",
    "model.add(Flatten())\n",
    "model.add(Dropout(0.3))\n",
    "model.add(Dense(100, activation='relu'))\n",
    "model.add(Dropout(0.3))\n",
    "model.add(Dense(3, activation='softmax'))\n",
    "model.compile(\n",
    "    loss='categorical_crossentropy', \n",
    "    optimizer='adam', \n",
    "    metrics=['accuracy']\n",
    "    )\n",
    "\n",
    "history = model.fit(padded_docs, y, validation_split=0.1, epochs=30, verbose=1)\n",
    "\n",
    "pyplot.plot(history.history['loss'])\n",
    "pyplot.plot(history.history['val_loss'])\n",
    "pyplot.title('model train vs validation loss')\n",
    "pyplot.ylabel('loss')\n",
    "pyplot.xlabel('epoch')\n",
    "pyplot.legend(['train', 'validation'], loc='upper right')\n",
    "pyplot.show()"
   ]
  },
  {
   "cell_type": "code",
   "execution_count": 18,
   "metadata": {},
   "outputs": [
    {
     "name": "stdout",
     "output_type": "stream",
     "text": [
      "Train on 13176 samples, validate on 1464 samples\n",
      "Epoch 1/30\n",
      "13176/13176 [==============================] - 3s 195us/sample - loss: 0.9899 - accuracy: 0.6777 - val_loss: 0.7615 - val_accuracy: 0.7944\n",
      "Epoch 2/30\n",
      "13176/13176 [==============================] - 2s 150us/sample - loss: 0.8369 - accuracy: 0.7179 - val_loss: 0.7467 - val_accuracy: 0.8040\n",
      "Epoch 3/30\n",
      "13176/13176 [==============================] - 2s 141us/sample - loss: 0.8105 - accuracy: 0.7306 - val_loss: 0.7002 - val_accuracy: 0.8046\n",
      "Epoch 4/30\n",
      "13176/13176 [==============================] - 2s 161us/sample - loss: 0.8037 - accuracy: 0.7290 - val_loss: 0.6516 - val_accuracy: 0.8169\n",
      "Epoch 5/30\n",
      "13176/13176 [==============================] - 2s 161us/sample - loss: 0.7878 - accuracy: 0.7405 - val_loss: 0.6957 - val_accuracy: 0.8019\n",
      "Epoch 6/30\n",
      "13176/13176 [==============================] - 2s 157us/sample - loss: 0.7964 - accuracy: 0.7379 - val_loss: 0.6696 - val_accuracy: 0.8108\n",
      "Epoch 7/30\n",
      "13176/13176 [==============================] - 2s 133us/sample - loss: 0.7822 - accuracy: 0.7429 - val_loss: 0.6953 - val_accuracy: 0.8204\n",
      "Epoch 8/30\n",
      "13176/13176 [==============================] - 2s 134us/sample - loss: 0.7858 - accuracy: 0.7488 - val_loss: 0.6517 - val_accuracy: 0.8163\n",
      "Epoch 9/30\n",
      "13176/13176 [==============================] - 2s 127us/sample - loss: 0.7749 - accuracy: 0.7480 - val_loss: 0.7557 - val_accuracy: 0.7623\n",
      "Epoch 10/30\n",
      "13176/13176 [==============================] - 2s 133us/sample - loss: 0.7780 - accuracy: 0.7489 - val_loss: 0.6822 - val_accuracy: 0.8019\n",
      "Epoch 11/30\n",
      "13176/13176 [==============================] - 2s 146us/sample - loss: 0.7715 - accuracy: 0.7517 - val_loss: 0.6860 - val_accuracy: 0.8149\n",
      "Epoch 12/30\n",
      "13176/13176 [==============================] - 2s 144us/sample - loss: 0.7740 - accuracy: 0.7496 - val_loss: 0.6680 - val_accuracy: 0.8210\n",
      "Epoch 13/30\n",
      "13176/13176 [==============================] - 2s 132us/sample - loss: 0.7776 - accuracy: 0.7557 - val_loss: 0.6877 - val_accuracy: 0.8183\n",
      "Epoch 14/30\n",
      "13176/13176 [==============================] - 2s 135us/sample - loss: 0.7694 - accuracy: 0.7583 - val_loss: 0.7004 - val_accuracy: 0.8101\n",
      "Epoch 15/30\n",
      "13176/13176 [==============================] - 2s 128us/sample - loss: 0.7646 - accuracy: 0.7573 - val_loss: 0.7113 - val_accuracy: 0.8183\n",
      "Epoch 16/30\n",
      "13176/13176 [==============================] - 2s 147us/sample - loss: 0.7664 - accuracy: 0.7609 - val_loss: 0.6785 - val_accuracy: 0.8163\n",
      "Epoch 17/30\n",
      "13176/13176 [==============================] - 2s 149us/sample - loss: 0.7592 - accuracy: 0.7621 - val_loss: 0.6712 - val_accuracy: 0.8122\n",
      "Epoch 18/30\n",
      "13176/13176 [==============================] - 2s 152us/sample - loss: 0.7640 - accuracy: 0.7606 - val_loss: 0.7181 - val_accuracy: 0.7992\n",
      "Epoch 19/30\n",
      "13176/13176 [==============================] - 2s 144us/sample - loss: 0.7660 - accuracy: 0.7588 - val_loss: 0.6733 - val_accuracy: 0.8176\n",
      "Epoch 20/30\n",
      "13176/13176 [==============================] - 2s 131us/sample - loss: 0.7631 - accuracy: 0.7624 - val_loss: 0.7040 - val_accuracy: 0.8019\n",
      "Epoch 21/30\n",
      "13176/13176 [==============================] - 2s 153us/sample - loss: 0.7611 - accuracy: 0.7684 - val_loss: 0.6781 - val_accuracy: 0.8156\n",
      "Epoch 22/30\n",
      "13176/13176 [==============================] - 2s 150us/sample - loss: 0.7563 - accuracy: 0.7670 - val_loss: 0.7065 - val_accuracy: 0.8019\n",
      "Epoch 23/30\n",
      "13176/13176 [==============================] - 2s 153us/sample - loss: 0.7510 - accuracy: 0.7680 - val_loss: 0.7207 - val_accuracy: 0.8012\n",
      "Epoch 24/30\n",
      "13176/13176 [==============================] - 2s 124us/sample - loss: 0.7585 - accuracy: 0.7648 - val_loss: 0.7640 - val_accuracy: 0.7999\n",
      "Epoch 25/30\n",
      "13176/13176 [==============================] - 2s 156us/sample - loss: 0.7546 - accuracy: 0.7699 - val_loss: 0.7221 - val_accuracy: 0.8081\n",
      "Epoch 26/30\n",
      "13176/13176 [==============================] - 2s 135us/sample - loss: 0.7443 - accuracy: 0.7791 - val_loss: 0.7174 - val_accuracy: 0.8060\n",
      "Epoch 27/30\n",
      "13176/13176 [==============================] - 2s 126us/sample - loss: 0.7458 - accuracy: 0.7717 - val_loss: 0.7039 - val_accuracy: 0.8094\n",
      "Epoch 28/30\n",
      "13176/13176 [==============================] - 2s 141us/sample - loss: 0.7491 - accuracy: 0.7723 - val_loss: 0.6840 - val_accuracy: 0.8210\n",
      "Epoch 29/30\n",
      "13176/13176 [==============================] - 2s 145us/sample - loss: 0.7554 - accuracy: 0.7735 - val_loss: 0.7307 - val_accuracy: 0.8081\n",
      "Epoch 30/30\n",
      "13176/13176 [==============================] - 2s 134us/sample - loss: 0.7531 - accuracy: 0.7709 - val_loss: 0.8183 - val_accuracy: 0.7630\n"
     ]
    },
    {
     "data": {
      "image/png": "[encoded data removed]",
      "text/plain": [
       "<Figure size 432x288 with 1 Axes>"
      ]
     },
     "metadata": {
      "needs_background": "light"
     },
     "output_type": "display_data"
    }
   ],
   "source": [
    "model = Sequential()\n",
    "model.add(\n",
    "    Embedding(\n",
    "        input_dim=vocab_size, \n",
    "        output_dim=100, \n",
    "        input_length=max_length,\n",
    "        weights=[embedding_matrix],\n",
    "        trainable=False\n",
    "        )\n",
    "    )\n",
    "model.add(Flatten())\n",
    "model.add(Dropout(0.3))\n",
    "model.add(Dense(\n",
    "    100, \n",
    "    kernel_regularizer=regularizers.l2(0.002),\n",
    "    activation='relu'\n",
    "))\n",
    "model.add(Dropout(0.3))\n",
    "model.add(Dense(3, activation='softmax'))\n",
    "model.compile(\n",
    "    loss='categorical_crossentropy', \n",
    "    optimizer='adam', \n",
    "    metrics=['accuracy']\n",
    "    )\n",
    "\n",
    "history = model.fit(padded_docs, y, validation_split=0.1, epochs=30, verbose=1)\n",
    "\n",
    "pyplot.plot(history.history['loss'])\n",
    "pyplot.plot(history.history['val_loss'])\n",
    "pyplot.title('model train vs validation loss')\n",
    "pyplot.ylabel('loss')\n",
    "pyplot.xlabel('epoch')\n",
    "pyplot.legend(['train', 'validation'], loc='upper right')\n",
    "pyplot.show()"
   ]
  },
  {
   "cell_type": "code",
   "execution_count": null,
   "metadata": {},
   "outputs": [],
   "source": []
  }
 ],
 "metadata": {
  "colab": {
   "collapsed_sections": [],
   "name": "Project_Solution_Twitter_Sentiment_Classification.ipynb",
   "provenance": []
  },
  "kernelspec": {
   "display_name": "Python 3",
   "language": "python",
   "name": "python3"
  },
  "language_info": {
   "codemirror_mode": {
    "name": "ipython",
    "version": 3
   },
   "file_extension": ".py",
   "mimetype": "text/x-python",
   "name": "python",
   "nbconvert_exporter": "python",
   "pygments_lexer": "ipython3",
   "version": "3.7.7"
  }
 },
 "nbformat": 4,
 "nbformat_minor": 1
}
