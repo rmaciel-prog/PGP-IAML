{
 "cells": [
  {
   "cell_type": "markdown",
   "metadata": {
    "colab_type": "text",
    "id": "ZeKZ7nX1_1uv"
   },
   "source": [
    "# Need for Pre-processing:\n",
    "\n",
    "- Inconsistent results from the NLP applications can be minimized if we use right kind of preprocessing on text.\n",
    "- One type of pre-processing may not be suitable for other, so it's task dependent.\n",
    "- Let’s say you are trying to discover commonly used words in a news dataset. If your pre-processing step involves removing stop words because some other task used it, then you are probably going to miss out on some of the common words as you have ALREADY eliminated it. So really, it’s not a one-size-fits-all approach.\n",
    "\n"
   ]
  },
  {
   "cell_type": "markdown",
   "metadata": {
    "colab_type": "text",
    "id": "CcOcSW6UBYQC"
   },
   "source": [
    "# Dataset:\n",
    "\n",
    "- A data which contains what corporations actually talk about on social media. The dataset has statements classified as information (objective statements about the company or it's activities), dialog (replies to users, etc.), or action (messages that ask for votes or ask users to click on links, etc.).\n",
    "- Our interest is in the text column of dataset, so we can apply pre-processing on it."
   ]
  },
  {
   "cell_type": "markdown",
   "metadata": {
    "colab_type": "text",
    "id": "QXW3I0lZEWvf"
   },
   "source": [
    "# Types of text preprocessing techniques\n",
    "\n",
    "- There are different ways to preprocess your text. Here are some of the approaches that you should know about and I will highlight the importance of each."
   ]
  },
  {
   "cell_type": "code",
   "execution_count": 1,
   "metadata": {
    "colab": {
     "base_uri": "https://localhost:8080/",
     "height": 408
    },
    "colab_type": "code",
    "id": "TxY2eWSrJuBk",
    "outputId": "711caf31-9f8d-46a1-f7eb-5b8040f76ac2"
   },
   "outputs": [
    {
     "name": "stdout",
     "output_type": "stream",
     "text": [
      "[nltk_data] Downloading package punkt to /root/nltk_data...\n",
      "[nltk_data]   Unzipping tokenizers/punkt.zip.\n",
      "[nltk_data] Downloading package stopwords to /root/nltk_data...\n",
      "[nltk_data]   Unzipping corpora/stopwords.zip.\n",
      "[nltk_data] Downloading package wordnet to /root/nltk_data...\n",
      "[nltk_data]   Unzipping corpora/wordnet.zip.\n",
      "Collecting contractions\n",
      "  Downloading https://files.pythonhosted.org/packages/00/92/a05b76a692ac08d470ae5c23873cf1c9a041532f1ee065e74b374f218306/contractions-0.0.25-py2.py3-none-any.whl\n",
      "Collecting textsearch\n",
      "  Downloading https://files.pythonhosted.org/packages/42/a8/03407021f9555043de5492a2bd7a35c56cc03c2510092b5ec018cae1bbf1/textsearch-0.0.17-py2.py3-none-any.whl\n",
      "Collecting pyahocorasick\n",
      "\u001b[?25l  Downloading https://files.pythonhosted.org/packages/f4/9f/f0d8e8850e12829eea2e778f1c90e3c53a9a799b7f412082a5d21cd19ae1/pyahocorasick-1.4.0.tar.gz (312kB)\n",
      "\u001b[K     |████████████████████████████████| 317kB 4.5MB/s \n",
      "\u001b[?25hCollecting Unidecode\n",
      "\u001b[?25l  Downloading https://files.pythonhosted.org/packages/d0/42/d9edfed04228bacea2d824904cae367ee9efd05e6cce7ceaaedd0b0ad964/Unidecode-1.1.1-py2.py3-none-any.whl (238kB)\n",
      "\u001b[K     |████████████████████████████████| 245kB 9.4MB/s \n",
      "\u001b[?25hBuilding wheels for collected packages: pyahocorasick\n",
      "  Building wheel for pyahocorasick (setup.py) ... \u001b[?25l\u001b[?25hdone\n",
      "  Created wheel for pyahocorasick: filename=pyahocorasick-1.4.0-cp36-cp36m-linux_x86_64.whl size=81704 sha256=f06a420b3938dd4b872ed4c97886a6f1c440692bcbd8846fca609e683230a00c\n",
      "  Stored in directory: /root/.cache/pip/wheels/0a/90/61/87a55f5b459792fbb2b7ba6b31721b06ff5cf6bde541b40994\n",
      "Successfully built pyahocorasick\n",
      "Installing collected packages: pyahocorasick, Unidecode, textsearch, contractions\n",
      "Successfully installed Unidecode-1.1.1 contractions-0.0.25 pyahocorasick-1.4.0 textsearch-0.0.17\n"
     ]
    }
   ],
   "source": [
    "# Import necessary libraries.\n",
    "import re, string, unicodedata\n",
    "import pandas as pd\n",
    "import numpy as np\n",
    "import nltk           \n",
    "                        # Natural language processing tool-kit\n",
    "nltk.download('punkt')\n",
    "nltk.download('stopwords')\n",
    "nltk.download('wordnet')\n",
    "\n",
    "!pip install contractions\n",
    "import contractions\n",
    "\n",
    "\n",
    "from bs4 import BeautifulSoup                 # Beautiful soup is a parsing library that can use different parsers.\n",
    "from nltk import word_tokenize, sent_tokenize\n",
    "from nltk.corpus import stopwords, wordnet    # Stopwords, and wordnet corpus\n",
    "from nltk.stem import LancasterStemmer, WordNetLemmatizer"
   ]
  },
  {
   "cell_type": "code",
   "execution_count": 2,
   "metadata": {
    "colab": {
     "base_uri": "https://localhost:8080/",
     "height": 122
    },
    "colab_type": "code",
    "id": "dN-_QQBSGJ5j",
    "outputId": "b70a4135-a2a7-4b5a-d753-b007b8d45d8e"
   },
   "outputs": [
    {
     "name": "stdout",
     "output_type": "stream",
     "text": [
      "Go to this URL in a browser: https://accounts.google.com/o/oauth2/auth?client_id=947318989803-6bn6qk8qdgf4n4g3pfee6491hc0brc4i.apps.googleusercontent.com&redirect_uri=urn%3aietf%3awg%3aoauth%3a2.0%3aoob&response_type=code&scope=email%20https%3a%2f%2fwww.googleapis.com%2fauth%2fdocs.test%20https%3a%2f%2fwww.googleapis.com%2fauth%2fdrive%20https%3a%2f%2fwww.googleapis.com%2fauth%2fdrive.photos.readonly%20https%3a%2f%2fwww.googleapis.com%2fauth%2fpeopleapi.readonly\n",
      "\n",
      "Enter your authorization code:\n",
      "··········\n",
      "Mounted at /content/drive\n"
     ]
    }
   ],
   "source": [
    "from google.colab import drive\n",
    "drive.mount('/content/drive')"
   ]
  },
  {
   "cell_type": "code",
   "execution_count": 3,
   "metadata": {
    "colab": {},
    "colab_type": "code",
    "id": "qJhEqCzyK8vS"
   },
   "outputs": [],
   "source": [
    "# Load dataset.\n",
    "dataset = pd.read_csv('/content/drive/My Drive/Colab Notebooks/data/corporate_messaging_dfe.csv')"
   ]
  },
  {
   "cell_type": "code",
   "execution_count": 5,
   "metadata": {
    "colab": {
     "base_uri": "https://localhost:8080/",
     "height": 204
    },
    "colab_type": "code",
    "id": "jVErYTrcLMvj",
    "outputId": "292557aa-8206-40a5-c755-f484d7acee1a"
   },
   "outputs": [
    {
     "data": {
      "text/html": [
       "<div>\n",
       "<style scoped>\n",
       "    .dataframe tbody tr th:only-of-type {\n",
       "        vertical-align: middle;\n",
       "    }\n",
       "\n",
       "    .dataframe tbody tr th {\n",
       "        vertical-align: top;\n",
       "    }\n",
       "\n",
       "    .dataframe thead th {\n",
       "        text-align: right;\n",
       "    }\n",
       "</style>\n",
       "<table border=\"1\" class=\"dataframe\">\n",
       "  <thead>\n",
       "    <tr style=\"text-align: right;\">\n",
       "      <th></th>\n",
       "      <th>unit_id</th>\n",
       "      <th>golden</th>\n",
       "      <th>unit_state</th>\n",
       "      <th>trusted_judgments</th>\n",
       "      <th>last_judgment_at</th>\n",
       "      <th>category</th>\n",
       "      <th>category_confidence</th>\n",
       "      <th>category_gold</th>\n",
       "      <th>id</th>\n",
       "      <th>screenname</th>\n",
       "      <th>text</th>\n",
       "    </tr>\n",
       "  </thead>\n",
       "  <tbody>\n",
       "    <tr>\n",
       "      <th>0</th>\n",
       "      <td>662822308</td>\n",
       "      <td>False</td>\n",
       "      <td>finalized</td>\n",
       "      <td>3</td>\n",
       "      <td>2015-02-18T04:31:00</td>\n",
       "      <td>Information</td>\n",
       "      <td>1.0</td>\n",
       "      <td>NaN</td>\n",
       "      <td>436528000000000000</td>\n",
       "      <td>Barclays</td>\n",
       "      <td>Barclays CEO stresses the importance of regula...</td>\n",
       "    </tr>\n",
       "    <tr>\n",
       "      <th>1</th>\n",
       "      <td>662822309</td>\n",
       "      <td>False</td>\n",
       "      <td>finalized</td>\n",
       "      <td>3</td>\n",
       "      <td>2015-02-18T13:55:00</td>\n",
       "      <td>Information</td>\n",
       "      <td>1.0</td>\n",
       "      <td>NaN</td>\n",
       "      <td>386013000000000000</td>\n",
       "      <td>Barclays</td>\n",
       "      <td>Barclays announces result of Rights Issue http...</td>\n",
       "    </tr>\n",
       "    <tr>\n",
       "      <th>2</th>\n",
       "      <td>662822310</td>\n",
       "      <td>False</td>\n",
       "      <td>finalized</td>\n",
       "      <td>3</td>\n",
       "      <td>2015-02-18T08:43:00</td>\n",
       "      <td>Information</td>\n",
       "      <td>1.0</td>\n",
       "      <td>NaN</td>\n",
       "      <td>379580000000000000</td>\n",
       "      <td>Barclays</td>\n",
       "      <td>Barclays publishes its prospectus for its �5.8...</td>\n",
       "    </tr>\n",
       "    <tr>\n",
       "      <th>3</th>\n",
       "      <td>662822311</td>\n",
       "      <td>False</td>\n",
       "      <td>finalized</td>\n",
       "      <td>3</td>\n",
       "      <td>2015-02-18T09:13:00</td>\n",
       "      <td>Information</td>\n",
       "      <td>1.0</td>\n",
       "      <td>NaN</td>\n",
       "      <td>367530000000000000</td>\n",
       "      <td>Barclays</td>\n",
       "      <td>Barclays Group Finance Director Chris Lucas is...</td>\n",
       "    </tr>\n",
       "    <tr>\n",
       "      <th>4</th>\n",
       "      <td>662822312</td>\n",
       "      <td>False</td>\n",
       "      <td>finalized</td>\n",
       "      <td>3</td>\n",
       "      <td>2015-02-18T06:48:00</td>\n",
       "      <td>Information</td>\n",
       "      <td>1.0</td>\n",
       "      <td>NaN</td>\n",
       "      <td>360385000000000000</td>\n",
       "      <td>Barclays</td>\n",
       "      <td>Barclays announces that Irene McDermott Brown ...</td>\n",
       "    </tr>\n",
       "  </tbody>\n",
       "</table>\n",
       "</div>"
      ],
      "text/plain": [
       "     unit_id  ...                                               text\n",
       "0  662822308  ...  Barclays CEO stresses the importance of regula...\n",
       "1  662822309  ...  Barclays announces result of Rights Issue http...\n",
       "2  662822310  ...  Barclays publishes its prospectus for its �5.8...\n",
       "3  662822311  ...  Barclays Group Finance Director Chris Lucas is...\n",
       "4  662822312  ...  Barclays announces that Irene McDermott Brown ...\n",
       "\n",
       "[5 rows x 11 columns]"
      ]
     },
     "execution_count": 5,
     "metadata": {
      "tags": []
     },
     "output_type": "execute_result"
    }
   ],
   "source": [
    "# Chect first 5 rows of data.\n",
    "dataset.head()"
   ]
  },
  {
   "cell_type": "code",
   "execution_count": 10,
   "metadata": {
    "colab": {},
    "colab_type": "code",
    "id": "NjKyaKs8LOLE"
   },
   "outputs": [],
   "source": [
    "# Here we are going to deal with text data, so we seperate out the text column in a new dataframe: data\n",
    "data = dataset.drop(['golden', 'unit_state', 'trusted_judgments', 'last_judgment_at', 'category', 'category_confidence', 'category_gold', 'screenname'], axis=1)"
   ]
  },
  {
   "cell_type": "code",
   "execution_count": 11,
   "metadata": {
    "colab": {},
    "colab_type": "code",
    "id": "z5pDgY1m4LLN"
   },
   "outputs": [],
   "source": [
    "df = data.copy()"
   ]
  },
  {
   "cell_type": "markdown",
   "metadata": {
    "colab_type": "text",
    "id": "SFCbuY02GZfF"
   },
   "source": [
    "## George's Challenge\n",
    "- A better way to save some typing?\n",
    "- Difference between `[]` and `[[]]`"
   ]
  },
  {
   "cell_type": "code",
   "execution_count": 12,
   "metadata": {
    "colab": {
     "base_uri": "https://localhost:8080/",
     "height": 204
    },
    "colab_type": "code",
    "id": "LnfR_ovoLYt6",
    "outputId": "892d903c-de9b-434d-a4c4-eb3e4ffdcb59"
   },
   "outputs": [
    {
     "data": {
      "text/html": [
       "<div>\n",
       "<style scoped>\n",
       "    .dataframe tbody tr th:only-of-type {\n",
       "        vertical-align: middle;\n",
       "    }\n",
       "\n",
       "    .dataframe tbody tr th {\n",
       "        vertical-align: top;\n",
       "    }\n",
       "\n",
       "    .dataframe thead th {\n",
       "        text-align: right;\n",
       "    }\n",
       "</style>\n",
       "<table border=\"1\" class=\"dataframe\">\n",
       "  <thead>\n",
       "    <tr style=\"text-align: right;\">\n",
       "      <th></th>\n",
       "      <th>unit_id</th>\n",
       "      <th>id</th>\n",
       "      <th>text</th>\n",
       "    </tr>\n",
       "  </thead>\n",
       "  <tbody>\n",
       "    <tr>\n",
       "      <th>0</th>\n",
       "      <td>662822308</td>\n",
       "      <td>436528000000000000</td>\n",
       "      <td>Barclays CEO stresses the importance of regula...</td>\n",
       "    </tr>\n",
       "    <tr>\n",
       "      <th>1</th>\n",
       "      <td>662822309</td>\n",
       "      <td>386013000000000000</td>\n",
       "      <td>Barclays announces result of Rights Issue http...</td>\n",
       "    </tr>\n",
       "    <tr>\n",
       "      <th>2</th>\n",
       "      <td>662822310</td>\n",
       "      <td>379580000000000000</td>\n",
       "      <td>Barclays publishes its prospectus for its �5.8...</td>\n",
       "    </tr>\n",
       "    <tr>\n",
       "      <th>3</th>\n",
       "      <td>662822311</td>\n",
       "      <td>367530000000000000</td>\n",
       "      <td>Barclays Group Finance Director Chris Lucas is...</td>\n",
       "    </tr>\n",
       "    <tr>\n",
       "      <th>4</th>\n",
       "      <td>662822312</td>\n",
       "      <td>360385000000000000</td>\n",
       "      <td>Barclays announces that Irene McDermott Brown ...</td>\n",
       "    </tr>\n",
       "  </tbody>\n",
       "</table>\n",
       "</div>"
      ],
      "text/plain": [
       "     unit_id  ...                                               text\n",
       "0  662822308  ...  Barclays CEO stresses the importance of regula...\n",
       "1  662822309  ...  Barclays announces result of Rights Issue http...\n",
       "2  662822310  ...  Barclays publishes its prospectus for its �5.8...\n",
       "3  662822311  ...  Barclays Group Finance Director Chris Lucas is...\n",
       "4  662822312  ...  Barclays announces that Irene McDermott Brown ...\n",
       "\n",
       "[5 rows x 3 columns]"
      ]
     },
     "execution_count": 12,
     "metadata": {
      "tags": []
     },
     "output_type": "execute_result"
    }
   ],
   "source": [
    "# Check first 5 rows of dataframe.\n",
    "data.head()"
   ]
  },
  {
   "cell_type": "code",
   "execution_count": 13,
   "metadata": {
    "colab": {
     "base_uri": "https://localhost:8080/",
     "height": 80
    },
    "colab_type": "code",
    "id": "T2y92bo0LaCw",
    "outputId": "dc0a10d5-4cc6-4c82-c3ad-c742c1feace8"
   },
   "outputs": [
    {
     "data": {
      "text/html": [
       "<div>\n",
       "<style scoped>\n",
       "    .dataframe tbody tr th:only-of-type {\n",
       "        vertical-align: middle;\n",
       "    }\n",
       "\n",
       "    .dataframe tbody tr th {\n",
       "        vertical-align: top;\n",
       "    }\n",
       "\n",
       "    .dataframe thead th {\n",
       "        text-align: right;\n",
       "    }\n",
       "</style>\n",
       "<table border=\"1\" class=\"dataframe\">\n",
       "  <thead>\n",
       "    <tr style=\"text-align: right;\">\n",
       "      <th></th>\n",
       "      <th>unit_id</th>\n",
       "      <th>id</th>\n",
       "      <th>text</th>\n",
       "    </tr>\n",
       "  </thead>\n",
       "  <tbody>\n",
       "    <tr>\n",
       "      <th>0</th>\n",
       "      <td>662822308</td>\n",
       "      <td>436528000000000000</td>\n",
       "      <td>Barclays CEO stresses the importance of regulatory and cultural reform in financial services at Brussels conference  http://t.co/Ge9Lp7hpyG</td>\n",
       "    </tr>\n",
       "  </tbody>\n",
       "</table>\n",
       "</div>"
      ],
      "text/plain": [
       "     unit_id  ...                                                                                                                                         text\n",
       "0  662822308  ...  Barclays CEO stresses the importance of regulatory and cultural reform in financial services at Brussels conference  http://t.co/Ge9Lp7hpyG\n",
       "\n",
       "[1 rows x 3 columns]"
      ]
     },
     "execution_count": 13,
     "metadata": {
      "tags": []
     },
     "output_type": "execute_result"
    }
   ],
   "source": [
    "# First row of data.\n",
    "pd.set_option('display.max_colwidth', None) # It will enable the entire row visible with truncation of the text. (We can see full text.)\n",
    "data.loc[[0]]"
   ]
  },
  {
   "cell_type": "code",
   "execution_count": 14,
   "metadata": {
    "colab": {
     "base_uri": "https://localhost:8080/",
     "height": 204
    },
    "colab_type": "code",
    "id": "QBJvqaRULdH8",
    "outputId": "4313d708-adfc-4a15-ea9a-bfcc197528d8"
   },
   "outputs": [
    {
     "data": {
      "text/html": [
       "<div>\n",
       "<style scoped>\n",
       "    .dataframe tbody tr th:only-of-type {\n",
       "        vertical-align: middle;\n",
       "    }\n",
       "\n",
       "    .dataframe tbody tr th {\n",
       "        vertical-align: top;\n",
       "    }\n",
       "\n",
       "    .dataframe thead th {\n",
       "        text-align: right;\n",
       "    }\n",
       "</style>\n",
       "<table border=\"1\" class=\"dataframe\">\n",
       "  <thead>\n",
       "    <tr style=\"text-align: right;\">\n",
       "      <th></th>\n",
       "      <th>unit_id</th>\n",
       "      <th>id</th>\n",
       "      <th>text</th>\n",
       "    </tr>\n",
       "  </thead>\n",
       "  <tbody>\n",
       "    <tr>\n",
       "      <th>0</th>\n",
       "      <td>662822308</td>\n",
       "      <td>436528000000000000</td>\n",
       "      <td>Barclays CEO stresses the importance of regulatory and cultural reform in financial services at Brussels conference</td>\n",
       "    </tr>\n",
       "    <tr>\n",
       "      <th>1</th>\n",
       "      <td>662822309</td>\n",
       "      <td>386013000000000000</td>\n",
       "      <td>Barclays announces result of Rights Issue</td>\n",
       "    </tr>\n",
       "    <tr>\n",
       "      <th>2</th>\n",
       "      <td>662822310</td>\n",
       "      <td>379580000000000000</td>\n",
       "      <td>Barclays publishes its prospectus for its �5.8bn Rights Issue:</td>\n",
       "    </tr>\n",
       "    <tr>\n",
       "      <th>3</th>\n",
       "      <td>662822311</td>\n",
       "      <td>367530000000000000</td>\n",
       "      <td>Barclays Group Finance Director Chris Lucas is to step down at the end of the week due to ill health</td>\n",
       "    </tr>\n",
       "    <tr>\n",
       "      <th>4</th>\n",
       "      <td>662822312</td>\n",
       "      <td>360385000000000000</td>\n",
       "      <td>Barclays announces that Irene McDermott Brown has been appointed as Group Human Resources Director</td>\n",
       "    </tr>\n",
       "  </tbody>\n",
       "</table>\n",
       "</div>"
      ],
      "text/plain": [
       "     unit_id  ...                                                                                                                   text\n",
       "0  662822308  ...  Barclays CEO stresses the importance of regulatory and cultural reform in financial services at Brussels conference  \n",
       "1  662822309  ...                                                                             Barclays announces result of Rights Issue \n",
       "2  662822310  ...                                                        Barclays publishes its prospectus for its �5.8bn Rights Issue: \n",
       "3  662822311  ...                  Barclays Group Finance Director Chris Lucas is to step down at the end of the week due to ill health \n",
       "4  662822312  ...                    Barclays announces that Irene McDermott Brown has been appointed as Group Human Resources Director \n",
       "\n",
       "[5 rows x 3 columns]"
      ]
     },
     "execution_count": 14,
     "metadata": {
      "tags": []
     },
     "output_type": "execute_result"
    }
   ],
   "source": [
    "# Removal of the http link using Regular Expression.\n",
    "for i, row in data.iterrows():\n",
    "    clean_text = re.sub(r\"http\\S+\", \"\", data.at[i, 'text'])\n",
    "    data.at[i,'text'] = clean_text\n",
    "data.head()"
   ]
  },
  {
   "cell_type": "markdown",
   "metadata": {
    "colab_type": "text",
    "id": "BFbKay8VHQ9m"
   },
   "source": [
    "## George's Tip\n",
    "Don't loop thru dataframes, instead, use `.apply()`, and better yet, vectorized operations\n",
    "- https://realpython.com/fast-flexible-pandas/#dont-forget-numpy\n",
    "\n",
    "let's time it!"
   ]
  },
  {
   "cell_type": "code",
   "execution_count": 15,
   "metadata": {
    "colab": {
     "base_uri": "https://localhost:8080/",
     "height": 204
    },
    "colab_type": "code",
    "id": "K-6ioqmm2Dp_",
    "outputId": "be284ebd-38c7-44c5-8d3d-28dded0821fe"
   },
   "outputs": [
    {
     "data": {
      "text/html": [
       "<div>\n",
       "<style scoped>\n",
       "    .dataframe tbody tr th:only-of-type {\n",
       "        vertical-align: middle;\n",
       "    }\n",
       "\n",
       "    .dataframe tbody tr th {\n",
       "        vertical-align: top;\n",
       "    }\n",
       "\n",
       "    .dataframe thead th {\n",
       "        text-align: right;\n",
       "    }\n",
       "</style>\n",
       "<table border=\"1\" class=\"dataframe\">\n",
       "  <thead>\n",
       "    <tr style=\"text-align: right;\">\n",
       "      <th></th>\n",
       "      <th>unit_id</th>\n",
       "      <th>id</th>\n",
       "      <th>text</th>\n",
       "      <th>tmp</th>\n",
       "    </tr>\n",
       "  </thead>\n",
       "  <tbody>\n",
       "    <tr>\n",
       "      <th>0</th>\n",
       "      <td>662822308</td>\n",
       "      <td>436528000000000000</td>\n",
       "      <td>Barclays CEO stresses the importance of regulatory and cultural reform in financial services at Brussels conference  http://t.co/Ge9Lp7hpyG</td>\n",
       "      <td>NaN</td>\n",
       "    </tr>\n",
       "    <tr>\n",
       "      <th>1</th>\n",
       "      <td>662822309</td>\n",
       "      <td>386013000000000000</td>\n",
       "      <td>Barclays announces result of Rights Issue http://t.co/LbIqqh3wwG</td>\n",
       "      <td>NaN</td>\n",
       "    </tr>\n",
       "    <tr>\n",
       "      <th>2</th>\n",
       "      <td>662822310</td>\n",
       "      <td>379580000000000000</td>\n",
       "      <td>Barclays publishes its prospectus for its �5.8bn Rights Issue: http://t.co/YZk24iE8G6</td>\n",
       "      <td>NaN</td>\n",
       "    </tr>\n",
       "    <tr>\n",
       "      <th>3</th>\n",
       "      <td>662822311</td>\n",
       "      <td>367530000000000000</td>\n",
       "      <td>Barclays Group Finance Director Chris Lucas is to step down at the end of the week due to ill health http://t.co/nkuHoAfnSD</td>\n",
       "      <td>NaN</td>\n",
       "    </tr>\n",
       "    <tr>\n",
       "      <th>4</th>\n",
       "      <td>662822312</td>\n",
       "      <td>360385000000000000</td>\n",
       "      <td>Barclays announces that Irene McDermott Brown has been appointed as Group Human Resources Director http://t.co/c3fNGY6NMT</td>\n",
       "      <td>NaN</td>\n",
       "    </tr>\n",
       "  </tbody>\n",
       "</table>\n",
       "</div>"
      ],
      "text/plain": [
       "     unit_id  ...  tmp\n",
       "0  662822308  ...  NaN\n",
       "1  662822309  ...  NaN\n",
       "2  662822310  ...  NaN\n",
       "3  662822311  ...  NaN\n",
       "4  662822312  ...  NaN\n",
       "\n",
       "[5 rows x 4 columns]"
      ]
     },
     "execution_count": 15,
     "metadata": {
      "tags": []
     },
     "output_type": "execute_result"
    }
   ],
   "source": [
    "df['tmp'] = np.nan\n",
    "df.head()"
   ]
  },
  {
   "cell_type": "code",
   "execution_count": 16,
   "metadata": {
    "colab": {
     "base_uri": "https://localhost:8080/",
     "height": 51
    },
    "colab_type": "code",
    "id": "I29Yx3be1xkE",
    "outputId": "f9f1b0db-0ab0-4472-f4e8-fa6307553a3f"
   },
   "outputs": [
    {
     "name": "stdout",
     "output_type": "stream",
     "text": [
      "CPU times: user 1.73 s, sys: 1.14 ms, total: 1.73 s\n",
      "Wall time: 1.71 s\n"
     ]
    }
   ],
   "source": [
    "%%time\n",
    "for i, row in df.iterrows():\n",
    "    df.loc[i, 'tmp'] = re.sub(r\"http\\S+\", \"\", data.at[i, 'text'])"
   ]
  },
  {
   "cell_type": "code",
   "execution_count": 17,
   "metadata": {
    "colab": {
     "base_uri": "https://localhost:8080/",
     "height": 204
    },
    "colab_type": "code",
    "id": "gzB-Jq8Y2rgf",
    "outputId": "a8f97290-2bfa-4a29-df88-8946c3ec500f"
   },
   "outputs": [
    {
     "data": {
      "text/html": [
       "<div>\n",
       "<style scoped>\n",
       "    .dataframe tbody tr th:only-of-type {\n",
       "        vertical-align: middle;\n",
       "    }\n",
       "\n",
       "    .dataframe tbody tr th {\n",
       "        vertical-align: top;\n",
       "    }\n",
       "\n",
       "    .dataframe thead th {\n",
       "        text-align: right;\n",
       "    }\n",
       "</style>\n",
       "<table border=\"1\" class=\"dataframe\">\n",
       "  <thead>\n",
       "    <tr style=\"text-align: right;\">\n",
       "      <th></th>\n",
       "      <th>unit_id</th>\n",
       "      <th>id</th>\n",
       "      <th>text</th>\n",
       "      <th>tmp</th>\n",
       "    </tr>\n",
       "  </thead>\n",
       "  <tbody>\n",
       "    <tr>\n",
       "      <th>0</th>\n",
       "      <td>662822308</td>\n",
       "      <td>436528000000000000</td>\n",
       "      <td>Barclays CEO stresses the importance of regulatory and cultural reform in financial services at Brussels conference  http://t.co/Ge9Lp7hpyG</td>\n",
       "      <td>NaN</td>\n",
       "    </tr>\n",
       "    <tr>\n",
       "      <th>1</th>\n",
       "      <td>662822309</td>\n",
       "      <td>386013000000000000</td>\n",
       "      <td>Barclays announces result of Rights Issue http://t.co/LbIqqh3wwG</td>\n",
       "      <td>NaN</td>\n",
       "    </tr>\n",
       "    <tr>\n",
       "      <th>2</th>\n",
       "      <td>662822310</td>\n",
       "      <td>379580000000000000</td>\n",
       "      <td>Barclays publishes its prospectus for its �5.8bn Rights Issue: http://t.co/YZk24iE8G6</td>\n",
       "      <td>NaN</td>\n",
       "    </tr>\n",
       "    <tr>\n",
       "      <th>3</th>\n",
       "      <td>662822311</td>\n",
       "      <td>367530000000000000</td>\n",
       "      <td>Barclays Group Finance Director Chris Lucas is to step down at the end of the week due to ill health http://t.co/nkuHoAfnSD</td>\n",
       "      <td>NaN</td>\n",
       "    </tr>\n",
       "    <tr>\n",
       "      <th>4</th>\n",
       "      <td>662822312</td>\n",
       "      <td>360385000000000000</td>\n",
       "      <td>Barclays announces that Irene McDermott Brown has been appointed as Group Human Resources Director http://t.co/c3fNGY6NMT</td>\n",
       "      <td>NaN</td>\n",
       "    </tr>\n",
       "  </tbody>\n",
       "</table>\n",
       "</div>"
      ],
      "text/plain": [
       "     unit_id  ...  tmp\n",
       "0  662822308  ...  NaN\n",
       "1  662822309  ...  NaN\n",
       "2  662822310  ...  NaN\n",
       "3  662822311  ...  NaN\n",
       "4  662822312  ...  NaN\n",
       "\n",
       "[5 rows x 4 columns]"
      ]
     },
     "execution_count": 17,
     "metadata": {
      "tags": []
     },
     "output_type": "execute_result"
    }
   ],
   "source": [
    "df['tmp'] = np.nan\n",
    "df.head()"
   ]
  },
  {
   "cell_type": "code",
   "execution_count": 18,
   "metadata": {
    "colab": {
     "base_uri": "https://localhost:8080/",
     "height": 51
    },
    "colab_type": "code",
    "id": "c4W5ay68Hcbq",
    "outputId": "e453a187-e6f3-4baa-f5b7-36d4a5db3507"
   },
   "outputs": [
    {
     "name": "stdout",
     "output_type": "stream",
     "text": [
      "CPU times: user 7.48 ms, sys: 0 ns, total: 7.48 ms\n",
      "Wall time: 7.33 ms\n"
     ]
    }
   ],
   "source": [
    "%%time\n",
    "df['tmp'] = df['text'].apply(lambda x: re.sub(r\"http\\S+\", \"\", x))"
   ]
  },
  {
   "cell_type": "code",
   "execution_count": 19,
   "metadata": {
    "colab": {
     "base_uri": "https://localhost:8080/",
     "height": 34
    },
    "colab_type": "code",
    "id": "XIyy6Njq4weC",
    "outputId": "20d5e476-26b4-43af-8e6c-c31704a02e6d"
   },
   "outputs": [
    {
     "data": {
      "text/plain": [
       "233.28785811732607"
      ]
     },
     "execution_count": 19,
     "metadata": {
      "tags": []
     },
     "output_type": "execute_result"
    }
   ],
   "source": [
    "1.71 * 1000 / 7.33"
   ]
  },
  {
   "cell_type": "markdown",
   "metadata": {
    "colab_type": "text",
    "id": "2GPEvpYhKWaX"
   },
   "source": [
    "# cleaning of the text."
   ]
  },
  {
   "cell_type": "code",
   "execution_count": 20,
   "metadata": {
    "colab": {
     "base_uri": "https://localhost:8080/",
     "height": 204
    },
    "colab_type": "code",
    "id": "PippNlR7iOFX",
    "outputId": "3ea7de76-d9db-4300-a85d-5cd099582ce8"
   },
   "outputs": [
    {
     "data": {
      "text/html": [
       "<div>\n",
       "<style scoped>\n",
       "    .dataframe tbody tr th:only-of-type {\n",
       "        vertical-align: middle;\n",
       "    }\n",
       "\n",
       "    .dataframe tbody tr th {\n",
       "        vertical-align: top;\n",
       "    }\n",
       "\n",
       "    .dataframe thead th {\n",
       "        text-align: right;\n",
       "    }\n",
       "</style>\n",
       "<table border=\"1\" class=\"dataframe\">\n",
       "  <thead>\n",
       "    <tr style=\"text-align: right;\">\n",
       "      <th></th>\n",
       "      <th>unit_id</th>\n",
       "      <th>id</th>\n",
       "      <th>text</th>\n",
       "    </tr>\n",
       "  </thead>\n",
       "  <tbody>\n",
       "    <tr>\n",
       "      <th>0</th>\n",
       "      <td>662822308</td>\n",
       "      <td>436528000000000000</td>\n",
       "      <td>Barclays CEO stresses the importance of regulatory and cultural reform in financial services at Brussels conference</td>\n",
       "    </tr>\n",
       "    <tr>\n",
       "      <th>1</th>\n",
       "      <td>662822309</td>\n",
       "      <td>386013000000000000</td>\n",
       "      <td>Barclays announces result of Rights Issue</td>\n",
       "    </tr>\n",
       "    <tr>\n",
       "      <th>2</th>\n",
       "      <td>662822310</td>\n",
       "      <td>379580000000000000</td>\n",
       "      <td>Barclays publishes its prospectus for its �5.8bn Rights Issue:</td>\n",
       "    </tr>\n",
       "    <tr>\n",
       "      <th>3</th>\n",
       "      <td>662822311</td>\n",
       "      <td>367530000000000000</td>\n",
       "      <td>Barclays Group Finance Director Chris Lucas is to step down at the end of the week due to ill health</td>\n",
       "    </tr>\n",
       "    <tr>\n",
       "      <th>4</th>\n",
       "      <td>662822312</td>\n",
       "      <td>360385000000000000</td>\n",
       "      <td>Barclays announces that Irene McDermott Brown has been appointed as Group Human Resources Director</td>\n",
       "    </tr>\n",
       "  </tbody>\n",
       "</table>\n",
       "</div>"
      ],
      "text/plain": [
       "     unit_id  ...                                                                                                                   text\n",
       "0  662822308  ...  Barclays CEO stresses the importance of regulatory and cultural reform in financial services at Brussels conference  \n",
       "1  662822309  ...                                                                             Barclays announces result of Rights Issue \n",
       "2  662822310  ...                                                        Barclays publishes its prospectus for its �5.8bn Rights Issue: \n",
       "3  662822311  ...                  Barclays Group Finance Director Chris Lucas is to step down at the end of the week due to ill health \n",
       "4  662822312  ...                    Barclays announces that Irene McDermott Brown has been appointed as Group Human Resources Director \n",
       "\n",
       "[5 rows x 3 columns]"
      ]
     },
     "execution_count": 20,
     "metadata": {
      "tags": []
     },
     "output_type": "execute_result"
    }
   ],
   "source": [
    "def replace_contractions(text):\n",
    "    \"\"\"Replace contractions in string of text\"\"\"\n",
    "    return contractions.fix(text)\n",
    "\n",
    "# Perform the above operation over all the rows of text column of the dataframe.\n",
    "for i, row in data.iterrows():\n",
    "    text = data.at[i, 'text']\n",
    "    clean_text = replace_contractions(text)\n",
    "    data.at[i,'text'] = clean_text\n",
    "data.head()"
   ]
  },
  {
   "cell_type": "code",
   "execution_count": 21,
   "metadata": {
    "colab": {
     "base_uri": "https://localhost:8080/",
     "height": 204
    },
    "colab_type": "code",
    "id": "sJ-XiOgNiuF8",
    "outputId": "90c36d19-94bb-4368-b8d4-8187f44cc35c"
   },
   "outputs": [
    {
     "data": {
      "text/html": [
       "<div>\n",
       "<style scoped>\n",
       "    .dataframe tbody tr th:only-of-type {\n",
       "        vertical-align: middle;\n",
       "    }\n",
       "\n",
       "    .dataframe tbody tr th {\n",
       "        vertical-align: top;\n",
       "    }\n",
       "\n",
       "    .dataframe thead th {\n",
       "        text-align: right;\n",
       "    }\n",
       "</style>\n",
       "<table border=\"1\" class=\"dataframe\">\n",
       "  <thead>\n",
       "    <tr style=\"text-align: right;\">\n",
       "      <th></th>\n",
       "      <th>unit_id</th>\n",
       "      <th>id</th>\n",
       "      <th>text</th>\n",
       "    </tr>\n",
       "  </thead>\n",
       "  <tbody>\n",
       "    <tr>\n",
       "      <th>0</th>\n",
       "      <td>662822308</td>\n",
       "      <td>436528000000000000</td>\n",
       "      <td>[Barclays, CEO, stresses, the, importance, of, regulatory, and, cultural, reform, in, financial, services, at, Brussels, conference]</td>\n",
       "    </tr>\n",
       "    <tr>\n",
       "      <th>1</th>\n",
       "      <td>662822309</td>\n",
       "      <td>386013000000000000</td>\n",
       "      <td>[Barclays, announces, result, of, Rights, Issue]</td>\n",
       "    </tr>\n",
       "    <tr>\n",
       "      <th>2</th>\n",
       "      <td>662822310</td>\n",
       "      <td>379580000000000000</td>\n",
       "      <td>[Barclays, publishes, its, prospectus, for, its, �5.8bn, Rights, Issue, :]</td>\n",
       "    </tr>\n",
       "    <tr>\n",
       "      <th>3</th>\n",
       "      <td>662822311</td>\n",
       "      <td>367530000000000000</td>\n",
       "      <td>[Barclays, Group, Finance, Director, Chris, Lucas, is, to, step, down, at, the, end, of, the, week, due, to, ill, health]</td>\n",
       "    </tr>\n",
       "    <tr>\n",
       "      <th>4</th>\n",
       "      <td>662822312</td>\n",
       "      <td>360385000000000000</td>\n",
       "      <td>[Barclays, announces, that, Irene, McDermott, Brown, has, been, appointed, as, Group, Human, Resources, Director]</td>\n",
       "    </tr>\n",
       "  </tbody>\n",
       "</table>\n",
       "</div>"
      ],
      "text/plain": [
       "     unit_id  ...                                                                                                                                  text\n",
       "0  662822308  ...  [Barclays, CEO, stresses, the, importance, of, regulatory, and, cultural, reform, in, financial, services, at, Brussels, conference]\n",
       "1  662822309  ...                                                                                      [Barclays, announces, result, of, Rights, Issue]\n",
       "2  662822310  ...                                                            [Barclays, publishes, its, prospectus, for, its, �5.8bn, Rights, Issue, :]\n",
       "3  662822311  ...             [Barclays, Group, Finance, Director, Chris, Lucas, is, to, step, down, at, the, end, of, the, week, due, to, ill, health]\n",
       "4  662822312  ...                     [Barclays, announces, that, Irene, McDermott, Brown, has, been, appointed, as, Group, Human, Resources, Director]\n",
       "\n",
       "[5 rows x 3 columns]"
      ]
     },
     "execution_count": 21,
     "metadata": {
      "tags": []
     },
     "output_type": "execute_result"
    }
   ],
   "source": [
    "# Tokenize the words of whole dataframe.\n",
    "for i, row in data.iterrows():\n",
    "    text = data.at[i, 'text']\n",
    "    words = nltk.word_tokenize(text)\n",
    "    data.at[i,'text'] = words\n",
    "data.head()"
   ]
  },
  {
   "cell_type": "code",
   "execution_count": 22,
   "metadata": {
    "colab": {
     "base_uri": "https://localhost:8080/",
     "height": 1000
    },
    "colab_type": "code",
    "id": "hWXXgYX3o2UV",
    "outputId": "c45d67ae-5129-46ab-d72c-bd566c90de7b"
   },
   "outputs": [
    {
     "data": {
      "text/plain": [
       "['i',\n",
       " 'me',\n",
       " 'my',\n",
       " 'myself',\n",
       " 'we',\n",
       " 'our',\n",
       " 'ours',\n",
       " 'ourselves',\n",
       " 'you',\n",
       " \"you're\",\n",
       " \"you've\",\n",
       " \"you'll\",\n",
       " \"you'd\",\n",
       " 'your',\n",
       " 'yours',\n",
       " 'yourself',\n",
       " 'yourselves',\n",
       " 'he',\n",
       " 'him',\n",
       " 'his',\n",
       " 'himself',\n",
       " 'she',\n",
       " \"she's\",\n",
       " 'her',\n",
       " 'hers',\n",
       " 'herself',\n",
       " 'it',\n",
       " \"it's\",\n",
       " 'its',\n",
       " 'itself',\n",
       " 'they',\n",
       " 'them',\n",
       " 'their',\n",
       " 'theirs',\n",
       " 'themselves',\n",
       " 'what',\n",
       " 'which',\n",
       " 'who',\n",
       " 'whom',\n",
       " 'this',\n",
       " 'that',\n",
       " \"that'll\",\n",
       " 'these',\n",
       " 'those',\n",
       " 'am',\n",
       " 'is',\n",
       " 'are',\n",
       " 'was',\n",
       " 'were',\n",
       " 'be',\n",
       " 'been',\n",
       " 'being',\n",
       " 'have',\n",
       " 'has',\n",
       " 'had',\n",
       " 'having',\n",
       " 'do',\n",
       " 'does',\n",
       " 'did',\n",
       " 'doing',\n",
       " 'a',\n",
       " 'an',\n",
       " 'the',\n",
       " 'and',\n",
       " 'but',\n",
       " 'if',\n",
       " 'or',\n",
       " 'because',\n",
       " 'as',\n",
       " 'until',\n",
       " 'while',\n",
       " 'of',\n",
       " 'at',\n",
       " 'by',\n",
       " 'for',\n",
       " 'with',\n",
       " 'about',\n",
       " 'against',\n",
       " 'between',\n",
       " 'into',\n",
       " 'through',\n",
       " 'during',\n",
       " 'before',\n",
       " 'after',\n",
       " 'above',\n",
       " 'below',\n",
       " 'to',\n",
       " 'from',\n",
       " 'up',\n",
       " 'down',\n",
       " 'in',\n",
       " 'out',\n",
       " 'on',\n",
       " 'off',\n",
       " 'over',\n",
       " 'under',\n",
       " 'again',\n",
       " 'further',\n",
       " 'then',\n",
       " 'once',\n",
       " 'here',\n",
       " 'there',\n",
       " 'when',\n",
       " 'where',\n",
       " 'why',\n",
       " 'how',\n",
       " 'all',\n",
       " 'any',\n",
       " 'both',\n",
       " 'each',\n",
       " 'few',\n",
       " 'more',\n",
       " 'most',\n",
       " 'other',\n",
       " 'some',\n",
       " 'such',\n",
       " 'no',\n",
       " 'nor',\n",
       " 'not',\n",
       " 'only',\n",
       " 'own',\n",
       " 'same',\n",
       " 'so',\n",
       " 'than',\n",
       " 'too',\n",
       " 'very',\n",
       " 's',\n",
       " 't',\n",
       " 'can',\n",
       " 'will',\n",
       " 'just',\n",
       " 'don',\n",
       " \"don't\",\n",
       " 'should',\n",
       " \"should've\",\n",
       " 'now',\n",
       " 'd',\n",
       " 'll',\n",
       " 'm',\n",
       " 'o',\n",
       " 're',\n",
       " 've',\n",
       " 'y',\n",
       " 'ain',\n",
       " 'aren',\n",
       " \"aren't\",\n",
       " 'couldn',\n",
       " \"couldn't\",\n",
       " 'didn',\n",
       " \"didn't\",\n",
       " 'doesn',\n",
       " \"doesn't\",\n",
       " 'hadn',\n",
       " \"hadn't\",\n",
       " 'hasn',\n",
       " \"hasn't\",\n",
       " 'haven',\n",
       " \"haven't\",\n",
       " 'isn',\n",
       " \"isn't\",\n",
       " 'ma',\n",
       " 'mightn',\n",
       " \"mightn't\",\n",
       " 'mustn',\n",
       " \"mustn't\",\n",
       " 'needn',\n",
       " \"needn't\",\n",
       " 'shan',\n",
       " \"shan't\",\n",
       " 'shouldn',\n",
       " \"shouldn't\",\n",
       " 'wasn',\n",
       " \"wasn't\",\n",
       " 'weren',\n",
       " \"weren't\",\n",
       " 'won',\n",
       " \"won't\",\n",
       " 'wouldn',\n",
       " \"wouldn't\"]"
      ]
     },
     "execution_count": 22,
     "metadata": {
      "tags": []
     },
     "output_type": "execute_result"
    }
   ],
   "source": [
    "# save the stopwords in a list named stopwords.\n",
    "stopwords = stopwords.words('english')\n",
    "stopwords"
   ]
  },
  {
   "cell_type": "code",
   "execution_count": 23,
   "metadata": {
    "colab": {},
    "colab_type": "code",
    "id": "2jADm-rqi235"
   },
   "outputs": [],
   "source": [
    "def remove_non_ascii(words):\n",
    "    \"\"\"Remove non-ASCII characters from list of tokenized words\"\"\"\n",
    "    new_words = []                        # Create empty list to store pre-processed words.\n",
    "    for word in words:\n",
    "        new_word = unicodedata.normalize('NFKD', word).encode('ascii', 'ignore').decode('utf-8', 'ignore')\n",
    "        new_words.append(new_word)        # Append processed words to new list.\n",
    "    return new_words"
   ]
  },
  {
   "cell_type": "markdown",
   "metadata": {
    "colab_type": "text",
    "id": "a5uuDjl8enh8"
   },
   "source": [
    "## George's Tip\n",
    "Learn more about the functions\n",
    "- https://docs.python.org/2/library/unicodedata.html\n",
    "- https://kite.com/python/docs/unicodedata.normalize\n",
    "- https://docs.python.org/3/howto/unicode.html"
   ]
  },
  {
   "cell_type": "code",
   "execution_count": 24,
   "metadata": {
    "colab": {},
    "colab_type": "code",
    "id": "CK2HqOZAwxDD"
   },
   "outputs": [],
   "source": [
    "def to_lowercase(words):\n",
    "    \"\"\"Convert all characters to lowercase from list of tokenized words\"\"\"\n",
    "    new_words = []                        # Create empty list to store pre-processed words.\n",
    "    for word in words:\n",
    "        new_word = word.lower()           # Converting to lowercase\n",
    "        new_words.append(new_word)        # Append processed words to new list.\n",
    "    return new_words"
   ]
  },
  {
   "cell_type": "markdown",
   "metadata": {
    "colab_type": "text",
    "id": "jYbZ1Sm0Evan"
   },
   "source": [
    "# Lowercasing\n",
    "\n",
    "- Lowercasing ALL your text data, although commonly overlooked, is one of the simplest and most effective form of text preprocessing. It is applicable to most text mining and NLP problems and can help in cases where your dataset is not very large and significantly helps with consistency of expected output.\n",
    "\n",
    "- An example where lowercasing is very useful is for search. Imagine, you are looking for documents containing “usa”. However, no results were showing up because “usa” was indexed as “USA”.\n",
    "\n",
    "- An example where lowercasing may result in inaccuracy is in predicting the programming language of a source code file. The word System in Java is quite different from system in python. Lowercasing the two makes them identical, causing the classifier to lose important predictive features. While lowercasing is generally helpful, it may not be applicable for all tasks."
   ]
  },
  {
   "cell_type": "code",
   "execution_count": 26,
   "metadata": {
    "colab": {},
    "colab_type": "code",
    "id": "4o0ZS7wkwzco"
   },
   "outputs": [],
   "source": [
    "def remove_punctuation(words):\n",
    "    \"\"\"Remove punctuation from list of tokenized words\"\"\"\n",
    "    new_words = []                        # Create empty list to store pre-processed words.\n",
    "    for word in words:\n",
    "        new_word = re.sub(r'[^\\w\\s]', '', word)\n",
    "        if new_word != '':\n",
    "            new_words.append(new_word)    # Append processed words to new list.\n",
    "    return new_words"
   ]
  },
  {
   "cell_type": "markdown",
   "metadata": {
    "colab_type": "text",
    "id": "dKdJfrvx7Jhr"
   },
   "source": [
    "## George's Tip\n",
    "Not sure what a regex pattern mean? Use a regex tester, e.g. https://regex101.com/"
   ]
  },
  {
   "cell_type": "markdown",
   "metadata": {
    "colab_type": "text",
    "id": "zWTMQyJjGGqx"
   },
   "source": [
    "# Stopword Removal:\n",
    "- Stop words are a set of commonly used words in a language.\n",
    "- Examples of stop words in English are “a”, “the”, “is”, “are” and etc. The intuition behind using stop words is that, by removing low information words from text, we can focus on the important words instead."
   ]
  },
  {
   "cell_type": "code",
   "execution_count": 27,
   "metadata": {
    "colab": {},
    "colab_type": "code",
    "id": "Dye7U-Jkw03S"
   },
   "outputs": [],
   "source": [
    "def remove_stopwords(words):\n",
    "    \"\"\"Remove stop words from list of tokenized words\"\"\"\n",
    "    new_words = []                        # Create empty list to store pre-processed words.\n",
    "    for word in words:\n",
    "        if word not in stopwords:\n",
    "            new_words.append(word)        # Append processed words to new list.\n",
    "    return new_words"
   ]
  },
  {
   "cell_type": "markdown",
   "metadata": {
    "colab_type": "text",
    "id": "eVhXK6e-Fi09"
   },
   "source": [
    "# Stemming:\n",
    "\n",
    "- Stemming is the process of reducing inflection in words (e.g. running, runs) to their root form (e.g. run). The “root” in this case may not be a real root word, but just a canonical form of the original word."
   ]
  },
  {
   "cell_type": "code",
   "execution_count": 28,
   "metadata": {
    "colab": {},
    "colab_type": "code",
    "id": "Jo2eo1l-w2FL"
   },
   "outputs": [],
   "source": [
    "def stem_words(words):\n",
    "    \"\"\"Stem words in list of tokenized words\"\"\"\n",
    "    stemmer = LancasterStemmer()\n",
    "    stems = []                            # Create empty list to store pre-processed words.\n",
    "    for word in words:\n",
    "        stem = stemmer.stem(word)\n",
    "        stems.append(stem)                # Append processed words to new list.\n",
    "    return stems"
   ]
  },
  {
   "cell_type": "markdown",
   "metadata": {
    "colab_type": "text",
    "id": "IeOWBIH2F5ux"
   },
   "source": [
    "# Lemmatization:\n",
    "\n",
    "- Lemmatization on the surface is very similar to stemming, where the goal is to remove inflections and map a word to its root form.\n",
    "- The only difference is that, lemmatization tries to do it the proper way.\n",
    "- It doesn’t just chop things off, it actually transforms words to the actual root. For example, the word “better” would map to “good”."
   ]
  },
  {
   "cell_type": "code",
   "execution_count": 29,
   "metadata": {
    "colab": {},
    "colab_type": "code",
    "id": "pvRgUqZEw3Wm"
   },
   "outputs": [],
   "source": [
    "def lemmatize_verbs(words):\n",
    "    \"\"\"Lemmatize verbs in list of tokenized words\"\"\"\n",
    "    lemmatizer = WordNetLemmatizer()\n",
    "    lemmas = []                           # Create empty list to store pre-processed words.\n",
    "    for word in words:\n",
    "        lemma = lemmatizer.lemmatize(word, pos='v')\n",
    "        lemmas.append(lemma)              # Append processed words to new list.\n",
    "    return lemmas"
   ]
  },
  {
   "cell_type": "markdown",
   "metadata": {
    "colab_type": "text",
    "id": "mL42FuFXG147"
   },
   "source": [
    "### Now it's time to execute the above functions:\n",
    "\n",
    "### So we define a new function normalize, which processes all the steps together."
   ]
  },
  {
   "cell_type": "code",
   "execution_count": 30,
   "metadata": {
    "colab": {},
    "colab_type": "code",
    "id": "zDryKOgRw5M3"
   },
   "outputs": [],
   "source": [
    "def normalize(words):\n",
    "    words = remove_non_ascii(words)\n",
    "    words = to_lowercase(words)\n",
    "    words = remove_punctuation(words)\n",
    "    words = remove_stopwords(words)\n",
    "    return words"
   ]
  },
  {
   "cell_type": "code",
   "execution_count": 31,
   "metadata": {
    "colab": {
     "base_uri": "https://localhost:8080/",
     "height": 204
    },
    "colab_type": "code",
    "id": "xjKQDlj6w-Dp",
    "outputId": "bbd113ad-25c8-4f03-cc15-5c03d957ab6c"
   },
   "outputs": [
    {
     "data": {
      "text/html": [
       "<div>\n",
       "<style scoped>\n",
       "    .dataframe tbody tr th:only-of-type {\n",
       "        vertical-align: middle;\n",
       "    }\n",
       "\n",
       "    .dataframe tbody tr th {\n",
       "        vertical-align: top;\n",
       "    }\n",
       "\n",
       "    .dataframe thead th {\n",
       "        text-align: right;\n",
       "    }\n",
       "</style>\n",
       "<table border=\"1\" class=\"dataframe\">\n",
       "  <thead>\n",
       "    <tr style=\"text-align: right;\">\n",
       "      <th></th>\n",
       "      <th>unit_id</th>\n",
       "      <th>id</th>\n",
       "      <th>text</th>\n",
       "    </tr>\n",
       "  </thead>\n",
       "  <tbody>\n",
       "    <tr>\n",
       "      <th>0</th>\n",
       "      <td>662822308</td>\n",
       "      <td>436528000000000000</td>\n",
       "      <td>[barclays, ceo, stresses, importance, regulatory, cultural, reform, financial, services, brussels, conference]</td>\n",
       "    </tr>\n",
       "    <tr>\n",
       "      <th>1</th>\n",
       "      <td>662822309</td>\n",
       "      <td>386013000000000000</td>\n",
       "      <td>[barclays, announces, result, rights, issue]</td>\n",
       "    </tr>\n",
       "    <tr>\n",
       "      <th>2</th>\n",
       "      <td>662822310</td>\n",
       "      <td>379580000000000000</td>\n",
       "      <td>[barclays, publishes, prospectus, 58bn, rights, issue]</td>\n",
       "    </tr>\n",
       "    <tr>\n",
       "      <th>3</th>\n",
       "      <td>662822311</td>\n",
       "      <td>367530000000000000</td>\n",
       "      <td>[barclays, group, finance, director, chris, lucas, step, end, week, due, ill, health]</td>\n",
       "    </tr>\n",
       "    <tr>\n",
       "      <th>4</th>\n",
       "      <td>662822312</td>\n",
       "      <td>360385000000000000</td>\n",
       "      <td>[barclays, announces, irene, mcdermott, brown, appointed, group, human, resources, director]</td>\n",
       "    </tr>\n",
       "  </tbody>\n",
       "</table>\n",
       "</div>"
      ],
      "text/plain": [
       "     unit_id  ...                                                                                                            text\n",
       "0  662822308  ...  [barclays, ceo, stresses, importance, regulatory, cultural, reform, financial, services, brussels, conference]\n",
       "1  662822309  ...                                                                    [barclays, announces, result, rights, issue]\n",
       "2  662822310  ...                                                          [barclays, publishes, prospectus, 58bn, rights, issue]\n",
       "3  662822311  ...                           [barclays, group, finance, director, chris, lucas, step, end, week, due, ill, health]\n",
       "4  662822312  ...                    [barclays, announces, irene, mcdermott, brown, appointed, group, human, resources, director]\n",
       "\n",
       "[5 rows x 3 columns]"
      ]
     },
     "execution_count": 31,
     "metadata": {
      "tags": []
     },
     "output_type": "execute_result"
    }
   ],
   "source": [
    "# Iterate the normalize funtion over whole data.\n",
    "for i, row in data.iterrows():\n",
    "    words = data.at[i, 'text']\n",
    "    words = normalize(words)\n",
    "    data.at[i,'text'] = words\n",
    "data.head()"
   ]
  },
  {
   "cell_type": "code",
   "execution_count": 32,
   "metadata": {
    "colab": {},
    "colab_type": "code",
    "id": "yD4XT2j8jN1Z"
   },
   "outputs": [],
   "source": [
    "def stem_and_lemmatize(words):\n",
    "    stems = stem_words(words)\n",
    "    lemmas = lemmatize_verbs(words)\n",
    "    return stems, lemmas"
   ]
  },
  {
   "cell_type": "code",
   "execution_count": 34,
   "metadata": {
    "colab": {
     "base_uri": "https://localhost:8080/",
     "height": 255
    },
    "colab_type": "code",
    "id": "6M1IP54aw_eI",
    "outputId": "1ef1a1e1-64c5-4ceb-c0d1-7bf1ccd7260e"
   },
   "outputs": [
    {
     "data": {
      "text/html": [
       "<div>\n",
       "<style scoped>\n",
       "    .dataframe tbody tr th:only-of-type {\n",
       "        vertical-align: middle;\n",
       "    }\n",
       "\n",
       "    .dataframe tbody tr th {\n",
       "        vertical-align: top;\n",
       "    }\n",
       "\n",
       "    .dataframe thead th {\n",
       "        text-align: right;\n",
       "    }\n",
       "</style>\n",
       "<table border=\"1\" class=\"dataframe\">\n",
       "  <thead>\n",
       "    <tr style=\"text-align: right;\">\n",
       "      <th></th>\n",
       "      <th>unit_id</th>\n",
       "      <th>id</th>\n",
       "      <th>text</th>\n",
       "      <th>lemma</th>\n",
       "      <th>stem</th>\n",
       "    </tr>\n",
       "  </thead>\n",
       "  <tbody>\n",
       "    <tr>\n",
       "      <th>0</th>\n",
       "      <td>662822308</td>\n",
       "      <td>436528000000000000</td>\n",
       "      <td>[barclays, ceo, stresses, importance, regulatory, cultural, reform, financial, services, brussels, conference]</td>\n",
       "      <td>[barclays, ceo, stress, importance, regulatory, cultural, reform, financial, service, brussels, conference]</td>\n",
       "      <td>[barclay, ceo, stresses, import, reg, cult, reform, fin, serv, brussel, conf]</td>\n",
       "    </tr>\n",
       "    <tr>\n",
       "      <th>1</th>\n",
       "      <td>662822309</td>\n",
       "      <td>386013000000000000</td>\n",
       "      <td>[barclays, announces, result, rights, issue]</td>\n",
       "      <td>[barclays, announce, result, right, issue]</td>\n",
       "      <td>[barclay, annount, result, right, issu]</td>\n",
       "    </tr>\n",
       "    <tr>\n",
       "      <th>2</th>\n",
       "      <td>662822310</td>\n",
       "      <td>379580000000000000</td>\n",
       "      <td>[barclays, publishes, prospectus, 58bn, rights, issue]</td>\n",
       "      <td>[barclays, publish, prospectus, 58bn, right, issue]</td>\n",
       "      <td>[barclay, publ, prospect, 58bn, right, issu]</td>\n",
       "    </tr>\n",
       "    <tr>\n",
       "      <th>3</th>\n",
       "      <td>662822311</td>\n",
       "      <td>367530000000000000</td>\n",
       "      <td>[barclays, group, finance, director, chris, lucas, step, end, week, due, ill, health]</td>\n",
       "      <td>[barclays, group, finance, director, chris, lucas, step, end, week, due, ill, health]</td>\n",
       "      <td>[barclay, group, fin, direct, chris, luca, step, end, week, due, il, heal]</td>\n",
       "    </tr>\n",
       "    <tr>\n",
       "      <th>4</th>\n",
       "      <td>662822312</td>\n",
       "      <td>360385000000000000</td>\n",
       "      <td>[barclays, announces, irene, mcdermott, brown, appointed, group, human, resources, director]</td>\n",
       "      <td>[barclays, announce, irene, mcdermott, brown, appoint, group, human, resources, director]</td>\n",
       "      <td>[barclay, annount, ir, mcdermott, brown, appoint, group, hum, resourc, direct]</td>\n",
       "    </tr>\n",
       "  </tbody>\n",
       "</table>\n",
       "</div>"
      ],
      "text/plain": [
       "     unit_id  ...                                                                            stem\n",
       "0  662822308  ...   [barclay, ceo, stresses, import, reg, cult, reform, fin, serv, brussel, conf]\n",
       "1  662822309  ...                                         [barclay, annount, result, right, issu]\n",
       "2  662822310  ...                                    [barclay, publ, prospect, 58bn, right, issu]\n",
       "3  662822311  ...      [barclay, group, fin, direct, chris, luca, step, end, week, due, il, heal]\n",
       "4  662822312  ...  [barclay, annount, ir, mcdermott, brown, appoint, group, hum, resourc, direct]\n",
       "\n",
       "[5 rows x 5 columns]"
      ]
     },
     "execution_count": 34,
     "metadata": {
      "tags": []
     },
     "output_type": "execute_result"
    }
   ],
   "source": [
    "data['lemma'] = ''\n",
    "data['stem'] = ''\n",
    "\n",
    "for i, row in data.iterrows():\n",
    "    words = data.at[i, 'text']\n",
    "    stems, lemmas = stem_and_lemmatize(words)\n",
    "    data.at[i,'stem'] = stems\n",
    "    data.at[i, 'lemma'] = lemmas\n",
    "data.head()"
   ]
  },
  {
   "cell_type": "markdown",
   "metadata": {
    "colab_type": "text",
    "id": "_K3c1X4Hiwlq"
   },
   "source": [
    "## George's Challenge\n",
    "Walk thru the code please :)"
   ]
  },
  {
   "cell_type": "markdown",
   "metadata": {
    "colab_type": "text",
    "id": "BHAntwcyHCrp"
   },
   "source": [
    "- As we can see here that, the text column contains tokenized words, lemma contains lemmatized words, and stem column contains the stemmed words.\n",
    "- So, we can use these techniques according to our need of the project as suitable."
   ]
  },
  {
   "cell_type": "markdown",
   "metadata": {
    "colab_type": "text",
    "id": "rH1xHs2OHfNX"
   },
   "source": [
    "# So, the tasks are:\n",
    "\n",
    "- ### Noise removal (Special character, html tags, accented characters, punctuation removal)\n",
    "- ### Lowercasing (can be task dependent in some cases)\n",
    "- ### Stop-word removal\n",
    "- ### Stemming / lemmatization"
   ]
  },
  {
   "cell_type": "markdown",
   "metadata": {
    "colab_type": "text",
    "id": "wIODBSjRIkJz"
   },
   "source": [
    "- ### Now that the text cleaning is done, our text data is ready to be converted into the format, which the machine can understand (i.e. numbers).\n",
    "- ### We will see it in the next lectures in Vectorization and after that we can perform the following tasks on that:\n",
    "  - ### Sentiment Analysis\n",
    "  - ### Text Classification\n",
    "### etc. etc."
   ]
  },
  {
   "cell_type": "markdown",
   "metadata": {
    "colab_type": "text",
    "id": "LOrUe3gGHsf-"
   },
   "source": [
    "## George's Bonus $$$\n",
    "__Word Embedding__\n",
    "- http://jalammar.github.io/illustrated-word2vec/\n",
    "- https://blog.acolyer.org/2016/04/21/the-amazing-power-of-word-vectors/\n",
    "- https://machinelearningmastery.com/what-are-word-embeddings/"
   ]
  },
  {
   "cell_type": "code",
   "execution_count": 35,
   "metadata": {
    "colab": {
     "base_uri": "https://localhost:8080/",
     "height": 561
    },
    "colab_type": "code",
    "id": "2r_Akg4CMMoW",
    "outputId": "367e2f19-1889-4d46-b57d-1732b7b0fe41"
   },
   "outputs": [
    {
     "name": "stdout",
     "output_type": "stream",
     "text": [
      "Collecting en_core_web_lg==2.2.5\n",
      "\u001b[?25l  Downloading https://github.com/explosion/spacy-models/releases/download/en_core_web_lg-2.2.5/en_core_web_lg-2.2.5.tar.gz (827.9MB)\n",
      "\u001b[K     |████████████████████████████████| 827.9MB 1.4MB/s \n",
      "\u001b[?25hRequirement already satisfied: spacy>=2.2.2 in /usr/local/lib/python3.6/dist-packages (from en_core_web_lg==2.2.5) (2.2.4)\n",
      "Requirement already satisfied: srsly<1.1.0,>=1.0.2 in /usr/local/lib/python3.6/dist-packages (from spacy>=2.2.2->en_core_web_lg==2.2.5) (1.0.2)\n",
      "Requirement already satisfied: numpy>=1.15.0 in /usr/local/lib/python3.6/dist-packages (from spacy>=2.2.2->en_core_web_lg==2.2.5) (1.18.5)\n",
      "Requirement already satisfied: preshed<3.1.0,>=3.0.2 in /usr/local/lib/python3.6/dist-packages (from spacy>=2.2.2->en_core_web_lg==2.2.5) (3.0.2)\n",
      "Requirement already satisfied: thinc==7.4.0 in /usr/local/lib/python3.6/dist-packages (from spacy>=2.2.2->en_core_web_lg==2.2.5) (7.4.0)\n",
      "Requirement already satisfied: requests<3.0.0,>=2.13.0 in /usr/local/lib/python3.6/dist-packages (from spacy>=2.2.2->en_core_web_lg==2.2.5) (2.23.0)\n",
      "Requirement already satisfied: murmurhash<1.1.0,>=0.28.0 in /usr/local/lib/python3.6/dist-packages (from spacy>=2.2.2->en_core_web_lg==2.2.5) (1.0.2)\n",
      "Requirement already satisfied: catalogue<1.1.0,>=0.0.7 in /usr/local/lib/python3.6/dist-packages (from spacy>=2.2.2->en_core_web_lg==2.2.5) (1.0.0)\n",
      "Requirement already satisfied: cymem<2.1.0,>=2.0.2 in /usr/local/lib/python3.6/dist-packages (from spacy>=2.2.2->en_core_web_lg==2.2.5) (2.0.3)\n",
      "Requirement already satisfied: tqdm<5.0.0,>=4.38.0 in /usr/local/lib/python3.6/dist-packages (from spacy>=2.2.2->en_core_web_lg==2.2.5) (4.41.1)\n",
      "Requirement already satisfied: setuptools in /usr/local/lib/python3.6/dist-packages (from spacy>=2.2.2->en_core_web_lg==2.2.5) (47.3.1)\n",
      "Requirement already satisfied: wasabi<1.1.0,>=0.4.0 in /usr/local/lib/python3.6/dist-packages (from spacy>=2.2.2->en_core_web_lg==2.2.5) (0.7.0)\n",
      "Requirement already satisfied: plac<1.2.0,>=0.9.6 in /usr/local/lib/python3.6/dist-packages (from spacy>=2.2.2->en_core_web_lg==2.2.5) (1.1.3)\n",
      "Requirement already satisfied: blis<0.5.0,>=0.4.0 in /usr/local/lib/python3.6/dist-packages (from spacy>=2.2.2->en_core_web_lg==2.2.5) (0.4.1)\n",
      "Requirement already satisfied: chardet<4,>=3.0.2 in /usr/local/lib/python3.6/dist-packages (from requests<3.0.0,>=2.13.0->spacy>=2.2.2->en_core_web_lg==2.2.5) (3.0.4)\n",
      "Requirement already satisfied: idna<3,>=2.5 in /usr/local/lib/python3.6/dist-packages (from requests<3.0.0,>=2.13.0->spacy>=2.2.2->en_core_web_lg==2.2.5) (2.9)\n",
      "Requirement already satisfied: certifi>=2017.4.17 in /usr/local/lib/python3.6/dist-packages (from requests<3.0.0,>=2.13.0->spacy>=2.2.2->en_core_web_lg==2.2.5) (2020.6.20)\n",
      "Requirement already satisfied: urllib3!=1.25.0,!=1.25.1,<1.26,>=1.21.1 in /usr/local/lib/python3.6/dist-packages (from requests<3.0.0,>=2.13.0->spacy>=2.2.2->en_core_web_lg==2.2.5) (1.24.3)\n",
      "Requirement already satisfied: importlib-metadata>=0.20; python_version < \"3.8\" in /usr/local/lib/python3.6/dist-packages (from catalogue<1.1.0,>=0.0.7->spacy>=2.2.2->en_core_web_lg==2.2.5) (1.6.1)\n",
      "Requirement already satisfied: zipp>=0.5 in /usr/local/lib/python3.6/dist-packages (from importlib-metadata>=0.20; python_version < \"3.8\"->catalogue<1.1.0,>=0.0.7->spacy>=2.2.2->en_core_web_lg==2.2.5) (3.1.0)\n",
      "Building wheels for collected packages: en-core-web-lg\n",
      "  Building wheel for en-core-web-lg (setup.py) ... \u001b[?25l\u001b[?25hdone\n",
      "  Created wheel for en-core-web-lg: filename=en_core_web_lg-2.2.5-cp36-none-any.whl size=829180944 sha256=46e5a0c5f3c9eee8831da287bbd645e3eb8d49edc63cec586de4a022d95622c7\n",
      "  Stored in directory: /tmp/pip-ephem-wheel-cache-jah98r_6/wheels/2a/c1/a6/fc7a877b1efca9bc6a089d6f506f16d3868408f9ff89f8dbfc\n",
      "Successfully built en-core-web-lg\n",
      "Installing collected packages: en-core-web-lg\n",
      "Successfully installed en-core-web-lg-2.2.5\n",
      "\u001b[38;5;2m✔ Download and installation successful\u001b[0m\n",
      "You can now load the model via spacy.load('en_core_web_lg')\n"
     ]
    }
   ],
   "source": [
    "#!python -m spacy download en_core_web_md\n",
    "!python -m spacy download en_core_web_lg"
   ]
  },
  {
   "cell_type": "code",
   "execution_count": 37,
   "metadata": {
    "colab": {},
    "colab_type": "code",
    "id": "-S8D5HIlCUhA"
   },
   "outputs": [],
   "source": [
    "import spacy\n",
    "import en_core_web_lg\n",
    "nlp = en_core_web_lg.load()"
   ]
  },
  {
   "cell_type": "code",
   "execution_count": 38,
   "metadata": {
    "colab": {},
    "colab_type": "code",
    "id": "7GtGbjgLFWsn"
   },
   "outputs": [],
   "source": [
    "tokens = nlp(\"dog cat banana apple human man woman afskfsd\")"
   ]
  },
  {
   "cell_type": "code",
   "execution_count": 39,
   "metadata": {
    "colab": {
     "base_uri": "https://localhost:8080/",
     "height": 34
    },
    "colab_type": "code",
    "id": "hrrck4waF9eu",
    "outputId": "ba4f72ec-5699-409d-caa7-801028e100e3"
   },
   "outputs": [
    {
     "data": {
      "text/plain": [
       "dog cat banana apple human man woman afskfsd"
      ]
     },
     "execution_count": 39,
     "metadata": {
      "tags": []
     },
     "output_type": "execute_result"
    }
   ],
   "source": [
    "tokens"
   ]
  },
  {
   "cell_type": "code",
   "execution_count": 40,
   "metadata": {
    "colab": {
     "base_uri": "https://localhost:8080/",
     "height": 34
    },
    "colab_type": "code",
    "id": "FSLEowQbKJgl",
    "outputId": "20d73462-c06a-43d1-91e1-cd7e6e8ab847"
   },
   "outputs": [
    {
     "data": {
      "text/plain": [
       "0.80168545"
      ]
     },
     "execution_count": 40,
     "metadata": {
      "tags": []
     },
     "output_type": "execute_result"
    }
   ],
   "source": [
    "tokens[0].similarity(tokens[1])\n",
    "# dog and cat"
   ]
  },
  {
   "cell_type": "code",
   "execution_count": 41,
   "metadata": {
    "colab": {
     "base_uri": "https://localhost:8080/",
     "height": 34
    },
    "colab_type": "code",
    "id": "xR9ywAt-KtMC",
    "outputId": "1d43f188-ee20-49a1-c06e-7067c598ebd7"
   },
   "outputs": [
    {
     "data": {
      "text/plain": [
       "1.0"
      ]
     },
     "execution_count": 41,
     "metadata": {
      "tags": []
     },
     "output_type": "execute_result"
    }
   ],
   "source": [
    "tokens[0].similarity(tokens[0])\n",
    "# dog and dog"
   ]
  },
  {
   "cell_type": "code",
   "execution_count": 42,
   "metadata": {
    "colab": {
     "base_uri": "https://localhost:8080/",
     "height": 34
    },
    "colab_type": "code",
    "id": "1x0QT6ScZ8RE",
    "outputId": "752e019d-43dc-4a0c-a25c-7158d01cd132"
   },
   "outputs": [
    {
     "data": {
      "text/plain": [
       "0.24327643"
      ]
     },
     "execution_count": 42,
     "metadata": {
      "tags": []
     },
     "output_type": "execute_result"
    }
   ],
   "source": [
    "tokens[0].similarity(tokens[2])\n",
    "# dog and banana"
   ]
  },
  {
   "cell_type": "code",
   "execution_count": 43,
   "metadata": {
    "colab": {
     "base_uri": "https://localhost:8080/",
     "height": 34
    },
    "colab_type": "code",
    "id": "sGpD2csHaIwO",
    "outputId": "cfcb33f6-b466-43c7-87ca-f75cc4545435"
   },
   "outputs": [
    {
     "data": {
      "text/plain": [
       "0.35814866"
      ]
     },
     "execution_count": 43,
     "metadata": {
      "tags": []
     },
     "output_type": "execute_result"
    }
   ],
   "source": [
    "tokens[0].similarity(tokens[4])\n",
    "# dog and human"
   ]
  },
  {
   "cell_type": "code",
   "execution_count": 44,
   "metadata": {
    "colab": {},
    "colab_type": "code",
    "id": "EzSbPPNmaNNy"
   },
   "outputs": [],
   "source": [
    "tokens = nlp('queen king man woman boy girl company school animal')"
   ]
  },
  {
   "cell_type": "code",
   "execution_count": 45,
   "metadata": {
    "colab": {},
    "colab_type": "code",
    "id": "zsldvbTcS449"
   },
   "outputs": [],
   "source": [
    "queen, king, man, woman, boy, girl, company, school, animal = tokens[0].vector, tokens[1].vector, tokens[2].vector, tokens[3].vector, tokens[4].vector, tokens[5].vector, tokens[6].vector, tokens[7].vector, tokens[8].vector"
   ]
  },
  {
   "cell_type": "code",
   "execution_count": 46,
   "metadata": {
    "colab": {
     "base_uri": "https://localhost:8080/",
     "height": 1000
    },
    "colab_type": "code",
    "id": "rwVTt8JxUcsI",
    "outputId": "7e5ee5d3-9d97-498f-8c1c-42e73e18e7b8"
   },
   "outputs": [
    {
     "data": {
      "text/plain": [
       "array([ 0.4095   , -0.22693  ,  0.25362  , -0.36055  , -0.37095  ,\n",
       "       -0.35181  ,  0.50669  , -0.77897  , -0.32571  ,  1.4895   ,\n",
       "        0.052438 , -0.36751  , -0.074025 ,  0.37078  ,  0.063077 ,\n",
       "        0.32274  ,  0.346    ,  0.64214  , -0.09583  ,  0.14303  ,\n",
       "       -0.33826  ,  0.79005  , -0.7136   , -0.050134 , -0.46467  ,\n",
       "       -0.067917 , -0.32107  ,  0.042919 ,  0.018576 ,  0.59272  ,\n",
       "       -0.032392 ,  0.72779  ,  0.26002  ,  0.30401  ,  0.43033  ,\n",
       "        0.25546  , -0.37986  , -0.14398  , -0.54399  , -0.46181  ,\n",
       "        0.11046  , -0.034391 , -0.10458  , -0.069689 ,  0.091839 ,\n",
       "       -0.19097  , -0.057108 ,  0.61218  , -0.19544  , -0.31698  ,\n",
       "       -0.46372  ,  0.088749 , -0.052501 , -0.27969  ,  0.025125 ,\n",
       "       -0.42097  , -0.069404 , -0.038672 , -0.26489  ,  0.10911  ,\n",
       "       -0.084848 , -0.23826  ,  0.61538  ,  0.0039223,  0.20285  ,\n",
       "        0.56085  ,  0.015419 ,  0.30707  ,  0.19435  , -0.20358  ,\n",
       "       -0.18724  , -0.10311  , -0.46468  , -0.16804  ,  0.22614  ,\n",
       "        0.040657 , -0.5147   ,  0.46701  ,  0.61985  , -0.46281  ,\n",
       "       -0.8657   ,  0.26458  , -0.015476 ,  0.12292  ,  0.084031 ,\n",
       "       -0.07936  ,  0.58967  , -0.011092 , -0.3795   , -0.053612 ,\n",
       "        0.21134  ,  0.46996  ,  0.11207  , -0.16461  ,  0.43344  ,\n",
       "       -0.40563  , -0.056622 ,  0.37558  , -0.41568  ,  0.48919  ,\n",
       "       -0.21899  ,  0.070619 , -0.17975  , -0.31542  ,  0.030309 ,\n",
       "       -0.50396  , -0.3454   ,  0.046303 ,  0.65506  , -0.34406  ,\n",
       "        0.26439  ,  0.65116  ,  0.064871 , -0.21301  , -0.33609  ,\n",
       "       -0.13405  ,  0.021996 ,  0.13674  ,  0.39605  , -0.53568  ,\n",
       "       -0.4572   ,  0.015033 ,  0.34131  ,  0.081045 ,  0.13898  ,\n",
       "        0.077339 ,  0.12537  , -0.36673  , -0.45194  ,  0.18747  ,\n",
       "       -0.80829  , -0.72773  , -0.16877  , -0.10304  ,  0.61342  ,\n",
       "       -0.11578  , -0.08559  ,  0.32745  ,  0.20161  ,  0.16451  ,\n",
       "       -2.6898   , -0.13789  ,  0.38222  , -0.14568  , -0.54351  ,\n",
       "       -0.057114 ,  0.052728 ,  0.21628  ,  0.17275  , -0.52548  ,\n",
       "        0.33424  , -0.11197  ,  0.32572  ,  0.073191 ,  0.55281  ,\n",
       "       -0.42832  ,  0.66409  , -0.88453  , -0.097977 ,  0.44619  ,\n",
       "       -0.32691  , -0.24954  , -0.077847 , -0.0092577,  0.52026  ,\n",
       "       -0.22013  ,  0.097384 ,  0.55009  , -0.17778  ,  0.31343  ,\n",
       "       -0.27513  , -0.040442 ,  0.21805  ,  0.17002  , -0.072219 ,\n",
       "        0.0059726,  0.35768  ,  0.084917 , -0.86797  ,  0.35865  ,\n",
       "        0.065546 ,  0.10703  ,  0.2024   , -0.38667  , -0.054235 ,\n",
       "        0.2198   , -0.49117  , -0.018379 , -0.10444  ,  0.55107  ,\n",
       "       -0.49634  , -0.29664  ,  0.33894  , -0.0087991, -0.03863  ,\n",
       "       -0.54128  ,  0.0079764,  0.054724 , -0.2015   , -0.18551  ,\n",
       "        0.13176  ,  0.27923  ,  0.076447 , -0.048008 , -0.055424 ,\n",
       "       -0.34943  ,  0.39729  ,  0.2457   ,  0.029499 , -0.68098  ,\n",
       "       -0.6871   ,  0.59309  ,  0.074554 ,  0.20225  , -0.036478 ,\n",
       "        0.14827  , -0.25059  ,  0.26117  , -0.31805  ,  0.45437  ,\n",
       "       -0.038272 ,  0.028742 ,  0.27339  , -0.33354  ,  0.91142  ,\n",
       "        0.31166  ,  0.11014  ,  0.042104 , -0.12473  ,  0.51306  ,\n",
       "        0.16476  ,  0.072608 ,  0.31229  , -0.10835  ,  0.21623  ,\n",
       "       -0.63722  ,  0.21012  , -0.083516 , -0.17219  , -0.51574  ,\n",
       "        0.12891  , -0.42211  ,  0.031661 , -0.27926  ,  0.32035  ,\n",
       "       -0.76117  ,  0.32241  ,  0.14613  , -0.23227  , -0.8071   ,\n",
       "        0.11194  ,  0.38073  , -0.022643 , -0.24833  , -0.26833  ,\n",
       "        0.4066   , -0.13731  , -0.3489   , -0.6394   ,  0.21267  ,\n",
       "       -0.099964 ,  0.37609  , -0.23807  , -0.4519   , -0.29246  ,\n",
       "       -0.06527  ,  0.53402  ,  0.49704  , -1.2046   ,  0.028652 ,\n",
       "       -0.76803  , -0.14139  , -0.27493  ,  0.090442 ,  0.1094   ,\n",
       "       -0.11903  ,  0.26246  , -0.094261 , -0.004892 , -0.22072  ,\n",
       "        0.98163  ,  0.68397  , -0.046815 , -0.26183  , -0.35914  ,\n",
       "        0.10693  ,  0.047385 , -0.12417  , -0.17449  ,  0.056819 ,\n",
       "        0.086431 ,  0.28052  , -0.044373 , -0.29452  , -0.19942  ,\n",
       "        0.59475  , -0.33682  , -0.34563  ,  0.12043  , -0.36494  ],\n",
       "      dtype=float32)"
      ]
     },
     "execution_count": 46,
     "metadata": {
      "tags": []
     },
     "output_type": "execute_result"
    }
   ],
   "source": [
    "queen"
   ]
  },
  {
   "cell_type": "code",
   "execution_count": 47,
   "metadata": {
    "colab": {},
    "colab_type": "code",
    "id": "P1Q46_8aUB2W"
   },
   "outputs": [],
   "source": [
    "vec = queen - woman + man"
   ]
  },
  {
   "cell_type": "code",
   "execution_count": 48,
   "metadata": {
    "colab": {
     "base_uri": "https://localhost:8080/",
     "height": 34
    },
    "colab_type": "code",
    "id": "MdAl9L-AUZto",
    "outputId": "be0cf101-4ae3-4fa0-c0cb-ffff9e1e8150"
   },
   "outputs": [
    {
     "data": {
      "text/plain": [
       "0.771614134311676"
      ]
     },
     "execution_count": 48,
     "metadata": {
      "tags": []
     },
     "output_type": "execute_result"
    }
   ],
   "source": [
    "from scipy import spatial\n",
    "\n",
    "result = 1 - spatial.distance.cosine(vec, king)\n",
    "result"
   ]
  },
  {
   "cell_type": "code",
   "execution_count": 49,
   "metadata": {
    "colab": {
     "base_uri": "https://localhost:8080/",
     "height": 34
    },
    "colab_type": "code",
    "id": "8CfAAXgXV4Gg",
    "outputId": "9411bcfc-4a8e-458d-f0e7-456deb305b43"
   },
   "outputs": [
    {
     "data": {
      "text/plain": [
       "0.7252610325813293"
      ]
     },
     "execution_count": 49,
     "metadata": {
      "tags": []
     },
     "output_type": "execute_result"
    }
   ],
   "source": [
    "1 - spatial.distance.cosine(queen, king)"
   ]
  },
  {
   "cell_type": "code",
   "execution_count": null,
   "metadata": {
    "colab": {
     "base_uri": "https://localhost:8080/",
     "height": 34
    },
    "colab_type": "code",
    "id": "npkHBTenWCeG",
    "outputId": "544555e8-414e-4021-8670-54188a6c7413"
   },
   "outputs": [
    {
     "data": {
      "text/plain": [
       "0.37796980142593384"
      ]
     },
     "execution_count": 13,
     "metadata": {
      "tags": []
     },
     "output_type": "execute_result"
    }
   ],
   "source": [
    "1 - spatial.distance.cosine(boy, king)"
   ]
  },
  {
   "cell_type": "code",
   "execution_count": null,
   "metadata": {
    "colab": {
     "base_uri": "https://localhost:8080/",
     "height": 34
    },
    "colab_type": "code",
    "id": "QuK-e__EwZQX",
    "outputId": "68d525b2-8458-4768-a994-4f21c30e963a"
   },
   "outputs": [
    {
     "data": {
      "text/plain": [
       "0.2687934339046478"
      ]
     },
     "execution_count": 14,
     "metadata": {
      "tags": []
     },
     "output_type": "execute_result"
    }
   ],
   "source": [
    "1 - spatial.distance.cosine(girl, king)"
   ]
  },
  {
   "cell_type": "code",
   "execution_count": null,
   "metadata": {
    "colab": {
     "base_uri": "https://localhost:8080/",
     "height": 34
    },
    "colab_type": "code",
    "id": "qo-fcVvrwa2v",
    "outputId": "e0a7c723-3a96-4bce-b772-70be42424ad2"
   },
   "outputs": [
    {
     "data": {
      "text/plain": [
       "0.17461009323596954"
      ]
     },
     "execution_count": 15,
     "metadata": {
      "tags": []
     },
     "output_type": "execute_result"
    }
   ],
   "source": [
    "1 - spatial.distance.cosine(school, king)"
   ]
  },
  {
   "cell_type": "code",
   "execution_count": null,
   "metadata": {
    "colab": {
     "base_uri": "https://localhost:8080/",
     "height": 34
    },
    "colab_type": "code",
    "id": "XuaVPpu3weww",
    "outputId": "61a1056b-c3a7-41d0-a90e-3e18ef0ef527"
   },
   "outputs": [
    {
     "data": {
      "text/plain": [
       "0.1744476556777954"
      ]
     },
     "execution_count": 16,
     "metadata": {
      "tags": []
     },
     "output_type": "execute_result"
    }
   ],
   "source": [
    "1 - spatial.distance.cosine(company, king)"
   ]
  },
  {
   "cell_type": "code",
   "execution_count": null,
   "metadata": {
    "colab": {
     "base_uri": "https://localhost:8080/",
     "height": 34
    },
    "colab_type": "code",
    "id": "DiLjvkwlwbIA",
    "outputId": "ac8d01c5-9251-4cf4-ca62-91cdcef94d89"
   },
   "outputs": [
    {
     "data": {
      "text/plain": [
       "0.2161560207605362"
      ]
     },
     "execution_count": 17,
     "metadata": {
      "tags": []
     },
     "output_type": "execute_result"
    }
   ],
   "source": [
    "1 - spatial.distance.cosine(animal, king)"
   ]
  },
  {
   "cell_type": "code",
   "execution_count": 59,
   "metadata": {
    "colab": {},
    "colab_type": "code",
    "id": "Pq-F8deXwhqn"
   },
   "outputs": [],
   "source": [
    "tokens = nlp('apple apples car cars family families') "
   ]
  },
  {
   "cell_type": "code",
   "execution_count": 51,
   "metadata": {
    "colab": {},
    "colab_type": "code",
    "id": "nLpchB5QzDSU"
   },
   "outputs": [],
   "source": [
    "apple, apples, car, cars, family, families = tokens[0].vector, tokens[1].vector, tokens[2].vector, tokens[3].vector, tokens[4].vector, tokens[5].vector"
   ]
  },
  {
   "cell_type": "code",
   "execution_count": 52,
   "metadata": {
    "colab": {
     "base_uri": "https://localhost:8080/",
     "height": 34
    },
    "colab_type": "code",
    "id": "3hnbAwBDzTnm",
    "outputId": "29a7b074-a2e0-458b-a2d8-7930ef79e0f3"
   },
   "outputs": [
    {
     "data": {
      "text/plain": [
       "0.7504112720489502"
      ]
     },
     "execution_count": 52,
     "metadata": {
      "tags": []
     },
     "output_type": "execute_result"
    }
   ],
   "source": [
    "1 - spatial.distance.cosine(apple, apples)"
   ]
  },
  {
   "cell_type": "code",
   "execution_count": 53,
   "metadata": {
    "colab": {
     "base_uri": "https://localhost:8080/",
     "height": 34
    },
    "colab_type": "code",
    "id": "HCIicPFZzW39",
    "outputId": "bcac9838-3b43-447e-ae2f-658f8aae1e56"
   },
   "outputs": [
    {
     "data": {
      "text/plain": [
       "0.8425762057304382"
      ]
     },
     "execution_count": 53,
     "metadata": {
      "tags": []
     },
     "output_type": "execute_result"
    }
   ],
   "source": [
    "1 - spatial.distance.cosine(car, cars)"
   ]
  },
  {
   "cell_type": "code",
   "execution_count": 54,
   "metadata": {
    "colab": {
     "base_uri": "https://localhost:8080/",
     "height": 34
    },
    "colab_type": "code",
    "id": "dqH2iXcizXGU",
    "outputId": "38857a42-79ec-44a3-b086-62f1a2a99b07"
   },
   "outputs": [
    {
     "data": {
      "text/plain": [
       "0.7884814739227295"
      ]
     },
     "execution_count": 54,
     "metadata": {
      "tags": []
     },
     "output_type": "execute_result"
    }
   ],
   "source": [
    "1 - spatial.distance.cosine(family, families)"
   ]
  },
  {
   "cell_type": "code",
   "execution_count": 55,
   "metadata": {
    "colab": {},
    "colab_type": "code",
    "id": "IHEj99Wjz0vP"
   },
   "outputs": [],
   "source": [
    "vec_1 = apple - apples\n",
    "vec_2 = car - cars\n",
    "vec_3 = family - families"
   ]
  },
  {
   "cell_type": "code",
   "execution_count": 56,
   "metadata": {
    "colab": {
     "base_uri": "https://localhost:8080/",
     "height": 34
    },
    "colab_type": "code",
    "id": "7RgH2zPw0FVr",
    "outputId": "86437aa5-b28b-4a22-bac3-5bb78f18e6ad"
   },
   "outputs": [
    {
     "data": {
      "text/plain": [
       "0.23837804794311523"
      ]
     },
     "execution_count": 56,
     "metadata": {
      "tags": []
     },
     "output_type": "execute_result"
    }
   ],
   "source": [
    "1 - spatial.distance.cosine(vec_1, vec_2)"
   ]
  },
  {
   "cell_type": "code",
   "execution_count": 57,
   "metadata": {
    "colab": {
     "base_uri": "https://localhost:8080/",
     "height": 34
    },
    "colab_type": "code",
    "id": "Rd2Mwjyc0JhU",
    "outputId": "7ced92ec-0d59-4f6a-c202-729c782bf741"
   },
   "outputs": [
    {
     "data": {
      "text/plain": [
       "0.24297365546226501"
      ]
     },
     "execution_count": 57,
     "metadata": {
      "tags": []
     },
     "output_type": "execute_result"
    }
   ],
   "source": [
    "1 - spatial.distance.cosine(vec_1, vec_3)"
   ]
  },
  {
   "cell_type": "code",
   "execution_count": 58,
   "metadata": {
    "colab": {
     "base_uri": "https://localhost:8080/",
     "height": 34
    },
    "colab_type": "code",
    "id": "ssoKK-r00OPM",
    "outputId": "5dc0b881-a84e-4021-f671-6ba46ca8d1b2"
   },
   "outputs": [
    {
     "data": {
      "text/plain": [
       "0.3244694471359253"
      ]
     },
     "execution_count": 58,
     "metadata": {
      "tags": []
     },
     "output_type": "execute_result"
    }
   ],
   "source": [
    "1 - spatial.distance.cosine(vec_2, vec_3)"
   ]
  },
  {
   "cell_type": "code",
   "execution_count": 70,
   "metadata": {
    "colab": {},
    "colab_type": "code",
    "id": "0yf0lc4O0lgj"
   },
   "outputs": [],
   "source": [
    "s1 = nlp('i like apple')\n",
    "s2 = nlp('like i apple')\n",
    "s3 = nlp('i know how to drive a car')"
   ]
  },
  {
   "cell_type": "code",
   "execution_count": 71,
   "metadata": {
    "colab": {
     "base_uri": "https://localhost:8080/",
     "height": 34
    },
    "colab_type": "code",
    "id": "Q5BGPQPWhMNc",
    "outputId": "759c5840-f0fe-4d01-8d9f-0e642d16d753"
   },
   "outputs": [
    {
     "data": {
      "text/plain": [
       "1.0"
      ]
     },
     "execution_count": 71,
     "metadata": {
      "tags": []
     },
     "output_type": "execute_result"
    }
   ],
   "source": [
    "1 - spatial.distance.cosine(s1.vector, s2.vector)"
   ]
  },
  {
   "cell_type": "code",
   "execution_count": 69,
   "metadata": {
    "colab": {
     "base_uri": "https://localhost:8080/",
     "height": 34
    },
    "colab_type": "code",
    "id": "r7CBffF-hTPd",
    "outputId": "b8d34d24-e270-4d67-f56a-675ce714e142"
   },
   "outputs": [
    {
     "data": {
      "text/plain": [
       "0.7251461148262024"
      ]
     },
     "execution_count": 69,
     "metadata": {
      "tags": []
     },
     "output_type": "execute_result"
    }
   ],
   "source": [
    "1 - spatial.distance.cosine(s1.vector, s3.vector)"
   ]
  },
  {
   "cell_type": "code",
   "execution_count": null,
   "metadata": {
    "colab": {},
    "colab_type": "code",
    "id": "cj5KydzghV3I"
   },
   "outputs": [],
   "source": []
  }
 ],
 "metadata": {
  "colab": {
   "collapsed_sections": [],
   "name": "NLP_Week_1_MLS.ipynb",
   "provenance": []
  },
  "kernelspec": {
   "display_name": "Python 3",
   "language": "python",
   "name": "python3"
  },
  "language_info": {
   "codemirror_mode": {
    "name": "ipython",
    "version": 3
   },
   "file_extension": ".py",
   "mimetype": "text/x-python",
   "name": "python",
   "nbconvert_exporter": "python",
   "pygments_lexer": "ipython3",
   "version": "3.7.6"
  }
 },
 "nbformat": 4,
 "nbformat_minor": 1
}
